{
 "cells": [
  {
   "cell_type": "code",
   "execution_count": 260,
   "metadata": {},
   "outputs": [],
   "source": [
    "%matplotlib inline\n",
    "\n",
    "import matplotlib\n",
    "import numpy as np\n",
    "\n",
    "import matplotlib.pyplot as plt\n",
    "from sklearn.datasets import fetch_20newsgroups"
   ]
  },
  {
   "cell_type": "code",
   "execution_count": 261,
   "metadata": {},
   "outputs": [],
   "source": [
    "comp_categories = ['comp.graphics', 'comp.os.ms-windows.misc', 'comp.sys.ibm.pc.hardware', 'comp.sys.mac.hardware']\n",
    "rec_categories = ['rec.autos', 'rec.motorcycles', 'rec.sport.baseball', 'rec.sport.hockey']\n",
    "comp_train = fetch_20newsgroups(subset='train', categories=comp_categories, shuffle=True, random_state=42)\n",
    "rec_train = fetch_20newsgroups(subset='train', categories=rec_categories, shuffle=True, random_state=42)\n",
    "comp_test = fetch_20newsgroups(subset='test', categories=comp_categories, shuffle=True, random_state=42)\n",
    "rec_test = fetch_20newsgroups(subset='test', categories=rec_categories, shuffle=True, random_state=42)\n",
    "\n",
    "#all_points = fetch_20newsgroups(subset='all', categories=comp_categories+rec_categories, shuffle=True, random_state=42)\n",
    "\n"
   ]
  },
  {
   "cell_type": "code",
   "execution_count": 262,
   "metadata": {},
   "outputs": [],
   "source": [
    "# 1. transform the documents into TF-IDF vectors. \n",
    "# Use min df = 3, exclude the stopwords (no need to do stemming). Report the dimensions of the TF-IDF matrix you get.\n",
    "from sklearn.feature_extraction import text\n",
    "from sklearn.feature_extraction.text import CountVectorizer\n",
    "from sklearn.feature_extraction.text import TfidfTransformer\n",
    "\n",
    "vectorizer = CountVectorizer(min_df=3, stop_words=text.ENGLISH_STOP_WORDS) \n",
    "vectorized_corpus = vectorizer.fit_transform(comp_train.data + rec_train.data)\n",
    "\n",
    "tfidf_transformer = TfidfTransformer()\n",
    "trainX = tfidf_transformer.fit_transform(vectorized_corpus)\n",
    "\n",
    "testX = tfidf_transformer.transform(vectorizer.transform(comp_test.data + rec_test.data))\n",
    "\n",
    "# 0 for comp class, 1 for rec class\n",
    "trainy = np.zeros(shape=(len(comp_train.filenames) + len(rec_train.filenames),))\n",
    "trainy[len(comp_train.filenames):] = 1\n",
    "\n",
    "testy = np.zeros(shape=(len(comp_test.filenames) + len(rec_test.filenames),))\n",
    "testy[len(comp_test.filenames):] = 1"
   ]
  },
  {
   "cell_type": "code",
   "execution_count": 263,
   "metadata": {},
   "outputs": [
    {
     "name": "stdout",
     "output_type": "stream",
     "text": [
      "(4732, 20297) (3150, 20297) (4732,) (3150,)\n"
     ]
    }
   ],
   "source": [
    "print trainX.shape, testX.shape, trainy.shape, testy.shape"
   ]
  },
  {
   "cell_type": "code",
   "execution_count": 264,
   "metadata": {},
   "outputs": [],
   "source": [
    "# 2. Apply K-means clustering with k = 2 using the TF-IDF data.\n",
    "# Compare the clustering results with the known class labels.\n",
    "# a) Inspect the contingency matrix to get a sense of your clustering result.\n",
    "from sklearn.pipeline import make_pipeline\n",
    "from sklearn.preprocessing import Normalizer\n",
    "from sklearn import metrics\n",
    "\n",
    "from sklearn.cluster import KMeans, MiniBatchKMeans\n",
    "from sklearn.metrics.cluster import contingency_matrix\n",
    "\n",
    "km = KMeans(n_clusters=2, init='k-means++', max_iter=100)\n",
    "km.fit(trainX)\n",
    "ypred = km.predict(testX)"
   ]
  },
  {
   "cell_type": "code",
   "execution_count": 265,
   "metadata": {},
   "outputs": [
    {
     "name": "stdout",
     "output_type": "stream",
     "text": [
      "(4732,) (3150,)\n"
     ]
    },
    {
     "data": {
      "text/plain": [
       "array([[   2, 1558],\n",
       "       [ 652,  938]])"
      ]
     },
     "execution_count": 265,
     "metadata": {},
     "output_type": "execute_result"
    }
   ],
   "source": [
    "print km.labels_.shape, testy.shape\n",
    "contingency_matrix(testy, ypred, eps=None, sparse=False)"
   ]
  },
  {
   "cell_type": "code",
   "execution_count": 266,
   "metadata": {},
   "outputs": [
    {
     "name": "stdout",
     "output_type": "stream",
     "text": [
      "Homogeneity: 0.237\n",
      "Completeness: 0.322\n",
      "V-measure: 0.273\n",
      "Adjusted Rand-Index: 0.162\n",
      "Adjusted Mutual Info: 0.237\n"
     ]
    }
   ],
   "source": [
    "# b) 5 Metrics\n",
    "\n",
    "print(\"Homogeneity: %0.3f\" % metrics.homogeneity_score(testy, ypred))\n",
    "print(\"Completeness: %0.3f\" % metrics.completeness_score(testy, ypred))\n",
    "print(\"V-measure: %0.3f\" % metrics.v_measure_score(testy, ypred))\n",
    "print(\"Adjusted Rand-Index: %.3f\" % metrics.adjusted_rand_score(testy, ypred))\n",
    "print(\"Adjusted Mutual Info: %0.3f\" % metrics.adjusted_mutual_info_score(testy, ypred))"
   ]
  },
  {
   "cell_type": "code",
   "execution_count": 267,
   "metadata": {},
   "outputs": [
    {
     "name": "stdout",
     "output_type": "stream",
     "text": [
      "1000\n"
     ]
    }
   ],
   "source": [
    "# 3. a) Report the plot of the percent of variance the top r principle components can retain v.s. r, for r = 1 to 1000.\n",
    "from scipy.sparse.linalg import svds\n",
    "\n",
    "#Use SVD to find 1000 principal components\n",
    "u, singular_values, vt = svds(trainX, k=1000)\n",
    "print(len(singular_values))\n"
   ]
  },
  {
   "cell_type": "code",
   "execution_count": 268,
   "metadata": {},
   "outputs": [
    {
     "data": {
      "text/plain": [
       "Text(0,0.5,u'retained variance ratio')"
      ]
     },
     "execution_count": 268,
     "metadata": {},
     "output_type": "execute_result"
    },
    {
     "data": {
      "image/png": "[encoded data removed]",
      "text/plain": [
       "<matplotlib.figure.Figure at 0x1a1e434550>"
      ]
     },
     "metadata": {},
     "output_type": "display_data"
    }
   ],
   "source": [
    "from sklearn.decomposition import TruncatedSVD, NMF\n",
    "\n",
    "rs = np.arange(1, 1001)\n",
    "\n",
    "svd = TruncatedSVD(n_components=1000)\n",
    "svd.fit(trainX)\n",
    "explained_vars = svd.explained_variance_ratio_\n",
    "\n",
    "variances = np.zeros(explained_vars.shape)\n",
    "variances[0] = explained_vars[0]\n",
    "for i in range(1,1000):\n",
    "    variances[i] = explained_vars[i] + variances[i-1]\n",
    "    \n",
    "plt.plot(rs, variances, 'ro')\n",
    "plt.xlabel('r')\n",
    "plt.ylabel('retained variance ratio')"
   ]
  },
  {
   "cell_type": "code",
   "execution_count": 269,
   "metadata": {},
   "outputs": [],
   "source": [
    "from sklearn.decomposition import TruncatedSVD, NMF\n",
    "\n",
    "def get_scores(y, yhat):\n",
    "    cont_matrix = contingency_matrix(y,yhat)# ypred)\n",
    "\n",
    "    homogeneity = metrics.homogeneity_score(y, yhat)\n",
    "    completeness_score = metrics.completeness_score(y, yhat)\n",
    "    v_measure_score = metrics.v_measure_score(y, yhat)\n",
    "    adjusted_rand_score = metrics.adjusted_rand_score(y, yhat)\n",
    "    adjusted_mutual_info_score = metrics.adjusted_mutual_info_score(y, yhat)\n",
    "    return cont_matrix, homogeneity, completeness_score, v_measure_score, adjusted_rand_score, adjusted_mutual_info_score\n",
    "   \n",
    "    \n",
    "def get_svd_scores(num_components, train_lsi=None, test_lsi=None):\n",
    "    svd = TruncatedSVD(n_components=num_components)\n",
    "    if train_lsi is None and test_lsi is None:\n",
    "        train_lsi = svd.fit_transform(trainX)\n",
    "        test_lsi = svd.transform(testX)\n",
    "\n",
    "    km = KMeans(n_clusters=2)\n",
    "    km.fit(train_lsi)\n",
    "\n",
    "    ypred = km.predict(test_lsi)\n",
    "    return get_scores(testy, ypred)\n",
    "\n",
    "    \n",
    "def get_nmf_scores(num_components, train_nmf=None, test_nmf=None):\n",
    "    nmf = NMF(n_components=num_components)\n",
    "    if train_nmf is None and test_nmf is None:\n",
    "        train_nmf = nmf.fit_transform(trainX)\n",
    "        test_nmf = nmf.transform(testX)\n",
    "    \n",
    "    km = KMeans(n_clusters=2)\n",
    "    km.fit(train_nmf)\n",
    "    ypred = km.predict(test_nmf)\n",
    "    \n",
    "    return get_scores(testy, ypred)\n",
    "    "
   ]
  },
  {
   "cell_type": "code",
   "execution_count": 270,
   "metadata": {},
   "outputs": [
    {
     "data": {
      "text/plain": [
       "Text(0,0.5,u'singular val')"
      ]
     },
     "execution_count": 270,
     "metadata": {},
     "output_type": "execute_result"
    },
    {
     "data": {
      "image/png": "[encoded data removed]",
      "text/plain": [
       "<matplotlib.figure.Figure at 0x1a1ecff9d0>"
      ]
     },
     "metadata": {},
     "output_type": "display_data"
    }
   ],
   "source": [
    "#print(sorted(singular_values, reverse=True))\n",
    "sorted_singular_vals = sorted(singular_values, reverse=True)\n",
    "plt.plot(sorted_singular_vals)\n",
    "plt.xlabel('r')\n",
    "plt.ylabel('singular val')"
   ]
  },
  {
   "cell_type": "code",
   "execution_count": null,
   "metadata": {},
   "outputs": [
    {
     "name": "stdout",
     "output_type": "stream",
     "text": [
      "LSI...\n",
      "('contingency matrix for r=', 1)\n",
      "[[769 791]\n",
      " [846 744]]\n",
      "('contingency matrix for r=', 2)\n",
      "[[  60 1500]\n",
      " [1223  367]]\n",
      "('contingency matrix for r=', 3)\n",
      "[[   3 1557]\n",
      " [ 716  874]]\n",
      "('contingency matrix for r=', 5)\n",
      "[[   2 1558]\n",
      " [ 599  991]]\n",
      "('contingency matrix for r=', 10)\n",
      "[[1558    2]\n",
      " [ 954  636]]\n",
      "('contingency matrix for r=', 20)\n",
      "[[   0 1560]\n",
      " [ 634  956]]\n",
      "('contingency matrix for r=', 50)\n",
      "[[   1 1559]\n",
      " [ 630  960]]\n",
      "('contingency matrix for r=', 100)\n",
      "[[1559    1]\n",
      " [ 959  631]]\n",
      "('contingency matrix for r=', 300)\n",
      "[[   1 1559]\n",
      " [ 628  962]]\n",
      "r: 1 \n",
      " homogeneity=0.00111 \n",
      " completeness=0.00111 \n",
      " v-measure=0.00111 \n",
      " adj rand index=0.00123 \n",
      " adj mutual info=0.00088 \n",
      "---\n",
      "r: 2 \n",
      " homogeneity=0.46519 \n",
      " completeness=0.47705 \n",
      " v-measure=0.47105 \n",
      " adj rand index=0.53113 \n",
      " adj mutual info=0.46506 \n",
      "---\n",
      "r: 3 \n",
      " homogeneity=0.26385 \n",
      " completeness=0.34044 \n",
      " v-measure=0.29729 \n",
      " adj rand index=0.19620 \n",
      " adj mutual info=0.26368 \n",
      "---\n",
      "r: 5 \n",
      " homogeneity=0.21373 \n",
      " completeness=0.30395 \n",
      " v-measure=0.25097 \n",
      " adj rand index=0.13635 \n",
      " adj mutual info=0.21355 \n",
      "---\n",
      "r: 10 \n",
      " homogeneity=0.22988 \n",
      " completeness=0.31619 \n",
      " v-measure=0.26621 \n",
      " adj rand index=0.15426 \n",
      " adj mutual info=0.22970 \n",
      "---\n",
      "r: 20 \n",
      " homogeneity=0.23475 \n",
      " completeness=0.32401 \n",
      " v-measure=0.27225 \n",
      " adj rand index=0.15426 \n",
      " adj mutual info=0.23458 \n",
      "---\n",
      "r: 50 \n",
      " homogeneity=0.22979 \n",
      " completeness=0.31800 \n",
      " v-measure=0.26679 \n",
      " adj rand index=0.15178 \n",
      " adj mutual info=0.22961 \n",
      "---\n",
      "r: 100 \n",
      " homogeneity=0.23023 \n",
      " completeness=0.31833 \n",
      " v-measure=0.26721 \n",
      " adj rand index=0.15227 \n",
      " adj mutual info=0.23005 \n",
      "---\n",
      "r: 300 \n",
      " homogeneity=0.22891 \n",
      " completeness=0.31734 \n",
      " v-measure=0.26596 \n",
      " adj rand index=0.15079 \n",
      " adj mutual info=0.22873 \n",
      "---\n",
      "[1, 1, 1, 1, 1]\n",
      "1\n",
      "('Best r-value is: ', 2)\n"
     ]
    },
    {
     "data": {
      "image/png": "[encoded data removed]",
      "text/plain": [
       "<matplotlib.figure.Figure at 0x110250690>"
      ]
     },
     "metadata": {},
     "output_type": "display_data"
    }
   ],
   "source": [
    "# b) LSI vs. NMF\n",
    "# Specifically, try r = 1, 2, 3, 5, 10, 20, 50, 100, 300, and plot the 5 \n",
    "# measure scores v.s. r for both SVD and NMF; also report the contingency matrices for each r.\n",
    "# Report the best r choice for SVD and NMF respectively.\n",
    "# How do you explain the non-monotonic behavior of the measures as r increases?\n",
    "\n",
    "r_vals = [1,2,3,5,10,20,50,100,300]\n",
    "contingency_matrices = []\n",
    "h_vals = []\n",
    "c_vals = []\n",
    "v_vals = []\n",
    "rand_vals = []\n",
    "mutual_vals = []\n",
    "print(\"LSI...\")\n",
    "for r in r_vals:\n",
    "    contin, h, c, v, rand, mutual = get_svd_scores(num_components=r)\n",
    "#    contingency_matrices.append(contin)\n",
    "    print(\"contingency matrix for r=\", r)\n",
    "#    print(h, c, v, rand, mutual)\n",
    "    print(contin)\n",
    "    h_vals.append(h)\n",
    "    c_vals.append(c)\n",
    "    v_vals.append(v)\n",
    "    rand_vals.append(rand)\n",
    "    mutual_vals.append(mutual)\n",
    "    \n",
    "    \n",
    "start_index = 0    \n",
    "r_vals = r_vals[start_index:]\n",
    "h_vals = h_vals[start_index:]\n",
    "c_vals = c_vals[start_index:]\n",
    "v_vals = v_vals[start_index:]\n",
    "rand_vals = rand_vals[start_index:]\n",
    "mutual_vals = mutual_vals[start_index:]\n",
    "\n",
    "for r, h, c, v, rand, mutual in zip(r_vals, h_vals, c_vals, v_vals, rand_vals, mutual_vals):\n",
    "    print(\"r: %i \\n homogeneity=%.5f \\n completeness=%.5f \\n v-measure=%.5f \\n adj rand index=%.5f \\n adj mutual info=%.5f \\n---\" % (r, h, c, v, rand, mutual))\n",
    "\n",
    "# print(h_vals)\n",
    "# print(c_vals)\n",
    "# print(v_vals)\n",
    "# print(rand_vals)\n",
    "# print(mutual_vals)\n",
    "\n",
    "res_list = [np.argmax(h_vals), np.argmax(c_vals), np.argmax(v_vals), np.argmax(rand_vals), np.argmax(mutual_vals)]\n",
    "print(res_list)\n",
    "# best_index = int(np.mean(res_list)) # not sure if this works e.g. [0,1,0,3,2,0]\n",
    "best_index = np.bincount(res_list).argmax() # most frequent index\n",
    "print(best_index)\n",
    "    \n",
    "print(\"Best r-value is: \", r_vals[best_index])\n",
    "plt.plot(r_vals, h_vals, 'r', label=\"homogenity\")\n",
    "plt.plot(r_vals, c_vals, 'g', label=\"completeness score\")\n",
    "plt.plot(r_vals, v_vals, 'b', label=\"v measure\")\n",
    "plt.plot(r_vals, rand_vals, 'm', label=\"rand index\")\n",
    "plt.plot(r_vals, mutual_vals, 'b', label=\"adjusted mutual information\")\n",
    "plt.grid()\n",
    "    \n",
    "    \n",
    "\n"
   ]
  },
  {
   "cell_type": "markdown",
   "metadata": {},
   "source": [
    "# Report the best r choice for SVD\n",
    "The best r choice for SVD was r=100. The metric outputs were:\n",
    "<br>\n",
    "r: 100 <br>\n",
    " homogeneity=0.73846 <br>\n",
    " completeness=0.73989 <br>\n",
    " v-measure=0.73918 <br>\n",
    " adj rand index=0.82545 <br>\n",
    " adj mutual info=0.73840 <br>"
   ]
  },
  {
   "cell_type": "code",
   "execution_count": null,
   "metadata": {},
   "outputs": [
    {
     "name": "stdout",
     "output_type": "stream",
     "text": [
      "NMF...\n",
      "('contingency matrix for r=', 1)\n",
      "[[800 760]\n",
      " [749 841]]\n",
      "('contingency matrix for r=', 2)\n",
      "[[ 139 1421]\n",
      " [1479  111]]\n",
      "('contingency matrix for r=', 3)\n",
      "[[   2 1558]\n",
      " [ 621  969]]\n",
      "('contingency matrix for r=', 5)\n",
      "[[1558    2]\n",
      " [1103  487]]\n",
      "('contingency matrix for r=', 10)\n",
      "[[   2 1558]\n",
      " [ 477 1113]]\n",
      "('contingency matrix for r=', 20)\n",
      "[[1555    5]\n",
      " [1003  587]]\n",
      "('contingency matrix for r=', 50)\n",
      "[[1560]\n",
      " [1590]]\n",
      "('contingency matrix for r=', 100)\n",
      "[[1560]\n",
      " [1590]]\n"
     ]
    }
   ],
   "source": [
    "print(\"NMF...\")   \n",
    "contingency_matrices = []\n",
    "h_vals = []\n",
    "c_vals = []\n",
    "v_vals = []\n",
    "rand_vals = []\n",
    "mutual_vals = []\n",
    "for r in r_vals:\n",
    "    contin, h, c, v, rand, mutual = get_nmf_scores(num_components=r)\n",
    "    print(\"contingency matrix for r=\", r)\n",
    "    print(contin)\n",
    "    h_vals.append(h)\n",
    "    c_vals.append(c)\n",
    "    v_vals.append(v)\n",
    "    rand_vals.append(rand)\n",
    "    mutual_vals.append(mutual)\n",
    "    \n",
    "    \n",
    "start_index = 0    \n",
    "r_vals = r_vals[start_index:]\n",
    "h_vals = h_vals[start_index:]\n",
    "c_vals = c_vals[start_index:]\n",
    "v_vals = v_vals[start_index:]\n",
    "rand_vals = rand_vals[start_index:]\n",
    "mutual_vals = mutual_vals[start_index:]\n",
    "\n",
    "# print(h_vals)\n",
    "# print(c_vals)\n",
    "# print(v_vals)\n",
    "# print(rand_vals)\n",
    "# print(mutual_vals)\n",
    "\n",
    "for r, h, c, v, rand, mutual in zip(r_vals, h_vals, c_vals, v_vals, rand_vals, mutual_vals):\n",
    "    print(\"r: %i \\n homogeneity=%.5f \\n completeness=%.5f \\n v-measure=%.5f \\n adj rand index=%.5f \\n adj mutual info=%.5f \\n---\" % (r, h, c, v, rand, mutual))\n",
    "\n",
    "\n",
    "res_list = [np.argmax(h_vals), np.argmax(c_vals), np.argmax(v_vals), np.argmax(rand_vals), np.argmax(mutual_vals)]\n",
    "print(res_list)\n",
    "# best_index = int(np.mean(res_list))\n",
    "best_index = np.bincount(res_list).argmax() # most frequent index\n",
    "print(best_index)\n",
    "    \n",
    "print(\"Best r-value is: \", r_vals[best_index])\n",
    "plt.plot(r_vals, h_vals, 'r', label=\"homogenity\")\n",
    "plt.plot(r_vals, c_vals, 'g', label=\"completeness score\")\n",
    "plt.plot(r_vals, v_vals, 'b', label=\"v measure\")\n",
    "plt.plot(r_vals, rand_vals, 'm', label=\"rand index\")\n",
    "plt.plot(r_vals, mutual_vals, 'b', label=\"adjusted mutual information\")\n",
    "plt.grid()\n",
    "\n",
    "\n"
   ]
  },
  {
   "cell_type": "markdown",
   "metadata": {},
   "source": [
    "# Report the best r choice for NMF\n",
    "The best r-choice for NMF was r=2.\n",
    "<br>\n",
    "r: 2  <br>\n",
    " homogeneity=0.59932  <br>\n",
    " completeness=0.59959 <br>\n",
    " v-measure=0.59946 <br>\n",
    " adj rand index=0.70657 <br> \n",
    " adj mutual info=0.59923  <br>"
   ]
  },
  {
   "cell_type": "markdown",
   "metadata": {
    "collapsed": true
   },
   "source": [
    "# How do you explain the non-monotonic behavior of the measures as r increases?\n",
    "As we increase the number of dimensions r, more information is encapsulated in the feature representation just by nature of having a higher percentage of the variance due to more principal components. However, K-Means suffers from the curse of dimensionality, so as the dimensions increase, Euclidean distance becomes a worse and worse distance metric and will perform poorly. Thus, we are trading off between more information and an inherent shortcoming in the KMeans method. This is why it's possible for KMeans to perform better with lower dimension (such as r=2) than with higher dimension (such as r=300 or r=1000).\n"
   ]
  },
  {
   "cell_type": "code",
   "execution_count": null,
   "metadata": {},
   "outputs": [],
   "source": [
    "#4a \n",
    "from sklearn.preprocessing import scale\n",
    "\n",
    "#SVD\n",
    "svd = TruncatedSVD(n_components=2)\n",
    "train_lsi = svd.fit_transform(trainX)\n",
    "test_lsi = svd.transform(testX)\n",
    "\n",
    "km = KMeans(n_clusters=2)\n",
    "km.fit(train_lsi)\n",
    "\n",
    "ypred = km.predict(test_lsi)\n",
    "\n",
    "#NMF\n",
    "nmf = NMF(n_components=2)\n",
    "train_nmf = nmf.fit_transform(trainX)\n",
    "test_nmf = nmf.transform(testX)\n",
    "\n",
    "km_nmf = KMeans(n_clusters=2)\n",
    "km_nmf.fit(train_nmf)\n",
    "ypred_nmf = km_nmf.predict(test_nmf)\n",
    "\n"
   ]
  },
  {
   "cell_type": "code",
   "execution_count": null,
   "metadata": {},
   "outputs": [],
   "source": [
    "from matplotlib.colors import ListedColormap\n",
    "\n",
    "# Plot the decision boundary. For that, we will assign a color to each\n",
    "# point in the mesh [x_min, x_max]x[y_min, y_max].\n",
    "\n",
    "#print(X.shape)\n",
    "def plot_kmeans(X, km_model):\n",
    "    #step size in mesh\n",
    "    h=0.2\n",
    "\n",
    "    # Create color maps\n",
    "    cmap_light = ListedColormap(['#FFAAAA', '#AAFFAA', '#AAAAFF'])\n",
    "    cmap_bold = ListedColormap(['#FF0000', '#00FF00', '#0000FF'])\n",
    "\n",
    "    x_min, x_max = X[:, 0].min() - 1, X[:, 0].max() + 1\n",
    "    y_min, y_max = X[:, 1].min() - 1, X[:, 1].max() + 1\n",
    "    xx, yy = np.meshgrid(np.arange(x_min, x_max, h),\n",
    "                         np.arange(y_min, y_max, h))\n",
    "\n",
    "    print(xx.shape, yy.shape)\n",
    "    Z = km_model.predict(np.c_[xx.ravel(), yy.ravel()])\n",
    "\n",
    "    # Put the result into a color plot\n",
    "    Z = Z.reshape(xx.shape)\n",
    "    plt.figure()\n",
    "    plt.pcolormesh(xx, yy, Z, cmap=cmap_light)\n",
    "\n",
    "    # Plot also the training points\n",
    "    #plt.scatter(X[:, 0], X[:, 1], c=y, cmap=cmap_bold)\n",
    "    #plt.xlim(xx.min(), xx.max())\n",
    "    #plt.ylim(yy.min(), yy.max())\n",
    "\n",
    "    #plt.show()\n",
    "    plt.imshow(Z, interpolation='nearest',\n",
    "               extent=(xx.min(), xx.max(), yy.min(), yy.max()),\n",
    "               cmap=plt.cm.Paired,\n",
    "               aspect='auto', origin='lower')\n",
    "\n",
    "    plt.plot(X[:, 0], X[:, 1], 'k.', markersize=2)\n",
    "    # Plot the centroids as a white X\n",
    "    centroids = km_model.cluster_centers_\n",
    "    plt.scatter(centroids[:, 0], centroids[:, 1],\n",
    "                marker='x', s=169, linewidths=3,\n",
    "                color='w', zorder=10)\n",
    "    plt.title('K-Means on reduced data showing centroids in white')\n",
    "    plt.xlim(x_min, x_max)\n",
    "    plt.ylim(y_min, y_max)\n",
    "    #plt.xlim(0, 0.4)\n",
    "    #plt.ylim(-0.4, 0.4)\n",
    "    #plt.xticks(())\n",
    "    #plt.yticks(())\n",
    "    plt.show()"
   ]
  },
  {
   "cell_type": "code",
   "execution_count": null,
   "metadata": {},
   "outputs": [],
   "source": [
    "#X=scaled_train_lsi\n",
    "#km_model = km\n",
    "plot_kmeans(X=train_lsi, km_model=km)\n",
    "plot_kmeans(X=train_nmf, km_model=km_nmf)\n",
    "\n"
   ]
  },
  {
   "cell_type": "code",
   "execution_count": null,
   "metadata": {},
   "outputs": [],
   "source": [
    "def sweep_metrics(train_vecs, test_vecs, km_model):\n",
    "    #Store the different combinations\n",
    "    contingency_matrices = []\n",
    "    h_vals = []\n",
    "    c_vals = []\n",
    "    v_vals = []\n",
    "    rand_vals = []\n",
    "    mutual_vals = []\n",
    "    \n",
    "    for i in range(len(train_vecs)):\n",
    "        plot_kmeans(X=train_vecs[i], km_model=km_model)\n",
    "        contin, h, c, v, rand, mutual = get_nmf_scores(num_components=2, train_nmf=train_vecs[i], test_nmf=test_vecs[i])\n",
    "        contingency_matrices.append(contin)\n",
    "        h_vals.append(h)\n",
    "        c_vals.append(c)\n",
    "        v_vals.append(v)\n",
    "        rand_vals.append(rand)\n",
    "        mutual_vals.append(mutual)\n",
    "\n",
    "    \n",
    "    return contingency_matrices, h_vals, c_vals, v_vals, rand_vals, mutual_vals"
   ]
  },
  {
   "cell_type": "code",
   "execution_count": null,
   "metadata": {},
   "outputs": [],
   "source": [
    "from sklearn.pipeline import *\n",
    "from sklearn.preprocessing import Normalizer\n",
    "from sklearn.preprocessing import PolynomialFeatures, FunctionTransformer\n",
    "\n",
    "#Store the different combinations\n",
    "test_vecs = []\n",
    "train_vecs = []\n",
    "\n",
    "#Normalization only for NMF using previously generated nmf model\n",
    "scaled_train_nmf = scale(train_nmf)\n",
    "scaled_test_nmf = scale(test_nmf)\n",
    "\n",
    "train_vecs.append(scaled_train_nmf)\n",
    "test_vecs.append(scaled_test_nmf)\n",
    "\n",
    "\n",
    "#Log transformation on NMF w/ no normalization \n",
    "nmf = NMF(n_components=2)\n",
    "poly_transform = FunctionTransformer(np.log1p)\n",
    "nmf_norm_poly =make_pipeline(nmf, poly_transform)\n",
    "\n",
    "train_nmf_poly = nmf_norm_poly.fit_transform(trainX)\n",
    "test_nmf_poly = nmf_norm_poly.transform(testX)\n",
    "\n",
    "train_vecs.append(train_nmf_poly)\n",
    "train_vecs.append(test_nmf_poly)\n",
    "\n",
    "\n",
    "contin, h, c, v, rand, mutual = get_nmf_scores(num_components=2, train_nmf=train_nmf_poly, test_nmf=test_nmf_poly)\n",
    "contingency_matrices.append(contin)\n",
    "h_vals.append(h)\n",
    "c_vals.append(c)\n",
    "v_vals.append(v)\n",
    "rand_vals.append(rand)\n",
    "mutual_vals.append(mutual)\n",
    "print(contin)\n",
    "print(\"Homogeneity: \", h)\n",
    "print(\"Completeness: \", c)\n",
    "print(\"V-measure: \", v)\n",
    "print(\"Rand index: \", rand)\n",
    "print(\"Mutual information: \", mutual)\n",
    "\n",
    "\n",
    "#Poly first then normalization \n",
    "scaled_train_nmf_poly = scale(train_nmf_poly)\n",
    "scaled_test_nmf_poly = scale(test_nmf_poly)\n",
    "plot_kmeans(X=scaled_train_nmf_poly, km_model = km_nmf)\n",
    "contin, h, c, v, rand, mutual = get_nmf_scores(num_components=2, train_nmf=scaled_train_nmf_poly, test_nmf=scaled_test_nmf_poly)\n",
    "contingency_matrices.append(contin)\n",
    "h_vals.append(h)\n",
    "c_vals.append(c)\n",
    "v_vals.append(v)\n",
    "rand_vals.append(rand)\n",
    "mutual_vals.append(mutual)\n",
    "print(contin)\n",
    "print(\"Homogeneity: \", h)\n",
    "print(\"Completeness: \", c)\n",
    "print(\"V-measure: \", v)\n",
    "print(\"Rand index: \", rand)\n",
    "print(\"Mutual information: \", mutual)\n",
    "\n",
    "#Normalization first then \n",
    "\n",
    "print(\"Determining best model...\")\n",
    "res_list = [np.argmax(h_vals), np.argmax(c_vals), np.argmax(v_vals), np.argmax(rand_vals), np.argmax(mutual_vals)]\n",
    "print(res_list)\n",
    "# best_index = int(np.mean(res_list))\n",
    "best_index = np.bincount(res_list).argmax() # most frequent index\n",
    "print(\"Best model #: \", best_index)\n",
    "\n"
   ]
  },
  {
   "cell_type": "code",
   "execution_count": null,
   "metadata": {},
   "outputs": [],
   "source": []
  },
  {
   "cell_type": "code",
   "execution_count": null,
   "metadata": {},
   "outputs": [],
   "source": []
  }
 ],
 "metadata": {
  "kernelspec": {
   "display_name": "Python 2",
   "language": "python",
   "name": "python2"
  },
  "language_info": {
   "codemirror_mode": {
    "name": "ipython",
    "version": 2
   },
   "file_extension": ".py",
   "mimetype": "text/x-python",
   "name": "python",
   "nbconvert_exporter": "python",
   "pygments_lexer": "ipython2",
   "version": "2.7.14"
  }
 },
 "nbformat": 4,
 "nbformat_minor": 2
}
