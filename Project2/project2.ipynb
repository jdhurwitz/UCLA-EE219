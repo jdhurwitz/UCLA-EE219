{
 "cells": [
  {
   "cell_type": "code",
   "execution_count": 359,
   "metadata": {},
   "outputs": [],
   "source": [
    "%matplotlib inline\n",
    "\n",
    "import matplotlib\n",
    "import numpy as np\n",
    "\n",
    "import matplotlib.pyplot as plt\n",
    "from sklearn.datasets import fetch_20newsgroups"
   ]
  },
  {
   "cell_type": "code",
   "execution_count": 360,
   "metadata": {},
   "outputs": [],
   "source": [
    "comp_categories = ['comp.graphics', 'comp.os.ms-windows.misc', 'comp.sys.ibm.pc.hardware', 'comp.sys.mac.hardware']\n",
    "rec_categories = ['rec.autos', 'rec.motorcycles', 'rec.sport.baseball', 'rec.sport.hockey']\n",
    "comp_train = fetch_20newsgroups(subset='train', categories=comp_categories, shuffle=True, random_state=42)\n",
    "rec_train = fetch_20newsgroups(subset='train', categories=rec_categories, shuffle=True, random_state=42)\n",
    "comp_test = fetch_20newsgroups(subset='test', categories=comp_categories, shuffle=True, random_state=42)\n",
    "rec_test = fetch_20newsgroups(subset='test', categories=rec_categories, shuffle=True, random_state=42)\n",
    "\n",
    "#all_points = fetch_20newsgroups(subset='all', categories=comp_categories+rec_categories, shuffle=True, random_state=42)\n",
    "\n"
   ]
  },
  {
   "cell_type": "code",
   "execution_count": 361,
   "metadata": {},
   "outputs": [],
   "source": [
    "# 1. transform the documents into TF-IDF vectors. \n",
    "# Use min df = 3, exclude the stopwords (no need to do stemming). Report the dimensions of the TF-IDF matrix you get.\n",
    "from sklearn.feature_extraction import text\n",
    "from sklearn.feature_extraction.text import CountVectorizer\n",
    "from sklearn.feature_extraction.text import TfidfTransformer\n",
    "\n",
    "vectorizer = CountVectorizer(min_df=3, stop_words=text.ENGLISH_STOP_WORDS) \n",
    "vectorized_corpus = vectorizer.fit_transform(comp_train.data + rec_train.data)\n",
    "\n",
    "tfidf_transformer = TfidfTransformer()\n",
    "trainX = tfidf_transformer.fit_transform(vectorized_corpus)\n",
    "\n",
    "testX = tfidf_transformer.transform(vectorizer.transform(comp_test.data + rec_test.data))\n",
    "\n",
    "# 0 for comp class, 1 for rec class\n",
    "trainy = np.zeros(shape=(len(comp_train.filenames) + len(rec_train.filenames),))\n",
    "trainy[len(comp_train.filenames):] = 1\n",
    "\n",
    "testy = np.zeros(shape=(len(comp_test.filenames) + len(rec_test.filenames),))\n",
    "testy[len(comp_test.filenames):] = 1"
   ]
  },
  {
   "cell_type": "code",
   "execution_count": 362,
   "metadata": {},
   "outputs": [
    {
     "name": "stdout",
     "output_type": "stream",
     "text": [
      "(4732, 20297) (3150, 20297) (4732,) (3150,)\n"
     ]
    }
   ],
   "source": [
    "print trainX.shape, testX.shape, trainy.shape, testy.shape"
   ]
  },
  {
   "cell_type": "code",
   "execution_count": 363,
   "metadata": {},
   "outputs": [],
   "source": [
    "# 2. Apply K-means clustering with k = 2 using the TF-IDF data.\n",
    "# Compare the clustering results with the known class labels.\n",
    "# a) Inspect the contingency matrix to get a sense of your clustering result.\n",
    "from sklearn.pipeline import make_pipeline\n",
    "from sklearn.preprocessing import Normalizer\n",
    "from sklearn import metrics\n",
    "\n",
    "from sklearn.cluster import KMeans, MiniBatchKMeans\n",
    "from sklearn.metrics.cluster import contingency_matrix\n",
    "\n",
    "km = KMeans(n_clusters=2, init='k-means++', max_iter=100)\n",
    "km.fit(trainX)\n",
    "ypred = km.predict(testX)"
   ]
  },
  {
   "cell_type": "code",
   "execution_count": 364,
   "metadata": {},
   "outputs": [
    {
     "name": "stdout",
     "output_type": "stream",
     "text": [
      "(4732,) (3150,)\n"
     ]
    },
    {
     "data": {
      "text/plain": [
       "array([[1558,    2],\n",
       "       [ 925,  665]])"
      ]
     },
     "execution_count": 364,
     "metadata": {},
     "output_type": "execute_result"
    }
   ],
   "source": [
    "print km.labels_.shape, testy.shape\n",
    "contingency_matrix(testy, ypred, eps=None, sparse=False)"
   ]
  },
  {
   "cell_type": "code",
   "execution_count": 365,
   "metadata": {},
   "outputs": [
    {
     "name": "stdout",
     "output_type": "stream",
     "text": [
      "Homogeneity: 0.243\n",
      "Completeness: 0.326\n",
      "V-measure: 0.278\n",
      "Adjusted Rand-Index: 0.169\n",
      "Adjusted Mutual Info: 0.243\n"
     ]
    }
   ],
   "source": [
    "# b) 5 Metrics\n",
    "\n",
    "print(\"Homogeneity: %0.3f\" % metrics.homogeneity_score(testy, ypred))\n",
    "print(\"Completeness: %0.3f\" % metrics.completeness_score(testy, ypred))\n",
    "print(\"V-measure: %0.3f\" % metrics.v_measure_score(testy, ypred))\n",
    "print(\"Adjusted Rand-Index: %.3f\" % metrics.adjusted_rand_score(testy, ypred))\n",
    "print(\"Adjusted Mutual Info: %0.3f\" % metrics.adjusted_mutual_info_score(testy, ypred))"
   ]
  },
  {
   "cell_type": "code",
   "execution_count": 366,
   "metadata": {},
   "outputs": [
    {
     "name": "stdout",
     "output_type": "stream",
     "text": [
      "1000\n"
     ]
    }
   ],
   "source": [
    "# 3. a) Report the plot of the percent of variance the top r principle components can retain v.s. r, for r = 1 to 1000.\n",
    "from scipy.sparse.linalg import svds\n",
    "\n",
    "#Use SVD to find 1000 principal components\n",
    "u, singular_values, vt = svds(trainX, k=1000)\n",
    "print(len(singular_values))\n"
   ]
  },
  {
   "cell_type": "code",
   "execution_count": 367,
   "metadata": {},
   "outputs": [
    {
     "data": {
      "text/plain": [
       "Text(0,0.5,u'retained variance ratio')"
      ]
     },
     "execution_count": 367,
     "metadata": {},
     "output_type": "execute_result"
    },
    {
     "data": {
      "image/png": "[encoded data removed]",
      "text/plain": [
       "<matplotlib.figure.Figure at 0x1a3a60ae90>"
      ]
     },
     "metadata": {},
     "output_type": "display_data"
    }
   ],
   "source": [
    "from sklearn.decomposition import TruncatedSVD, NMF\n",
    "\n",
    "rs = np.arange(1, 1001)\n",
    "\n",
    "svd = TruncatedSVD(n_components=1000)\n",
    "svd.fit(trainX)\n",
    "explained_vars = svd.explained_variance_ratio_\n",
    "\n",
    "variances = np.zeros(explained_vars.shape)\n",
    "variances[0] = explained_vars[0]\n",
    "for i in range(1,1000):\n",
    "    variances[i] = explained_vars[i] + variances[i-1]\n",
    "    \n",
    "plt.plot(rs, variances, 'ro')\n",
    "plt.xlabel('r')\n",
    "plt.ylabel('retained variance ratio')"
   ]
  },
  {
   "cell_type": "code",
   "execution_count": 368,
   "metadata": {},
   "outputs": [],
   "source": [
    "from sklearn.decomposition import TruncatedSVD, NMF\n",
    "from sklearn import metrics\n",
    "\n",
    "\n",
    "\n",
    "def get_scores(y, yhat):\n",
    "    cont_matrix = contingency_matrix(y,yhat)# ypred)\n",
    "\n",
    "    homogeneity = metrics.homogeneity_score(y, yhat)\n",
    "    completeness_score = metrics.completeness_score(y, yhat)\n",
    "    v_measure_score = metrics.v_measure_score(y, yhat)\n",
    "    adjusted_rand_score = metrics.adjusted_rand_score(y, yhat)\n",
    "    adjusted_mutual_info_score = metrics.adjusted_mutual_info_score(y, yhat)\n",
    "    return cont_matrix, homogeneity, completeness_score, v_measure_score, adjusted_rand_score, adjusted_mutual_info_score\n",
    "   \n",
    "    \n",
    "def get_svd_scores(num_components, train_lsi=None, test_lsi=None):\n",
    "    svd = TruncatedSVD(n_components=num_components)\n",
    "    if train_lsi is None and test_lsi is None:\n",
    "        train_lsi = svd.fit_transform(trainX)\n",
    "        test_lsi = svd.transform(testX)\n",
    "\n",
    "    km = KMeans(n_clusters=2)\n",
    "    km.fit(train_lsi)\n",
    "\n",
    "    ypred = km.predict(test_lsi)\n",
    "    return get_scores(testy, ypred)\n",
    "\n",
    "    \n",
    "def get_nmf_scores(num_components, train_nmf=None, test_nmf=None):\n",
    "    nmf = NMF(n_components=num_components)\n",
    "    if train_nmf is None and test_nmf is None:\n",
    "        print(\"Using default NMF transform...\")\n",
    "        train_nmf = nmf.fit_transform(trainX)\n",
    "        test_nmf = nmf.transform(testX)\n",
    "    \n",
    "    km = KMeans(n_clusters=2)\n",
    "    km.fit(train_nmf)\n",
    "    ypred = km.predict(test_nmf)\n",
    "  \n",
    "    return get_scores(testy, ypred)\n",
    "    "
   ]
  },
  {
   "cell_type": "code",
   "execution_count": 369,
   "metadata": {},
   "outputs": [
    {
     "data": {
      "text/plain": [
       "Text(0,0.5,u'singular val')"
      ]
     },
     "execution_count": 369,
     "metadata": {},
     "output_type": "execute_result"
    },
    {
     "data": {
      "image/png": "[encoded data removed]",
      "text/plain": [
       "<matplotlib.figure.Figure at 0x1a1e477810>"
      ]
     },
     "metadata": {},
     "output_type": "display_data"
    }
   ],
   "source": [
    "#print(sorted(singular_values, reverse=True))\n",
    "sorted_singular_vals = sorted(singular_values, reverse=True)\n",
    "plt.plot(sorted_singular_vals)\n",
    "plt.xlabel('r')\n",
    "plt.ylabel('singular val')"
   ]
  },
  {
   "cell_type": "code",
   "execution_count": 370,
   "metadata": {},
   "outputs": [
    {
     "name": "stdout",
     "output_type": "stream",
     "text": [
      "LSI...\n",
      "('contingency matrix for r=', 1)\n",
      "[[769 791]\n",
      " [846 744]]\n",
      "('contingency matrix for r=', 2)\n",
      "[[1492   68]\n",
      " [ 344 1246]]\n",
      "('contingency matrix for r=', 3)\n",
      "[[1557    3]\n",
      " [ 854  736]]\n",
      "('contingency matrix for r=', 5)\n",
      "[[   2 1558]\n",
      " [ 605  985]]\n",
      "('contingency matrix for r=', 10)\n",
      "[[1558    2]\n",
      " [ 961  629]]\n",
      "('contingency matrix for r=', 20)\n",
      "[[1558    2]\n",
      " [ 955  635]]\n",
      "('contingency matrix for r=', 50)\n",
      "[[1559    1]\n",
      " [ 963  627]]\n",
      "('contingency matrix for r=', 100)\n",
      "[[   1 1559]\n",
      " [ 626  964]]\n",
      "('contingency matrix for r=', 300)\n",
      "[[   1 1559]\n",
      " [ 627  963]]\n",
      "r: 1 \n",
      " homogeneity=0.00111 \n",
      " completeness=0.00111 \n",
      " v-measure=0.00111 \n",
      " adj rand index=0.00123 \n",
      " adj mutual info=0.00088 \n",
      "---\n",
      "r: 2 \n",
      " homogeneity=0.47179 \n",
      " completeness=0.48134 \n",
      " v-measure=0.47652 \n",
      " adj rand index=0.54511 \n",
      " adj mutual info=0.47167 \n",
      "---\n",
      "r: 3 \n",
      " homogeneity=0.27325 \n",
      " completeness=0.34764 \n",
      " v-measure=0.30599 \n",
      " adj rand index=0.20762 \n",
      " adj mutual info=0.27308 \n",
      "---\n",
      "r: 5 \n",
      " homogeneity=0.21632 \n",
      " completeness=0.30591 \n",
      " v-measure=0.25343 \n",
      " adj rand index=0.13918 \n",
      " adj mutual info=0.21614 \n",
      "---\n",
      "r: 10 \n",
      " homogeneity=0.22679 \n",
      " completeness=0.31385 \n",
      " v-measure=0.26331 \n",
      " adj rand index=0.15079 \n",
      " adj mutual info=0.22662 \n",
      "---\n",
      "r: 20 \n",
      " homogeneity=0.22944 \n",
      " completeness=0.31586 \n",
      " v-measure=0.26580 \n",
      " adj rand index=0.15376 \n",
      " adj mutual info=0.22926 \n",
      "---\n",
      "r: 50 \n",
      " homogeneity=0.22847 \n",
      " completeness=0.31701 \n",
      " v-measure=0.26555 \n",
      " adj rand index=0.15029 \n",
      " adj mutual info=0.22829 \n",
      "---\n",
      "r: 100 \n",
      " homogeneity=0.22803 \n",
      " completeness=0.31668 \n",
      " v-measure=0.26514 \n",
      " adj rand index=0.14980 \n",
      " adj mutual info=0.22785 \n",
      "---\n",
      "r: 300 \n",
      " homogeneity=0.22847 \n",
      " completeness=0.31701 \n",
      " v-measure=0.26555 \n",
      " adj rand index=0.15029 \n",
      " adj mutual info=0.22829 \n",
      "---\n",
      "[1, 1, 1, 1, 1]\n",
      "1\n",
      "('Best r-value is: ', 2)\n"
     ]
    },
    {
     "data": {
      "image/png": "[encoded data removed]",
      "text/plain": [
       "<matplotlib.figure.Figure at 0x1a2100c510>"
      ]
     },
     "metadata": {},
     "output_type": "display_data"
    }
   ],
   "source": [
    "# b) LSI vs. NMF\n",
    "# Specifically, try r = 1, 2, 3, 5, 10, 20, 50, 100, 300, and plot the 5 \n",
    "# measure scores v.s. r for both SVD and NMF; also report the contingency matrices for each r.\n",
    "# Report the best r choice for SVD and NMF respectively.\n",
    "# How do you explain the non-monotonic behavior of the measures as r increases?\n",
    "\n",
    "r_vals = [1,2,3,5,10,20,50,100,300]\n",
    "contingency_matrices = []\n",
    "h_vals = []\n",
    "c_vals = []\n",
    "v_vals = []\n",
    "rand_vals = []\n",
    "mutual_vals = []\n",
    "print(\"LSI...\")\n",
    "for r in r_vals:\n",
    "    contin, h, c, v, rand, mutual = get_svd_scores(num_components=r)\n",
    "#    contingency_matrices.append(contin)\n",
    "    print(\"contingency matrix for r=\", r)\n",
    "#    print(h, c, v, rand, mutual)\n",
    "    print(contin)\n",
    "    h_vals.append(h)\n",
    "    c_vals.append(c)\n",
    "    v_vals.append(v)\n",
    "    rand_vals.append(rand)\n",
    "    mutual_vals.append(mutual)\n",
    "    \n",
    "    \n",
    "start_index = 0    \n",
    "r_vals = r_vals[start_index:]\n",
    "h_vals = h_vals[start_index:]\n",
    "c_vals = c_vals[start_index:]\n",
    "v_vals = v_vals[start_index:]\n",
    "rand_vals = rand_vals[start_index:]\n",
    "mutual_vals = mutual_vals[start_index:]\n",
    "\n",
    "for r, h, c, v, rand, mutual in zip(r_vals, h_vals, c_vals, v_vals, rand_vals, mutual_vals):\n",
    "    print(\"r: %i \\n homogeneity=%.5f \\n completeness=%.5f \\n v-measure=%.5f \\n adj rand index=%.5f \\n adj mutual info=%.5f \\n---\" % (r, h, c, v, rand, mutual))\n",
    "\n",
    "# print(h_vals)\n",
    "# print(c_vals)\n",
    "# print(v_vals)\n",
    "# print(rand_vals)\n",
    "# print(mutual_vals)\n",
    "\n",
    "res_list = [np.argmax(h_vals), np.argmax(c_vals), np.argmax(v_vals), np.argmax(rand_vals), np.argmax(mutual_vals)]\n",
    "print(res_list)\n",
    "# best_index = int(np.mean(res_list)) # not sure if this works e.g. [0,1,0,3,2,0]\n",
    "best_index = np.bincount(res_list).argmax() # most frequent index\n",
    "print(best_index)\n",
    "    \n",
    "print(\"Best r-value is: \", r_vals[best_index])\n",
    "plt.plot(r_vals, h_vals, 'r', label=\"homogenity\")\n",
    "plt.plot(r_vals, c_vals, 'g', label=\"completeness score\")\n",
    "plt.plot(r_vals, v_vals, 'b', label=\"v measure\")\n",
    "plt.plot(r_vals, rand_vals, 'm', label=\"rand index\")\n",
    "plt.plot(r_vals, mutual_vals, 'b', label=\"adjusted mutual information\")\n",
    "plt.grid()\n",
    "    \n",
    "    \n",
    "\n"
   ]
  },
  {
   "cell_type": "markdown",
   "metadata": {},
   "source": [
    "# Report the best r choice for SVD\n",
    "The best r choice for SVD was r=100. The metric outputs were:\n",
    "<br>\n",
    "r: 100 <br>\n",
    " homogeneity=0.73846 <br>\n",
    " completeness=0.73989 <br>\n",
    " v-measure=0.73918 <br>\n",
    " adj rand index=0.82545 <br>\n",
    " adj mutual info=0.73840 <br>"
   ]
  },
  {
   "cell_type": "code",
   "execution_count": 371,
   "metadata": {},
   "outputs": [
    {
     "name": "stdout",
     "output_type": "stream",
     "text": [
      "NMF...\n",
      "Using default NMF transform...\n",
      "('contingency matrix for r=', 1)\n",
      "[[769 791]\n",
      " [846 744]]\n",
      "Using default NMF transform...\n",
      "('contingency matrix for r=', 2)\n",
      "[[ 139 1421]\n",
      " [1479  111]]\n",
      "Using default NMF transform...\n",
      "('contingency matrix for r=', 3)\n",
      "[[1558    2]\n",
      " [ 969  621]]\n",
      "Using default NMF transform...\n",
      "('contingency matrix for r=', 5)\n",
      "[[1558    2]\n",
      " [1102  488]]\n",
      "Using default NMF transform...\n",
      "('contingency matrix for r=', 10)\n",
      "[[1558    2]\n",
      " [1078  512]]\n",
      "Using default NMF transform...\n",
      "('contingency matrix for r=', 20)\n",
      "[[1549   11]\n",
      " [1574   16]]\n",
      "Using default NMF transform...\n",
      "('contingency matrix for r=', 50)\n",
      "[[  15 1545]\n",
      " [  19 1571]]\n",
      "Using default NMF transform...\n",
      "('contingency matrix for r=', 100)\n",
      "[[ 167 1393]\n",
      " [ 303 1287]]\n",
      "Using default NMF transform...\n",
      "('contingency matrix for r=', 300)\n",
      "[[1509   51]\n",
      " [1569   21]]\n",
      "r: 1 \n",
      " homogeneity=0.00111 \n",
      " completeness=0.00111 \n",
      " v-measure=0.00111 \n",
      " adj rand index=0.00123 \n",
      " adj mutual info=0.00088 \n",
      "---\n",
      "r: 2 \n",
      " homogeneity=0.60048 \n",
      " completeness=0.60077 \n",
      " v-measure=0.60063 \n",
      " adj rand index=0.70764 \n",
      " adj mutual info=0.60039 \n",
      "---\n",
      "r: 3 \n",
      " homogeneity=0.22328 \n",
      " completeness=0.31119 \n",
      " v-measure=0.26001 \n",
      " adj rand index=0.14687 \n",
      " adj mutual info=0.22310 \n",
      "---\n",
      "r: 5 \n",
      " homogeneity=0.16754 \n",
      " completeness=0.26866 \n",
      " v-measure=0.20638 \n",
      " adj rand index=0.08924 \n",
      " adj mutual info=0.16735 \n",
      "---\n",
      "r: 10 \n",
      " homogeneity=0.17725 \n",
      " completeness=0.27614 \n",
      " v-measure=0.21591 \n",
      " adj rand index=0.09858 \n",
      " adj mutual info=0.17706 \n",
      "---\n",
      "r: 20 \n",
      " homogeneity=0.00019 \n",
      " completeness=0.00272 \n",
      " v-measure=0.00036 \n",
      " adj rand index=-0.00006 \n",
      " adj mutual info=-0.00004 \n",
      "---\n",
      "r: 50 \n",
      " homogeneity=0.00009 \n",
      " completeness=0.00107 \n",
      " v-measure=0.00017 \n",
      " adj rand index=-0.00005 \n",
      " adj mutual info=-0.00014 \n",
      "---\n",
      "r: 100 \n",
      " homogeneity=0.01004 \n",
      " completeness=0.01651 \n",
      " v-measure=0.01249 \n",
      " adj rand index=0.00570 \n",
      " adj mutual info=0.00981 \n",
      "---\n",
      "r: 300 \n",
      " homogeneity=0.00315 \n",
      " completeness=0.02006 \n",
      " v-measure=0.00545 \n",
      " adj rand index=0.00071 \n",
      " adj mutual info=0.00292 \n",
      "---\n",
      "[1, 1, 1, 1, 1]\n",
      "1\n",
      "('Best r-value is: ', 2)\n"
     ]
    },
    {
     "data": {
      "image/png": "[encoded data removed]",
      "text/plain": [
       "<matplotlib.figure.Figure at 0x1a1ecc8590>"
      ]
     },
     "metadata": {},
     "output_type": "display_data"
    }
   ],
   "source": [
    "print(\"NMF...\")   \n",
    "contingency_matrices = []\n",
    "h_vals = []\n",
    "c_vals = []\n",
    "v_vals = []\n",
    "rand_vals = []\n",
    "mutual_vals = []\n",
    "for r in r_vals:\n",
    "    contin, h, c, v, rand, mutual = get_nmf_scores(num_components=r)\n",
    "    print(\"contingency matrix for r=\", r)\n",
    "    print(contin)\n",
    "    h_vals.append(h)\n",
    "    c_vals.append(c)\n",
    "    v_vals.append(v)\n",
    "    rand_vals.append(rand)\n",
    "    mutual_vals.append(mutual)\n",
    "    \n",
    "    \n",
    "start_index = 0    \n",
    "r_vals = r_vals[start_index:]\n",
    "h_vals = h_vals[start_index:]\n",
    "c_vals = c_vals[start_index:]\n",
    "v_vals = v_vals[start_index:]\n",
    "rand_vals = rand_vals[start_index:]\n",
    "mutual_vals = mutual_vals[start_index:]\n",
    "\n",
    "# print(h_vals)\n",
    "# print(c_vals)\n",
    "# print(v_vals)\n",
    "# print(rand_vals)\n",
    "# print(mutual_vals)\n",
    "\n",
    "for r, h, c, v, rand, mutual in zip(r_vals, h_vals, c_vals, v_vals, rand_vals, mutual_vals):\n",
    "    print(\"r: %i \\n homogeneity=%.5f \\n completeness=%.5f \\n v-measure=%.5f \\n adj rand index=%.5f \\n adj mutual info=%.5f \\n---\" % (r, h, c, v, rand, mutual))\n",
    "\n",
    "\n",
    "res_list = [np.argmax(h_vals), np.argmax(c_vals), np.argmax(v_vals), np.argmax(rand_vals), np.argmax(mutual_vals)]\n",
    "print(res_list)\n",
    "# best_index = int(np.mean(res_list))\n",
    "best_index = np.bincount(res_list).argmax() # most frequent index\n",
    "print(best_index)\n",
    "    \n",
    "print(\"Best r-value is: \", r_vals[best_index])\n",
    "plt.plot(r_vals, h_vals, 'r', label=\"homogenity\")\n",
    "plt.plot(r_vals, c_vals, 'g', label=\"completeness score\")\n",
    "plt.plot(r_vals, v_vals, 'b', label=\"v measure\")\n",
    "plt.plot(r_vals, rand_vals, 'm', label=\"rand index\")\n",
    "plt.plot(r_vals, mutual_vals, 'b', label=\"adjusted mutual information\")\n",
    "plt.grid()\n",
    "\n",
    "\n"
   ]
  },
  {
   "cell_type": "markdown",
   "metadata": {},
   "source": [
    "# Report the best r choice for NMF\n",
    "The best r-choice for NMF was r=2.\n",
    "<br>\n",
    "r: 2  <br>\n",
    " homogeneity=0.59932  <br>\n",
    " completeness=0.59959 <br>\n",
    " v-measure=0.59946 <br>\n",
    " adj rand index=0.70657 <br> \n",
    " adj mutual info=0.59923  <br>"
   ]
  },
  {
   "cell_type": "markdown",
   "metadata": {
    "collapsed": true
   },
   "source": [
    "# How do you explain the non-monotonic behavior of the measures as r increases?\n",
    "As we increase the number of dimensions r, more information is encapsulated in the feature representation just by nature of having a higher percentage of the variance due to more principal components. However, K-Means suffers from the curse of dimensionality, so as the dimensions increase, Euclidean distance becomes a worse and worse distance metric and will perform poorly. Thus, we are trading off between more information and an inherent shortcoming in the KMeans method. This is why it's possible for KMeans to perform better with lower dimension (such as r=2) than with higher dimension (such as r=300 or r=1000).\n"
   ]
  },
  {
   "cell_type": "code",
   "execution_count": 372,
   "metadata": {},
   "outputs": [],
   "source": [
    "#4a \n",
    "from sklearn.preprocessing import scale\n",
    "\n",
    "#SVD\n",
    "svd = TruncatedSVD(n_components=2)\n",
    "train_lsi = svd.fit_transform(trainX)\n",
    "test_lsi = svd.transform(testX)\n",
    "\n",
    "km = KMeans(n_clusters=2)\n",
    "km.fit(train_lsi)\n",
    "\n",
    "ypred = km.predict(test_lsi)\n",
    "\n",
    "#NMF\n",
    "nmf = NMF(n_components=2)\n",
    "train_nmf = nmf.fit_transform(trainX)\n",
    "test_nmf = nmf.transform(testX)\n",
    "\n",
    "km_nmf = KMeans(n_clusters=2)\n",
    "km_nmf.fit(train_nmf)\n",
    "ypred_nmf = km_nmf.predict(test_nmf)\n",
    "\n"
   ]
  },
  {
   "cell_type": "code",
   "execution_count": 373,
   "metadata": {},
   "outputs": [],
   "source": [
    "from matplotlib.colors import ListedColormap\n",
    "\n",
    "# Plot the decision boundary. For that, we will assign a color to each\n",
    "# point in the mesh [x_min, x_max]x[y_min, y_max].\n",
    "\n",
    "#print(X.shape)\n",
    "def plot_kmeans(X, km_model):\n",
    "    #step size in mesh\n",
    "    h=0.2\n",
    "\n",
    "    # Create color maps\n",
    "    cmap_light = ListedColormap(['#FFAAAA', '#AAFFAA', '#AAAAFF'])\n",
    "    cmap_bold = ListedColormap(['#FF0000', '#00FF00', '#0000FF'])\n",
    "\n",
    "    x_min, x_max = X[:, 0].min() - 1, X[:, 0].max() + 1\n",
    "    y_min, y_max = X[:, 1].min() - 1, X[:, 1].max() + 1\n",
    "    xx, yy = np.meshgrid(np.arange(x_min, x_max, h),\n",
    "                         np.arange(y_min, y_max, h))\n",
    "\n",
    "#    print(xx.shape, yy.shape)\n",
    "    Z = km_model.predict(np.c_[xx.ravel(), yy.ravel()])\n",
    "\n",
    "    # Put the result into a color plot\n",
    "    Z = Z.reshape(xx.shape)\n",
    "    plt.figure()\n",
    "    plt.pcolormesh(xx, yy, Z, cmap=cmap_light)\n",
    "\n",
    "    # Plot also the training points\n",
    "    #plt.scatter(X[:, 0], X[:, 1], c=y, cmap=cmap_bold)\n",
    "    #plt.xlim(xx.min(), xx.max())\n",
    "    #plt.ylim(yy.min(), yy.max())\n",
    "\n",
    "    #plt.show()\n",
    "    plt.imshow(Z, interpolation='nearest',\n",
    "               extent=(xx.min(), xx.max(), yy.min(), yy.max()),\n",
    "               cmap=plt.cm.Paired,\n",
    "               aspect='auto', origin='lower')\n",
    "\n",
    "    plt.plot(X[:, 0], X[:, 1], 'k.', markersize=2)\n",
    "    # Plot the centroids as a white X\n",
    "    centroids = km_model.cluster_centers_\n",
    "    plt.scatter(centroids[:, 0], centroids[:, 1],\n",
    "                marker='x', s=169, linewidths=3,\n",
    "                color='w', zorder=10)\n",
    "    plt.title('K-Means on reduced data showing centroids in white')\n",
    "    plt.xlim(x_min, x_max)\n",
    "    plt.ylim(y_min, y_max)\n",
    "    #plt.xlim(0, 0.4)\n",
    "    #plt.ylim(-0.4, 0.4)\n",
    "    #plt.xticks(())\n",
    "    #plt.yticks(())\n",
    "    plt.show()"
   ]
  },
  {
   "cell_type": "code",
   "execution_count": 374,
   "metadata": {},
   "outputs": [
    {
     "data": {
      "image/png": "[encoded data removed]",
      "text/plain": [
       "<matplotlib.figure.Figure at 0x1a20fd6d90>"
      ]
     },
     "metadata": {},
     "output_type": "display_data"
    },
    {
     "data": {
      "image/png": "[encoded data removed]",
      "text/plain": [
       "<matplotlib.figure.Figure at 0x112a17a50>"
      ]
     },
     "metadata": {},
     "output_type": "display_data"
    }
   ],
   "source": [
    "#X=scaled_train_lsi\n",
    "#km_model = km\n",
    "plot_kmeans(X=train_lsi, km_model=km)\n",
    "plot_kmeans(X=train_nmf, km_model=km_nmf)\n",
    "\n"
   ]
  },
  {
   "cell_type": "code",
   "execution_count": 375,
   "metadata": {},
   "outputs": [],
   "source": [
    "def sweep_metrics(train_vecs, test_vecs, names, km_model):\n",
    "    #Store the different combinations\n",
    "    contingency_matrices = []\n",
    "    h_vals = []\n",
    "    c_vals = []\n",
    "    v_vals = []\n",
    "    rand_vals = []\n",
    "    mutual_vals = []\n",
    "    \n",
    "    for i in range(len(train_vecs)):\n",
    "        print(names[i])\n",
    "        plot_kmeans(X=train_vecs[i], km_model=km_model)\n",
    "        contin, h, c, v, rand, mutual = get_nmf_scores(num_components=2, train_nmf=train_vecs[i], test_nmf=test_vecs[i])\n",
    "        \n",
    "        contingency_matrices.append(contin)\n",
    "        h_vals.append(h)\n",
    "        c_vals.append(c)\n",
    "        v_vals.append(v)\n",
    "        rand_vals.append(rand)\n",
    "        mutual_vals.append(mutual)\n",
    "\n",
    "    \n",
    "    return (contingency_matrices, h_vals, c_vals, v_vals, rand_vals, mutual_vals)"
   ]
  },
  {
   "cell_type": "code",
   "execution_count": 376,
   "metadata": {},
   "outputs": [
    {
     "name": "stdout",
     "output_type": "stream",
     "text": [
      "Normalized features\n"
     ]
    },
    {
     "data": {
      "image/png": "[encoded data removed]",
      "text/plain": [
       "<matplotlib.figure.Figure at 0x1a20f0c290>"
      ]
     },
     "metadata": {},
     "output_type": "display_data"
    },
    {
     "name": "stdout",
     "output_type": "stream",
     "text": [
      "Non-linear log transform\n"
     ]
    },
    {
     "data": {
      "image/png": "[encoded data removed]",
      "text/plain": [
       "<matplotlib.figure.Figure at 0x112f8f650>"
      ]
     },
     "metadata": {},
     "output_type": "display_data"
    },
    {
     "name": "stdout",
     "output_type": "stream",
     "text": [
      "Log transform then normalization\n"
     ]
    },
    {
     "data": {
      "image/png": "[encoded data removed]",
      "text/plain": [
       "<matplotlib.figure.Figure at 0x1a20f4ee50>"
      ]
     },
     "metadata": {},
     "output_type": "display_data"
    },
    {
     "name": "stdout",
     "output_type": "stream",
     "text": [
      "Normalization then log transform\n"
     ]
    },
    {
     "data": {
      "image/png": "[encoded data removed]",
      "text/plain": [
       "<matplotlib.figure.Figure at 0x114a90a90>"
      ]
     },
     "metadata": {},
     "output_type": "display_data"
    },
    {
     "name": "stdout",
     "output_type": "stream",
     "text": [
      "homogeneity=0.63576 \n",
      " completeness=0.63761 \n",
      " v-measure=0.63669 \n",
      " adj rand index=0.73570 \n",
      " adj mutual info=0.63568 \n",
      "---\n",
      "homogeneity=0.60544 \n",
      " completeness=0.60590 \n",
      " v-measure=0.60567 \n",
      " adj rand index=0.71192 \n",
      " adj mutual info=0.60535 \n",
      "---\n",
      "homogeneity=0.63470 \n",
      " completeness=0.63658 \n",
      " v-measure=0.63564 \n",
      " adj rand index=0.73461 \n",
      " adj mutual info=0.63461 \n",
      "---\n",
      "homogeneity=0.60298 \n",
      " completeness=0.60336 \n",
      " v-measure=0.60317 \n",
      " adj rand index=0.70978 \n",
      " adj mutual info=0.60289 \n",
      "---\n",
      "Determining best model...\n",
      "[0, 0, 0, 0, 0]\n",
      "('Best model #: ', 0)\n"
     ]
    }
   ],
   "source": [
    "from sklearn.pipeline import *\n",
    "from sklearn.preprocessing import Normalizer\n",
    "from sklearn.preprocessing import PolynomialFeatures, FunctionTransformer\n",
    "\n",
    "#Store the different combinations\n",
    "test_vecs = []\n",
    "train_vecs = []\n",
    "\n",
    "#Normalization only for NMF using previously generated nmf model\n",
    "scaled_train_nmf = scale(train_nmf)\n",
    "scaled_test_nmf = scale(test_nmf)\n",
    "#print(scaled_train_nmf.shape, scaled_test_nmf.shape)\n",
    "\n",
    "train_vecs.append(scaled_train_nmf)\n",
    "test_vecs.append(scaled_test_nmf)\n",
    "\n",
    "\n",
    "#Log transformation on NMF w/ no normalization \n",
    "nmf = NMF(n_components=2)\n",
    "poly_transform = FunctionTransformer(np.log1p)\n",
    "nmf_norm_poly =make_pipeline(nmf, poly_transform)\n",
    "\n",
    "train_nmf_poly = nmf_norm_poly.fit_transform(trainX)\n",
    "test_nmf_poly = nmf_norm_poly.transform(testX)\n",
    "#print(train_nmf_poly.shape, test_nmf_poly.shape)\n",
    "\n",
    "train_vecs.append(train_nmf_poly)\n",
    "train_vecs.append(test_nmf_poly)\n",
    "\n",
    "\n",
    "#Poly first then normalization \n",
    "train_poly_norm = scale(train_nmf_poly)\n",
    "test_poly_norm = scale(test_nmf_poly)\n",
    "#print(train_poly_norm.shape, test_poly_norm.shape)\n",
    "\n",
    "train_vecs.append(train_poly_norm)\n",
    "test_vecs.append(test_poly_norm)\n",
    "\n",
    "\n",
    "#Normalization first then poly\n",
    "train_norm_poly = poly_transform.fit_transform(train_nmf)\n",
    "test_norm_poly = poly_transform.transform(test_nmf)\n",
    "#print(train_norm_poly.shape, test_norm_poly.shape)\n",
    "\n",
    "train_vecs.append(train_norm_poly)\n",
    "test_vecs.append(test_norm_poly)\n",
    "\n",
    "\n",
    "#print(len(train_vecs), len(test_vecs))\n",
    "#print(scale(train_nmf_poly))\n",
    "#print(train_vecs[2])\n",
    "\n",
    "train = np.array([scaled_train_nmf, train_nmf_poly, train_poly_norm, train_norm_poly], dtype=float)\n",
    "test = np.array([scaled_test_nmf, test_nmf_poly, test_poly_norm, test_norm_poly], dtype=float)\n",
    "names = ['Normalized features', 'Non-linear log transform', 'Log transform then normalization', 'Normalization then log transform']\n",
    "\n",
    "\n",
    "results = sweep_metrics(train, test, names, km_nmf)\n",
    "contingency_matrices = results[0]\n",
    "h_vals = results[1]\n",
    "c_vals = results[2]\n",
    "v_vals = results[3]\n",
    "rand_vals = results[4]\n",
    "mutual_vals = results[5]\n",
    "\n",
    "for h, c, v, rand, mutual in zip( h_vals, c_vals, v_vals, rand_vals, mutual_vals):\n",
    "    print(\"homogeneity=%.5f \\n completeness=%.5f \\n v-measure=%.5f \\n adj rand index=%.5f \\n adj mutual info=%.5f \\n---\" % (h, c, v, rand, mutual))\n",
    "    \n",
    "\n",
    "    \n",
    "print(\"Determining best model...\")\n",
    "res_list = [np.argmax(h_vals), np.argmax(c_vals), np.argmax(v_vals), np.argmax(rand_vals), np.argmax(mutual_vals)]\n",
    "print(res_list)\n",
    "# best_index = int(np.mean(res_list))\n",
    "best_index = np.bincount(res_list).argmax() # most frequent index\n",
    "\n",
    "\n",
    "\n",
    "print(\"Best model #: \", best_index)\n",
    "\n",
    "\n"
   ]
  },
  {
   "cell_type": "code",
   "execution_count": null,
   "metadata": {},
   "outputs": [],
   "source": []
  },
  {
   "cell_type": "code",
   "execution_count": null,
   "metadata": {},
   "outputs": [],
   "source": []
  }
 ],
 "metadata": {
  "kernelspec": {
   "display_name": "Python 2",
   "language": "python",
   "name": "python2"
  },
  "language_info": {
   "codemirror_mode": {
    "name": "ipython",
    "version": 2
   },
   "file_extension": ".py",
   "mimetype": "text/x-python",
   "name": "python",
   "nbconvert_exporter": "python",
   "pygments_lexer": "ipython2",
   "version": "2.7.14"
  }
 },
 "nbformat": 4,
 "nbformat_minor": 2
}
