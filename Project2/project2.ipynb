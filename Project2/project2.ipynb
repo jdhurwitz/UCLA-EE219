{
 "cells": [
  {
   "cell_type": "code",
   "execution_count": 1,
   "metadata": {
    "collapsed": true
   },
   "outputs": [],
   "source": [
    "%matplotlib inline\n",
    "\n",
    "import matplotlib\n",
    "import numpy as np\n",
    "import matplotlib.pyplot as plt\n",
    "from sklearn.datasets import fetch_20newsgroups"
   ]
  },
  {
   "cell_type": "code",
   "execution_count": 8,
   "metadata": {
    "collapsed": true
   },
   "outputs": [],
   "source": [
    "comp_categories = ['comp.graphics', 'comp.os.ms-windows.misc', 'comp.sys.ibm.pc.hardware', 'comp.sys.mac.hardware']\n",
    "rec_categories = ['rec.autos', 'rec.motorcycles', 'rec.sport.baseball', 'rec.sport.hockey']\n",
    "comp_train = fetch_20newsgroups(subset='train', categories=comp_categories, shuffle=True, random_state=42)\n",
    "rec_train = fetch_20newsgroups(subset='train', categories=rec_categories, shuffle=True, random_state=42)\n",
    "comp_test = fetch_20newsgroups(subset='test', categories=comp_categories, shuffle=True, random_state=42)\n",
    "rec_test = fetch_20newsgroups(subset='test', categories=rec_categories, shuffle=True, random_state=42)"
   ]
  },
  {
   "cell_type": "code",
   "execution_count": 13,
   "metadata": {},
   "outputs": [],
   "source": [
    "# 1. transform the documents into TF-IDF vectors. \n",
    "# Use min df = 3, exclude the stopwords (no need to do stemming). Report the dimensions of the TF-IDF matrix you get.\n",
    "from sklearn.feature_extraction import text\n",
    "from sklearn.feature_extraction.text import CountVectorizer\n",
    "from sklearn.feature_extraction.text import TfidfTransformer\n",
    "\n",
    "vectorizer = CountVectorizer(min_df=3, stop_words=text.ENGLISH_STOP_WORDS) \n",
    "vectorized_corpus = vectorizer.fit_transform(comp_train.data + rec_train.data)\n",
    "\n",
    "tfidf_transformer = TfidfTransformer()\n",
    "trainX = tfidf_transformer.fit_transform(vectorized_corpus)\n",
    "\n",
    "testX = tfidf_transformer.transform(vectorizer.transform(comp_test.data + rec_test.data))\n",
    "\n",
    "# 0 for comp class, 1 for rec class\n",
    "trainy = np.zeros(shape=(len(comp_train.filenames) + len(rec_train.filenames),))\n",
    "trainy[len(comp_train.filenames):] = 1\n",
    "\n",
    "testy = np.zeros(shape=(len(comp_test.filenames) + len(rec_test.filenames),))\n",
    "testy[len(comp_test.filenames):] = 1"
   ]
  },
  {
   "cell_type": "code",
   "execution_count": 15,
   "metadata": {},
   "outputs": [
    {
     "name": "stdout",
     "output_type": "stream",
     "text": [
      " (4732, 20297) (3150, 20297) (4732,) (3150,)\n"
     ]
    }
   ],
   "source": [
    "print trainX.shape, testX.shape, trainy.shape, testy.shape"
   ]
  },
  {
   "cell_type": "code",
   "execution_count": 23,
   "metadata": {},
   "outputs": [],
   "source": [
    "# 2. Apply K-means clustering with k = 2 using the TF-IDF data.\n",
    "# Compare the clustering results with the known class labels.\n",
    "# a) Inspect the contingency matrix to get a sense of your clustering result.\n",
    "from sklearn.pipeline import make_pipeline\n",
    "from sklearn.preprocessing import Normalizer\n",
    "from sklearn import metrics\n",
    "\n",
    "from sklearn.cluster import KMeans, MiniBatchKMeans\n",
    "from sklearn.metrics.cluster import contingency_matrix\n",
    "\n",
    "km = KMeans(n_clusters=2, init='k-means++', max_iter=100)\n",
    "km.fit(trainX)\n",
    "ypred = km.predict(testX)"
   ]
  },
  {
   "cell_type": "code",
   "execution_count": 24,
   "metadata": {},
   "outputs": [
    {
     "name": "stdout",
     "output_type": "stream",
     "text": [
      "(4732,) (3150,)\n"
     ]
    },
    {
     "data": {
      "text/plain": [
       "array([[1558,    2],\n",
       "       [ 937,  653]])"
      ]
     },
     "execution_count": 24,
     "metadata": {},
     "output_type": "execute_result"
    }
   ],
   "source": [
    "print km.labels_.shape, testy.shape\n",
    "contingency_matrix(testy, ypred, eps=None, sparse=False)"
   ]
  },
  {
   "cell_type": "code",
   "execution_count": 25,
   "metadata": {},
   "outputs": [
    {
     "name": "stdout",
     "output_type": "stream",
     "text": [
      "Homogeneity: 0.237\n",
      "Completeness: 0.322\n",
      "V-measure: 0.273\n",
      "Adjusted Rand-Index: 0.163\n",
      "Adjusted Mutual Info: 0.237\n"
     ]
    }
   ],
   "source": [
    "# b) 5 Metrics\n",
    "\n",
    "print(\"Homogeneity: %0.3f\" % metrics.homogeneity_score(testy, ypred))\n",
    "print(\"Completeness: %0.3f\" % metrics.completeness_score(testy, ypred))\n",
    "print(\"V-measure: %0.3f\" % metrics.v_measure_score(testy, ypred))\n",
    "print(\"Adjusted Rand-Index: %.3f\" % metrics.adjusted_rand_score(testy, ypred))\n",
    "print(\"Adjusted Mutual Info: %0.3f\" % metrics.adjusted_mutual_info_score(testy, ypred))"
   ]
  },
  {
   "cell_type": "code",
   "execution_count": null,
   "metadata": {
    "collapsed": true
   },
   "outputs": [],
   "source": [
    "# 3. a)\n"
   ]
  }
 ],
 "metadata": {
  "kernelspec": {
   "display_name": "Python 2",
   "language": "python",
   "name": "python2"
  },
  "language_info": {
   "codemirror_mode": {
    "name": "ipython",
    "version": 2
   },
   "file_extension": ".py",
   "mimetype": "text/x-python",
   "name": "python",
   "nbconvert_exporter": "python",
   "pygments_lexer": "ipython2",
   "version": "2.7.13"
  }
 },
 "nbformat": 4,
 "nbformat_minor": 2
}
