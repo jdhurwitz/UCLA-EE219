{
 "cells": [
  {
   "cell_type": "code",
   "execution_count": 388,
   "metadata": {},
   "outputs": [],
   "source": [
    "%matplotlib inline\n",
    "\n",
    "import matplotlib\n",
    "import numpy as np\n",
    "\n",
    "import matplotlib.pyplot as plt\n",
    "from sklearn.datasets import fetch_20newsgroups"
   ]
  },
  {
   "cell_type": "code",
   "execution_count": 389,
   "metadata": {},
   "outputs": [],
   "source": [
    "comp_categories = ['comp.graphics', 'comp.os.ms-windows.misc', 'comp.sys.ibm.pc.hardware', 'comp.sys.mac.hardware']\n",
    "rec_categories = ['rec.autos', 'rec.motorcycles', 'rec.sport.baseball', 'rec.sport.hockey']\n",
    "comp_train = fetch_20newsgroups(subset='all', categories=comp_categories, shuffle=True, random_state=42)\n",
    "rec_train = fetch_20newsgroups(subset='all', categories=rec_categories, shuffle=True, random_state=42)\n",
    "# comp_test = fetch_20newsgroups(subset='test', categories=comp_categories, shuffle=True, random_state=42)\n",
    "# rec_test = fetch_20newsgroups(subset='test', categories=rec_categories, shuffle=True, random_state=42)\n",
    "\n",
    "#all_points = fetch_20newsgroups(subset='all', categories=comp_categories+rec_categories, shuffle=True, random_state=42)\n",
    "\n"
   ]
  },
  {
   "cell_type": "markdown",
   "metadata": {},
   "source": [
    "# 1) Building the TF-IDF Matrix"
   ]
  },
  {
   "cell_type": "code",
   "execution_count": 390,
   "metadata": {},
   "outputs": [],
   "source": [
    "# 1. transform the documents into TF-IDF vectors. \n",
    "# Use min df = 3, exclude the stopwords (no need to do stemming). Report the dimensions of the TF-IDF matrix you get.\n",
    "from sklearn.feature_extraction import text\n",
    "from sklearn.feature_extraction.text import CountVectorizer\n",
    "from sklearn.feature_extraction.text import TfidfTransformer\n",
    "\n",
    "vectorizer = CountVectorizer(min_df=3, stop_words=text.ENGLISH_STOP_WORDS) \n",
    "vectorized_corpus = vectorizer.fit_transform(comp_train.data + rec_train.data)\n",
    "\n",
    "tfidf_transformer = TfidfTransformer()\n",
    "trainX = tfidf_transformer.fit_transform(vectorized_corpus)\n",
    "\n",
    "# testX = tfidf_transformer.transform(vectorizer.transform(comp_test.data + rec_test.data))\n",
    "\n",
    "# 0 for comp class, 1 for rec class\n",
    "trainy = np.zeros(shape=(len(comp_train.filenames) + len(rec_train.filenames),))\n",
    "trainy[len(comp_train.filenames):] = 1\n",
    "\n",
    "# testy = np.zeros(shape=(len(comp_test.filenames) + len(rec_test.filenames),))\n",
    "# testy[len(comp_test.filenames):] = 1"
   ]
  },
  {
   "cell_type": "code",
   "execution_count": 391,
   "metadata": {},
   "outputs": [
    {
     "name": "stdout",
     "output_type": "stream",
     "text": [
      "(7882, 27768) (7882,)\n"
     ]
    }
   ],
   "source": [
    "print trainX.shape, trainy.shape"
   ]
  },
  {
   "cell_type": "markdown",
   "metadata": {},
   "source": [
    "# 2) Applying K-Means"
   ]
  },
  {
   "cell_type": "code",
   "execution_count": 393,
   "metadata": {},
   "outputs": [],
   "source": [
    "# 2. Apply K-means clustering with k = 2 using the TF-IDF data.\n",
    "# Compare the clustering results with the known class labels.\n",
    "# a) Inspect the contingency matrix to get a sense of your clustering result.\n",
    "from sklearn.pipeline import make_pipeline\n",
    "from sklearn.preprocessing import Normalizer\n",
    "from sklearn import metrics\n",
    "\n",
    "from sklearn.cluster import KMeans, MiniBatchKMeans\n",
    "from sklearn.metrics.cluster import contingency_matrix\n",
    "\n",
    "km = KMeans(n_clusters=2, init='k-means++', max_iter=100)\n",
    "km.fit(trainX)\n",
    "ypred = km.predict(trainX)"
   ]
  },
  {
   "cell_type": "code",
   "execution_count": 394,
   "metadata": {},
   "outputs": [
    {
     "name": "stdout",
     "output_type": "stream",
     "text": [
      "(7882,) (3150,)\n",
      "[[3899    4]\n",
      " [2262 1717]]\n"
     ]
    }
   ],
   "source": [
    "print km.labels_.shape, testy.shape\n",
    "print contingency_matrix(trainy, ypred, eps=None, sparse=False)"
   ]
  },
  {
   "cell_type": "code",
   "execution_count": 395,
   "metadata": {},
   "outputs": [
    {
     "name": "stdout",
     "output_type": "stream",
     "text": [
      "Homogeneity: 0.253\n",
      "Completeness: 0.335\n",
      "V-measure: 0.288\n",
      "Adjusted Rand-Index: 0.181\n",
      "Adjusted Mutual Info: 0.253\n"
     ]
    }
   ],
   "source": [
    "# b) 5 Metrics\n",
    "\n",
    "print(\"Homogeneity: %0.3f\" % metrics.homogeneity_score(trainy, ypred))\n",
    "print(\"Completeness: %0.3f\" % metrics.completeness_score(trainy, ypred))\n",
    "print(\"V-measure: %0.3f\" % metrics.v_measure_score(trainy, ypred))\n",
    "print(\"Adjusted Rand-Index: %.3f\" % metrics.adjusted_rand_score(trainy, ypred))\n",
    "print(\"Adjusted Mutual Info: %0.3f\" % metrics.adjusted_mutual_info_score(trainy, ypred))"
   ]
  },
  {
   "cell_type": "markdown",
   "metadata": {},
   "source": [
    "# 3) Preprocessing the data"
   ]
  },
  {
   "cell_type": "code",
   "execution_count": 396,
   "metadata": {},
   "outputs": [
    {
     "name": "stdout",
     "output_type": "stream",
     "text": [
      "1000\n"
     ]
    }
   ],
   "source": [
    "# 3. a) Report the plot of the percent of variance the top r principle components can retain v.s. r, for r = 1 to 1000.\n",
    "from scipy.sparse.linalg import svds\n",
    "\n",
    "#Use SVD to find 1000 principal components\n",
    "u, singular_values, vt = svds(trainX, k=1000)\n",
    "print(len(singular_values))\n"
   ]
  },
  {
   "cell_type": "code",
   "execution_count": 397,
   "metadata": {},
   "outputs": [
    {
     "data": {
      "text/plain": [
       "Text(0,0.5,u'retained variance ratio')"
      ]
     },
     "execution_count": 397,
     "metadata": {},
     "output_type": "execute_result"
    },
    {
     "data": {
      "image/png": "[encoded data removed]",
      "text/plain": [
       "<matplotlib.figure.Figure at 0x114a704d0>"
      ]
     },
     "metadata": {},
     "output_type": "display_data"
    }
   ],
   "source": [
    "from sklearn.decomposition import TruncatedSVD, NMF\n",
    "\n",
    "rs = np.arange(1, 1001)\n",
    "\n",
    "svd = TruncatedSVD(n_components=1000)\n",
    "svd.fit(trainX)\n",
    "explained_vars = svd.explained_variance_ratio_\n",
    "\n",
    "variances = np.zeros(explained_vars.shape)\n",
    "variances[0] = explained_vars[0]\n",
    "for i in range(1,1000):\n",
    "    variances[i] = explained_vars[i] + variances[i-1]\n",
    "    \n",
    "plt.plot(rs, variances, 'ro')\n",
    "plt.xlabel('r')\n",
    "plt.ylabel('retained variance ratio')"
   ]
  },
  {
   "cell_type": "code",
   "execution_count": 411,
   "metadata": {},
   "outputs": [],
   "source": [
    "from sklearn.decomposition import TruncatedSVD, NMF\n",
    "from sklearn import metrics\n",
    "\n",
    "\n",
    "def get_scores(y, yhat):\n",
    "    cont_matrix = contingency_matrix(y,yhat)# ypred)\n",
    "\n",
    "    homogeneity = metrics.homogeneity_score(y, yhat)\n",
    "    completeness_score = metrics.completeness_score(y, yhat)\n",
    "    v_measure_score = metrics.v_measure_score(y, yhat)\n",
    "    adjusted_rand_score = metrics.adjusted_rand_score(y, yhat)\n",
    "    adjusted_mutual_info_score = metrics.adjusted_mutual_info_score(y, yhat)\n",
    "    return cont_matrix, homogeneity, completeness_score, v_measure_score, adjusted_rand_score, adjusted_mutual_info_score\n",
    "   \n",
    "    \n",
    "def get_svd_scores(k,train_lsi=None, test_lsi=None, trainy=trainy, n_clusters=2):\n",
    "    svd = TruncatedSVD(n_components=k)\n",
    "    if train_lsi is None and test_lsi is None:\n",
    "        train_lsi = svd.fit_transform(trainX)\n",
    "#        test_lsi = svd.transform(testX)\n",
    "\n",
    "    km = KMeans(n_clusters).fit(train_lsi)\n",
    "#     km.fit(train_lsi)\n",
    "\n",
    "    ypred = km.predict(train_lsi)\n",
    "    return get_scores(trainy, ypred)\n",
    "#     svd = TruncatedSVD(n_components=40)\n",
    "#     X = svd.fit_transform(trainX)\n",
    "#     kmeans = KMeans(n_clusters=2).fit(X)\n",
    "#     svd2 = TruncatedSVD(n_components=2)\n",
    "#     X2 = svd2.fit_transform(X)\n",
    "\n",
    "\n",
    "    \n",
    "def get_nmf_scores(num_components, train_nmf=None, test_nmf=None,trainy=trainy, n_clusters=2):\n",
    "    nmf = NMF(n_components=num_components)\n",
    "    if train_nmf is None and test_nmf is None:\n",
    "        print(\"Using default NMF transform...\")\n",
    "        train_nmf = nmf.fit_transform(trainX)\n",
    "      #  test_nmf = nmf.transform(testX)\n",
    "    \n",
    "    km = KMeans(n_clusters).fit(train_nmf)\n",
    "    ypred = km.predict(train_nmf)\n",
    "  \n",
    "    return get_scores(trainy, ypred)\n",
    "    "
   ]
  },
  {
   "cell_type": "code",
   "execution_count": 403,
   "metadata": {},
   "outputs": [
    {
     "data": {
      "text/plain": [
       "Text(0,0.5,u'singular val')"
      ]
     },
     "execution_count": 403,
     "metadata": {},
     "output_type": "execute_result"
    },
    {
     "data": {
      "image/png": "[encoded data removed]",
      "text/plain": [
       "<matplotlib.figure.Figure at 0x1a1ee38890>"
      ]
     },
     "metadata": {},
     "output_type": "display_data"
    }
   ],
   "source": [
    "#print(sorted(singular_values, reverse=True))\n",
    "sorted_singular_vals = sorted(singular_values, reverse=True)\n",
    "plt.plot(sorted_singular_vals)\n",
    "plt.xlabel('r')\n",
    "plt.ylabel('singular val')"
   ]
  },
  {
   "cell_type": "code",
   "execution_count": 404,
   "metadata": {},
   "outputs": [
    {
     "name": "stdout",
     "output_type": "stream",
     "text": [
      "LSI...\n",
      "('contingency matrix for r=', 1)\n",
      "[[1703 2200]\n",
      " [1656 2323]]\n",
      "('contingency matrix for r=', 2)\n",
      "[[3713  190]\n",
      " [ 473 3506]]\n",
      "('contingency matrix for r=', 3)\n",
      "[[3866   37]\n",
      " [1422 2557]]\n",
      "('contingency matrix for r=', 5)\n",
      "[[3898    5]\n",
      " [2446 1533]]\n",
      "('contingency matrix for r=', 10)\n",
      "[[3900    3]\n",
      " [2374 1605]]\n",
      "('contingency matrix for r=', 20)\n",
      "[[   3 3900]\n",
      " [1607 2372]]\n",
      "('contingency matrix for r=', 40)\n",
      "[[3900    3]\n",
      " [2336 1643]]\n",
      "('contingency matrix for r=', 50)\n",
      "[[3900    3]\n",
      " [2353 1626]]\n",
      "('contingency matrix for r=', 100)\n",
      "[[3900    3]\n",
      " [2324 1655]]\n",
      "('contingency matrix for r=', 300)\n",
      "[[   4 3899]\n",
      " [1684 2295]]\n",
      "r: 1 \n",
      " homogeneity=0.00030 \n",
      " completeness=0.00030 \n",
      " v-measure=0.00030 \n",
      " adj rand index=0.00034 \n",
      " adj mutual info=0.00021 \n",
      "---\n",
      "r: 2 \n",
      " homogeneity=0.59263 \n",
      " completeness=0.59424 \n",
      " v-measure=0.59343 \n",
      " adj rand index=0.69180 \n",
      " adj mutual info=0.59259 \n",
      "---\n",
      "r: 3 \n",
      " homogeneity=0.40097 \n",
      " completeness=0.43866 \n",
      " v-measure=0.41897 \n",
      " adj rand index=0.39656 \n",
      " adj mutual info=0.40091 \n",
      "---\n",
      "r: 5 \n",
      " homogeneity=0.21960 \n",
      " completeness=0.30838 \n",
      " v-measure=0.25653 \n",
      " adj rand index=0.14284 \n",
      " adj mutual info=0.21953 \n",
      "---\n",
      "r: 10 \n",
      " homogeneity=0.23427 \n",
      " completeness=0.32095 \n",
      " v-measure=0.27084 \n",
      " adj rand index=0.15740 \n",
      " adj mutual info=0.23420 \n",
      "---\n",
      "r: 20 \n",
      " homogeneity=0.23463 \n",
      " completeness=0.32122 \n",
      " v-measure=0.27118 \n",
      " adj rand index=0.15780 \n",
      " adj mutual info=0.23455 \n",
      "---\n",
      "r: 40 \n",
      " homogeneity=0.24105 \n",
      " completeness=0.32606 \n",
      " v-measure=0.27718 \n",
      " adj rand index=0.16514 \n",
      " adj mutual info=0.24098 \n",
      "---\n",
      "r: 50 \n",
      " homogeneity=0.23801 \n",
      " completeness=0.32377 \n",
      " v-measure=0.27434 \n",
      " adj rand index=0.16165 \n",
      " adj mutual info=0.23794 \n",
      "---\n",
      "r: 100 \n",
      " homogeneity=0.24321 \n",
      " completeness=0.32768 \n",
      " v-measure=0.27920 \n",
      " adj rand index=0.16763 \n",
      " adj mutual info=0.24314 \n",
      "---\n",
      "r: 300 \n",
      " homogeneity=0.24740 \n",
      " completeness=0.33013 \n",
      " v-measure=0.28284 \n",
      " adj rand index=0.17350 \n",
      " adj mutual info=0.24733 \n",
      "---\n",
      "[1, 1, 1, 1, 1]\n",
      "1\n",
      "('Best r-value is: ', 2)\n"
     ]
    },
    {
     "data": {
      "image/png": "[encoded data removed]",
      "text/plain": [
       "<matplotlib.figure.Figure at 0x1a21d0e510>"
      ]
     },
     "metadata": {},
     "output_type": "display_data"
    }
   ],
   "source": [
    "# b) LSI vs. NMF\n",
    "# Specifically, try r = 1, 2, 3, 5, 10, 20, 40, 50, 100, 300, and plot the 5 \n",
    "# measure scores v.s. r for both SVD and NMF; also report the contingency matrices for each r.\n",
    "# Report the best r choice for SVD and NMF respectively.\n",
    "# How do you explain the non-monotonic behavior of the measures as r increases?\n",
    "\n",
    "r_vals = [1,2,3,5,10,20,40,50,100,300]\n",
    "contingency_matrices = []\n",
    "h_vals = []\n",
    "c_vals = []\n",
    "v_vals = []\n",
    "rand_vals = []\n",
    "mutual_vals = []\n",
    "print(\"LSI...\")\n",
    "for r in r_vals:\n",
    "    contin, h, c, v, rand, mutual = get_svd_scores(k=r)\n",
    "#    contingency_matrices.append(contin)\n",
    "    print(\"contingency matrix for r=\", r)\n",
    "#    print(h, c, v, rand, mutual)\n",
    "    print(contin)\n",
    "    h_vals.append(h)\n",
    "    c_vals.append(c)\n",
    "    v_vals.append(v)\n",
    "    rand_vals.append(rand)\n",
    "    mutual_vals.append(mutual)\n",
    "    \n",
    "    \n",
    "start_index = 0    \n",
    "r_vals = r_vals[start_index:]\n",
    "h_vals = h_vals[start_index:]\n",
    "c_vals = c_vals[start_index:]\n",
    "v_vals = v_vals[start_index:]\n",
    "rand_vals = rand_vals[start_index:]\n",
    "mutual_vals = mutual_vals[start_index:]\n",
    "\n",
    "for r, h, c, v, rand, mutual in zip(r_vals, h_vals, c_vals, v_vals, rand_vals, mutual_vals):\n",
    "    print(\"r: %i \\n homogeneity=%.5f \\n completeness=%.5f \\n v-measure=%.5f \\n adj rand index=%.5f \\n adj mutual info=%.5f \\n---\" % (r, h, c, v, rand, mutual))\n",
    "\n",
    "# print(h_vals)\n",
    "# print(c_vals)\n",
    "# print(v_vals)\n",
    "# print(rand_vals)\n",
    "# print(mutual_vals)\n",
    "\n",
    "res_list = [np.argmax(h_vals), np.argmax(c_vals), np.argmax(v_vals), np.argmax(rand_vals), np.argmax(mutual_vals)]\n",
    "print(res_list)\n",
    "# best_index = int(np.mean(res_list)) # not sure if this works e.g. [0,1,0,3,2,0]\n",
    "best_index = np.bincount(res_list).argmax() # most frequent index\n",
    "print(best_index)\n",
    "    \n",
    "print(\"Best r-value is: \", r_vals[best_index])\n",
    "plt.plot(r_vals, h_vals, 'r', label=\"homogenity\")\n",
    "plt.plot(r_vals, c_vals, 'g', label=\"completeness score\")\n",
    "plt.plot(r_vals, v_vals, 'b', label=\"v measure\")\n",
    "plt.plot(r_vals, rand_vals, 'm', label=\"rand index\")\n",
    "plt.plot(r_vals, mutual_vals, 'b', label=\"adjusted mutual information\")\n",
    "plt.grid()\n",
    "    \n",
    "    \n",
    "\n"
   ]
  },
  {
   "cell_type": "markdown",
   "metadata": {},
   "source": [
    "# Report the best r choice for SVD\n",
    "The best r choice for SVD was r=2. The metric outputs were:<br>\n",
    "r: 2<br>\n",
    " homogeneity=0.59263 <br>\n",
    " completeness=0.59424 <br>\n",
    " v-measure=0.59343  <br>\n",
    " adj rand index=0.69180 <br> \n",
    " adj mutual info=0.59259 "
   ]
  },
  {
   "cell_type": "code",
   "execution_count": 423,
   "metadata": {},
   "outputs": [
    {
     "name": "stdout",
     "output_type": "stream",
     "text": [
      "NMF...\n",
      "Using default NMF transform...\n",
      "('contingency matrix for r=', 1)\n",
      "[[2200 1703]\n",
      " [2323 1656]]\n",
      "Using default NMF transform...\n",
      "('contingency matrix for r=', 2)\n",
      "[[3594  309]\n",
      " [ 158 3821]]\n",
      "Using default NMF transform...\n",
      "('contingency matrix for r=', 3)\n",
      "[[3899    4]\n",
      " [2396 1583]]\n",
      "Using default NMF transform...\n",
      "('contingency matrix for r=', 5)\n",
      "[[3898    5]\n",
      " [2677 1302]]\n",
      "Using default NMF transform...\n",
      "('contingency matrix for r=', 10)\n",
      "[[3898    5]\n",
      " [2625 1354]]\n",
      "Using default NMF transform...\n",
      "('contingency matrix for r=', 20)\n",
      "[[   7 3896]\n",
      " [ 800 3179]]\n",
      "Using default NMF transform...\n",
      "('contingency matrix for r=', 40)\n",
      "[[3581  322]\n",
      " [3979    0]]\n",
      "Using default NMF transform...\n",
      "('contingency matrix for r=', 50)\n",
      "[[   2 3901]\n",
      " [1045 2934]]\n",
      "Using default NMF transform...\n",
      "('contingency matrix for r=', 100)\n",
      "[[3887   16]\n",
      " [3965   14]]\n",
      "Using default NMF transform...\n",
      "('contingency matrix for r=', 300)\n",
      "[[3723  180]\n",
      " [3974    5]]\n",
      "r: 1 \n",
      " homogeneity=0.00030 \n",
      " completeness=0.00030 \n",
      " v-measure=0.00030 \n",
      " adj rand index=0.00034 \n",
      " adj mutual info=0.00021 \n",
      "---\n",
      "r: 2 \n",
      " homogeneity=0.67905 \n",
      " completeness=0.68013 \n",
      " v-measure=0.67959 \n",
      " adj rand index=0.77702 \n",
      " adj mutual info=0.67902 \n",
      "---\n",
      "r: 3 \n",
      " homogeneity=0.22934 \n",
      " completeness=0.31648 \n",
      " v-measure=0.26596 \n",
      " adj rand index=0.15280 \n",
      " adj mutual info=0.22927 \n",
      "---\n",
      "r: 5 \n",
      " homogeneity=0.18063 \n",
      " completeness=0.27871 \n",
      " v-measure=0.21920 \n",
      " adj rand index=0.10196 \n",
      " adj mutual info=0.18056 \n",
      "---\n",
      "r: 10 \n",
      " homogeneity=0.18920 \n",
      " completeness=0.28527 \n",
      " v-measure=0.22751 \n",
      " adj rand index=0.11056 \n",
      " adj mutual info=0.18913 \n",
      "---\n",
      "r: 20 \n",
      " homogeneity=0.10163 \n",
      " completeness=0.21326 \n",
      " v-measure=0.13766 \n",
      " adj rand index=0.03660 \n",
      " adj mutual info=0.10155 \n",
      "---\n",
      "r: 40 \n",
      " homogeneity=0.04271 \n",
      " completeness=0.17346 \n",
      " v-measure=0.06854 \n",
      " adj rand index=0.00825 \n",
      " adj mutual info=0.04262 \n",
      "---\n",
      "r: 50 \n",
      " homogeneity=0.14268 \n",
      " completeness=0.25245 \n",
      " v-measure=0.18232 \n",
      " adj rand index=0.06493 \n",
      " adj mutual info=0.14260 \n",
      "---\n",
      "r: 100 \n",
      " homogeneity=0.00002 \n",
      " completeness=0.00045 \n",
      " v-measure=0.00003 \n",
      " adj rand index=0.00001 \n",
      " adj mutual info=-0.00008 \n",
      "---\n",
      "r: 300 \n",
      " homogeneity=0.01995 \n",
      " completeness=0.12427 \n",
      " v-measure=0.03438 \n",
      " adj rand index=0.00283 \n",
      " adj mutual info=0.01986 \n",
      "---\n",
      "[1, 1, 1, 1, 1]\n",
      "1\n",
      "('Best r-value is: ', 2)\n"
     ]
    },
    {
     "data": {
      "image/png": "[encoded data removed]",
      "text/plain": [
       "<matplotlib.figure.Figure at 0x1a21464ad0>"
      ]
     },
     "metadata": {},
     "output_type": "display_data"
    }
   ],
   "source": [
    "print(\"NMF...\")   \n",
    "contingency_matrices = []\n",
    "h_vals = []\n",
    "c_vals = []\n",
    "v_vals = []\n",
    "rand_vals = []\n",
    "mutual_vals = []\n",
    "# r_vals = [2,3,4,5]\n",
    "for r in r_vals:\n",
    "    contin, h, c, v, rand, mutual = get_nmf_scores(num_components=r)\n",
    "    print(\"contingency matrix for r=\", r)\n",
    "    print(contin)\n",
    "    h_vals.append(h)\n",
    "    c_vals.append(c)\n",
    "    v_vals.append(v)\n",
    "    rand_vals.append(rand)\n",
    "    mutual_vals.append(mutual)\n",
    "    \n",
    "    \n",
    "start_index = 0    \n",
    "r_vals = r_vals[start_index:]\n",
    "h_vals = h_vals[start_index:]\n",
    "c_vals = c_vals[start_index:]\n",
    "v_vals = v_vals[start_index:]\n",
    "rand_vals = rand_vals[start_index:]\n",
    "mutual_vals = mutual_vals[start_index:]\n",
    "\n",
    "# print(h_vals)\n",
    "# print(c_vals)\n",
    "# print(v_vals)\n",
    "# print(rand_vals)\n",
    "# print(mutual_vals)\n",
    "\n",
    "for r, h, c, v, rand, mutual in zip(r_vals, h_vals, c_vals, v_vals, rand_vals, mutual_vals):\n",
    "    print(\"r: %i \\n homogeneity=%.5f \\n completeness=%.5f \\n v-measure=%.5f \\n adj rand index=%.5f \\n adj mutual info=%.5f \\n---\" % (r, h, c, v, rand, mutual))\n",
    "\n",
    "\n",
    "res_list = [np.argmax(h_vals), np.argmax(c_vals), np.argmax(v_vals), np.argmax(rand_vals), np.argmax(mutual_vals)]\n",
    "print(res_list)\n",
    "# best_index = int(np.mean(res_list))\n",
    "best_index = np.bincount(res_list).argmax() # most frequent index\n",
    "print(best_index)\n",
    "    \n",
    "print(\"Best r-value is: \", r_vals[best_index])\n",
    "plt.plot(r_vals, h_vals, 'r', label=\"homogenity\")\n",
    "plt.plot(r_vals, c_vals, 'g', label=\"completeness score\")\n",
    "plt.plot(r_vals, v_vals, 'b', label=\"v measure\")\n",
    "plt.plot(r_vals, rand_vals, 'm', label=\"rand index\")\n",
    "plt.plot(r_vals, mutual_vals, 'b', label=\"adjusted mutual information\")\n",
    "plt.grid()\n",
    "\n",
    "\n"
   ]
  },
  {
   "cell_type": "markdown",
   "metadata": {},
   "source": [
    "# Report the best r choice for NMF\n",
    "The best r-choice for NMF was r=2.\n",
    "<br>\n",
    "r: 2  <br>\n",
    " homogeneity=0.67905  <br>\n",
    " completeness=0.68013 <br>\n",
    " v-measure=0.67959 <br>\n",
    " adj rand index=0.77702 <br> \n",
    " adj mutual info=0.67902  <br>"
   ]
  },
  {
   "cell_type": "markdown",
   "metadata": {
    "collapsed": true
   },
   "source": [
    "# How do you explain the non-monotonic behavior of the measures as r increases?\n",
    "As we increase the number of dimensions r, more information is encapsulated in the feature representation just by nature of having a higher percentage of the variance due to more principal components. However, K-Means suffers from the curse of dimensionality, so as the dimensions increase, Euclidean distance becomes a worse and worse distance metric and will perform poorly. Thus, we are trading off between more information and an inherent shortcoming in the KMeans method. This is why it's possible for KMeans to perform better with lower dimension (such as r=2) than with higher dimension (such as r=300 or r=1000).\n"
   ]
  },
  {
   "cell_type": "markdown",
   "metadata": {},
   "source": [
    "# 4) Visualizations and Transformations"
   ]
  },
  {
   "cell_type": "code",
   "execution_count": 424,
   "metadata": {},
   "outputs": [],
   "source": [
    "#4a \n",
    "from sklearn.preprocessing import scale\n",
    "\n",
    "#SVD\n",
    "svd = TruncatedSVD(n_components=2)\n",
    "train_lsi = svd.fit_transform(trainX)\n",
    "#test_lsi = svd.transform(testX)\n",
    "\n",
    "km = KMeans(n_clusters=2)\n",
    "km.fit(train_lsi)\n",
    "ypred = km.predict(train_lsi)\n",
    "\n",
    "#NMF\n",
    "nmf = NMF(n_components=2)\n",
    "train_nmf = nmf.fit_transform(trainX)\n",
    "#test_nmf = nmf.transform(testX)\n",
    "\n",
    "km_nmf = KMeans(n_clusters=2)\n",
    "km_nmf.fit(train_nmf)\n",
    "ypred_nmf = km_nmf.predict(train_nmf)\n"
   ]
  },
  {
   "cell_type": "code",
   "execution_count": 430,
   "metadata": {},
   "outputs": [
    {
     "data": {
      "image/png": "[encoded data removed]",
      "text/plain": [
       "<matplotlib.figure.Figure at 0x1a1e1cb850>"
      ]
     },
     "metadata": {},
     "output_type": "display_data"
    }
   ],
   "source": [
    "# use LSI w/ r=2\n",
    "def plot_clusters(k, mode='lsi'):\n",
    "    if mode is 'lsi':\n",
    "        svd = TruncatedSVD(n_components=k)\n",
    "    else:\n",
    "        svd = NMF(n_components=k)\n",
    "    X = svd.fit_transform(trainX)\n",
    "    kmeans = KMeans(n_clusters=2).fit(X)\n",
    "#    svd2 = TruncatedSVD(n_components=2)\n",
    "#    X2 = svd2.fit_transform(X)\n",
    "    X2 = X\n",
    "\n",
    "    x1 = X2[kmeans.labels_ == 0][:, 0]\n",
    "    y1 = X2[kmeans.labels_ == 0][:, 1]\n",
    "    plt.plot(x1,y1,'r+')\n",
    "    x2 = X2[kmeans.labels_ == 1][:, 0]\n",
    "    y2 = X2[kmeans.labels_ == 1][:, 1]\n",
    "    plt.plot(x2, y2, 'b+')\n",
    "    centroids = kmeans.cluster_centers_\n",
    "    plt.scatter(centroids[:, 0], centroids[:, 1],marker='x', s=169, linewidths=3,color='w', zorder=10)\n",
    "    plt.show()\n",
    "\n",
    "plot_clusters(k=2)"
   ]
  },
  {
   "cell_type": "code",
   "execution_count": 431,
   "metadata": {},
   "outputs": [],
   "source": [
    "from matplotlib.colors import ListedColormap\n",
    "\n",
    "# Plot the decision boundary. For that, we will assign a color to each\n",
    "# point in the mesh [x_min, x_max]x[y_min, y_max].\n",
    "\n",
    "#print(X.shape)\n",
    "def plot_kmeans(X, km_model):\n",
    "    #step size in mesh\n",
    "    h=0.2\n",
    "\n",
    "    # Create color maps\n",
    "    cmap_light = ListedColormap(['#FFAAAA', '#AAFFAA', '#AAAAFF'])\n",
    "    cmap_bold = ListedColormap(['#FF0000', '#00FF00', '#0000FF'])\n",
    "\n",
    "    x_min, x_max = X[:, 0].min() - 1, X[:, 0].max() + 1\n",
    "    y_min, y_max = X[:, 1].min() - 1, X[:, 1].max() + 1\n",
    "    xx, yy = np.meshgrid(np.arange(x_min, x_max, h),\n",
    "                         np.arange(y_min, y_max, h))\n",
    "\n",
    "#    print(xx.shape, yy.shape)\n",
    "    Z = km_model.predict(np.c_[xx.ravel(), yy.ravel()])\n",
    "\n",
    "    # Put the result into a color plot\n",
    "    Z = Z.reshape(xx.shape)\n",
    "    plt.figure()\n",
    "    plt.pcolormesh(xx, yy, Z, cmap=cmap_light)\n",
    "\n",
    "    # Plot also the training points\n",
    "    #plt.scatter(X[:, 0], X[:, 1], c=y, cmap=cmap_bold)\n",
    "    #plt.xlim(xx.min(), xx.max())\n",
    "    #plt.ylim(yy.min(), yy.max())\n",
    "\n",
    "    #plt.show()\n",
    "    plt.imshow(Z, interpolation='nearest',\n",
    "               extent=(xx.min(), xx.max(), yy.min(), yy.max()),\n",
    "               cmap=plt.cm.Paired,\n",
    "               aspect='auto', origin='lower')\n",
    "\n",
    "    plt.plot(X[:, 0], X[:, 1], 'k.', markersize=2)\n",
    "    # Plot the centroids as a white X\n",
    "    centroids = km_model.cluster_centers_\n",
    "    plt.scatter(centroids[:, 0], centroids[:, 1],\n",
    "                marker='x', s=169, linewidths=3,\n",
    "                color='w', zorder=10)\n",
    "    plt.title('K-Means on reduced data showing centroids in white')\n",
    "    plt.xlim(x_min, x_max)\n",
    "    plt.ylim(y_min, y_max)\n",
    "    #plt.xlim(0, 0.4)\n",
    "    #plt.ylim(-0.4, 0.4)\n",
    "    #plt.xticks(())\n",
    "    #plt.yticks(())\n",
    "    plt.show()"
   ]
  },
  {
   "cell_type": "code",
   "execution_count": 432,
   "metadata": {},
   "outputs": [
    {
     "data": {
      "image/png": "[encoded data removed]",
      "text/plain": [
       "<matplotlib.figure.Figure at 0x112a0bd90>"
      ]
     },
     "metadata": {},
     "output_type": "display_data"
    },
    {
     "data": {
      "image/png": "[encoded data removed]",
      "text/plain": [
       "<matplotlib.figure.Figure at 0x112f8fd10>"
      ]
     },
     "metadata": {},
     "output_type": "display_data"
    }
   ],
   "source": [
    "#X=scaled_train_lsi\n",
    "#km_model = km\n",
    "plot_kmeans(X=train_lsi, km_model=km)\n",
    "plot_kmeans(X=train_nmf, km_model=km_nmf)\n",
    "\n"
   ]
  },
  {
   "cell_type": "code",
   "execution_count": 433,
   "metadata": {},
   "outputs": [],
   "source": [
    "def sweep_metrics(train_vecs, names, km_model):\n",
    "    #Store the different combinations\n",
    "    contingency_matrices = []\n",
    "    h_vals = []\n",
    "    c_vals = []\n",
    "    v_vals = []\n",
    "    rand_vals = []\n",
    "    mutual_vals = []\n",
    "    \n",
    "    for i in range(len(train_vecs)):\n",
    "        print(names[i])\n",
    "#         plot_kmeans(X=train_vecs[i], km_model=km_model)\n",
    "        plot_clusters(X=train_vecs[i])\n",
    "        contin, h, c, v, rand, mutual = get_nmf_scores(num_components=2, train_nmf=train_vecs[i], test_nmf=test_vecs[i])\n",
    "        \n",
    "        contingency_matrices.append(contin)\n",
    "        h_vals.append(h)\n",
    "        c_vals.append(c)\n",
    "        v_vals.append(v)\n",
    "        rand_vals.append(rand)\n",
    "        mutual_vals.append(mutual)\n",
    "\n",
    "    \n",
    "    return (contingency_matrices, h_vals, c_vals, v_vals, rand_vals, mutual_vals)"
   ]
  },
  {
   "cell_type": "code",
   "execution_count": 434,
   "metadata": {},
   "outputs": [
    {
     "data": {
      "image/png": "[encoded data removed]",
      "text/plain": [
       "<matplotlib.figure.Figure at 0x1a1e1cb7d0>"
      ]
     },
     "metadata": {},
     "output_type": "display_data"
    },
    {
     "data": {
      "text/plain": [
       "(array([[1703, 2200],\n",
       "        [3734,  245]]),\n",
       " 0.23561130934927968,\n",
       " 0.26370524307218374,\n",
       " 0.24886792677388714,\n",
       " 0.25565100254867557,\n",
       " 0.23554132635954544)"
      ]
     },
     "execution_count": 434,
     "metadata": {},
     "output_type": "execute_result"
    }
   ],
   "source": [
    "# LSI k=2, normalize\n",
    "\n",
    "svd = TruncatedSVD(n_components=2)\n",
    "# X = svd.fit_transform(trainX)\n",
    "# print(X)\n",
    "X = scale(svd.fit_transform(trainX))\n",
    "# print(len(np.var(scaled_lsi,axis=0)))\n",
    "kmeans = KMeans(n_clusters=2).fit(X)\n",
    "svd2 = TruncatedSVD(n_components=2)\n",
    "X2 = X#svd2.fit_transform(X)\n",
    "\n",
    "x1 = X2[kmeans.labels_ == 0][:, 0]\n",
    "y1 = X2[kmeans.labels_ == 0][:, 1]\n",
    "plt.plot(x1,y1,'r+')\n",
    "x2 = X2[kmeans.labels_ == 1][:, 0]\n",
    "y2 = X2[kmeans.labels_ == 1][:, 1]\n",
    "plt.plot(x2, y2, 'b+')\n",
    "centroids = kmeans.cluster_centers_\n",
    "plt.scatter(centroids[:, 0], centroids[:, 1],marker='x', s=169, linewidths=3,color='w', zorder=10)\n",
    "plt.show()\n",
    "\n",
    "\n",
    "ypred = kmeans.predict(X)\n",
    "get_scores(trainy, ypred)"
   ]
  },
  {
   "cell_type": "code",
   "execution_count": 440,
   "metadata": {},
   "outputs": [
    {
     "data": {
      "image/png": "[encoded data removed]",
      "text/plain": [
       "<matplotlib.figure.Figure at 0x1a1f061f50>"
      ]
     },
     "metadata": {},
     "output_type": "display_data"
    },
    {
     "data": {
      "text/plain": [
       "(array([[ 369, 3534],\n",
       "        [3873,  106]]),\n",
       " 0.68280383215740159,\n",
       " 0.68564597521446458,\n",
       " 0.68422195225245208,\n",
       " 0.77344267746059059,\n",
       " 0.68277479271669961)"
      ]
     },
     "execution_count": 440,
     "metadata": {},
     "output_type": "execute_result"
    }
   ],
   "source": [
    "# NMF k=2, normalize\n",
    "\n",
    "svd = NMF(n_components=2)\n",
    "# print(X)\n",
    "X = scale(svd.fit_transform(trainX))\n",
    "# print(len(np.var(scaled_lsi,axis=0)))\n",
    "kmeans = KMeans(n_clusters=2).fit(X)\n",
    "# svd2 = TruncatedSVD(n_components=2)\n",
    "# X2 = svd2.fit_transform(X)\n",
    "\n",
    "x1 = X[kmeans.labels_ == 0][:, 0]\n",
    "y1 = X[kmeans.labels_ == 0][:, 1]\n",
    "plt.plot(x1,y1,'r+')\n",
    "x2 = X[kmeans.labels_ == 1][:, 0]\n",
    "y2 = X[kmeans.labels_ == 1][:, 1]\n",
    "plt.plot(x2, y2, 'b+')\n",
    "centroids = kmeans.cluster_centers_\n",
    "plt.scatter(centroids[:, 0], centroids[:, 1],marker='x', s=169, linewidths=3,color='w', zorder=10)\n",
    "plt.show()\n",
    "\n",
    "ypred = kmeans.predict(X)\n",
    "get_scores(trainy, ypred)"
   ]
  },
  {
   "cell_type": "code",
   "execution_count": 441,
   "metadata": {},
   "outputs": [
    {
     "data": {
      "image/png": "[encoded data removed]",
      "text/plain": [
       "<matplotlib.figure.Figure at 0x110251550>"
      ]
     },
     "metadata": {},
     "output_type": "display_data"
    },
    {
     "data": {
      "text/plain": [
       "(array([[ 325, 3578],\n",
       "        [3827,  152]]),\n",
       " 0.67505483884223971,\n",
       " 0.67640887404390404,\n",
       " 0.67573117813728023,\n",
       " 0.77255016042641178,\n",
       " 0.67502509000059729)"
      ]
     },
     "execution_count": 441,
     "metadata": {},
     "output_type": "execute_result"
    }
   ],
   "source": [
    "# NMF Log transformation\n",
    "from sklearn.pipeline import *\n",
    "from sklearn.preprocessing import Normalizer\n",
    "from sklearn.preprocessing import PolynomialFeatures, FunctionTransformer\n",
    "\n",
    "# print(X)\n",
    "poly_transform = FunctionTransformer(np.log1p)\n",
    "nmf_norm_poly = make_pipeline(NMF(n_components=2), poly_transform)\n",
    "X = nmf_norm_poly.fit_transform(trainX)\n",
    "# X = scale(svd.fit_transform(trainX))\n",
    "# print(len(np.var(scaled_lsi,axis=0)))\n",
    "kmeans = KMeans(n_clusters=2).fit(X)\n",
    "\n",
    "\n",
    "x1 = X[kmeans.labels_ == 0][:, 0]\n",
    "y1 = X[kmeans.labels_ == 0][:, 1]\n",
    "plt.plot(x1,y1,'r+')\n",
    "x2 = X[kmeans.labels_ == 1][:, 0]\n",
    "y2 = X[kmeans.labels_ == 1][:, 1]\n",
    "plt.plot(x2, y2, 'b+')\n",
    "centroids = kmeans.cluster_centers_\n",
    "plt.scatter(centroids[:, 0], centroids[:, 1],marker='x', s=169, linewidths=3, color='w', zorder=10)\n",
    "plt.show()\n",
    "\n",
    "\n",
    "ypred = kmeans.predict(X)\n",
    "get_scores(trainy, ypred)"
   ]
  },
  {
   "cell_type": "code",
   "execution_count": 442,
   "metadata": {},
   "outputs": [
    {
     "data": {
      "image/png": "[encoded data removed]",
      "text/plain": [
       "<matplotlib.figure.Figure at 0x1a1e172250>"
      ]
     },
     "metadata": {},
     "output_type": "display_data"
    },
    {
     "data": {
      "text/plain": [
       "(array([[ 367, 3536],\n",
       "        [3873,  106]]),\n",
       " 0.68368793206160372,\n",
       " 0.68649525835469694,\n",
       " 0.68508871928580251,\n",
       " 0.77433568617041104,\n",
       " 0.68365897356118954)"
      ]
     },
     "execution_count": 442,
     "metadata": {},
     "output_type": "execute_result"
    }
   ],
   "source": [
    "# transform then scale\n",
    "# print(X)\n",
    "poly_transform = FunctionTransformer(np.log1p)\n",
    "nmf_norm_poly = make_pipeline(NMF(n_components=2), poly_transform)\n",
    "X = scale(nmf_norm_poly.fit_transform(trainX))\n",
    "# X = scale(svd.fit_transform(trainX))\n",
    "# print(len(np.var(scaled_lsi,axis=0)))\n",
    "kmeans = KMeans(n_clusters=2).fit(X)\n",
    "\n",
    "x1 = X[kmeans.labels_ == 0][:, 0]\n",
    "y1 = X[kmeans.labels_ == 0][:, 1]\n",
    "plt.plot(x1,y1,'r+')\n",
    "x2 = X[kmeans.labels_ == 1][:, 0]\n",
    "y2 = X[kmeans.labels_ == 1][:, 1]\n",
    "plt.plot(x2, y2, 'b+')\n",
    "centroids = kmeans.cluster_centers_\n",
    "plt.scatter(centroids[:, 0], centroids[:, 1],marker='x', s=169, linewidths=3,color='w', zorder=10)\n",
    "plt.show()\n",
    "\n",
    "\n",
    "ypred = kmeans.predict(X)\n",
    "get_scores(trainy, ypred)"
   ]
  },
  {
   "cell_type": "code",
   "execution_count": 443,
   "metadata": {},
   "outputs": [
    {
     "data": {
      "image/png": "[encoded data removed]",
      "text/plain": [
       "<matplotlib.figure.Figure at 0x1a1ead2b10>"
      ]
     },
     "metadata": {},
     "output_type": "display_data"
    },
    {
     "data": {
      "text/plain": [
       "(array([[3613,  290],\n",
       "        [ 226, 3753]]),\n",
       " 0.65169556098080406,\n",
       " 0.65196692333689155,\n",
       " 0.65183121391628918,\n",
       " 0.75524946970992446,\n",
       " 0.65166367360706523)"
      ]
     },
     "execution_count": 443,
     "metadata": {},
     "output_type": "execute_result"
    }
   ],
   "source": [
    "# scale then transform\n",
    "# print(X)\n",
    "svd = NMF(n_components=2)\n",
    "# print(X)\n",
    "scaled = scale(svd.fit_transform(trainX))\n",
    "# print(scaled)\n",
    "poly_transform = FunctionTransformer(np.log1p)\n",
    "X = np.nan_to_num(poly_transform.fit_transform(scaled))\n",
    "\n",
    "kmeans = KMeans(n_clusters=2).fit(np.nan_to_num(X))\n",
    "\n",
    "x1 = X[kmeans.labels_ == 0][:, 0]\n",
    "y1 = X[kmeans.labels_ == 0][:, 1]\n",
    "plt.plot(x1,y1,'r+')\n",
    "x2 = X[kmeans.labels_ == 1][:, 0]\n",
    "y2 = X[kmeans.labels_ == 1][:, 1]\n",
    "plt.plot(x2, y2, 'b+')\n",
    "centroids = kmeans.cluster_centers_\n",
    "plt.scatter(centroids[:, 0], centroids[:, 1],marker='x', s=169, linewidths=3,color='w', zorder=10)\n",
    "plt.show()\n",
    "\n",
    "\n",
    "ypred = kmeans.predict(X)\n",
    "get_scores(trainy, ypred)"
   ]
  },
  {
   "cell_type": "markdown",
   "metadata": {
    "collapsed": true
   },
   "source": [
    "# 5: Expand Dataset into 20 categories"
   ]
  },
  {
   "cell_type": "code",
   "execution_count": 379,
   "metadata": {},
   "outputs": [],
   "source": [
    "from sklearn.feature_extraction.text import TfidfVectorizer \n",
    "\n",
    "all_data = fetch_20newsgroups(subset='all', shuffle=True, random_state=42,  remove=('headers','footers','quotes'))\n",
    "tfidf = TfidfVectorizer(analyzer='word', stop_words=text.ENGLISH_STOP_WORDS, min_df=3)\n",
    "\n",
    "all_data_tfidf = tfidf.fit_transform(all_data.data)"
   ]
  },
  {
   "cell_type": "code",
   "execution_count": 382,
   "metadata": {},
   "outputs": [
    {
     "name": "stdout",
     "output_type": "stream",
     "text": [
      "(array([10,  3, 17,  3,  4, 12,  4, 10, 10, 19, 19, 11, 19, 13,  0, 17, 12,\n",
      "       12, 11,  8]), 18846)\n"
     ]
    }
   ],
   "source": [
    "#get data labels\n",
    "labels_all_data = all_data.target\n",
    "print(labels_all_data[:20], len(labels_all_data))"
   ]
  },
  {
   "cell_type": "code",
   "execution_count": 383,
   "metadata": {},
   "outputs": [
    {
     "data": {
      "text/plain": [
       "(array([[  0,   0,   3, 310,   0,   2,   0,   5,   1,  15,  33,   0,  15,\n",
       "           2, 267,  17,   0, 119,   7,   3],\n",
       "        [  0,   0, 265,  61,  51,   0,   5,   1,   1,   0,  15,   0,  18,\n",
       "           3, 265,  19,  36,   0, 140,  93],\n",
       "        [ 19,   0,  79,  54,  70,   0,   1,   0,   0,   0,  15,   0,  28,\n",
       "           1, 238,  10, 286,   1,  59, 124],\n",
       "        [190,   0,  37,  42, 213,   2,   3,   0,   2,   0,  27,   1,  16,\n",
       "           5, 270,  16,  42,   0, 104,  12],\n",
       "        [106,   0,  35,  82, 141,   0,   3,   0,   1,   0,  12,   0,  20,\n",
       "           1, 407,  19,   5,   0, 124,   7],\n",
       "        [  1,   0, 457,  34,  10,   0,   5,   0,   0,   0,  17,   0,  21,\n",
       "           9, 224,   7,  48,   0, 100,  55],\n",
       "        [ 67,   0,  12,  31,  61,  32,  92,   0,  19,   0,  32,   5,   3,\n",
       "           1, 500,  45,  19,   0,  55,   1],\n",
       "        [  3,   0,   2, 123,   0, 316,   2,   0,   0,  11,  17,   0,  16,\n",
       "           1, 405,  63,   0,   0,  30,   1],\n",
       "        [ 14,   0,   0, 295,   0,  32,   1,   0,   2,   5,  29,   0,  22,\n",
       "           0, 510,  47,   0,   4,  34,   1],\n",
       "        [  0,   0,   0,  64,   0,   1,   9,   0, 106,   0,  20, 158,   7,\n",
       "           1, 315, 275,   0,   1,  36,   1],\n",
       "        [  0,   0,   0,  53,   0,   1,  53,   0, 197,   1,   2, 371,   6,\n",
       "           0, 235,  62,   0,   0,  17,   1],\n",
       "        [  0,   0,  18, 128,   4,   1,   2,   1,   0, 106,  39,   1,  13,\n",
       "         329, 304,  15,   5,   0,  17,   8],\n",
       "        [ 15,   0,  38, 104,  19,  19,   1,   0,   2,   6,  23,   0,  35,\n",
       "           6, 567,  34,   2,   1, 105,   7],\n",
       "        [  0,  71,   7, 265,   0,   0,   2,   1,   0,   1,  11,   0,  31,\n",
       "           0, 478,  60,   1,   4,  58,   0],\n",
       "        [  0,   0,  28, 364,   1,   1,   7,   0,   0,  11,  17,   0,  14,\n",
       "           0, 467,  45,   1,   0,  30,   1],\n",
       "        [  0,   0,   0, 210,   0,   0,   0,   4,   0,   5,   8,   0,   8,\n",
       "           0, 291,  20,   1, 426,  23,   1],\n",
       "        [  0,   0,   0, 109,   1,   2,   4,   2,   1, 414,  52,   1,   8,\n",
       "           0, 280,  24,   0,   3,   6,   3],\n",
       "        [  0,   0,   1, 110,   0,   0,   3, 489,   0,  22,   5,   0,  10,\n",
       "           0, 274,  15,   0,   7,   3,   1],\n",
       "        [  1,   0,   0, 251,   0,   2,   2,   1,   1, 159,  12,   0,  10,\n",
       "           0, 296,  33,   0,   1,   6,   0],\n",
       "        [  0,   2,   1, 166,   0,   2,   0,   8,   2,  49,   6,   0,   9,\n",
       "           0, 248,   9,   0, 121,   5,   0]]),\n",
       " 0.24577158731372664,\n",
       " 0.31299687466401288,\n",
       " 0.27534030262958759,\n",
       " 0.053165658634609217,\n",
       " 0.2433195668154112)"
      ]
     },
     "execution_count": 383,
     "metadata": {},
     "output_type": "execute_result"
    }
   ],
   "source": [
    "#Raw without dimensionality reduction \n",
    "km = KMeans(n_clusters=20)\n",
    "km.fit(all_data_tfidf)\n",
    "\n",
    "ytrue = labels_all_data\n",
    "ypred = km.labels_\n",
    "\n",
    "get_scores(ytrue, ypred)\n"
   ]
  },
  {
   "cell_type": "code",
   "execution_count": 385,
   "metadata": {},
   "outputs": [],
   "source": [
    "# LSI w/ n_components = 2 and 40 \n",
    "svd_2 = TruncatedSVD(n_components=2)\n",
    "svd_40 = TruncatedSVD(n_components=40)\n",
    "\n",
    "lsi_total_2 = svd_2.fit_transform(all_data_tfidf)\n",
    "lsi_total_40 = svd_40.fit_transform(all_data_tfidf)\n",
    "\n",
    "km_2 = KMeans(n_clusters=20)\n",
    "km_2.fit(lsi_total_2)\n",
    "\n",
    "km_40 = KMeans(n_clusters=20)\n",
    "km_40.fit(lsi_total_40)\n",
    "\n",
    "ypred_2 = km_2.labels_\n",
    "ypred_40 = km_40.labels_\n",
    "\n"
   ]
  },
  {
   "cell_type": "code",
   "execution_count": 386,
   "metadata": {},
   "outputs": [
    {
     "data": {
      "text/plain": [
       "(array([[ 78,   1,  59,  11,   2,   4, 117,   2,   0,  55, 132, 164,  21,\n",
       "           0,  24,   0,  80,   4,   0,  45],\n",
       "        [  7, 159,   0, 113,  50,  25,  31, 104,  61,  46,   0,   3,   0,\n",
       "         115,   0,  13,   1,  52, 146,  47],\n",
       "        [  7, 109,   0,  80,  58,   9,  20,  76, 179,  72,   1,   4,   0,\n",
       "          86,   0,  50,   2,  25, 195,  12],\n",
       "        [  2, 154,   0,  83,  80,  10,  10,  85, 119,  36,   0,   1,   0,\n",
       "         138,   0,  35,   1,  23, 192,  13],\n",
       "        [  1, 159,   0, 130,  92,  17,  20, 111,  39,  63,   0,   1,   1,\n",
       "         129,   0,   4,   1,  57, 109,  29],\n",
       "        [  4, 199,   0, 175,  43,   7,  11, 154,  34,  43,   0,   3,   0,\n",
       "         143,   0,  18,   2,  36,  97,  19],\n",
       "        [  6, 150,   0, 196,  26,   8,  37, 172,  56,  67,   0,   4,   0,\n",
       "          73,   0,   5,   1,  39,  99,  36],\n",
       "        [ 78,  12,   2,  99,   5,  36, 140,  72,   0, 118,   6,  39,   2,\n",
       "          22,   0,   0,  11, 133,   3, 212],\n",
       "        [ 96,   4,   0,  81,   0,  33, 202,  50,   0, 111,   6,  78,   1,\n",
       "          12,   0,   0,  17,  89,   1, 215],\n",
       "        [148,  11,   0,  34,   2,  22, 226,  21,   1, 119,  19, 136,  11,\n",
       "           4,   0,   0,  42,  36,   4, 158],\n",
       "        [179,   6,   0,  36,   1,  13, 233,  14,   0, 108,  11, 185,  10,\n",
       "           4,   0,   0,  59,  14,   0, 126],\n",
       "        [122,  10,   2,  46,  19, 112,  89,  55,   6,  67,  13,  74,  34,\n",
       "          35,   1,   3,  50, 131,   4, 118],\n",
       "        [ 16,  63,   0, 128,  38,  22,  78, 179,   4,  74,   0,  11,   0,\n",
       "          88,   0,   0,   2, 112,  32, 137],\n",
       "        [140,   7,   4,  44,   2,  20, 212,  64,   0,  89,   9,  73,   8,\n",
       "          10,   0,   2,  35,  54,   2, 215],\n",
       "        [108,  14,   1,  80,   8,  34, 187,  55,   0,  85,   8,  44,   7,\n",
       "          23,   0,   1,  28,  99,   6, 199],\n",
       "        [ 59,   3, 178,   5,   1,  10,  75,  11,   1,  49, 220, 153,  27,\n",
       "           5,  77,   0,  81,  13,   0,  29],\n",
       "        [132,   0,   9,  18,   1,  13, 166,   7,   0,  56,  83, 156,  42,\n",
       "           1,   7,   0, 123,  17,   0,  79],\n",
       "        [ 79,   0,  23,  12,   1,   2, 155,   0,   0,  64, 189, 259,  20,\n",
       "           0,  12,   0,  80,   5,   0,  39],\n",
       "        [124,   0,   4,   5,   0,   8, 126,   3,   0,  47,  65, 185,  45,\n",
       "           0,   3,   0,  83,  11,   4,  62],\n",
       "        [ 56,   1,  59,  10,   1,   2,  97,   1,   0,  58,  86, 119,  17,\n",
       "           0,  33,   0,  50,   7,   0,  31]]),\n",
       " 0.17447613105470641,\n",
       " 0.18657878070696646,\n",
       " 0.18032461398084582,\n",
       " 0.05061995596462119,\n",
       " 0.17180206573336076)"
      ]
     },
     "execution_count": 386,
     "metadata": {},
     "output_type": "execute_result"
    }
   ],
   "source": [
    "#get scores for 2\n",
    "get_scores(ytrue, ypred_2)\n"
   ]
  },
  {
   "cell_type": "code",
   "execution_count": 387,
   "metadata": {},
   "outputs": [
    {
     "data": {
      "text/plain": [
       "(array([[  7, 322,  83,   0,   2,   3,   0,   0,   0,   2,   5, 262,   0,\n",
       "           0,  93,   2,   0,  18,   0,   0],\n",
       "        [166, 290,   0,   0,   0,   0,   0,  54,   0, 257,  10,  71,   0,\n",
       "          90,   0,   2,   0,   0,   4,  29],\n",
       "        [ 72, 240,   1,   0,   0,   0,   0,  77,  16, 157,   5,  49,   0,\n",
       "          56,   0,   0,   2,   1,   1, 308],\n",
       "        [ 97, 189,   0,   0,   3,   0,   0, 168, 126,  30,   1,  32,   3,\n",
       "         220,   0,   3,  70,   0,   1,  39],\n",
       "        [ 96, 228,   0,   0,   0,   0,   0,  54,  85,  14,   4,  45,   1,\n",
       "         400,   0,   1,  29,   0,   1,   5],\n",
       "        [123, 290,   0,   0,   0,   0,   0,   7,   1, 441,   4,  41,   0,\n",
       "          21,   0,   8,   0,   0,   4,  48],\n",
       "        [ 46, 236,   0,   0,  26,   0,   0,  35,  59,   0,   1,  23,  15,\n",
       "         453,   0,   0,   7,   0,  63,  11],\n",
       "        [ 36, 436,   0,   0, 332,   0,   0,   0,   3,   4,   0, 147,   0,\n",
       "          16,   2,   1,   0,  11,   2,   0],\n",
       "        [ 36, 537,   2,   0,  45,   0,   0,   0,  16,   0,   1, 335,   2,\n",
       "          17,   0,   0,   0,   5,   0,   0],\n",
       "        [ 43, 444,   1,   0,   1,   0,   0,   0,   0,   1,   0, 138, 361,\n",
       "           0,   0,   1,   0,   1,   3,   0],\n",
       "        [ 21, 311,   0,   0,   1,   0,   0,   0,   0,   0,   1,  75, 576,\n",
       "           3,   0,   0,   0,   0,  11,   0],\n",
       "        [ 21, 336,   0,   0,   1,   0,   0,   1,   1,  18,   5, 139,   0,\n",
       "          36,   0, 334,   0,  93,   1,   5],\n",
       "        [106, 474,   1,   0,  20,   0,   0,   9,  13,  20,   8, 114,   2,\n",
       "         200,   0,   6,   2,   5,   1,   3],\n",
       "        [ 66, 554,   4,  71,   0,   0,   0,   0,   0,   2,   5, 278,   0,\n",
       "           6,   0,   0,   0,   3,   0,   1],\n",
       "        [ 26, 435,   0,   0,   1,   0,   0,   0,   0,   4, 347, 145,   1,\n",
       "          16,   0,   0,   0,  10,   1,   1],\n",
       "        [ 23, 248, 181,   0,   0,   1,   0,   0,   0,   1,   2, 118,   0,\n",
       "           0, 414,   0,   0,   8,   0,   1],\n",
       "        [  6, 310,   3,   0,   2,   2,   0,   1,   0,   4,   4, 129,   1,\n",
       "           0,   3,   0,   0, 442,   3,   0],\n",
       "        [  4, 311,   5,   0,   0, 280, 164,   0,   0,   0,   0, 139,   0,\n",
       "           0,   5,   0,   0,  30,   2,   0],\n",
       "        [  6, 352,   0,   0,   2,   1,   0,   0,   1,   0,   1, 239,   1,\n",
       "           0,   3,   0,   0, 169,   0,   0],\n",
       "        [  4, 254,  52,   1,   2,   2,   0,   0,   0,   1,   1, 126,   0,\n",
       "           0, 126,   0,   0,  59,   0,   0]]),\n",
       " 0.28498580101482218,\n",
       " 0.36971698569559036,\n",
       " 0.32186846751226039,\n",
       " 0.064811466003280638,\n",
       " 0.28265137129691875)"
      ]
     },
     "execution_count": 387,
     "metadata": {},
     "output_type": "execute_result"
    }
   ],
   "source": [
    "#get scores for 40\n",
    "get_scores(ytrue, ypred_40)"
   ]
  },
  {
   "cell_type": "code",
   "execution_count": 446,
   "metadata": {},
   "outputs": [
    {
     "name": "stdout",
     "output_type": "stream",
     "text": [
      "LSI...\n",
      "('r-value: ', 1)\n",
      "('r-value: ', 2)\n",
      "('r-value: ', 3)\n",
      "('r-value: ', 5)\n",
      "('r-value: ', 10)\n",
      "('r-value: ', 20)\n",
      "('r-value: ', 50)\n",
      "('r-value: ', 100)\n",
      "('r-value: ', 300)\n",
      "r: 1 \n",
      " homogeneity=0.01493 \n",
      " completeness=0.01617 \n",
      " v-measure=0.01552 \n",
      " adj rand index=0.00296 \n",
      " adj mutual info=0.01172 \n",
      "---\n",
      "r: 2 \n",
      " homogeneity=0.17491 \n",
      " completeness=0.18693 \n",
      " v-measure=0.18072 \n",
      " adj rand index=0.05088 \n",
      " adj mutual info=0.17223 \n",
      "---\n",
      "r: 3 \n",
      " homogeneity=0.21522 \n",
      " completeness=0.23610 \n",
      " v-measure=0.22518 \n",
      " adj rand index=0.06620 \n",
      " adj mutual info=0.21268 \n",
      "---\n",
      "r: 5 \n",
      " homogeneity=0.26777 \n",
      " completeness=0.29981 \n",
      " v-measure=0.28289 \n",
      " adj rand index=0.08846 \n",
      " adj mutual info=0.26540 \n",
      "---\n",
      "r: 10 \n",
      " homogeneity=0.27295 \n",
      " completeness=0.30771 \n",
      " v-measure=0.28929 \n",
      " adj rand index=0.08818 \n",
      " adj mutual info=0.27059 \n",
      "---\n",
      "r: 20 \n",
      " homogeneity=0.26848 \n",
      " completeness=0.32716 \n",
      " v-measure=0.29493 \n",
      " adj rand index=0.06832 \n",
      " adj mutual info=0.26610 \n",
      "---\n",
      "r: 50 \n",
      " homogeneity=0.27869 \n",
      " completeness=0.36216 \n",
      " v-measure=0.31499 \n",
      " adj rand index=0.05992 \n",
      " adj mutual info=0.27633 \n",
      "---\n",
      "r: 100 \n",
      " homogeneity=0.28940 \n",
      " completeness=0.38950 \n",
      " v-measure=0.33207 \n",
      " adj rand index=0.06065 \n",
      " adj mutual info=0.28708 \n",
      "---\n",
      "r: 300 \n",
      " homogeneity=0.24202 \n",
      " completeness=0.36213 \n",
      " v-measure=0.29013 \n",
      " adj rand index=0.04697 \n",
      " adj mutual info=0.23951 \n",
      "---\n",
      "[7, 7, 7, 3, 7]\n",
      "7\n",
      "('Best r-value is: ', 100)\n"
     ]
    },
    {
     "data": {
      "image/png": "[encoded data removed]",
      "text/plain": [
       "<matplotlib.figure.Figure at 0x1a20f4e210>"
      ]
     },
     "metadata": {},
     "output_type": "display_data"
    }
   ],
   "source": [
    "#Sweep LSI and NMF dimensions\n",
    "r_vals = [1,2,3,5,10,20,50,100,300]\n",
    "contingency_matrices = []\n",
    "h_vals = []\n",
    "c_vals = []\n",
    "v_vals = []\n",
    "rand_vals = []\n",
    "mutual_vals = []\n",
    "print(\"LSI...\")\n",
    "for r in r_vals:\n",
    "    print(\"r-value: \", r)\n",
    "    svd = TruncatedSVD(n_components=r)\n",
    "    train_lsi = svd.fit_transform(all_data_tfidf)\n",
    "        \n",
    "    contin, h, c, v, rand, mutual = get_svd_scores(k=r, train_lsi=train_lsi, test_lsi=None, trainy=ytrue, n_clusters=20)\n",
    "#    contingency_matrices.append(contin)\n",
    "#    print(\"contingency matrix for r=\", r)\n",
    "#    print(h, c, v, rand, mutual)\n",
    " #   print(contin)\n",
    "    contingency_matrices.append(contin)\n",
    "    h_vals.append(h)\n",
    "    c_vals.append(c)\n",
    "    v_vals.append(v)\n",
    "    rand_vals.append(rand)\n",
    "    mutual_vals.append(mutual)\n",
    "    \n",
    "    \n",
    "start_index = 0    \n",
    "r_vals = r_vals[start_index:]\n",
    "h_vals = h_vals[start_index:]\n",
    "c_vals = c_vals[start_index:]\n",
    "v_vals = v_vals[start_index:]\n",
    "rand_vals = rand_vals[start_index:]\n",
    "mutual_vals = mutual_vals[start_index:]\n",
    "\n",
    "for r, h, c, v, rand, mutual in zip(r_vals, h_vals, c_vals, v_vals, rand_vals, mutual_vals):\n",
    "    print(\"r: %i \\n homogeneity=%.5f \\n completeness=%.5f \\n v-measure=%.5f \\n adj rand index=%.5f \\n adj mutual info=%.5f \\n---\" % (r, h, c, v, rand, mutual))\n",
    "\n",
    "# print(h_vals)\n",
    "# print(c_vals)\n",
    "# print(v_vals)\n",
    "# print(rand_vals)\n",
    "# print(mutual_vals)\n",
    "\n",
    "res_list = [np.argmax(h_vals), np.argmax(c_vals), np.argmax(v_vals), np.argmax(rand_vals), np.argmax(mutual_vals)]\n",
    "print(res_list)\n",
    "# best_index = int(np.mean(res_list)) # not sure if this works e.g. [0,1,0,3,2,0]\n",
    "best_index = np.bincount(res_list).argmax() # most frequent index\n",
    "print(best_index)\n",
    "    \n",
    "print(\"Best r-value is: \", r_vals[best_index])\n",
    "plt.plot(r_vals, h_vals, 'r', label=\"homogenity\")\n",
    "plt.plot(r_vals, c_vals, 'g', label=\"completeness score\")\n",
    "plt.plot(r_vals, v_vals, 'b', label=\"v measure\")\n",
    "plt.plot(r_vals, rand_vals, 'm', label=\"rand index\")\n",
    "plt.plot(r_vals, mutual_vals, 'y', label=\"adjusted mutual information\")\n",
    "plt.grid()"
   ]
  },
  {
   "cell_type": "code",
   "execution_count": 447,
   "metadata": {},
   "outputs": [
    {
     "name": "stdout",
     "output_type": "stream",
     "text": [
      "NMF...\n",
      "('r-value: ', 1)\n",
      "('r-value: ', 2)\n",
      "('r-value: ', 3)\n",
      "('r-value: ', 5)\n",
      "('r-value: ', 10)\n",
      "('r-value: ', 20)\n",
      "('r-value: ', 50)\n",
      "('r-value: ', 100)\n",
      "('r-value: ', 300)\n",
      "r: 1 \n",
      " homogeneity=0.01499 \n",
      " completeness=0.01621 \n",
      " v-measure=0.01557 \n",
      " adj rand index=0.00300 \n",
      " adj mutual info=0.01179 \n",
      "---\n",
      "r: 2 \n",
      " homogeneity=0.16083 \n",
      " completeness=0.17157 \n",
      " v-measure=0.16603 \n",
      " adj rand index=0.04645 \n",
      " adj mutual info=0.15811 \n",
      "---\n",
      "r: 3 \n",
      " homogeneity=0.18415 \n",
      " completeness=0.20519 \n",
      " v-measure=0.19410 \n",
      " adj rand index=0.05338 \n",
      " adj mutual info=0.18149 \n",
      "---\n",
      "r: 5 \n",
      " homogeneity=0.21905 \n",
      " completeness=0.26077 \n",
      " v-measure=0.23810 \n",
      " adj rand index=0.06555 \n",
      " adj mutual info=0.21649 \n",
      "---\n",
      "r: 10 \n",
      " homogeneity=0.26164 \n",
      " completeness=0.31622 \n",
      " v-measure=0.28635 \n",
      " adj rand index=0.07139 \n",
      " adj mutual info=0.25923 \n",
      "---\n",
      "r: 20 \n",
      " homogeneity=0.22135 \n",
      " completeness=0.29280 \n",
      " v-measure=0.25211 \n",
      " adj rand index=0.04585 \n",
      " adj mutual info=0.21881 \n",
      "---\n",
      "r: 50 \n",
      " homogeneity=0.17142 \n",
      " completeness=0.26640 \n",
      " v-measure=0.20861 \n",
      " adj rand index=0.02395 \n",
      " adj mutual info=0.16870 \n",
      "---\n",
      "r: 100 \n",
      " homogeneity=0.09044 \n",
      " completeness=0.17708 \n",
      " v-measure=0.11973 \n",
      " adj rand index=0.00806 \n",
      " adj mutual info=0.08739 \n",
      "---\n",
      "r: 300 \n",
      " homogeneity=0.07397 \n",
      " completeness=0.15977 \n",
      " v-measure=0.10112 \n",
      " adj rand index=0.00487 \n",
      " adj mutual info=0.07092 \n",
      "---\n",
      "[4, 4, 4, 4, 4]\n",
      "4\n",
      "('Best r-value is: ', 10)\n"
     ]
    },
    {
     "data": {
      "image/png": "[encoded data removed]",
      "text/plain": [
       "<matplotlib.figure.Figure at 0x1a1ed17d90>"
      ]
     },
     "metadata": {},
     "output_type": "display_data"
    }
   ],
   "source": [
    "print(\"NMF...\")   \n",
    "contingency_matrices = []\n",
    "h_vals = []\n",
    "c_vals = []\n",
    "v_vals = []\n",
    "rand_vals = []\n",
    "mutual_vals = []\n",
    "# r_vals = [2,3,4,5]\n",
    "for r in r_vals:\n",
    "    print(\"r-value: \", r)\n",
    "    nmf = NMF(n_components=r)\n",
    "    train_nmf = nmf.fit_transform(all_data_tfidf)\n",
    "        \n",
    "    contin, h, c, v, rand, mutual = get_nmf_scores(num_components=r, train_nmf=train_nmf, test_nmf=None, trainy=ytrue, n_clusters=20)\n",
    "    \n",
    " #   print(\"contingency matrix for r=\", r)\n",
    "#    print(contin)\n",
    "    contingency_matrices.append(contin)\n",
    "    h_vals.append(h)\n",
    "    c_vals.append(c)\n",
    "    v_vals.append(v)\n",
    "    rand_vals.append(rand)\n",
    "    mutual_vals.append(mutual)\n",
    "    \n",
    "    \n",
    "start_index = 0    \n",
    "r_vals = r_vals[start_index:]\n",
    "h_vals = h_vals[start_index:]\n",
    "c_vals = c_vals[start_index:]\n",
    "v_vals = v_vals[start_index:]\n",
    "rand_vals = rand_vals[start_index:]\n",
    "mutual_vals = mutual_vals[start_index:]\n",
    "\n",
    "# print(h_vals)\n",
    "# print(c_vals)\n",
    "# print(v_vals)\n",
    "# print(rand_vals)\n",
    "# print(mutual_vals)\n",
    "\n",
    "for r, h, c, v, rand, mutual in zip(r_vals, h_vals, c_vals, v_vals, rand_vals, mutual_vals):\n",
    "    print(\"r: %i \\n homogeneity=%.5f \\n completeness=%.5f \\n v-measure=%.5f \\n adj rand index=%.5f \\n adj mutual info=%.5f \\n---\" % (r, h, c, v, rand, mutual))\n",
    "\n",
    "\n",
    "res_list = [np.argmax(h_vals), np.argmax(c_vals), np.argmax(v_vals), np.argmax(rand_vals), np.argmax(mutual_vals)]\n",
    "print(res_list)\n",
    "# best_index = int(np.mean(res_list))\n",
    "best_index = np.bincount(res_list).argmax() # most frequent index\n",
    "print(best_index)\n",
    "    \n",
    "print(\"Best r-value is: \", r_vals[best_index])\n",
    "plt.plot(r_vals, h_vals, 'r', label=\"homogenity\")\n",
    "plt.plot(r_vals, c_vals, 'g', label=\"completeness score\")\n",
    "plt.plot(r_vals, v_vals, 'b', label=\"v measure\")\n",
    "plt.plot(r_vals, rand_vals, 'm', label=\"rand index\")\n",
    "plt.plot(r_vals, mutual_vals, 'y', label=\"adjusted mutual information\")\n",
    "plt.grid()\n",
    "\n",
    "\n",
    "\n"
   ]
  },
  {
   "cell_type": "code",
   "execution_count": 454,
   "metadata": {},
   "outputs": [
    {
     "data": {
      "text/plain": [
       "(array([[  0,   1,   4,   1,   0,  26,   0,   0,   0,  19,   2,  58,  84,\n",
       "           1, 431,   7,  36,   0, 128,   1],\n",
       "        [  0,  29,   1,   3, 196,  53,   0,   2,   4,  12,   0, 116,   0,\n",
       "           0, 418, 119,   0,   8,  10,   2],\n",
       "        [  0, 126,   3,   0,  15,  82,   0,  19,   9,  13,   0, 122,   1,\n",
       "           2, 421,  80,   0,  57,  34,   1],\n",
       "        [  0,  60,   5,   2,  22,  42,   0, 129, 137,   0,   1, 102,   0,\n",
       "           0, 368,  91,   0,  13,   7,   3],\n",
       "        [  0,  64,   2,   1,  10,  43,   0,  86,  23,   5,   0, 105,   0,\n",
       "           0, 484,  91,   0,  26,  18,   5],\n",
       "        [  0, 240,  16,   1,  32,  53,   0,   1,   0,   7,   1,  94,   0,\n",
       "           0, 425, 100,   0,   4,  14,   0],\n",
       "        [  0,   7,  25,  15,  11,  92,   0,  70,   8,   4,  26,  57,   1,\n",
       "           0, 556,  31,   0,  14,  13,  45],\n",
       "        [  0,  28,   1,   0,   0,  26,   0,  11,   0,   0, 310,  98,   0,\n",
       "           7, 449,  28,   0,   0,  32,   0],\n",
       "        [  1, 262,   1,   3,   0,  28,   0,  18,   0,   1,  26, 105,   3,\n",
       "           2, 493,  24,   1,   0,  27,   1],\n",
       "        [149,   4,   2,  82,   0,  37,   0,   1,   0,   0,   1,  55,   2,\n",
       "           0, 522,  30,   0,   0,  18,  91],\n",
       "        [362,   1,   0, 179,   0,  26,   0,   0,   0,   2,   2,  54,   0,\n",
       "           1, 267,  10,   0,   0,  21,  74],\n",
       "        [  1,   1, 232,   0,   2,  33,   0,   0,   0,   3,   1,  81,   0,\n",
       "           5, 478,  14,   0,   1, 138,   1],\n",
       "        [  0,   5,   7,   4,   4,  48,   0,  12,   4,   6,  16, 135,   1,\n",
       "           2, 636,  64,   0,  11,  24,   5],\n",
       "        [  0,   6,   0,   0,   0,  38,  71,   0,   0,   0,   0,  95,   4,\n",
       "           0, 649,  44,   0,   1,  81,   1],\n",
       "        [  2,   7,   1,   0,   0,  36,   0,   0,   0, 353,   1,  75,   0,\n",
       "           1, 450,  19,   1,   0,  38,   3],\n",
       "        [  0,   2,   2,   0,   0,   6,   0,   0,   0,   2,   0,  48, 158,\n",
       "           1, 323,  18, 354,   0,  83,   0],\n",
       "        [  1,   1,   2,   1,   0,  30,   0,   0,   0,   4,   2,  66,   4,\n",
       "         196, 451,   5,   4,   0, 143,   0],\n",
       "        [  1,   0, 402,   0,   0,  25,   0,   0,   0,   0,   4,  42,   4,\n",
       "           0, 365,   4,   3,   0,  90,   0],\n",
       "        [  0,   1,   3,   1,   0,  22,   0,   3,   0,   2,   1,  86,   1,\n",
       "          11, 409,   6,  52,   0, 176,   1],\n",
       "        [  0,   1,   2,   1,   0,   6,   1,   0,   0,   1,   2,  39,  47,\n",
       "           9, 342,   3, 102,   1,  71,   0]]),\n",
       " 0.19519255239738947,\n",
       " 0.27588154008031474,\n",
       " 0.22862654867884946,\n",
       " 0.024682773363644449,\n",
       " 0.19256955881052429)"
      ]
     },
     "execution_count": 454,
     "metadata": {},
     "output_type": "execute_result"
    }
   ],
   "source": [
    "# LSI k=100, normalize\n",
    "\n",
    "svd = TruncatedSVD(n_components=100)\n",
    "# X = svd.fit_transform(trainX)\n",
    "# print(X)\n",
    "X = scale(svd.fit_transform(all_data_tfidf))\n",
    "# print(len(np.var(scaled_lsi,axis=0)))\n",
    "kmeans = KMeans(n_clusters=20).fit(X)\n",
    "\n",
    "ypred = kmeans.predict(X)\n",
    "get_scores(ytrue, ypred)"
   ]
  },
  {
   "cell_type": "code",
   "execution_count": 456,
   "metadata": {},
   "outputs": [
    {
     "data": {
      "text/plain": [
       "(array([[  2, 101, 165,   0,   0,   0,   5, 122,   6,  20, 128,   0,   1,\n",
       "           0,   0, 196,   1,   1,  51,   0],\n",
       "        [104,  40, 117,   0,  17,   0,  49,   0,   0, 198,   4, 203,   0,\n",
       "          39,   0, 192,   1,   6,   0,   3],\n",
       "        [ 47,  17,  68,   0,  30,   0,  19,   1,   0,  70,   3, 308,   0,\n",
       "         242,   8, 167,   0,   3,   0,   2],\n",
       "        [ 48,  15,  86,   1, 217,   0,  68,   0,   0, 142,   1, 108,   0,\n",
       "          20, 115, 146,   2,  10,   0,   3],\n",
       "        [ 44,  27, 151,   0, 165,   0,  84,   0,   0, 151,   2,  37,   0,\n",
       "           4,  41, 242,   2,  11,   0,   2],\n",
       "        [ 60,  16,  92,   0,   2,   0,  26,   0,   0, 138,   1, 349,   0,\n",
       "          57,   0, 227,   0,  17,   0,   3],\n",
       "        [ 17,  11,  28,   6,  57,   0, 444,   1,   0,  70,   4,  10,   0,\n",
       "           7,  43, 120,  10,   2,   0, 145],\n",
       "        [ 13,  97, 310,   0,  10,   0, 190,   3,   2,  64,  23,   4,   0,\n",
       "           0,   1, 260,   0,   4,   0,   9],\n",
       "        [  8, 147, 419,   1,  20,   0,  56,   7,   0,  47,  15,   1,   0,\n",
       "           0,   0, 271,   2,   1,   0,   1],\n",
       "        [ 24,  43, 126,  88,   1,   0,  20,   2,   0,  40,  10,   1,   0,\n",
       "           0,   0, 275, 356,   1,   0,   7],\n",
       "        [ 10,  28,  64, 224,   0,   0,  25,   1,   0,  21,   4,   0,   0,\n",
       "           0,   0, 171, 432,   0,   0,  19],\n",
       "        [  7,  47, 106,   0,   1,   0,   9,   0,  13,  29,  71,  12, 149,\n",
       "           4,   0, 194,   1, 346,   0,   2],\n",
       "        [ 40,  54, 286,   0,  22,   0,  85,   1,   0, 139,   5,  17,   0,\n",
       "           2,   2, 293,   6,  29,   0,   3],\n",
       "        [ 19, 115, 334,   0,   0,  71,  25,   2,   1, 102,  28,   0,   0,\n",
       "           1,   0, 286,   0,   1,   3,   2],\n",
       "        [ 13,  97, 344,   0,   0,   0, 102,   3,   3,  47,  39,   7,   0,\n",
       "           0,   0, 321,   5,   0,   0,   6],\n",
       "        [  8,  56, 101,   0,   1,   0,  10, 381,   3,  35,  66,   1,   0,\n",
       "           0,   0, 179,   0,   0, 156,   0],\n",
       "        [  0,  85, 110,   0,   0,   0,  11,   7, 105,  16, 361,   0,   0,\n",
       "           0,   0, 207,   2,   3,   1,   2],\n",
       "        [  1,  31,  75,   0,   0,   0,   4,   7, 292,  13, 373,   0,   0,\n",
       "           0,   0, 139,   1,   1,   2,   1],\n",
       "        [  5,  86, 128,   0,   2,   0,  19,   4,  52,   6, 290,   1,   0,\n",
       "           0,   0, 177,   5,   0,   0,   0],\n",
       "        [  1,  54, 100,   0,   0,   2,   1, 110,  15,  13,  91,   1,   0,\n",
       "           0,   0, 180,   4,   1,  55,   0]]),\n",
       " 0.25015505527745879,\n",
       " 0.29412527601341776,\n",
       " 0.27036407692753117,\n",
       " 0.073281663901309968,\n",
       " 0.24771561780441662)"
      ]
     },
     "execution_count": 456,
     "metadata": {},
     "output_type": "execute_result"
    }
   ],
   "source": [
    "# NMF k=2, normalize\n",
    "\n",
    "svd = NMF(n_components=10)\n",
    "# print(X)\n",
    "X = scale(svd.fit_transform(all_data_tfidf))\n",
    "# print(len(np.var(scaled_lsi,axis=0)))\n",
    "kmeans = KMeans(n_clusters=20).fit(X)\n",
    "\n",
    "ypred = kmeans.predict(X)\n",
    "get_scores(ytrue, ypred)"
   ]
  },
  {
   "cell_type": "code",
   "execution_count": 465,
   "metadata": {},
   "outputs": [
    {
     "data": {
      "text/plain": [
       "(array([[  0,   3, 106,   0,   0,   2,   0,   0,   6,   0,   0,   8, 293,\n",
       "           2,   2,   2, 372,   2,   0,   1],\n",
       "        [  0,   0,   0,  48,   3, 268,   0,  29,   0,   0,   0, 150, 239,\n",
       "         178,  11,   3,  33,   0,   7,   4],\n",
       "        [  0,   0,   1,  71,   1, 138,   0, 302,   0,  17,   0,  59, 204,\n",
       "         127,   8,   1,  25,   0,  11,  20],\n",
       "        [  0,   0,   0, 157,   1, 312,   2,  39,   0, 178,   0,  79, 137,\n",
       "          13,   1,   3,   7,   2,  49,   2],\n",
       "        [  0,   0,   0,  47,   1, 420,   1,   5,   0, 101,   0,  87, 205,\n",
       "           5,   3,   1,   8,   0,  79,   0],\n",
       "        [  0,   0,   0,   8,   4, 362,   0,  53,   0,   1,   0, 100, 213,\n",
       "          62,   4,  11,  11,   0,   4, 155],\n",
       "        [  0,   0,   0,  34,  65, 308,  22,  18,   0,  55,   0,  72, 329,\n",
       "           0,   2,   0,  15,  30,  24,   1],\n",
       "        [  0,   0,   0,   0,   2,  12,   0,   0,   6,   3,   0,  36, 541,\n",
       "           1,   0,   1,  56, 329,   0,   3],\n",
       "        [  0,   0,   3,   1,   0,  12,   2,   1,   1,  15,   0,  38, 796,\n",
       "           1,   1,   0,  86,  37,   0,   2],\n",
       "        [  0,   0,   1,   0,   2,   0, 361,   0,   1,   0,   0,  43, 519,\n",
       "           2,   0,   1,  63,   1,   0,   0],\n",
       "        [  0,   0,   0,   1,   7,   0, 590,   0,   1,   0,   0,  20, 336,\n",
       "           0,   0,   0,  43,   1,   0,   0],\n",
       "        [  0,   0,   0,   1,   1,  74,   0,   5,  17,   0,   0,  23, 341,\n",
       "          12,   3, 333, 174,   1,   6,   0],\n",
       "        [  0,   0,   1,  11,   0, 333,   2,   3,   2,  14,   0,  86, 464,\n",
       "           8,   7,   6,  21,  16,   9,   1],\n",
       "        [  0,   0,   4,   0,   0,  19,   0,   1,   0,   0,  71,  65, 637,\n",
       "           1,   0,   0, 192,   0,   0,   0],\n",
       "        [  0,   0,   0,   0,   1,  25,   2,   1,   2,   0,   0,  24, 508,\n",
       "           6, 341,   0,  75,   1,   1,   0],\n",
       "        [  0,   2, 344,   0,   0,   1,   0,   1,   6,   0,   0,  24, 270,\n",
       "           1,   2,   0, 346,   0,   0,   0],\n",
       "        [  0,   2,   3,   1,   3,   0,   1,   0, 376,   0,   0,   8, 348,\n",
       "           3,   4,   0, 158,   2,   0,   1],\n",
       "        [160, 281,   6,   0,   2,   0,   0,   0,   5,   0,   0,   3, 311,\n",
       "           1,   0,   0, 171,   0,   0,   0],\n",
       "        [  0,   1,   1,   0,   0,   1,   2,   0,  76,   1,   0,   8, 343,\n",
       "           0,   2,   0, 338,   2,   0,   0],\n",
       "        [  0,   3, 103,   0,   0,   1,   2,   0,  58,   0,   2,   7, 249,\n",
       "           1,   1,   0, 199,   2,   0,   0]]),\n",
       " 0.28038298191520089,\n",
       " 0.37745036505114365,\n",
       " 0.32175522680954999,\n",
       " 0.064856081018871914,\n",
       " 0.278033799925198)"
      ]
     },
     "execution_count": 465,
     "metadata": {},
     "output_type": "execute_result"
    }
   ],
   "source": [
    "# LSI k=100, apply log transform\n",
    "\n",
    "#svd = TruncatedSVD(n_components=100)\n",
    "poly_transform = FunctionTransformer(np.log1p)\n",
    "nmf_norm_poly = make_pipeline(TruncatedSVD(n_components=100), poly_transform)\n",
    "X = nmf_norm_poly.fit_transform(all_data_tfidf)\n",
    "kmeans = KMeans(n_clusters=20).fit(X)\n",
    "\n",
    "ypred = kmeans.predict(X)\n",
    "get_scores(ytrue, ypred)"
   ]
  },
  {
   "cell_type": "code",
   "execution_count": 462,
   "metadata": {},
   "outputs": [
    {
     "data": {
      "text/plain": [
       "(array([[  0, 175,   0,  57,   0,   1, 136,   0,   6,   0,   1,   2,   0,\n",
       "         256,   0, 136,   7,  21,   1,   0],\n",
       "        [ 16,  73,  99,   0,   0,   0,   4,   0,  67, 178,   1, 100,  33,\n",
       "         215,   0,   0,   0, 177,   7,   3],\n",
       "        [ 28,  48, 102,   0,   0,   0,   2,   0,  20, 255,   0,  37, 244,\n",
       "         173,   9,   1,   0,  60,   4,   2],\n",
       "        [210,  45,  31,   0,   0,   0,   1,   1,  72, 105,   2,  46,  22,\n",
       "         163, 126,   0,   0, 135,  17,   6],\n",
       "        [169,  82,   5,   0,   0,   0,   2,   0, 109,  56,   2,  47,   4,\n",
       "         261,  46,   0,   0, 162,  15,   3],\n",
       "        [  1,  47,  80,   0,   0,   1,   1,   0,  31, 356,   0,  57,  51,\n",
       "         208,   0,   0,   0, 134,  18,   3],\n",
       "        [ 58,  18,   2,   0,   0,   0,   3,   7, 415,  13,  12,  20,   7,\n",
       "         111,  45,   1,   0,  72,   3, 188],\n",
       "        [ 14, 235,   0,   0,   0,   0,  27,   0, 237,   7,   0,  13,   0,\n",
       "         354,   2,   3,   2,  77,   6,  13],\n",
       "        [ 22, 367,   0,   0,   0,   0,  20,   1,  88,   2,   2,   8,   0,\n",
       "         418,   0,   7,   0,  59,   1,   1],\n",
       "        [  1, 100,   0,   0,   0,   1,  11, 104,  21,   1, 364,  26,   0,\n",
       "         310,   0,   3,   0,  45,   0,   7],\n",
       "        [  0,  54,   0,   0,   0,   0,   5, 230,  23,   0, 436,  10,   0,\n",
       "         193,   0,   2,   0,  26,   0,  20],\n",
       "        [  0,  73,   8,   0,   0, 192,  70,   0,  11,  10,   1,   7,   3,\n",
       "         212,   0,   2,  12,  36, 352,   2],\n",
       "        [ 24, 155,   1,   0,   0,   0,   4,   0, 121,  25,   5,  43,   2,\n",
       "         392,   2,   1,   0, 161,  44,   4],\n",
       "        [  0, 294,   1,   3,  72,   0,  32,   0,  37,   0,   0,  20,   1,\n",
       "         407,   0,   5,   1, 113,   2,   2],\n",
       "        [  0, 270,   4,   0,   0,   0,  43,   0, 132,   7,   5,  13,   0,\n",
       "         437,   0,   4,   3,  55,   2,  12],\n",
       "        [  1,  80,   1, 176,   0,   0,  64,   0,  10,   0,   0,   9,   0,\n",
       "         199,   0, 416,   4,  37,   0,   0],\n",
       "        [  0, 126,   0,   1,   0,   0, 394,   0,  10,   1,   2,   0,   1,\n",
       "         233,   0,   9, 107,  19,   4,   3],\n",
       "        [  0,  51,   0,   2,   0,   0, 374,   0,   4,   1,   1,   1,   0,\n",
       "         172,   0,   8, 307,  16,   2,   1],\n",
       "        [  2, 127,   0,   0,   0,   0, 320,   0,  26,   1,   6,   5,   0,\n",
       "         216,   0,   5,  55,  12,   0,   0],\n",
       "        [  0,  92,   0,  58,   2,   0,  96,   0,   4,   1,   4,   1,   0,\n",
       "         213,   0, 126,  15,  15,   1,   0]]),\n",
       " 0.26393533151464621,\n",
       " 0.31517889839846991,\n",
       " 0.28728994294511323,\n",
       " 0.072744640241942854,\n",
       " 0.26154217930527884)"
      ]
     },
     "execution_count": 462,
     "metadata": {},
     "output_type": "execute_result"
    }
   ],
   "source": [
    "# NMF Log transformation\n",
    "from sklearn.pipeline import *\n",
    "from sklearn.preprocessing import Normalizer\n",
    "from sklearn.preprocessing import PolynomialFeatures, FunctionTransformer\n",
    "\n",
    "# print(X)\n",
    "poly_transform = FunctionTransformer(np.log1p)\n",
    "nmf_norm_poly = make_pipeline(NMF(n_components=10), poly_transform)\n",
    "X = nmf_norm_poly.fit_transform(all_data_tfidf)\n",
    "# X = scale(svd.fit_transform(trainX))\n",
    "# print(len(np.var(scaled_lsi,axis=0)))\n",
    "kmeans = KMeans(n_clusters=20).fit(X)\n",
    "\n",
    "\n",
    "\n",
    "ypred = kmeans.predict(X)\n",
    "get_scores(ytrue, ypred)"
   ]
  },
  {
   "cell_type": "code",
   "execution_count": 464,
   "metadata": {},
   "outputs": [
    {
     "data": {
      "text/plain": [
       "(array([[119,   2,   0, 109,   2,   5,  41,  59,   0,   0,   1,   0,   0,\n",
       "           7,   0,   0,   0,   3, 428,  23],\n",
       "        [  0,   0,   0,  50, 175,  23,  55,  82,   8,   3,   1,   0,   0,\n",
       "           0,   1,   0,  41,  57, 477,   0],\n",
       "        [  0,   0,   0,  41, 150, 152,  51, 104,  10,   1,   5,   1,   0,\n",
       "           0,   5,   0,  80,  49, 336,   0],\n",
       "        [  0,   0,   1,  21,  16,   5,  94, 294,  53,   1,   4,   0,   0,\n",
       "           0,  73,   0, 107,  47, 266,   0],\n",
       "        [  0,   0,   1,  37,   7,   5,  80, 342,  78,   1,   3,   0,   0,\n",
       "           0,  34,   0,  41,  48, 286,   0],\n",
       "        [  0,   0,   0,  30,  71,  39,  71,  50,   5,   3,  20,   0,   0,\n",
       "           0,   0,   0,   5,  50, 644,   0],\n",
       "        [  0,   0,  17,  15,   0,   8,  43, 114,  24,  51,   1,   6,   0,\n",
       "           0,  16,   0,  33, 103, 544,   0],\n",
       "        [  0,   0,   0,  82,   1,   1,  65,  32,   0,   2,   2,   2,   0,\n",
       "           3,   0,   0,   1,  33, 766,   0],\n",
       "        [  0,   0,   1,  60,   1,   1,  50,  14,   0,   0,   1, 255,   0,\n",
       "           1,   0,   0,   1,  16, 595,   0],\n",
       "        [  0,   0, 270, 109,   2,   0,  23,  16,   0,   1,   1,   0,   0,\n",
       "           0,   0,   0,   0,  27, 545,   0],\n",
       "        [  0,   0, 589,  49,   1,   2,  24,  17,   0,   6,   0,   0,   0,\n",
       "           1,   0,   0,   1,  21, 288,   0],\n",
       "        [  0,   0,   0,  63,   8,   6,  29, 294,   8,   1, 204,   0,   0,\n",
       "          13,   0,   0,   2,  29, 334,   0],\n",
       "        [  0,   0,   3,  40,   7,  10,  84, 101,   8,   0,   6,   0,   0,\n",
       "           1,   2,   0,  11,  34, 677,   0],\n",
       "        [  3,   0,   0,  70,   1,   1,  46,  30,   0,   0,   1,   0,   0,\n",
       "           1,   0,  71,   0,  20, 746,   0],\n",
       "        [  0,   0,   0,  52,   6, 358,  25,  39,   1,   1,   0,   0,   0,\n",
       "           1,   0,   0,   0,  16, 488,   0],\n",
       "        [530,   0,   0,  59,   1,   4,  19,  34,   0,   0,   0,   0,   0,\n",
       "           6,   0,   0,   0,  16, 328,   0],\n",
       "        [  5,   2,   0,  39,   3,   4,  36,  90,   0,   3,   0,   0,   0,\n",
       "         340,   0,   0,   3,   9, 376,   0],\n",
       "        [  7, 270,   0,  53,   2,   0,  12,  41,   0,   1,   1,   0, 159,\n",
       "           2,   0,   0,   1,   6, 385,   0],\n",
       "        [  1,   1,   1,  71,   0,   2,  35, 135,   0,   0,   0,   0,   0,\n",
       "          65,   0,   0,   0,   6, 458,   0],\n",
       "        [143,   1,   2,  56,   1,   1,  22,  23,   0,   0,   0,   0,   0,\n",
       "          56,   0,   2,   0,   5, 316,   0]]),\n",
       " 0.2066531653518458,\n",
       " 0.30848819401611088,\n",
       " 0.24750511915921733,\n",
       " 0.035253952936474847,\n",
       " 0.20403620739851672)"
      ]
     },
     "execution_count": 464,
     "metadata": {},
     "output_type": "execute_result"
    }
   ],
   "source": [
    "# LSI k=100, transform then scalce\n",
    "\n",
    "#svd = TruncatedSVD(n_components=100)\n",
    "poly_transform = FunctionTransformer(np.log1p)\n",
    "nmf_norm_poly = make_pipeline(TruncatedSVD(n_components=100), poly_transform)\n",
    "X = scale(nmf_norm_poly.fit_transform(all_data_tfidf))\n",
    "kmeans = KMeans(n_clusters=20).fit(X)\n",
    "\n",
    "ypred = kmeans.predict(X)\n",
    "get_scores(ytrue, ypred)"
   ]
  },
  {
   "cell_type": "code",
   "execution_count": 467,
   "metadata": {},
   "outputs": [
    {
     "data": {
      "text/plain": [
       "(array([[  0, 159,   0, 128,   0,   0,   1,   1,   6,   2,   0,   1,   0,\n",
       "          11, 189,   0, 100,  53, 129,  19],\n",
       "        [ 17, 102,  16,   0,   0, 206,   0,   7,   0, 103,   0,   0,   1,\n",
       "          86, 158,  41,  40,   0,   4, 192],\n",
       "        [ 30,  64,   5,   1,   0, 301,   0,   4,   0,  47,   9,   0,   0,\n",
       "          26, 156, 252,  18,   0,   3,  69],\n",
       "        [216,  69,  23,   0,   0, 107,   3,  12,   0,  48, 125,   0,   1,\n",
       "          89, 124,  20,  14,   0,   1, 130],\n",
       "        [165, 114,  18,   0,   0,  37,   1,  13,   0,  44,  46,   0,   1,\n",
       "         152, 193,   4,  27,   0,   1, 147],\n",
       "        [  2,  84,   8,   0,   0, 357,   0,  18,   0,  60,   0,   1,   2,\n",
       "          40, 206,  60,  15,   0,   1, 134],\n",
       "        [ 55,  18, 333,   1,   0,  11,  11,   3,   0,  17,  45,   0,  71,\n",
       "         240,  82,   7,  10,   0,   3,  68],\n",
       "        [ 12, 246,  47,   3,   0,   4,   0,   5,   2,  13,   2,   0,   3,\n",
       "         247, 219,   0, 101,   0,  24,  62],\n",
       "        [ 20, 391,  14,   7,   0,   1,   2,   1,   0,   8,   0,   0,   0,\n",
       "         104, 241,   0, 146,   0,  15,  46],\n",
       "        [  1, 187,   9,   3,   0,   1, 327,   0,   0,  24,   0,   1,   4,\n",
       "          39, 296,   0,  49,   0,   9,  44],\n",
       "        [  0, 105,  32,   3,   0,   0, 533,   0,   0,  10,   0,   0,   9,\n",
       "          17, 227,   0,  33,   0,   5,  25],\n",
       "        [  1,  94,   2,   1,   0,  13,   0, 335,  14,   7,   0, 181,   1,\n",
       "          21, 178,   4,  45,   0,  67,  27],\n",
       "        [ 23, 225,  14,   1,   0,  17,   2,  35,   0,  40,   2,   0,   0,\n",
       "         196, 232,   2,  55,   0,   5, 135],\n",
       "        [  0, 322,  12,   3,  71,   0,   0,   2,   1,  18,   0,   0,   0,\n",
       "          52, 264,   1, 113,   3,  27, 101],\n",
       "        [  0, 309,  37,   3,   0,   8,   1,   1,   3,  12,   0,   0,   2,\n",
       "         149, 274,   0, 103,   0,  40,  45],\n",
       "        [  1,  96,   0, 387,   0,   0,   0,   0,   4,   8,   0,   0,   0,\n",
       "          19, 166,   1,  53, 165,  62,  35],\n",
       "        [  0, 111,   5,   8,   0,   0,   1,   4, 106,   0,   0,   0,   0,\n",
       "          12, 203,   0,  84,   1, 358,  17],\n",
       "        [  0,  76,   4,   7,   0,   0,   0,   2, 298,   1,   0,   0,   0,\n",
       "           2, 139,   0,  30,   2, 366,  13],\n",
       "        [  2, 125,   5,   4,   0,   1,   1,   0,  52,   5,   0,   0,   0,\n",
       "          33, 166,   0,  87,   0, 288,   6],\n",
       "        [  0,  99,   0, 113,   2,   1,   3,   1,  16,   0,   0,   0,   0,\n",
       "           9, 174,   0,  52,  55,  90,  13]]),\n",
       " 0.24761324447761157,\n",
       " 0.2863478027469164,\n",
       " 0.26557558404586967,\n",
       " 0.076779155046532474,\n",
       " 0.2451631991500976)"
      ]
     },
     "execution_count": 467,
     "metadata": {},
     "output_type": "execute_result"
    }
   ],
   "source": [
    "# transform then scale\n",
    "# print(X)\n",
    "poly_transform = FunctionTransformer(np.log1p)\n",
    "nmf_norm_poly = make_pipeline(NMF(n_components=10), poly_transform)\n",
    "X = scale(nmf_norm_poly.fit_transform(all_data_tfidf))\n",
    "# X = scale(svd.fit_transform(trainX))\n",
    "# print(len(np.var(scaled_lsi,axis=0)))\n",
    "kmeans = KMeans(n_clusters=20).fit(X)\n",
    "\n",
    "ypred = kmeans.predict(X)\n",
    "get_scores(ytrue, ypred)"
   ]
  },
  {
   "cell_type": "code",
   "execution_count": 471,
   "metadata": {},
   "outputs": [
    {
     "data": {
      "text/plain": [
       "(array([[ 30,  34,  36, 181,  46,  30,  10,  20,  26,   0,  63,   5,   6,\n",
       "          37,  84,  21,  32,  66,  30,  42],\n",
       "        [ 26,  33,  36, 157,  60,  43,  13,  39,  22,   1, 193, 101,   7,\n",
       "          41,  39,  52,  39,   3,  28,  40],\n",
       "        [ 31,  22,  31, 165,  29,  35,  13,  32,  25,   0, 298,  99,   3,\n",
       "          33,  23,  33,  30,   9,  37,  37],\n",
       "        [ 47,  47,  29, 165,  30,  28,  11,  38,  44,   0, 287,  13,   8,\n",
       "          42,  34,  34,  35,   4,  42,  44],\n",
       "        [ 36,  46,  57, 159,  52,  27,  10,  41,  49,   0, 281,  14,   1,\n",
       "          44,  34,  23,  22,   1,  31,  35],\n",
       "        [ 41,  26,  30,  91,  48,  31,   4,  24,  26,   0, 106, 387,   3,\n",
       "          38,  15,  19,  32,   4,  36,  27],\n",
       "        [ 22,  40,  44, 157,  72,  32,   3,  64,  30,   0, 209,  12,  76,\n",
       "          23,  40,  20,  40,   9,  36,  46],\n",
       "        [ 24,  28,  27, 232,  73,  22,   7,  27,  21,   0,  28,   6, 295,\n",
       "          33,  53,  18,  21,  22,  18,  35],\n",
       "        [ 22,  26,  28, 236,  93,  26,   9,  27,  14,   0,  18,   2, 283,\n",
       "          30,  52,  11,  29,  24,  35,  31],\n",
       "        [ 22,  46,  31, 208,  64,  40, 233,  36,  11,   0,  36,   2,  10,\n",
       "          24,  66,  38,  45,  17,  33,  32],\n",
       "        [ 29,  32,  35, 203,  72,  21, 284,  30,  39,   0,  48,   1,   8,\n",
       "          23,  32,  31,  25,  32,  23,  31],\n",
       "        [ 36,  48,  50, 223,  39,  29,  20,  43,  46,   2,  66,  23,  26,\n",
       "          36,  43,  43,  34, 122,  24,  38],\n",
       "        [ 28,  42,  24, 266,  70,  42,  14,  33,  38,   0,  73,  21,  21,\n",
       "          42, 106,  53,  27,  12,  33,  39],\n",
       "        [ 13,  42,  47, 117,  70,  31,   5,  21,   9,   0,  14,  13,   2,\n",
       "          35, 426,  30,  32,  27,  35,  21],\n",
       "        [ 32,  39,  24, 212,  91,  37,  15,  34,  41,   1,  37,  17,  47,\n",
       "          37, 171,  24,  21,  50,  35,  22],\n",
       "        [ 27,  36,  61, 222,  41,  22,  23,  48,  63,   0, 101,   4,   0,\n",
       "          43,  71,  46,  50,  32,  51,  56],\n",
       "        [ 12,  37,  38, 146,  51,  25,   5,  31,  17,   0,  21,   7,   7,\n",
       "          36,  51,  15,  31, 327,  14,  39],\n",
       "        [ 15,  35,  20, 231,  56,  27,   7,  21,  25, 154,  25,  33,   7,\n",
       "          31,  42,  15,  18, 118,  20,  40],\n",
       "        [ 14,  20,  51, 118,  45,  23,   5,  24,  41,   0,  28,   8,   5,\n",
       "          19,  68,  34,  28, 201,  17,  26],\n",
       "        [ 17,  21,  29, 165,  46,  11,   8,  29,  29,   0,  40,   3,   5,\n",
       "          19,  60,  15,  31,  43,  26,  31]]),\n",
       " 0.10349411671478147,\n",
       " 0.1113167087270945,\n",
       " 0.10726297821917294,\n",
       " 0.042318273530335328,\n",
       " 0.10059574651072059)"
      ]
     },
     "execution_count": 471,
     "metadata": {},
     "output_type": "execute_result"
    }
   ],
   "source": [
    "# LSI k=100, transform then scalce\n",
    "\n",
    "#svd = TruncatedSVD(n_components=100)\n",
    "poly_transform = FunctionTransformer(np.log1p)\n",
    "svd = TruncatedSVD(n_components=100)\n",
    "scaled = scale(svd.fit_transform(all_data_tfidf))\n",
    "\n",
    "X = np.nan_to_num(poly_transform.fit_transform(scaled))\n",
    "\n",
    "kmeans = KMeans(n_clusters=20).fit(X)\n",
    "\n",
    "ypred = kmeans.predict(X)\n",
    "get_scores(ytrue, ypred)"
   ]
  },
  {
   "cell_type": "code",
   "execution_count": 468,
   "metadata": {},
   "outputs": [
    {
     "data": {
      "text/plain": [
       "(array([[  2, 170,   0,  23, 158,   1,  91,  26,   2, 167,  32,   1,   8,\n",
       "           0,   0,   2,   0,   9,  80,  27],\n",
       "        [ 16,   4, 180,  33,  91,  98,   6,  46,   5,   0,   1,   3,  71,\n",
       "           0,   7, 138,  85,  18,  49, 122],\n",
       "        [  8,   9, 196,  35,  89,  47,   5,  24,   4,   1,   0,   0,  33,\n",
       "           0,  32,  71, 345,  24,  33,  29],\n",
       "        [ 33,   1,  70,  37,  49,  71,   1,  59,  10,   0,   0,   3,  78,\n",
       "           0, 287,  82,  66,  25,  33,  77],\n",
       "        [ 38,   3,  36,  49,  82,  61,   1,  94,  11,   0,   2,   3, 112,\n",
       "           0, 211,  82,  16,  24,  60,  78],\n",
       "        [ 10,   3, 178,  64,  76, 117,   1,  19,  15,   0,   1,   2,  40,\n",
       "           0,   2, 109, 203,  28,  53,  67],\n",
       "        [422,   6,   2,  79,  24,  20,   2,  58,   2,   1,   1,  12, 129,\n",
       "           0,  75,  67,   4,  25,  22,  24],\n",
       "        [ 97,  35,   1,  35, 178,  14,  22, 344,   4,   4,   6,   0,  88,\n",
       "           0,  14,   6,   4,   7,  90,  41],\n",
       "        [ 31,  50,   0,  43, 319,  13,  15, 254,   2,   5,   7,   3,  60,\n",
       "           0,  21,   4,   2,   8, 111,  48],\n",
       "        [ 31,  16,   1,  55, 163,   8,  10,  40,   2,   3,   4, 471,  19,\n",
       "           0,   0,   0,   1,  16,  95,  59],\n",
       "        [ 58,  12,   0,  70,  99,   7,   6,  10,   0,   1,   6, 618,   8,\n",
       "           0,   0,   0,   0,  15,  58,  31],\n",
       "        [  7,  56,   9,  35,  90,  18,  67,  28, 498,   0,  32,   1,  20,\n",
       "           0,   1,  22,   6,  13,  56,  32],\n",
       "        [ 54,  10,  11,  37, 123,  56,   9, 243,  35,   1,   3,   5, 108,\n",
       "           0,  24,  51,  10,  12,  98,  94],\n",
       "        [ 17, 114,   0,  19, 292,  21,  28,  99,   2,   6,   8,   0,  50,\n",
       "          74,   0,   5,   0,  11, 136, 108],\n",
       "        [ 60,  66,   2,  45, 193,  10,  41, 256,   0,   3,  10,   5,  55,\n",
       "           0,   1,  27,   2,   9, 158,  44],\n",
       "        [  4,  80,   3,  56,  81,  10,  46,  22,   0, 519,  46,   0,  15,\n",
       "           0,   1,   2,   0,  16,  63,  33],\n",
       "        [ 11, 207,   0,  17,  87,   2, 334,  26,   3,   8,  97,   3,   8,\n",
       "           0,   0,   0,   0,   8,  77,  22],\n",
       "        [  5, 100,   0,  18,  87,   2, 509,  12,   1,   8, 129,   1,   3,\n",
       "           0,   0,   0,   1,  15,  35,  14],\n",
       "        [ 11, 185,   0,  11,  91,   3, 259,  36,   0,   5,  73,   3,   4,\n",
       "           0,   2,   0,   0,   8,  68,  16],\n",
       "        [  1, 109,   0,  22, 102,   2,  68,  15,   1, 153,  31,   3,   7,\n",
       "           3,   0,   1,   0,  10,  85,  15]]),\n",
       " 0.26450197197776298,\n",
       " 0.27809952134058058,\n",
       " 0.27113036991772238,\n",
       " 0.12483826551434642,\n",
       " 0.26211872665202829)"
      ]
     },
     "execution_count": 468,
     "metadata": {},
     "output_type": "execute_result"
    }
   ],
   "source": [
    "# scale then transform\n",
    "# print(X)\n",
    "svd = NMF(n_components=10)\n",
    "# print(X)\n",
    "scaled = scale(svd.fit_transform(all_data_tfidf))\n",
    "# print(scaled)\n",
    "poly_transform = FunctionTransformer(np.log1p)\n",
    "X = np.nan_to_num(poly_transform.fit_transform(scaled))\n",
    "\n",
    "kmeans = KMeans(n_clusters=20).fit(np.nan_to_num(X))\n",
    "\n",
    "\n",
    "\n",
    "ypred = kmeans.predict(X)\n",
    "get_scores(ytrue, ypred)"
   ]
  },
  {
   "cell_type": "code",
   "execution_count": null,
   "metadata": {},
   "outputs": [],
   "source": []
  }
 ],
 "metadata": {
  "kernelspec": {
   "display_name": "Python 2",
   "language": "python",
   "name": "python2"
  },
  "language_info": {
   "codemirror_mode": {
    "name": "ipython",
    "version": 2
   },
   "file_extension": ".py",
   "mimetype": "text/x-python",
   "name": "python",
   "nbconvert_exporter": "python",
   "pygments_lexer": "ipython2",
   "version": "2.7.14"
  }
 },
 "nbformat": 4,
 "nbformat_minor": 2
}
