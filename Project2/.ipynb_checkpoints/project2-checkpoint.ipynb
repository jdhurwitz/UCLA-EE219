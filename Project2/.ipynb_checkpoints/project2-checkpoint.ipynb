{
 "cells": [
  {
   "cell_type": "code",
   "execution_count": 388,
   "metadata": {},
   "outputs": [],
   "source": [
    "%matplotlib inline\n",
    "\n",
    "import matplotlib\n",
    "import numpy as np\n",
    "\n",
    "import matplotlib.pyplot as plt\n",
    "from sklearn.datasets import fetch_20newsgroups"
   ]
  },
  {
   "cell_type": "code",
   "execution_count": 389,
   "metadata": {},
   "outputs": [],
   "source": [
    "comp_categories = ['comp.graphics', 'comp.os.ms-windows.misc', 'comp.sys.ibm.pc.hardware', 'comp.sys.mac.hardware']\n",
    "rec_categories = ['rec.autos', 'rec.motorcycles', 'rec.sport.baseball', 'rec.sport.hockey']\n",
    "comp_train = fetch_20newsgroups(subset='all', categories=comp_categories, shuffle=True, random_state=42)\n",
    "rec_train = fetch_20newsgroups(subset='all', categories=rec_categories, shuffle=True, random_state=42)\n",
    "# comp_test = fetch_20newsgroups(subset='test', categories=comp_categories, shuffle=True, random_state=42)\n",
    "# rec_test = fetch_20newsgroups(subset='test', categories=rec_categories, shuffle=True, random_state=42)\n",
    "\n",
    "#all_points = fetch_20newsgroups(subset='all', categories=comp_categories+rec_categories, shuffle=True, random_state=42)\n",
    "\n"
   ]
  },
  {
   "cell_type": "code",
   "execution_count": 390,
   "metadata": {},
   "outputs": [],
   "source": [
    "# 1. transform the documents into TF-IDF vectors. \n",
    "# Use min df = 3, exclude the stopwords (no need to do stemming). Report the dimensions of the TF-IDF matrix you get.\n",
    "from sklearn.feature_extraction import text\n",
    "from sklearn.feature_extraction.text import CountVectorizer\n",
    "from sklearn.feature_extraction.text import TfidfTransformer\n",
    "\n",
    "vectorizer = CountVectorizer(min_df=3, stop_words=text.ENGLISH_STOP_WORDS) \n",
    "vectorized_corpus = vectorizer.fit_transform(comp_train.data + rec_train.data)\n",
    "\n",
    "tfidf_transformer = TfidfTransformer()\n",
    "trainX = tfidf_transformer.fit_transform(vectorized_corpus)\n",
    "\n",
    "# testX = tfidf_transformer.transform(vectorizer.transform(comp_test.data + rec_test.data))\n",
    "\n",
    "# 0 for comp class, 1 for rec class\n",
    "trainy = np.zeros(shape=(len(comp_train.filenames) + len(rec_train.filenames),))\n",
    "trainy[len(comp_train.filenames):] = 1\n",
    "\n",
    "# testy = np.zeros(shape=(len(comp_test.filenames) + len(rec_test.filenames),))\n",
    "# testy[len(comp_test.filenames):] = 1"
   ]
  },
  {
   "cell_type": "code",
   "execution_count": 391,
   "metadata": {},
   "outputs": [
    {
     "name": "stdout",
     "output_type": "stream",
     "text": [
      "(7882, 27768) (7882,)\n"
     ]
    }
   ],
   "source": [
    "print trainX.shape, trainy.shape"
   ]
  },
  {
   "cell_type": "code",
   "execution_count": 393,
   "metadata": {},
   "outputs": [],
   "source": [
    "# 2. Apply K-means clustering with k = 2 using the TF-IDF data.\n",
    "# Compare the clustering results with the known class labels.\n",
    "# a) Inspect the contingency matrix to get a sense of your clustering result.\n",
    "from sklearn.pipeline import make_pipeline\n",
    "from sklearn.preprocessing import Normalizer\n",
    "from sklearn import metrics\n",
    "\n",
    "from sklearn.cluster import KMeans, MiniBatchKMeans\n",
    "from sklearn.metrics.cluster import contingency_matrix\n",
    "\n",
    "km = KMeans(n_clusters=2, init='k-means++', max_iter=100)\n",
    "km.fit(trainX)\n",
    "ypred = km.predict(trainX)"
   ]
  },
  {
   "cell_type": "code",
   "execution_count": 394,
   "metadata": {},
   "outputs": [
    {
     "name": "stdout",
     "output_type": "stream",
     "text": [
      "(7882,) (3150,)\n",
      "[[3899    4]\n",
      " [2262 1717]]\n"
     ]
    }
   ],
   "source": [
    "print km.labels_.shape, testy.shape\n",
    "print contingency_matrix(trainy, ypred, eps=None, sparse=False)"
   ]
  },
  {
   "cell_type": "code",
   "execution_count": 395,
   "metadata": {},
   "outputs": [
    {
     "name": "stdout",
     "output_type": "stream",
     "text": [
      "Homogeneity: 0.253\n",
      "Completeness: 0.335\n",
      "V-measure: 0.288\n",
      "Adjusted Rand-Index: 0.181\n",
      "Adjusted Mutual Info: 0.253\n"
     ]
    }
   ],
   "source": [
    "# b) 5 Metrics\n",
    "\n",
    "print(\"Homogeneity: %0.3f\" % metrics.homogeneity_score(trainy, ypred))\n",
    "print(\"Completeness: %0.3f\" % metrics.completeness_score(trainy, ypred))\n",
    "print(\"V-measure: %0.3f\" % metrics.v_measure_score(trainy, ypred))\n",
    "print(\"Adjusted Rand-Index: %.3f\" % metrics.adjusted_rand_score(trainy, ypred))\n",
    "print(\"Adjusted Mutual Info: %0.3f\" % metrics.adjusted_mutual_info_score(trainy, ypred))"
   ]
  },
  {
   "cell_type": "code",
   "execution_count": 396,
   "metadata": {},
   "outputs": [
    {
     "name": "stdout",
     "output_type": "stream",
     "text": [
      "1000\n"
     ]
    }
   ],
   "source": [
    "# 3. a) Report the plot of the percent of variance the top r principle components can retain v.s. r, for r = 1 to 1000.\n",
    "from scipy.sparse.linalg import svds\n",
    "\n",
    "#Use SVD to find 1000 principal components\n",
    "u, singular_values, vt = svds(trainX, k=1000)\n",
    "print(len(singular_values))\n"
   ]
  },
  {
   "cell_type": "code",
   "execution_count": 397,
   "metadata": {},
   "outputs": [
    {
     "data": {
      "text/plain": [
       "Text(0,0.5,u'retained variance ratio')"
      ]
     },
     "execution_count": 397,
     "metadata": {},
     "output_type": "execute_result"
    },
    {
     "data": {
      "image/png": "[encoded data removed]",
      "text/plain": [
       "<matplotlib.figure.Figure at 0x114a704d0>"
      ]
     },
     "metadata": {},
     "output_type": "display_data"
    }
   ],
   "source": [
    "from sklearn.decomposition import TruncatedSVD, NMF\n",
    "\n",
    "rs = np.arange(1, 1001)\n",
    "\n",
    "svd = TruncatedSVD(n_components=1000)\n",
    "svd.fit(trainX)\n",
    "explained_vars = svd.explained_variance_ratio_\n",
    "\n",
    "variances = np.zeros(explained_vars.shape)\n",
    "variances[0] = explained_vars[0]\n",
    "for i in range(1,1000):\n",
    "    variances[i] = explained_vars[i] + variances[i-1]\n",
    "    \n",
    "plt.plot(rs, variances, 'ro')\n",
    "plt.xlabel('r')\n",
    "plt.ylabel('retained variance ratio')"
   ]
  },
  {
   "cell_type": "code",
   "execution_count": 411,
   "metadata": {},
   "outputs": [],
   "source": [
    "from sklearn.decomposition import TruncatedSVD, NMF\n",
    "from sklearn import metrics\n",
    "\n",
    "\n",
    "def get_scores(y, yhat):\n",
    "    cont_matrix = contingency_matrix(y,yhat)# ypred)\n",
    "\n",
    "    homogeneity = metrics.homogeneity_score(y, yhat)\n",
    "    completeness_score = metrics.completeness_score(y, yhat)\n",
    "    v_measure_score = metrics.v_measure_score(y, yhat)\n",
    "    adjusted_rand_score = metrics.adjusted_rand_score(y, yhat)\n",
    "    adjusted_mutual_info_score = metrics.adjusted_mutual_info_score(y, yhat)\n",
    "    return cont_matrix, homogeneity, completeness_score, v_measure_score, adjusted_rand_score, adjusted_mutual_info_score\n",
    "   \n",
    "    \n",
    "def get_svd_scores(k,train_lsi=None, test_lsi=None, trainy=trainy, n_clusters=2):\n",
    "    svd = TruncatedSVD(n_components=k)\n",
    "    if train_lsi is None and test_lsi is None:\n",
    "        train_lsi = svd.fit_transform(trainX)\n",
    "#        test_lsi = svd.transform(testX)\n",
    "\n",
    "    km = KMeans(n_clusters).fit(train_lsi)\n",
    "#     km.fit(train_lsi)\n",
    "\n",
    "    ypred = km.predict(train_lsi)\n",
    "    return get_scores(trainy, ypred)\n",
    "#     svd = TruncatedSVD(n_components=40)\n",
    "#     X = svd.fit_transform(trainX)\n",
    "#     kmeans = KMeans(n_clusters=2).fit(X)\n",
    "#     svd2 = TruncatedSVD(n_components=2)\n",
    "#     X2 = svd2.fit_transform(X)\n",
    "\n",
    "\n",
    "    \n",
    "def get_nmf_scores(num_components, train_nmf=None, test_nmf=None,trainy=trainy, n_clusters=2):\n",
    "    nmf = NMF(n_components=num_components)\n",
    "    if train_nmf is None and test_nmf is None:\n",
    "        print(\"Using default NMF transform...\")\n",
    "        train_nmf = nmf.fit_transform(trainX)\n",
    "      #  test_nmf = nmf.transform(testX)\n",
    "    \n",
    "    km = KMeans(n_clusters).fit(train_nmf)\n",
    "    ypred = km.predict(train_nmf)\n",
    "  \n",
    "    return get_scores(trainy, ypred)\n",
    "    "
   ]
  },
  {
   "cell_type": "code",
   "execution_count": 403,
   "metadata": {},
   "outputs": [
    {
     "data": {
      "text/plain": [
       "Text(0,0.5,u'singular val')"
      ]
     },
     "execution_count": 403,
     "metadata": {},
     "output_type": "execute_result"
    },
    {
     "data": {
      "image/png": "[encoded data removed]",
      "text/plain": [
       "<matplotlib.figure.Figure at 0x1a1ee38890>"
      ]
     },
     "metadata": {},
     "output_type": "display_data"
    }
   ],
   "source": [
    "#print(sorted(singular_values, reverse=True))\n",
    "sorted_singular_vals = sorted(singular_values, reverse=True)\n",
    "plt.plot(sorted_singular_vals)\n",
    "plt.xlabel('r')\n",
    "plt.ylabel('singular val')"
   ]
  },
  {
   "cell_type": "code",
   "execution_count": 404,
   "metadata": {},
   "outputs": [
    {
     "name": "stdout",
     "output_type": "stream",
     "text": [
      "LSI...\n",
      "('contingency matrix for r=', 1)\n",
      "[[1703 2200]\n",
      " [1656 2323]]\n",
      "('contingency matrix for r=', 2)\n",
      "[[3713  190]\n",
      " [ 473 3506]]\n",
      "('contingency matrix for r=', 3)\n",
      "[[3866   37]\n",
      " [1422 2557]]\n",
      "('contingency matrix for r=', 5)\n",
      "[[3898    5]\n",
      " [2446 1533]]\n",
      "('contingency matrix for r=', 10)\n",
      "[[3900    3]\n",
      " [2374 1605]]\n",
      "('contingency matrix for r=', 20)\n",
      "[[   3 3900]\n",
      " [1607 2372]]\n",
      "('contingency matrix for r=', 40)\n",
      "[[3900    3]\n",
      " [2336 1643]]\n",
      "('contingency matrix for r=', 50)\n",
      "[[3900    3]\n",
      " [2353 1626]]\n",
      "('contingency matrix for r=', 100)\n",
      "[[3900    3]\n",
      " [2324 1655]]\n",
      "('contingency matrix for r=', 300)\n",
      "[[   4 3899]\n",
      " [1684 2295]]\n",
      "r: 1 \n",
      " homogeneity=0.00030 \n",
      " completeness=0.00030 \n",
      " v-measure=0.00030 \n",
      " adj rand index=0.00034 \n",
      " adj mutual info=0.00021 \n",
      "---\n",
      "r: 2 \n",
      " homogeneity=0.59263 \n",
      " completeness=0.59424 \n",
      " v-measure=0.59343 \n",
      " adj rand index=0.69180 \n",
      " adj mutual info=0.59259 \n",
      "---\n",
      "r: 3 \n",
      " homogeneity=0.40097 \n",
      " completeness=0.43866 \n",
      " v-measure=0.41897 \n",
      " adj rand index=0.39656 \n",
      " adj mutual info=0.40091 \n",
      "---\n",
      "r: 5 \n",
      " homogeneity=0.21960 \n",
      " completeness=0.30838 \n",
      " v-measure=0.25653 \n",
      " adj rand index=0.14284 \n",
      " adj mutual info=0.21953 \n",
      "---\n",
      "r: 10 \n",
      " homogeneity=0.23427 \n",
      " completeness=0.32095 \n",
      " v-measure=0.27084 \n",
      " adj rand index=0.15740 \n",
      " adj mutual info=0.23420 \n",
      "---\n",
      "r: 20 \n",
      " homogeneity=0.23463 \n",
      " completeness=0.32122 \n",
      " v-measure=0.27118 \n",
      " adj rand index=0.15780 \n",
      " adj mutual info=0.23455 \n",
      "---\n",
      "r: 40 \n",
      " homogeneity=0.24105 \n",
      " completeness=0.32606 \n",
      " v-measure=0.27718 \n",
      " adj rand index=0.16514 \n",
      " adj mutual info=0.24098 \n",
      "---\n",
      "r: 50 \n",
      " homogeneity=0.23801 \n",
      " completeness=0.32377 \n",
      " v-measure=0.27434 \n",
      " adj rand index=0.16165 \n",
      " adj mutual info=0.23794 \n",
      "---\n",
      "r: 100 \n",
      " homogeneity=0.24321 \n",
      " completeness=0.32768 \n",
      " v-measure=0.27920 \n",
      " adj rand index=0.16763 \n",
      " adj mutual info=0.24314 \n",
      "---\n",
      "r: 300 \n",
      " homogeneity=0.24740 \n",
      " completeness=0.33013 \n",
      " v-measure=0.28284 \n",
      " adj rand index=0.17350 \n",
      " adj mutual info=0.24733 \n",
      "---\n",
      "[1, 1, 1, 1, 1]\n",
      "1\n",
      "('Best r-value is: ', 2)\n"
     ]
    },
    {
     "data": {
      "image/png": "[encoded data removed]",
      "text/plain": [
       "<matplotlib.figure.Figure at 0x1a21d0e510>"
      ]
     },
     "metadata": {},
     "output_type": "display_data"
    }
   ],
   "source": [
    "# b) LSI vs. NMF\n",
    "# Specifically, try r = 1, 2, 3, 5, 10, 20, 40, 50, 100, 300, and plot the 5 \n",
    "# measure scores v.s. r for both SVD and NMF; also report the contingency matrices for each r.\n",
    "# Report the best r choice for SVD and NMF respectively.\n",
    "# How do you explain the non-monotonic behavior of the measures as r increases?\n",
    "\n",
    "r_vals = [1,2,3,5,10,20,40,50,100,300]\n",
    "contingency_matrices = []\n",
    "h_vals = []\n",
    "c_vals = []\n",
    "v_vals = []\n",
    "rand_vals = []\n",
    "mutual_vals = []\n",
    "print(\"LSI...\")\n",
    "for r in r_vals:\n",
    "    contin, h, c, v, rand, mutual = get_svd_scores(k=r)\n",
    "#    contingency_matrices.append(contin)\n",
    "    print(\"contingency matrix for r=\", r)\n",
    "#    print(h, c, v, rand, mutual)\n",
    "    print(contin)\n",
    "    h_vals.append(h)\n",
    "    c_vals.append(c)\n",
    "    v_vals.append(v)\n",
    "    rand_vals.append(rand)\n",
    "    mutual_vals.append(mutual)\n",
    "    \n",
    "    \n",
    "start_index = 0    \n",
    "r_vals = r_vals[start_index:]\n",
    "h_vals = h_vals[start_index:]\n",
    "c_vals = c_vals[start_index:]\n",
    "v_vals = v_vals[start_index:]\n",
    "rand_vals = rand_vals[start_index:]\n",
    "mutual_vals = mutual_vals[start_index:]\n",
    "\n",
    "for r, h, c, v, rand, mutual in zip(r_vals, h_vals, c_vals, v_vals, rand_vals, mutual_vals):\n",
    "    print(\"r: %i \\n homogeneity=%.5f \\n completeness=%.5f \\n v-measure=%.5f \\n adj rand index=%.5f \\n adj mutual info=%.5f \\n---\" % (r, h, c, v, rand, mutual))\n",
    "\n",
    "# print(h_vals)\n",
    "# print(c_vals)\n",
    "# print(v_vals)\n",
    "# print(rand_vals)\n",
    "# print(mutual_vals)\n",
    "\n",
    "res_list = [np.argmax(h_vals), np.argmax(c_vals), np.argmax(v_vals), np.argmax(rand_vals), np.argmax(mutual_vals)]\n",
    "print(res_list)\n",
    "# best_index = int(np.mean(res_list)) # not sure if this works e.g. [0,1,0,3,2,0]\n",
    "best_index = np.bincount(res_list).argmax() # most frequent index\n",
    "print(best_index)\n",
    "    \n",
    "print(\"Best r-value is: \", r_vals[best_index])\n",
    "plt.plot(r_vals, h_vals, 'r', label=\"homogenity\")\n",
    "plt.plot(r_vals, c_vals, 'g', label=\"completeness score\")\n",
    "plt.plot(r_vals, v_vals, 'b', label=\"v measure\")\n",
    "plt.plot(r_vals, rand_vals, 'm', label=\"rand index\")\n",
    "plt.plot(r_vals, mutual_vals, 'b', label=\"adjusted mutual information\")\n",
    "plt.grid()\n",
    "    \n",
    "    \n",
    "\n"
   ]
  },
  {
   "cell_type": "markdown",
   "metadata": {},
   "source": [
    "# Report the best r choice for SVD\n",
    "The best r choice for SVD was r=40. The metric outputs were:<br>\n",
    "r: 40<br>\n",
    " homogeneity=0.77681 <br>\n",
    " completeness=0.77714 <br>\n",
    " v-measure=0.77697 <br>\n",
    " adj rand index=0.86065 <br> \n",
    " adj mutual info=0.77677"
   ]
  },
  {
   "cell_type": "code",
   "execution_count": null,
   "metadata": {},
   "outputs": [],
   "source": [
    "print(\"NMF...\")   \n",
    "contingency_matrices = []\n",
    "h_vals = []\n",
    "c_vals = []\n",
    "v_vals = []\n",
    "rand_vals = []\n",
    "mutual_vals = []\n",
    "# r_vals = [2,3,4,5]\n",
    "for r in r_vals:\n",
    "    contin, h, c, v, rand, mutual = get_nmf_scores(num_components=r)\n",
    "    print(\"contingency matrix for r=\", r)\n",
    "    print(contin)\n",
    "    h_vals.append(h)\n",
    "    c_vals.append(c)\n",
    "    v_vals.append(v)\n",
    "    rand_vals.append(rand)\n",
    "    mutual_vals.append(mutual)\n",
    "    \n",
    "    \n",
    "start_index = 0    \n",
    "r_vals = r_vals[start_index:]\n",
    "h_vals = h_vals[start_index:]\n",
    "c_vals = c_vals[start_index:]\n",
    "v_vals = v_vals[start_index:]\n",
    "rand_vals = rand_vals[start_index:]\n",
    "mutual_vals = mutual_vals[start_index:]\n",
    "\n",
    "# print(h_vals)\n",
    "# print(c_vals)\n",
    "# print(v_vals)\n",
    "# print(rand_vals)\n",
    "# print(mutual_vals)\n",
    "\n",
    "for r, h, c, v, rand, mutual in zip(r_vals, h_vals, c_vals, v_vals, rand_vals, mutual_vals):\n",
    "    print(\"r: %i \\n homogeneity=%.5f \\n completeness=%.5f \\n v-measure=%.5f \\n adj rand index=%.5f \\n adj mutual info=%.5f \\n---\" % (r, h, c, v, rand, mutual))\n",
    "\n",
    "\n",
    "res_list = [np.argmax(h_vals), np.argmax(c_vals), np.argmax(v_vals), np.argmax(rand_vals), np.argmax(mutual_vals)]\n",
    "print(res_list)\n",
    "# best_index = int(np.mean(res_list))\n",
    "best_index = np.bincount(res_list).argmax() # most frequent index\n",
    "print(best_index)\n",
    "    \n",
    "print(\"Best r-value is: \", r_vals[best_index])\n",
    "plt.plot(r_vals, h_vals, 'r', label=\"homogenity\")\n",
    "plt.plot(r_vals, c_vals, 'g', label=\"completeness score\")\n",
    "plt.plot(r_vals, v_vals, 'b', label=\"v measure\")\n",
    "plt.plot(r_vals, rand_vals, 'm', label=\"rand index\")\n",
    "plt.plot(r_vals, mutual_vals, 'b', label=\"adjusted mutual information\")\n",
    "plt.grid()\n",
    "\n",
    "\n"
   ]
  },
  {
   "cell_type": "markdown",
   "metadata": {},
   "source": [
    "# Report the best r choice for NMF\n",
    "The best r-choice for NMF was r=2.\n",
    "<br>\n",
    "r: 2  <br>\n",
    " homogeneity=0.59932  <br>\n",
    " completeness=0.59959 <br>\n",
    " v-measure=0.59946 <br>\n",
    " adj rand index=0.70657 <br> \n",
    " adj mutual info=0.59923  <br>"
   ]
  },
  {
   "cell_type": "markdown",
   "metadata": {
    "collapsed": true
   },
   "source": [
    "# How do you explain the non-monotonic behavior of the measures as r increases?\n",
    "As we increase the number of dimensions r, more information is encapsulated in the feature representation just by nature of having a higher percentage of the variance due to more principal components. However, K-Means suffers from the curse of dimensionality, so as the dimensions increase, Euclidean distance becomes a worse and worse distance metric and will perform poorly. Thus, we are trading off between more information and an inherent shortcoming in the KMeans method. This is why it's possible for KMeans to perform better with lower dimension (such as r=2) than with higher dimension (such as r=300 or r=1000).\n"
   ]
  },
  {
   "cell_type": "code",
   "execution_count": 45,
   "metadata": {
    "collapsed": true
   },
   "outputs": [],
   "source": [
    "#4a \n",
    "from sklearn.preprocessing import scale\n",
    "\n",
    "#SVD\n",
    "svd = TruncatedSVD(n_components=2)\n",
    "train_lsi = svd.fit_transform(trainX)\n",
    "test_lsi = svd.transform(testX)\n",
    "\n",
    "km = KMeans(n_clusters=2)\n",
    "km.fit(train_lsi)\n",
    "ypred = km.predict(test_lsi)\n",
    "\n",
    "#NMF\n",
    "nmf = NMF(n_components=2)\n",
    "train_nmf = nmf.fit_transform(trainX)\n",
    "test_nmf = nmf.transform(testX)\n",
    "\n",
    "km_nmf = KMeans(n_clusters=2)\n",
    "km_nmf.fit(train_nmf)\n",
    "ypred_nmf = km_nmf.predict(test_nmf)\n"
   ]
  },
  {
   "cell_type": "code",
   "execution_count": 49,
   "metadata": {},
   "outputs": [
    {
     "data": {
      "image/png": "[encoded data removed]",
      "text/plain": [
       "<matplotlib.figure.Figure at 0x110f77fd0>"
      ]
     },
     "metadata": {},
     "output_type": "display_data"
    }
   ],
   "source": [
    "# use LSI w/ r=40\n",
    "def plot_clusters(k, mode='lsi'):\n",
    "    if mode is 'lsi':\n",
    "        svd = TruncatedSVD(n_components=k)\n",
    "    else:\n",
    "        svd = NMF(n_components=k)\n",
    "    X = svd.fit_transform(trainX)\n",
    "    kmeans = KMeans(n_clusters=2).fit(X)\n",
    "    svd2 = TruncatedSVD(n_components=2)\n",
    "    X2 = svd2.fit_transform(X)\n",
    "\n",
    "    x1 = X2[kmeans.labels_ == 0][:, 0]\n",
    "    y1 = X2[kmeans.labels_ == 0][:, 1]\n",
    "    plt.plot(x1,y1,'r+')\n",
    "    x2 = X2[kmeans.labels_ == 1][:, 0]\n",
    "    y2 = X2[kmeans.labels_ == 1][:, 1]\n",
    "    plt.plot(x2, y2, 'b+')\n",
    "    centroids = kmeans.cluster_centers_\n",
    "    plt.scatter(centroids[:, 0], centroids[:, 1],marker='x', s=169, linewidths=3,color='w', zorder=10)\n",
    "    plt.show()\n",
    "\n",
    "plot_clusters(k=40)"
   ]
  },
  {
   "cell_type": "code",
   "execution_count": 48,
   "metadata": {
    "collapsed": true
   },
   "outputs": [],
   "source": [
    "from matplotlib.colors import ListedColormap\n",
    "\n",
    "# Plot the decision boundary. For that, we will assign a color to each\n",
    "# point in the mesh [x_min, x_max]x[y_min, y_max].\n",
    "\n",
    "#print(X.shape)\n",
    "def plot_kmeans(X, km_model):\n",
    "    #step size in mesh\n",
    "    h=0.2\n",
    "\n",
    "    # Create color maps\n",
    "    cmap_light = ListedColormap(['#FFAAAA', '#AAFFAA', '#AAAAFF'])\n",
    "    cmap_bold = ListedColormap(['#FF0000', '#00FF00', '#0000FF'])\n",
    "\n",
    "    x_min, x_max = X[:, 0].min() - 1, X[:, 0].max() + 1\n",
    "    y_min, y_max = X[:, 1].min() - 1, X[:, 1].max() + 1\n",
    "    xx, yy = np.meshgrid(np.arange(x_min, x_max, h),\n",
    "                         np.arange(y_min, y_max, h))\n",
    "\n",
    "#    print(xx.shape, yy.shape)\n",
    "    Z = km_model.predict(np.c_[xx.ravel(), yy.ravel()])\n",
    "\n",
    "    # Put the result into a color plot\n",
    "    Z = Z.reshape(xx.shape)\n",
    "    plt.figure()\n",
    "    plt.pcolormesh(xx, yy, Z, cmap=cmap_light)\n",
    "\n",
    "    # Plot also the training points\n",
    "    #plt.scatter(X[:, 0], X[:, 1], c=y, cmap=cmap_bold)\n",
    "    #plt.xlim(xx.min(), xx.max())\n",
    "    #plt.ylim(yy.min(), yy.max())\n",
    "\n",
    "    #plt.show()\n",
    "    plt.imshow(Z, interpolation='nearest',\n",
    "               extent=(xx.min(), xx.max(), yy.min(), yy.max()),\n",
    "               cmap=plt.cm.Paired,\n",
    "               aspect='auto', origin='lower')\n",
    "\n",
    "    plt.plot(X[:, 0], X[:, 1], 'k.', markersize=2)\n",
    "    # Plot the centroids as a white X\n",
    "    centroids = km_model.cluster_centers_\n",
    "    plt.scatter(centroids[:, 0], centroids[:, 1],\n",
    "                marker='x', s=169, linewidths=3,\n",
    "                color='w', zorder=10)\n",
    "    plt.title('K-Means on reduced data showing centroids in white')\n",
    "    plt.xlim(x_min, x_max)\n",
    "    plt.ylim(y_min, y_max)\n",
    "    #plt.xlim(0, 0.4)\n",
    "    #plt.ylim(-0.4, 0.4)\n",
    "    #plt.xticks(())\n",
    "    #plt.yticks(())\n",
    "    plt.show()"
   ]
  },
  {
   "cell_type": "code",
   "execution_count": 374,
   "metadata": {},
   "outputs": [
    {
     "data": {
      "image/png": "[encoded data removed]",
      "text/plain": [
       "<matplotlib.figure.Figure at 0x1a20fd6d90>"
      ]
     },
     "metadata": {},
     "output_type": "display_data"
    },
    {
     "data": {
      "image/png": "[encoded data removed]",
      "text/plain": [
       "<matplotlib.figure.Figure at 0x112a17a50>"
      ]
     },
     "metadata": {},
     "output_type": "display_data"
    }
   ],
   "source": [
    "#X=scaled_train_lsi\n",
    "#km_model = km\n",
    "plot_kmeans(X=train_lsi, km_model=km)\n",
    "plot_kmeans(X=train_nmf, km_model=km_nmf)\n",
    "\n"
   ]
  },
  {
   "cell_type": "code",
   "execution_count": 375,
   "metadata": {
    "collapsed": true
   },
   "outputs": [],
   "source": [
    "def sweep_metrics(train_vecs, names, km_model):\n",
    "    #Store the different combinations\n",
    "    contingency_matrices = []\n",
    "    h_vals = []\n",
    "    c_vals = []\n",
    "    v_vals = []\n",
    "    rand_vals = []\n",
    "    mutual_vals = []\n",
    "    \n",
    "    for i in range(len(train_vecs)):\n",
    "        print(names[i])\n",
    "#         plot_kmeans(X=train_vecs[i], km_model=km_model)\n",
    "        plot_clusters(X=train_vecs[i])\n",
    "        contin, h, c, v, rand, mutual = get_nmf_scores(num_components=2, train_nmf=train_vecs[i], test_nmf=test_vecs[i])\n",
    "        \n",
    "        contingency_matrices.append(contin)\n",
    "        h_vals.append(h)\n",
    "        c_vals.append(c)\n",
    "        v_vals.append(v)\n",
    "        rand_vals.append(rand)\n",
    "        mutual_vals.append(mutual)\n",
    "\n",
    "    \n",
    "    return (contingency_matrices, h_vals, c_vals, v_vals, rand_vals, mutual_vals)"
   ]
  },
  {
   "cell_type": "code",
   "execution_count": 67,
   "metadata": {},
   "outputs": [
    {
     "data": {
      "image/png": "[encoded data removed]",
      "text/plain": [
       "<matplotlib.figure.Figure at 0x10db3a0d0>"
      ]
     },
     "metadata": {},
     "output_type": "display_data"
    },
    {
     "data": {
      "text/plain": [
       "(array([[1489, 2414],\n",
       "        [1398, 2581]]),\n",
       " 0.00070661052447245612,\n",
       " 0.00074549985271753509,\n",
       " 0.00072553443622137771,\n",
       " 0.00094710397895887688,\n",
       " 0.00061512314662971659)"
      ]
     },
     "execution_count": 67,
     "metadata": {},
     "output_type": "execute_result"
    }
   ],
   "source": [
    "# LSI k=40, normalize\n",
    "\n",
    "svd = TruncatedSVD(n_components=40)\n",
    "# X = svd.fit_transform(trainX)\n",
    "# print(X)\n",
    "X = scale(svd.fit_transform(trainX))\n",
    "# print(len(np.var(scaled_lsi,axis=0)))\n",
    "kmeans = KMeans(n_clusters=2).fit(X)\n",
    "svd2 = TruncatedSVD(n_components=2)\n",
    "X2 = svd2.fit_transform(X)\n",
    "\n",
    "x1 = X2[kmeans.labels_ == 0][:, 0]\n",
    "y1 = X2[kmeans.labels_ == 0][:, 1]\n",
    "plt.plot(x1,y1,'r+')\n",
    "x2 = X2[kmeans.labels_ == 1][:, 0]\n",
    "y2 = X2[kmeans.labels_ == 1][:, 1]\n",
    "plt.plot(x2, y2, 'b+')\n",
    "centroids = kmeans.cluster_centers_\n",
    "plt.scatter(centroids[:, 0], centroids[:, 1],marker='x', s=169, linewidths=3,color='w', zorder=10)\n",
    "plt.show()\n",
    "\n",
    "\n",
    "ypred = kmeans.predict(X)\n",
    "get_scores(trainy, ypred)"
   ]
  },
  {
   "cell_type": "code",
   "execution_count": 81,
   "metadata": {},
   "outputs": [
    {
     "data": {
      "image/png": "[encoded data removed]",
      "text/plain": [
       "<matplotlib.figure.Figure at 0x113107f10>"
      ]
     },
     "metadata": {},
     "output_type": "display_data"
    },
    {
     "data": {
      "text/plain": [
       "(array([[ 369, 3534],\n",
       "        [3873,  106]]),\n",
       " 0.68280383215740159,\n",
       " 0.68564597521446458,\n",
       " 0.68422195225245208,\n",
       " 0.77344267746059059,\n",
       " 0.68277479271669961)"
      ]
     },
     "execution_count": 81,
     "metadata": {},
     "output_type": "execute_result"
    }
   ],
   "source": [
    "# NMF k=40, normalize\n",
    "\n",
    "svd = NMF(n_components=2)\n",
    "# print(X)\n",
    "X = scale(svd.fit_transform(trainX))\n",
    "# print(len(np.var(scaled_lsi,axis=0)))\n",
    "kmeans = KMeans(n_clusters=2).fit(X)\n",
    "# svd2 = TruncatedSVD(n_components=2)\n",
    "# X2 = svd2.fit_transform(X)\n",
    "\n",
    "x1 = X[kmeans.labels_ == 0][:, 0]\n",
    "y1 = X[kmeans.labels_ == 0][:, 1]\n",
    "plt.plot(x1,y1,'r+')\n",
    "x2 = X[kmeans.labels_ == 1][:, 0]\n",
    "y2 = X[kmeans.labels_ == 1][:, 1]\n",
    "plt.plot(x2, y2, 'b+')\n",
    "centroids = kmeans.cluster_centers_\n",
    "plt.scatter(centroids[:, 0], centroids[:, 1],marker='x', s=169, linewidths=3,color='w', zorder=10)\n",
    "plt.show()\n",
    "\n",
    "ypred = kmeans.predict(X)\n",
    "get_scores(trainy, ypred)"
   ]
  },
  {
   "cell_type": "code",
   "execution_count": 82,
   "metadata": {},
   "outputs": [
    {
     "data": {
      "image/png": "[encoded data removed]",
      "text/plain": [
       "<matplotlib.figure.Figure at 0x10df62590>"
      ]
     },
     "metadata": {},
     "output_type": "display_data"
    },
    {
     "data": {
      "text/plain": [
       "(array([[ 325, 3578],\n",
       "        [3829,  150]]),\n",
       " 0.676198943948499,\n",
       " 0.6775820415392334,\n",
       " 0.6768897862193376,\n",
       " 0.77344265508849352,\n",
       " 0.67616929984966179)"
      ]
     },
     "execution_count": 82,
     "metadata": {},
     "output_type": "execute_result"
    }
   ],
   "source": [
    "# NMF Log transformation\n",
    "from sklearn.pipeline import *\n",
    "from sklearn.preprocessing import Normalizer\n",
    "from sklearn.preprocessing import PolynomialFeatures, FunctionTransformer\n",
    "\n",
    "# print(X)\n",
    "poly_transform = FunctionTransformer(np.log1p)\n",
    "nmf_norm_poly = make_pipeline(NMF(n_components=2), poly_transform)\n",
    "X = nmf_norm_poly.fit_transform(trainX)\n",
    "# X = scale(svd.fit_transform(trainX))\n",
    "# print(len(np.var(scaled_lsi,axis=0)))\n",
    "kmeans = KMeans(n_clusters=2).fit(X)\n",
    "\n",
    "\n",
    "x1 = X[kmeans.labels_ == 0][:, 0]\n",
    "y1 = X[kmeans.labels_ == 0][:, 1]\n",
    "plt.plot(x1,y1,'r+')\n",
    "x2 = X[kmeans.labels_ == 1][:, 0]\n",
    "y2 = X[kmeans.labels_ == 1][:, 1]\n",
    "plt.plot(x2, y2, 'b+')\n",
    "centroids = kmeans.cluster_centers_\n",
    "plt.scatter(centroids[:, 0], centroids[:, 1],marker='x', s=169, linewidths=3, color='w', zorder=10)\n",
    "plt.show()\n",
    "\n",
    "\n",
    "ypred = kmeans.predict(X)\n",
    "get_scores(trainy, ypred)"
   ]
  },
  {
   "cell_type": "code",
   "execution_count": 83,
   "metadata": {},
   "outputs": [
    {
     "data": {
      "image/png": "[encoded data removed]",
      "text/plain": [
       "<matplotlib.figure.Figure at 0x1104dbf90>"
      ]
     },
     "metadata": {},
     "output_type": "display_data"
    },
    {
     "data": {
      "text/plain": [
       "(array([[3536,  367],\n",
       "        [ 106, 3873]]),\n",
       " 0.68368793206160361,\n",
       " 0.68649525835469682,\n",
       " 0.68508871928580239,\n",
       " 0.77433568617041104,\n",
       " 0.68365897356118943)"
      ]
     },
     "execution_count": 83,
     "metadata": {},
     "output_type": "execute_result"
    }
   ],
   "source": [
    "# transform then scale\n",
    "# print(X)\n",
    "poly_transform = FunctionTransformer(np.log1p)\n",
    "nmf_norm_poly = make_pipeline(NMF(n_components=2), poly_transform)\n",
    "X = scale(nmf_norm_poly.fit_transform(trainX))\n",
    "# X = scale(svd.fit_transform(trainX))\n",
    "# print(len(np.var(scaled_lsi,axis=0)))\n",
    "kmeans = KMeans(n_clusters=2).fit(X)\n",
    "\n",
    "x1 = X[kmeans.labels_ == 0][:, 0]\n",
    "y1 = X[kmeans.labels_ == 0][:, 1]\n",
    "plt.plot(x1,y1,'r+')\n",
    "x2 = X[kmeans.labels_ == 1][:, 0]\n",
    "y2 = X[kmeans.labels_ == 1][:, 1]\n",
    "plt.plot(x2, y2, 'b+')\n",
    "centroids = kmeans.cluster_centers_\n",
    "plt.scatter(centroids[:, 0], centroids[:, 1],marker='x', s=169, linewidths=3,color='w', zorder=10)\n",
    "plt.show()\n",
    "\n",
    "\n",
    "ypred = kmeans.predict(X)\n",
    "get_scores(trainy, ypred)"
   ]
  },
  {
   "cell_type": "code",
   "execution_count": 84,
   "metadata": {},
   "outputs": [
    {
     "data": {
      "image/png": "[encoded data removed]",
      "text/plain": [
       "<matplotlib.figure.Figure at 0x10ee3d890>"
      ]
     },
     "metadata": {},
     "output_type": "display_data"
    },
    {
     "data": {
      "text/plain": [
       "(array([[3615,  288],\n",
       "        [ 227, 3752]]),\n",
       " 0.65213449371188337,\n",
       " 0.65238775535528004,\n",
       " 0.65226109994930959,\n",
       " 0.75569062945409626,\n",
       " 0.65210264652287953)"
      ]
     },
     "execution_count": 84,
     "metadata": {},
     "output_type": "execute_result"
    }
   ],
   "source": [
    "# scale then transform\n",
    "# print(X)\n",
    "svd = NMF(n_components=2)\n",
    "# print(X)\n",
    "scaled = scale(svd.fit_transform(trainX))\n",
    "# print(scaled)\n",
    "poly_transform = FunctionTransformer(np.log1p)\n",
    "X = np.nan_to_num(poly_transform.fit_transform(scaled))\n",
    "\n",
    "kmeans = KMeans(n_clusters=2).fit(np.nan_to_num(X))\n",
    "\n",
    "x1 = X[kmeans.labels_ == 0][:, 0]\n",
    "y1 = X[kmeans.labels_ == 0][:, 1]\n",
    "plt.plot(x1,y1,'r+')\n",
    "x2 = X[kmeans.labels_ == 1][:, 0]\n",
    "y2 = X[kmeans.labels_ == 1][:, 1]\n",
    "plt.plot(x2, y2, 'b+')\n",
    "centroids = kmeans.cluster_centers_\n",
    "plt.scatter(centroids[:, 0], centroids[:, 1],marker='x', s=169, linewidths=3,color='w', zorder=10)\n",
    "plt.show()\n",
    "\n",
    "\n",
    "ypred = kmeans.predict(X)\n",
    "get_scores(trainy, ypred)"
   ]
  },
  {
   "cell_type": "code",
   "execution_count": 377,
   "metadata": {},
   "outputs": [
    {
     "name": "stdout",
     "output_type": "stream",
     "text": [
      "Normalized features\n"
     ]
    },
    {
     "data": {
      "image/png": "[encoded data removed]",
      "text/plain": [
       "<matplotlib.figure.Figure at 0x114a673d0>"
      ]
     },
     "metadata": {},
     "output_type": "display_data"
    },
    {
     "name": "stdout",
     "output_type": "stream",
     "text": [
      "Non-linear log transform\n"
     ]
    },
    {
     "data": {
      "image/png": "[encoded data removed]",
      "text/plain": [
       "<matplotlib.figure.Figure at 0x1a1ee96690>"
      ]
     },
     "metadata": {},
     "output_type": "display_data"
    },
    {
     "name": "stdout",
     "output_type": "stream",
     "text": [
      "Log transform then normalization\n"
     ]
    },
    {
     "data": {
      "image/png": "[encoded data removed]",
      "text/plain": [
       "<matplotlib.figure.Figure at 0x1131b8cd0>"
      ]
     },
     "metadata": {},
     "output_type": "display_data"
    },
    {
     "name": "stdout",
     "output_type": "stream",
     "text": [
      "Normalization then log transform\n"
     ]
    },
    {
     "data": {
      "image/png": "[encoded data removed]",
      "text/plain": [
       "<matplotlib.figure.Figure at 0x1131b8650>"
      ]
     },
     "metadata": {},
     "output_type": "display_data"
    },
    {
     "name": "stdout",
     "output_type": "stream",
     "text": [
      "homogeneity=0.63576 \n",
      " completeness=0.63761 \n",
      " v-measure=0.63669 \n",
      " adj rand index=0.73570 \n",
      " adj mutual info=0.63568 \n",
      "---\n",
      "homogeneity=0.60663 \n",
      " completeness=0.60710 \n",
      " v-measure=0.60687 \n",
      " adj rand index=0.71300 \n",
      " adj mutual info=0.60654 \n",
      "---\n",
      "homogeneity=0.63363 \n",
      " completeness=0.63555 \n",
      " v-measure=0.63459 \n",
      " adj rand index=0.73352 \n",
      " adj mutual info=0.63355 \n",
      "---\n",
      "homogeneity=0.60298 \n",
      " completeness=0.60336 \n",
      " v-measure=0.60317 \n",
      " adj rand index=0.70978 \n",
      " adj mutual info=0.60289 \n",
      "---\n",
      "Determining best model...\n",
      "[0, 0, 0, 0, 0]\n",
      "('Best model #: ', 0)\n"
     ]
    }
   ],
   "source": [
    "from sklearn.pipeline import *\n",
    "from sklearn.preprocessing import Normalizer\n",
    "from sklearn.preprocessing import PolynomialFeatures, FunctionTransformer\n",
    "\n",
    "\n",
    "#Normalization only for NMF using previously generated nmf model\n",
    "scaled_train_nmf = scale(train_nmf)\n",
    "scaled_test_nmf = scale(test_nmf)\n",
    "\n",
    "\n",
    "#Log transformation on NMF w/ no normalization \n",
    "nmf = NMF(n_components=2)\n",
    "poly_transform = FunctionTransformer(np.log1p)\n",
    "nmf_norm_poly =make_pipeline(nmf, poly_transform)\n",
    "\n",
    "train_nmf_poly = nmf_norm_poly.fit_transform(trainX)\n",
    "test_nmf_poly = nmf_norm_poly.transform(testX)\n",
    "\n",
    "#Poly first then normalization \n",
    "train_poly_norm = scale(train_nmf_poly)\n",
    "test_poly_norm = scale(test_nmf_poly)\n",
    "\n",
    "\n",
    "#Normalization first then poly\n",
    "train_norm_poly = poly_transform.fit_transform(train_nmf)\n",
    "test_norm_poly = poly_transform.transform(test_nmf)\n",
    "\n",
    "train = np.array([scaled_train_nmf, train_nmf_poly, train_poly_norm, train_norm_poly], dtype=float)\n",
    "test = np.array([scaled_test_nmf, test_nmf_poly, test_poly_norm, test_norm_poly], dtype=float)\n",
    "names = ['Normalized features', 'Non-linear log transform', 'Log transform then normalization', 'Normalization then log transform']\n",
    "\n",
    "\n",
    "results = sweep_metrics(train, test, names, km_nmf)\n",
    "contingency_matrices = results[0]\n",
    "h_vals = results[1]\n",
    "c_vals = results[2]\n",
    "v_vals = results[3]\n",
    "rand_vals = results[4]\n",
    "mutual_vals = results[5]\n",
    "\n",
    "for h, c, v, rand, mutual in zip(h_vals, c_vals, v_vals, rand_vals, mutual_vals):\n",
    "    print(\" homogeneity=%.5f \\n completeness=%.5f \\n v-measure=%.5f \\n adj rand index=%.5f \\n adj mutual info=%.5f \\n---\" % (h, c, v, rand, mutual))\n",
    "    \n",
    "\n",
    "    \n",
    "print(\"Determining best model...\")\n",
    "res_list = [np.argmax(h_vals), np.argmax(c_vals), np.argmax(v_vals), np.argmax(rand_vals), np.argmax(mutual_vals)]\n",
    "print(res_list)\n",
    "# best_index = int(np.mean(res_list))\n",
    "best_index = np.bincount(res_list).argmax() # most frequent index\n",
    "\n",
    "\n",
    "\n",
    "print(\"Best model #: \", best_index)\n",
    "\n",
    "\n"
   ]
  },
  {
   "cell_type": "markdown",
   "metadata": {},
   "source": [
    "# Can you justify why logarithm transformation may increase the clustering results?\n",
    "a logarithm transformation doesn't help...\n"
   ]
  },
  {
   "cell_type": "markdown",
   "metadata": {
    "collapsed": true
   },
   "source": [
    "# 5: Expand Dataset into 20 categories"
   ]
  },
  {
   "cell_type": "code",
   "execution_count": 379,
   "metadata": {},
   "outputs": [],
   "source": [
    "from sklearn.feature_extraction.text import TfidfVectorizer \n",
    "\n",
    "all_data = fetch_20newsgroups(subset='all', shuffle=True, random_state=42,  remove=('headers','footers','quotes'))\n",
    "tfidf = TfidfVectorizer(analyzer='word', stop_words=text.ENGLISH_STOP_WORDS, min_df=3)\n",
    "\n",
    "all_data_tfidf = tfidf.fit_transform(all_data.data)"
   ]
  },
  {
   "cell_type": "code",
   "execution_count": 382,
   "metadata": {},
   "outputs": [
    {
     "name": "stdout",
     "output_type": "stream",
     "text": [
      "(array([10,  3, 17,  3,  4, 12,  4, 10, 10, 19, 19, 11, 19, 13,  0, 17, 12,\n",
      "       12, 11,  8]), 18846)\n"
     ]
    }
   ],
   "source": [
    "#get data labels\n",
    "labels_all_data = all_data.target\n",
    "print(labels_all_data[:20], len(labels_all_data))"
   ]
  },
  {
   "cell_type": "code",
   "execution_count": 383,
   "metadata": {},
   "outputs": [
    {
     "data": {
      "text/plain": [
       "(array([[  0,   0,   3, 310,   0,   2,   0,   5,   1,  15,  33,   0,  15,\n",
       "           2, 267,  17,   0, 119,   7,   3],\n",
       "        [  0,   0, 265,  61,  51,   0,   5,   1,   1,   0,  15,   0,  18,\n",
       "           3, 265,  19,  36,   0, 140,  93],\n",
       "        [ 19,   0,  79,  54,  70,   0,   1,   0,   0,   0,  15,   0,  28,\n",
       "           1, 238,  10, 286,   1,  59, 124],\n",
       "        [190,   0,  37,  42, 213,   2,   3,   0,   2,   0,  27,   1,  16,\n",
       "           5, 270,  16,  42,   0, 104,  12],\n",
       "        [106,   0,  35,  82, 141,   0,   3,   0,   1,   0,  12,   0,  20,\n",
       "           1, 407,  19,   5,   0, 124,   7],\n",
       "        [  1,   0, 457,  34,  10,   0,   5,   0,   0,   0,  17,   0,  21,\n",
       "           9, 224,   7,  48,   0, 100,  55],\n",
       "        [ 67,   0,  12,  31,  61,  32,  92,   0,  19,   0,  32,   5,   3,\n",
       "           1, 500,  45,  19,   0,  55,   1],\n",
       "        [  3,   0,   2, 123,   0, 316,   2,   0,   0,  11,  17,   0,  16,\n",
       "           1, 405,  63,   0,   0,  30,   1],\n",
       "        [ 14,   0,   0, 295,   0,  32,   1,   0,   2,   5,  29,   0,  22,\n",
       "           0, 510,  47,   0,   4,  34,   1],\n",
       "        [  0,   0,   0,  64,   0,   1,   9,   0, 106,   0,  20, 158,   7,\n",
       "           1, 315, 275,   0,   1,  36,   1],\n",
       "        [  0,   0,   0,  53,   0,   1,  53,   0, 197,   1,   2, 371,   6,\n",
       "           0, 235,  62,   0,   0,  17,   1],\n",
       "        [  0,   0,  18, 128,   4,   1,   2,   1,   0, 106,  39,   1,  13,\n",
       "         329, 304,  15,   5,   0,  17,   8],\n",
       "        [ 15,   0,  38, 104,  19,  19,   1,   0,   2,   6,  23,   0,  35,\n",
       "           6, 567,  34,   2,   1, 105,   7],\n",
       "        [  0,  71,   7, 265,   0,   0,   2,   1,   0,   1,  11,   0,  31,\n",
       "           0, 478,  60,   1,   4,  58,   0],\n",
       "        [  0,   0,  28, 364,   1,   1,   7,   0,   0,  11,  17,   0,  14,\n",
       "           0, 467,  45,   1,   0,  30,   1],\n",
       "        [  0,   0,   0, 210,   0,   0,   0,   4,   0,   5,   8,   0,   8,\n",
       "           0, 291,  20,   1, 426,  23,   1],\n",
       "        [  0,   0,   0, 109,   1,   2,   4,   2,   1, 414,  52,   1,   8,\n",
       "           0, 280,  24,   0,   3,   6,   3],\n",
       "        [  0,   0,   1, 110,   0,   0,   3, 489,   0,  22,   5,   0,  10,\n",
       "           0, 274,  15,   0,   7,   3,   1],\n",
       "        [  1,   0,   0, 251,   0,   2,   2,   1,   1, 159,  12,   0,  10,\n",
       "           0, 296,  33,   0,   1,   6,   0],\n",
       "        [  0,   2,   1, 166,   0,   2,   0,   8,   2,  49,   6,   0,   9,\n",
       "           0, 248,   9,   0, 121,   5,   0]]),\n",
       " 0.24577158731372664,\n",
       " 0.31299687466401288,\n",
       " 0.27534030262958759,\n",
       " 0.053165658634609217,\n",
       " 0.2433195668154112)"
      ]
     },
     "execution_count": 383,
     "metadata": {},
     "output_type": "execute_result"
    }
   ],
   "source": [
    "#Raw without dimensionality reduction \n",
    "km = KMeans(n_clusters=20)\n",
    "km.fit(all_data_tfidf)\n",
    "\n",
    "ytrue = labels_all_data\n",
    "ypred = km.labels_\n",
    "\n",
    "get_scores(ytrue, ypred)\n"
   ]
  },
  {
   "cell_type": "code",
   "execution_count": 385,
   "metadata": {},
   "outputs": [],
   "source": [
    "# LSI w/ n_components = 2 and 40 \n",
    "svd_2 = TruncatedSVD(n_components=2)\n",
    "svd_40 = TruncatedSVD(n_components=40)\n",
    "\n",
    "lsi_total_2 = svd_2.fit_transform(all_data_tfidf)\n",
    "lsi_total_40 = svd_40.fit_transform(all_data_tfidf)\n",
    "\n",
    "km_2 = KMeans(n_clusters=20)\n",
    "km_2.fit(lsi_total_2)\n",
    "\n",
    "km_40 = KMeans(n_clusters=20)\n",
    "km_40.fit(lsi_total_40)\n",
    "\n",
    "ypred_2 = km_2.labels_\n",
    "ypred_40 = km_40.labels_\n",
    "\n"
   ]
  },
  {
   "cell_type": "code",
   "execution_count": 386,
   "metadata": {},
   "outputs": [
    {
     "data": {
      "text/plain": [
       "(array([[ 78,   1,  59,  11,   2,   4, 117,   2,   0,  55, 132, 164,  21,\n",
       "           0,  24,   0,  80,   4,   0,  45],\n",
       "        [  7, 159,   0, 113,  50,  25,  31, 104,  61,  46,   0,   3,   0,\n",
       "         115,   0,  13,   1,  52, 146,  47],\n",
       "        [  7, 109,   0,  80,  58,   9,  20,  76, 179,  72,   1,   4,   0,\n",
       "          86,   0,  50,   2,  25, 195,  12],\n",
       "        [  2, 154,   0,  83,  80,  10,  10,  85, 119,  36,   0,   1,   0,\n",
       "         138,   0,  35,   1,  23, 192,  13],\n",
       "        [  1, 159,   0, 130,  92,  17,  20, 111,  39,  63,   0,   1,   1,\n",
       "         129,   0,   4,   1,  57, 109,  29],\n",
       "        [  4, 199,   0, 175,  43,   7,  11, 154,  34,  43,   0,   3,   0,\n",
       "         143,   0,  18,   2,  36,  97,  19],\n",
       "        [  6, 150,   0, 196,  26,   8,  37, 172,  56,  67,   0,   4,   0,\n",
       "          73,   0,   5,   1,  39,  99,  36],\n",
       "        [ 78,  12,   2,  99,   5,  36, 140,  72,   0, 118,   6,  39,   2,\n",
       "          22,   0,   0,  11, 133,   3, 212],\n",
       "        [ 96,   4,   0,  81,   0,  33, 202,  50,   0, 111,   6,  78,   1,\n",
       "          12,   0,   0,  17,  89,   1, 215],\n",
       "        [148,  11,   0,  34,   2,  22, 226,  21,   1, 119,  19, 136,  11,\n",
       "           4,   0,   0,  42,  36,   4, 158],\n",
       "        [179,   6,   0,  36,   1,  13, 233,  14,   0, 108,  11, 185,  10,\n",
       "           4,   0,   0,  59,  14,   0, 126],\n",
       "        [122,  10,   2,  46,  19, 112,  89,  55,   6,  67,  13,  74,  34,\n",
       "          35,   1,   3,  50, 131,   4, 118],\n",
       "        [ 16,  63,   0, 128,  38,  22,  78, 179,   4,  74,   0,  11,   0,\n",
       "          88,   0,   0,   2, 112,  32, 137],\n",
       "        [140,   7,   4,  44,   2,  20, 212,  64,   0,  89,   9,  73,   8,\n",
       "          10,   0,   2,  35,  54,   2, 215],\n",
       "        [108,  14,   1,  80,   8,  34, 187,  55,   0,  85,   8,  44,   7,\n",
       "          23,   0,   1,  28,  99,   6, 199],\n",
       "        [ 59,   3, 178,   5,   1,  10,  75,  11,   1,  49, 220, 153,  27,\n",
       "           5,  77,   0,  81,  13,   0,  29],\n",
       "        [132,   0,   9,  18,   1,  13, 166,   7,   0,  56,  83, 156,  42,\n",
       "           1,   7,   0, 123,  17,   0,  79],\n",
       "        [ 79,   0,  23,  12,   1,   2, 155,   0,   0,  64, 189, 259,  20,\n",
       "           0,  12,   0,  80,   5,   0,  39],\n",
       "        [124,   0,   4,   5,   0,   8, 126,   3,   0,  47,  65, 185,  45,\n",
       "           0,   3,   0,  83,  11,   4,  62],\n",
       "        [ 56,   1,  59,  10,   1,   2,  97,   1,   0,  58,  86, 119,  17,\n",
       "           0,  33,   0,  50,   7,   0,  31]]),\n",
       " 0.17447613105470641,\n",
       " 0.18657878070696646,\n",
       " 0.18032461398084582,\n",
       " 0.05061995596462119,\n",
       " 0.17180206573336076)"
      ]
     },
     "execution_count": 386,
     "metadata": {},
     "output_type": "execute_result"
    }
   ],
   "source": [
    "#get scores for 2\n",
    "get_scores(ytrue, ypred_2)\n"
   ]
  },
  {
   "cell_type": "code",
   "execution_count": 387,
   "metadata": {},
   "outputs": [
    {
     "data": {
      "text/plain": [
       "(array([[  7, 322,  83,   0,   2,   3,   0,   0,   0,   2,   5, 262,   0,\n",
       "           0,  93,   2,   0,  18,   0,   0],\n",
       "        [166, 290,   0,   0,   0,   0,   0,  54,   0, 257,  10,  71,   0,\n",
       "          90,   0,   2,   0,   0,   4,  29],\n",
       "        [ 72, 240,   1,   0,   0,   0,   0,  77,  16, 157,   5,  49,   0,\n",
       "          56,   0,   0,   2,   1,   1, 308],\n",
       "        [ 97, 189,   0,   0,   3,   0,   0, 168, 126,  30,   1,  32,   3,\n",
       "         220,   0,   3,  70,   0,   1,  39],\n",
       "        [ 96, 228,   0,   0,   0,   0,   0,  54,  85,  14,   4,  45,   1,\n",
       "         400,   0,   1,  29,   0,   1,   5],\n",
       "        [123, 290,   0,   0,   0,   0,   0,   7,   1, 441,   4,  41,   0,\n",
       "          21,   0,   8,   0,   0,   4,  48],\n",
       "        [ 46, 236,   0,   0,  26,   0,   0,  35,  59,   0,   1,  23,  15,\n",
       "         453,   0,   0,   7,   0,  63,  11],\n",
       "        [ 36, 436,   0,   0, 332,   0,   0,   0,   3,   4,   0, 147,   0,\n",
       "          16,   2,   1,   0,  11,   2,   0],\n",
       "        [ 36, 537,   2,   0,  45,   0,   0,   0,  16,   0,   1, 335,   2,\n",
       "          17,   0,   0,   0,   5,   0,   0],\n",
       "        [ 43, 444,   1,   0,   1,   0,   0,   0,   0,   1,   0, 138, 361,\n",
       "           0,   0,   1,   0,   1,   3,   0],\n",
       "        [ 21, 311,   0,   0,   1,   0,   0,   0,   0,   0,   1,  75, 576,\n",
       "           3,   0,   0,   0,   0,  11,   0],\n",
       "        [ 21, 336,   0,   0,   1,   0,   0,   1,   1,  18,   5, 139,   0,\n",
       "          36,   0, 334,   0,  93,   1,   5],\n",
       "        [106, 474,   1,   0,  20,   0,   0,   9,  13,  20,   8, 114,   2,\n",
       "         200,   0,   6,   2,   5,   1,   3],\n",
       "        [ 66, 554,   4,  71,   0,   0,   0,   0,   0,   2,   5, 278,   0,\n",
       "           6,   0,   0,   0,   3,   0,   1],\n",
       "        [ 26, 435,   0,   0,   1,   0,   0,   0,   0,   4, 347, 145,   1,\n",
       "          16,   0,   0,   0,  10,   1,   1],\n",
       "        [ 23, 248, 181,   0,   0,   1,   0,   0,   0,   1,   2, 118,   0,\n",
       "           0, 414,   0,   0,   8,   0,   1],\n",
       "        [  6, 310,   3,   0,   2,   2,   0,   1,   0,   4,   4, 129,   1,\n",
       "           0,   3,   0,   0, 442,   3,   0],\n",
       "        [  4, 311,   5,   0,   0, 280, 164,   0,   0,   0,   0, 139,   0,\n",
       "           0,   5,   0,   0,  30,   2,   0],\n",
       "        [  6, 352,   0,   0,   2,   1,   0,   0,   1,   0,   1, 239,   1,\n",
       "           0,   3,   0,   0, 169,   0,   0],\n",
       "        [  4, 254,  52,   1,   2,   2,   0,   0,   0,   1,   1, 126,   0,\n",
       "           0, 126,   0,   0,  59,   0,   0]]),\n",
       " 0.28498580101482218,\n",
       " 0.36971698569559036,\n",
       " 0.32186846751226039,\n",
       " 0.064811466003280638,\n",
       " 0.28265137129691875)"
      ]
     },
     "execution_count": 387,
     "metadata": {},
     "output_type": "execute_result"
    }
   ],
   "source": [
    "#get scores for 40\n",
    "get_scores(ytrue, ypred_40)"
   ]
  },
  {
   "cell_type": "code",
   "execution_count": 414,
   "metadata": {},
   "outputs": [
    {
     "name": "stdout",
     "output_type": "stream",
     "text": [
      "LSI...\n",
      "r: 1 \n",
      " homogeneity=0.01516 \n",
      " completeness=0.01648 \n",
      " v-measure=0.01579 \n",
      " adj rand index=0.00313 \n",
      " adj mutual info=0.01196 \n",
      "---\n",
      "r: 2 \n",
      " homogeneity=0.17440 \n",
      " completeness=0.18632 \n",
      " v-measure=0.18016 \n",
      " adj rand index=0.05036 \n",
      " adj mutual info=0.17173 \n",
      "---\n",
      "r: 3 \n",
      " homogeneity=0.21548 \n",
      " completeness=0.23676 \n",
      " v-measure=0.22562 \n",
      " adj rand index=0.06647 \n",
      " adj mutual info=0.21293 \n",
      "---\n",
      "r: 5 \n",
      " homogeneity=0.26561 \n",
      " completeness=0.29715 \n",
      " v-measure=0.28050 \n",
      " adj rand index=0.08719 \n",
      " adj mutual info=0.26323 \n",
      "---\n",
      "r: 10 \n",
      " homogeneity=0.27704 \n",
      " completeness=0.31739 \n",
      " v-measure=0.29584 \n",
      " adj rand index=0.08653 \n",
      " adj mutual info=0.27469 \n",
      "---\n",
      "r: 20 \n",
      " homogeneity=0.28841 \n",
      " completeness=0.35187 \n",
      " v-measure=0.31699 \n",
      " adj rand index=0.07260 \n",
      " adj mutual info=0.28609 \n",
      "---\n",
      "r: 40 \n",
      " homogeneity=0.27379 \n",
      " completeness=0.35105 \n",
      " v-measure=0.30764 \n",
      " adj rand index=0.06209 \n",
      " adj mutual info=0.27143 \n",
      "---\n",
      "r: 50 \n",
      " homogeneity=0.29119 \n",
      " completeness=0.38053 \n",
      " v-measure=0.32992 \n",
      " adj rand index=0.06287 \n",
      " adj mutual info=0.28888 \n",
      "---\n",
      "r: 100 \n",
      " homogeneity=0.29706 \n",
      " completeness=0.38877 \n",
      " v-measure=0.33679 \n",
      " adj rand index=0.06609 \n",
      " adj mutual info=0.29477 \n",
      "---\n",
      "r: 300 \n",
      " homogeneity=0.28491 \n",
      " completeness=0.39868 \n",
      " v-measure=0.33233 \n",
      " adj rand index=0.06989 \n",
      " adj mutual info=0.28256 \n",
      "---\n",
      "[8, 9, 8, 3, 8]\n",
      "8\n",
      "('Best r-value is: ', 100)\n"
     ]
    },
    {
     "data": {
      "image/png": "[encoded data removed]",
      "text/plain": [
       "<matplotlib.figure.Figure at 0x11255ff90>"
      ]
     },
     "metadata": {},
     "output_type": "display_data"
    }
   ],
   "source": [
    "#Sweep LSI and NMF dimensions\n",
    "r_vals = [1,2,3,5,10,20,40,50,100,300]\n",
    "contingency_matrices = []\n",
    "h_vals = []\n",
    "c_vals = []\n",
    "v_vals = []\n",
    "rand_vals = []\n",
    "mutual_vals = []\n",
    "print(\"LSI...\")\n",
    "for r in r_vals:\n",
    "    svd = TruncatedSVD(n_components=r)\n",
    "    train_lsi = svd.fit_transform(all_data_tfidf)\n",
    "        \n",
    "    contin, h, c, v, rand, mutual = get_svd_scores(k=r, train_lsi=train_lsi, test_lsi=None, trainy=ytrue, n_clusters=20)\n",
    "#    contingency_matrices.append(contin)\n",
    "#    print(\"contingency matrix for r=\", r)\n",
    "#    print(h, c, v, rand, mutual)\n",
    " #   print(contin)\n",
    "    contingency_matrices.append(contin)\n",
    "    h_vals.append(h)\n",
    "    c_vals.append(c)\n",
    "    v_vals.append(v)\n",
    "    rand_vals.append(rand)\n",
    "    mutual_vals.append(mutual)\n",
    "    \n",
    "    \n",
    "start_index = 0    \n",
    "r_vals = r_vals[start_index:]\n",
    "h_vals = h_vals[start_index:]\n",
    "c_vals = c_vals[start_index:]\n",
    "v_vals = v_vals[start_index:]\n",
    "rand_vals = rand_vals[start_index:]\n",
    "mutual_vals = mutual_vals[start_index:]\n",
    "\n",
    "for r, h, c, v, rand, mutual in zip(r_vals, h_vals, c_vals, v_vals, rand_vals, mutual_vals):\n",
    "    print(\"r: %i \\n homogeneity=%.5f \\n completeness=%.5f \\n v-measure=%.5f \\n adj rand index=%.5f \\n adj mutual info=%.5f \\n---\" % (r, h, c, v, rand, mutual))\n",
    "\n",
    "# print(h_vals)\n",
    "# print(c_vals)\n",
    "# print(v_vals)\n",
    "# print(rand_vals)\n",
    "# print(mutual_vals)\n",
    "\n",
    "res_list = [np.argmax(h_vals), np.argmax(c_vals), np.argmax(v_vals), np.argmax(rand_vals), np.argmax(mutual_vals)]\n",
    "print(res_list)\n",
    "# best_index = int(np.mean(res_list)) # not sure if this works e.g. [0,1,0,3,2,0]\n",
    "best_index = np.bincount(res_list).argmax() # most frequent index\n",
    "print(best_index)\n",
    "    \n",
    "print(\"Best r-value is: \", r_vals[best_index])\n",
    "plt.plot(r_vals, h_vals, 'r', label=\"homogenity\")\n",
    "plt.plot(r_vals, c_vals, 'g', label=\"completeness score\")\n",
    "plt.plot(r_vals, v_vals, 'b', label=\"v measure\")\n",
    "plt.plot(r_vals, rand_vals, 'm', label=\"rand index\")\n",
    "plt.plot(r_vals, mutual_vals, 'b', label=\"adjusted mutual information\")\n",
    "plt.grid()"
   ]
  },
  {
   "cell_type": "code",
   "execution_count": 418,
   "metadata": {},
   "outputs": [
    {
     "name": "stdout",
     "output_type": "stream",
     "text": [
      "NMF...\n",
      "('r-value: ', 1)\n",
      "('r-value: ', 2)\n",
      "('r-value: ', 3)\n",
      "('r-value: ', 5)\n",
      "('r-value: ', 10)\n",
      "('r-value: ', 20)\n",
      "('r-value: ', 40)\n",
      "('r-value: ', 50)\n",
      "('r-value: ', 100)\n",
      "('r-value: ', 300)\n",
      "r: 1 \n",
      " homogeneity=0.01546 \n",
      " completeness=0.01666 \n",
      " v-measure=0.01604 \n",
      " adj rand index=0.00316 \n",
      " adj mutual info=0.01226 \n",
      "---\n",
      "r: 2 \n",
      " homogeneity=0.16135 \n",
      " completeness=0.17094 \n",
      " v-measure=0.16601 \n",
      " adj rand index=0.04657 \n",
      " adj mutual info=0.15863 \n",
      "---\n",
      "r: 3 \n",
      " homogeneity=0.18779 \n",
      " completeness=0.21056 \n",
      " v-measure=0.19852 \n",
      " adj rand index=0.05472 \n",
      " adj mutual info=0.18515 \n",
      "---\n",
      "r: 5 \n",
      " homogeneity=0.21922 \n",
      " completeness=0.26075 \n",
      " v-measure=0.23819 \n",
      " adj rand index=0.06541 \n",
      " adj mutual info=0.21666 \n",
      "---\n",
      "r: 10 \n",
      " homogeneity=0.26157 \n",
      " completeness=0.31635 \n",
      " v-measure=0.28636 \n",
      " adj rand index=0.07140 \n",
      " adj mutual info=0.25917 \n",
      "---\n",
      "r: 20 \n",
      " homogeneity=0.22945 \n",
      " completeness=0.29031 \n",
      " v-measure=0.25632 \n",
      " adj rand index=0.04733 \n",
      " adj mutual info=0.22694 \n",
      "---\n",
      "r: 40 \n",
      " homogeneity=0.17572 \n",
      " completeness=0.25540 \n",
      " v-measure=0.20820 \n",
      " adj rand index=0.02297 \n",
      " adj mutual info=0.17303 \n",
      "---\n",
      "r: 50 \n",
      " homogeneity=0.16791 \n",
      " completeness=0.24519 \n",
      " v-measure=0.19932 \n",
      " adj rand index=0.02413 \n",
      " adj mutual info=0.16520 \n",
      "---\n",
      "r: 100 \n",
      " homogeneity=0.06814 \n",
      " completeness=0.11786 \n",
      " v-measure=0.08636 \n",
      " adj rand index=0.00549 \n",
      " adj mutual info=0.06504 \n",
      "---\n",
      "r: 300 \n",
      " homogeneity=0.07278 \n",
      " completeness=0.12840 \n",
      " v-measure=0.09290 \n",
      " adj rand index=0.00654 \n",
      " adj mutual info=0.06973 \n",
      "---\n",
      "[4, 4, 4, 4, 4]\n",
      "4\n",
      "('Best r-value is: ', 10)\n"
     ]
    },
    {
     "data": {
      "image/png": "[encoded data removed]",
      "text/plain": [
       "<matplotlib.figure.Figure at 0x1a1ee03f90>"
      ]
     },
     "metadata": {},
     "output_type": "display_data"
    }
   ],
   "source": [
    "print(\"NMF...\")   \n",
    "contingency_matrices = []\n",
    "h_vals = []\n",
    "c_vals = []\n",
    "v_vals = []\n",
    "rand_vals = []\n",
    "mutual_vals = []\n",
    "# r_vals = [2,3,4,5]\n",
    "for r in r_vals:\n",
    "    print(\"r-value: \", r)\n",
    "    nmf = NMF(n_components=r)\n",
    "    train_nmf = nmf.fit_transform(all_data_tfidf)\n",
    "        \n",
    "    contin, h, c, v, rand, mutual = get_nmf_scores(num_components=r, train_nmf=train_nmf, test_nmf=None, trainy=ytrue, n_clusters=20)\n",
    "    \n",
    " #   print(\"contingency matrix for r=\", r)\n",
    "#    print(contin)\n",
    "    contingency_matrices.append(contin)\n",
    "    h_vals.append(h)\n",
    "    c_vals.append(c)\n",
    "    v_vals.append(v)\n",
    "    rand_vals.append(rand)\n",
    "    mutual_vals.append(mutual)\n",
    "    \n",
    "    \n",
    "start_index = 0    \n",
    "r_vals = r_vals[start_index:]\n",
    "h_vals = h_vals[start_index:]\n",
    "c_vals = c_vals[start_index:]\n",
    "v_vals = v_vals[start_index:]\n",
    "rand_vals = rand_vals[start_index:]\n",
    "mutual_vals = mutual_vals[start_index:]\n",
    "\n",
    "# print(h_vals)\n",
    "# print(c_vals)\n",
    "# print(v_vals)\n",
    "# print(rand_vals)\n",
    "# print(mutual_vals)\n",
    "\n",
    "for r, h, c, v, rand, mutual in zip(r_vals, h_vals, c_vals, v_vals, rand_vals, mutual_vals):\n",
    "    print(\"r: %i \\n homogeneity=%.5f \\n completeness=%.5f \\n v-measure=%.5f \\n adj rand index=%.5f \\n adj mutual info=%.5f \\n---\" % (r, h, c, v, rand, mutual))\n",
    "\n",
    "\n",
    "res_list = [np.argmax(h_vals), np.argmax(c_vals), np.argmax(v_vals), np.argmax(rand_vals), np.argmax(mutual_vals)]\n",
    "print(res_list)\n",
    "# best_index = int(np.mean(res_list))\n",
    "best_index = np.bincount(res_list).argmax() # most frequent index\n",
    "print(best_index)\n",
    "    \n",
    "print(\"Best r-value is: \", r_vals[best_index])\n",
    "plt.plot(r_vals, h_vals, 'r', label=\"homogenity\")\n",
    "plt.plot(r_vals, c_vals, 'g', label=\"completeness score\")\n",
    "plt.plot(r_vals, v_vals, 'b', label=\"v measure\")\n",
    "plt.plot(r_vals, rand_vals, 'm', label=\"rand index\")\n",
    "plt.plot(r_vals, mutual_vals, 'b', label=\"adjusted mutual information\")\n",
    "plt.grid()\n",
    "\n",
    "\n",
    "\n"
   ]
  },
  {
   "cell_type": "code",
   "execution_count": null,
   "metadata": {},
   "outputs": [],
   "source": []
  }
 ],
 "metadata": {
  "kernelspec": {
   "display_name": "Python 2",
   "language": "python",
   "name": "python2"
  },
  "language_info": {
   "codemirror_mode": {
    "name": "ipython",
    "version": 2
   },
   "file_extension": ".py",
   "mimetype": "text/x-python",
   "name": "python",
   "nbconvert_exporter": "python",
   "pygments_lexer": "ipython2",
   "version": "2.7.14"
  }
 },
 "nbformat": 4,
 "nbformat_minor": 2
}
