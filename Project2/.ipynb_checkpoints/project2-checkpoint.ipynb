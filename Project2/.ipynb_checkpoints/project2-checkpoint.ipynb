{
 "cells": [
  {
   "cell_type": "code",
   "execution_count": 30,
   "metadata": {},
   "outputs": [],
   "source": [
    "%matplotlib inline\n",
    "\n",
    "import matplotlib\n",
    "import numpy as np\n",
    "\n",
    "import matplotlib.pyplot as plt\n",
    "from sklearn.datasets import fetch_20newsgroups"
   ]
  },
  {
   "cell_type": "code",
   "execution_count": 67,
   "metadata": {},
   "outputs": [],
   "source": [
    "comp_categories = ['comp.graphics', 'comp.os.ms-windows.misc', 'comp.sys.ibm.pc.hardware', 'comp.sys.mac.hardware']\n",
    "rec_categories = ['rec.autos', 'rec.motorcycles', 'rec.sport.baseball', 'rec.sport.hockey']\n",
    "comp_train = fetch_20newsgroups(subset='train', categories=comp_categories, shuffle=True, random_state=42)\n",
    "rec_train = fetch_20newsgroups(subset='train', categories=rec_categories, shuffle=True, random_state=42)\n",
    "comp_test = fetch_20newsgroups(subset='test', categories=comp_categories, shuffle=True, random_state=42)\n",
    "rec_test = fetch_20newsgroups(subset='test', categories=rec_categories, shuffle=True, random_state=42)\n",
    "\n",
    "#all_points = fetch_20newsgroups(subset='all', categories=comp_categories+rec_categories, shuffle=True, random_state=42)\n",
    "\n"
   ]
  },
  {
   "cell_type": "code",
   "execution_count": 68,
   "metadata": {},
   "outputs": [],
   "source": [
    "# 1. transform the documents into TF-IDF vectors. \n",
    "# Use min df = 3, exclude the stopwords (no need to do stemming). Report the dimensions of the TF-IDF matrix you get.\n",
    "from sklearn.feature_extraction import text\n",
    "from sklearn.feature_extraction.text import CountVectorizer\n",
    "from sklearn.feature_extraction.text import TfidfTransformer\n",
    "\n",
    "vectorizer = CountVectorizer(min_df=3, stop_words=text.ENGLISH_STOP_WORDS) \n",
    "vectorized_corpus = vectorizer.fit_transform(comp_train.data + rec_train.data)\n",
    "\n",
    "tfidf_transformer = TfidfTransformer()\n",
    "trainX = tfidf_transformer.fit_transform(vectorized_corpus)\n",
    "\n",
    "testX = tfidf_transformer.transform(vectorizer.transform(comp_test.data + rec_test.data))\n",
    "\n",
    "# 0 for comp class, 1 for rec class\n",
    "trainy = np.zeros(shape=(len(comp_train.filenames) + len(rec_train.filenames),))\n",
    "trainy[len(comp_train.filenames):] = 1\n",
    "\n",
    "testy = np.zeros(shape=(len(comp_test.filenames) + len(rec_test.filenames),))\n",
    "testy[len(comp_test.filenames):] = 1"
   ]
  },
  {
   "cell_type": "code",
   "execution_count": 69,
   "metadata": {},
   "outputs": [
    {
     "name": "stdout",
     "output_type": "stream",
     "text": [
      "(4732, 20297) (3150, 20297) (4732,) (3150,)\n"
     ]
    }
   ],
   "source": [
    "print trainX.shape, testX.shape, trainy.shape, testy.shape"
   ]
  },
  {
   "cell_type": "code",
   "execution_count": 70,
   "metadata": {},
   "outputs": [],
   "source": [
    "# 2. Apply K-means clustering with k = 2 using the TF-IDF data.\n",
    "# Compare the clustering results with the known class labels.\n",
    "# a) Inspect the contingency matrix to get a sense of your clustering result.\n",
    "from sklearn.pipeline import make_pipeline\n",
    "from sklearn.preprocessing import Normalizer\n",
    "from sklearn import metrics\n",
    "\n",
    "from sklearn.cluster import KMeans, MiniBatchKMeans\n",
    "from sklearn.metrics.cluster import contingency_matrix\n",
    "\n",
    "km = KMeans(n_clusters=2, init='k-means++', max_iter=100)\n",
    "km.fit(trainX)\n",
    "ypred = km.predict(testX)"
   ]
  },
  {
   "cell_type": "code",
   "execution_count": 71,
   "metadata": {},
   "outputs": [
    {
     "name": "stdout",
     "output_type": "stream",
     "text": [
      "(4732,) (3150,)\n"
     ]
    },
    {
     "data": {
      "text/plain": [
       "array([[   2, 1558],\n",
       "       [ 662,  928]])"
      ]
     },
     "execution_count": 71,
     "metadata": {},
     "output_type": "execute_result"
    }
   ],
   "source": [
    "print km.labels_.shape, testy.shape\n",
    "contingency_matrix(testy, ypred, eps=None, sparse=False)"
   ]
  },
  {
   "cell_type": "code",
   "execution_count": 72,
   "metadata": {},
   "outputs": [
    {
     "name": "stdout",
     "output_type": "stream",
     "text": [
      "Homogeneity: 0.241\n",
      "Completeness: 0.325\n",
      "V-measure: 0.277\n",
      "Adjusted Rand-Index: 0.168\n",
      "Adjusted Mutual Info: 0.241\n"
     ]
    }
   ],
   "source": [
    "# b) 5 Metrics\n",
    "\n",
    "print(\"Homogeneity: %0.3f\" % metrics.homogeneity_score(testy, ypred))\n",
    "print(\"Completeness: %0.3f\" % metrics.completeness_score(testy, ypred))\n",
    "print(\"V-measure: %0.3f\" % metrics.v_measure_score(testy, ypred))\n",
    "print(\"Adjusted Rand-Index: %.3f\" % metrics.adjusted_rand_score(testy, ypred))\n",
    "print(\"Adjusted Mutual Info: %0.3f\" % metrics.adjusted_mutual_info_score(testy, ypred))"
   ]
  },
  {
   "cell_type": "code",
   "execution_count": 73,
   "metadata": {},
   "outputs": [
    {
     "name": "stdout",
     "output_type": "stream",
     "text": [
      "1000\n"
     ]
    }
   ],
   "source": [
    "# 3\n",
    "from scipy.sparse.linalg import svds\n",
    "\n",
    "#Use SVD to find 1000 principal components\n",
    "u, singular_values, vt = svds(trainX, k=1000)\n",
    "print(len(singular_values))\n"
   ]
  },
  {
   "cell_type": "code",
   "execution_count": 112,
   "metadata": {},
   "outputs": [],
   "source": [
    "from sklearn.decomposition import TruncatedSVD, NMF\n",
    "\n",
    "def get_scores(y, yhat):\n",
    "    cont_matrix = contingency_matrix(y,yhat)# ypred)\n",
    "\n",
    "    homogeneity = metrics.homogeneity_score(y, yhat)\n",
    "    completeness_score = metrics.completeness_score(y, yhat)\n",
    "    v_measure_score = metrics.v_measure_score(y, yhat)\n",
    "    adjusted_rand_score = metrics.adjusted_rand_score(y, yhat)\n",
    "    adjusted_mutual_info_score = metrics.adjusted_mutual_info_score(y, yhat)\n",
    "    return cont_matrix, homogeneity, completeness_score, v_measure_score, adjusted_rand_score, adjusted_mutual_info_score\n",
    "    \n",
    "def get_svd_scores(num_components):\n",
    "    svd = TruncatedSVD(n_components=num_components)\n",
    "    train_lsi = svd.fit_transform(trainX)\n",
    "    test_lsi = svd.transform(testX)\n",
    "#        print(lsi_transform.shape)\n",
    "#      print(len(lsi_transform))\n",
    "    km = KMeans(n_clusters=2)\n",
    "    km.fit(train_lsi)\n",
    "#        print(len(testy))\n",
    "#       print(len(km.labels_))\n",
    "    ypred = km.predict(test_lsi)\n",
    "\n",
    "\n",
    "    return get_scores(testy, ypred)\n",
    "    \n",
    "def get_nmf_scores(num_components):\n",
    "    nmf = NMF(n_components=num_components)\n",
    "    train_nmf = nmf.fit_transform(trainX)\n",
    "    test_nmf = nmf.transform(testX)\n",
    "    \n",
    "    km = KMeans(n_clusters=2)\n",
    "    km.fit(train_nmf)\n",
    "    ypred = km.predict(test_nmf)\n",
    "    \n",
    "    return get_scores(testy, ypred)\n",
    "    "
   ]
  },
  {
   "cell_type": "code",
   "execution_count": 113,
   "metadata": {},
   "outputs": [
    {
     "data": {
      "text/plain": [
       "Text(0,0.5,u'singular val')"
      ]
     },
     "execution_count": 113,
     "metadata": {},
     "output_type": "execute_result"
    },
    {
     "data": {
      "image/png": "[encoded data removed]",
      "text/plain": [
       "<matplotlib.figure.Figure at 0x1a1ed7ef10>"
      ]
     },
     "metadata": {},
     "output_type": "display_data"
    }
   ],
   "source": [
    "#print(sorted(singular_values, reverse=True))\n",
    "sorted_singular_vals = sorted(singular_values, reverse=True)\n",
    "plt.plot(sorted_singular_vals)\n",
    "plt.xlabel('r')\n",
    "plt.ylabel('singular val')"
   ]
  },
  {
   "cell_type": "code",
   "execution_count": 124,
   "metadata": {},
   "outputs": [
    {
     "name": "stdout",
     "output_type": "stream",
     "text": [
      "LSI...\n",
      "('contingency matrix for r=', 1)\n",
      "[[769 791]\n",
      " [846 744]]\n",
      "('contingency matrix for r=', 2)\n",
      "[[  45 1515]\n",
      " [1157  433]]\n",
      "('contingency matrix for r=', 3)\n",
      "[[   3 1557]\n",
      " [ 720  870]]\n",
      "('contingency matrix for r=', 5)\n",
      "[[   2 1558]\n",
      " [ 606  984]]\n",
      "('contingency matrix for r=', 10)\n",
      "[[1558    2]\n",
      " [ 962  628]]\n",
      "('contingency matrix for r=', 20)\n",
      "[[   1 1559]\n",
      " [ 630  960]]\n",
      "('contingency matrix for r=', 50)\n",
      "[[   1 1559]\n",
      " [ 625  965]]\n",
      "('contingency matrix for r=', 100)\n",
      "[[1559    1]\n",
      " [ 963  627]]\n",
      "('contingency matrix for r=', 300)\n",
      "[[   1 1559]\n",
      " [ 628  962]]\n",
      "[0.0011052669162656165, 0.43938131724870005, 0.26571572775440416, 0.21675213402904775, 0.22635281192476372, 0.2297893076471875, 0.22758737331005971, 0.22846726109506663, 0.22890764754381637]\n",
      "[0.0011057091060351339, 0.45806193743279588, 0.34187478959065792, 0.30624038930514036, 0.31351876095911002, 0.31799913942354691, 0.31634480337037196, 0.31700585969676193, 0.31733672615055142]\n",
      "[0.0011054879669319417, 0.44852720525966261, 0.29902214048339032, 0.25384017914673079, 0.26289901783558856, 0.26679205255711647, 0.26472448568399015, 0.26555097861053445, 0.26596449120782212]\n",
      "[0.0012326146659614302, 0.4849663180405766, 0.19845991339764205, 0.13965263081224089, 0.15029431092238033, 0.15177599537979899, 0.14931104523392402, 0.15029460499875891, 0.15078759502778549]\n",
      "[0.00087634428692429664, 0.43925283213626826, 0.26554740322306797, 0.21657256338161984, 0.22617544717480065, 0.22961273095003104, 0.22741029074772767, 0.22829038067859975, 0.22873086830028425]\n",
      "[1, 1, 1, 1, 1]\n",
      "1\n",
      "('Best r-value is: ', 2)\n"
     ]
    },
    {
     "data": {
      "image/png": "[encoded data removed]",
      "text/plain": [
       "<matplotlib.figure.Figure at 0x113c83150>"
      ]
     },
     "metadata": {},
     "output_type": "display_data"
    }
   ],
   "source": [
    "r_vals = [1,2,3,5,10,20,50,100,300]\n",
    "contingency_matrices = []\n",
    "h_vals = []\n",
    "c_vals = []\n",
    "v_vals = []\n",
    "rand_vals = []\n",
    "mutual_vals = []\n",
    "print(\"LSI...\")\n",
    "for r in r_vals:\n",
    "    contin, h, c, v, rand, mutual = get_svd_scores(num_components=r)\n",
    "#    contingency_matrices.append(contin)\n",
    "    print(\"contingency matrix for r=\", r)\n",
    "#    print(h, c, v, rand, mutual)\n",
    "    print(contin)\n",
    "    h_vals.append(h)\n",
    "    c_vals.append(c)\n",
    "    v_vals.append(v)\n",
    "    rand_vals.append(rand)\n",
    "    mutual_vals.append(mutual)\n",
    "    \n",
    "    \n",
    "start_index = 0    \n",
    "r_vals = r_vals[start_index:]\n",
    "h_vals = h_vals[start_index:]\n",
    "c_vals = c_vals[start_index:]\n",
    "v_vals = v_vals[start_index:]\n",
    "rand_vals = rand_vals[start_index:]\n",
    "mutual_vals = mutual_vals[start_index:]\n",
    "\n",
    "print(h_vals)\n",
    "print(c_vals)\n",
    "print(v_vals)\n",
    "print(rand_vals)\n",
    "print(mutual_vals)\n",
    "\n",
    "res_list = [np.argmax(h_vals), np.argmax(c_vals), np.argmax(v_vals), np.argmax(rand_vals), np.argmax(mutual_vals)]\n",
    "print(res_list)\n",
    "best_index = int(np.mean(res_list))\n",
    "print(best_index)\n",
    "    \n",
    "print(\"Best r-value is: \", r_vals[best_index])\n",
    "plt.plot(r_vals, h_vals, 'r', label=\"homogenity\")\n",
    "plt.plot(r_vals, c_vals, 'g', label=\"completeness score\")\n",
    "plt.plot(r_vals, v_vals, 'b', label=\"v measure\")\n",
    "plt.plot(r_vals, rand_vals, 'm', label=\"rand index\")\n",
    "plt.plot(r_vals, mutual_vals, 'b', label=\"adjusted mutual information\")\n",
    "plt.grid()\n",
    "    \n",
    "    \n",
    "\n"
   ]
  },
  {
   "cell_type": "code",
   "execution_count": 125,
   "metadata": {},
   "outputs": [
    {
     "name": "stdout",
     "output_type": "stream",
     "text": [
      "NMF...\n",
      "('contingency matrix for r=', 1)\n",
      "[[796 764]\n",
      " [746 844]]\n",
      "('contingency matrix for r=', 2)\n",
      "[[ 139 1421]\n",
      " [1479  111]]\n",
      "('contingency matrix for r=', 3)\n",
      "[[1558    2]\n",
      " [ 969  621]]\n",
      "('contingency matrix for r=', 5)\n",
      "[[1558    2]\n",
      " [1102  488]]\n",
      "('contingency matrix for r=', 10)\n",
      "[[   2 1558]\n",
      " [ 478 1112]]\n",
      "('contingency matrix for r=', 20)\n",
      "[[1560]\n",
      " [1590]]\n",
      "('contingency matrix for r=', 50)\n",
      "[[1552    8]\n",
      " [1590    0]]\n",
      "('contingency matrix for r=', 100)\n",
      "[[1560]\n",
      " [1590]]\n",
      "('contingency matrix for r=', 300)\n",
      "[[1560]\n",
      " [1590]]\n",
      "[0.0012178012543148397, 0.60048337733603607, 0.22328268297332601, 0.1675377501262493, 0.16353265442626866, -6.4072722311952725e-16, 0.0025796679877984345, -6.4072722311952725e-16, -6.4072722311952725e-16]\n",
      "[0.001218107344563685, 0.60076714609089565, 0.31119178991105212, 0.26865745995580403, 0.26555829233939793, 1.0, 0.10094196503846301, 1.0, 1.0]\n",
      "[0.0012179542802079907, 0.60062522819643316, 0.2600076946449138, 0.20637671095545215, 0.20241607416101096, -1.2814544462390553e-15, 0.0050307698637082768, -1.2814544462390553e-15, -1.2814544462390553e-15]\n",
      "[0.0013862070777848354, 0.70764216219560383, 0.14686596674454797, 0.089238321982323732, 0.085482238970419122, 0.0, 0.00012026249895887751, 0.0, 0.0]\n",
      "[0.00098890444516442711, 0.60039181773666539, 0.22310461287658556, 0.16734686010285965, 0.1633408420429808, -1.9343859974156504e-15, 0.0023324765644284645, -1.9343859974156504e-15, -1.9343859974156504e-15]\n",
      "[1, 5, 1, 1, 1]\n",
      "1\n",
      "('Best r-value is: ', 2)\n"
     ]
    },
    {
     "data": {
      "image/png": "[encoded data removed]",
      "text/plain": [
       "<matplotlib.figure.Figure at 0x1a1f042350>"
      ]
     },
     "metadata": {},
     "output_type": "display_data"
    }
   ],
   "source": [
    "print(\"NMF...\")   \n",
    "contingency_matrices = []\n",
    "h_vals = []\n",
    "c_vals = []\n",
    "v_vals = []\n",
    "rand_vals = []\n",
    "mutual_vals = []\n",
    "for r in r_vals:\n",
    "    contin, h, c, v, rand, mutual = get_nmf_scores(num_components=r)\n",
    "    print(\"contingency matrix for r=\", r)\n",
    "    print(contin)\n",
    "    h_vals.append(h)\n",
    "    c_vals.append(c)\n",
    "    v_vals.append(v)\n",
    "    rand_vals.append(rand)\n",
    "    mutual_vals.append(mutual)\n",
    "    \n",
    "    \n",
    "start_index = 0    \n",
    "r_vals = r_vals[start_index:]\n",
    "h_vals = h_vals[start_index:]\n",
    "c_vals = c_vals[start_index:]\n",
    "v_vals = v_vals[start_index:]\n",
    "rand_vals = rand_vals[start_index:]\n",
    "mutual_vals = mutual_vals[start_index:]\n",
    "\n",
    "print(h_vals)\n",
    "print(c_vals)\n",
    "print(v_vals)\n",
    "print(rand_vals)\n",
    "print(mutual_vals)\n",
    "\n",
    "res_list = [np.argmax(h_vals), np.argmax(c_vals), np.argmax(v_vals), np.argmax(rand_vals), np.argmax(mutual_vals)]\n",
    "print(res_list)\n",
    "best_index = int(np.mean(res_list))\n",
    "print(best_index)\n",
    "    \n",
    "print(\"Best r-value is: \", r_vals[best_index])\n",
    "plt.plot(r_vals, h_vals, 'r', label=\"homogenity\")\n",
    "plt.plot(r_vals, c_vals, 'g', label=\"completeness score\")\n",
    "plt.plot(r_vals, v_vals, 'b', label=\"v measure\")\n",
    "plt.plot(r_vals, rand_vals, 'm', label=\"rand index\")\n",
    "plt.plot(r_vals, mutual_vals, 'b', label=\"adjusted mutual information\")\n",
    "plt.grid()\n",
    "\n",
    "\n"
   ]
  },
  {
   "cell_type": "code",
   "execution_count": null,
   "metadata": {},
   "outputs": [],
   "source": []
  },
  {
   "cell_type": "code",
   "execution_count": null,
   "metadata": {},
   "outputs": [],
   "source": []
  }
 ],
 "metadata": {
  "kernelspec": {
   "display_name": "Python 2",
   "language": "python",
   "name": "python2"
  },
  "language_info": {
   "codemirror_mode": {
    "name": "ipython",
    "version": 2
   },
   "file_extension": ".py",
   "mimetype": "text/x-python",
   "name": "python",
   "nbconvert_exporter": "python",
   "pygments_lexer": "ipython2",
   "version": "2.7.14"
  }
 },
 "nbformat": 4,
 "nbformat_minor": 2
}
