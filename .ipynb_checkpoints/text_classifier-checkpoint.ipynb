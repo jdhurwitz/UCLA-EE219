{
 "cells": [
  {
   "cell_type": "code",
   "execution_count": 159,
   "metadata": {
    "collapsed": true
   },
   "outputs": [],
   "source": [
    "import matplotlib.pyplot as plt\n",
    "import numpy as np\n",
    "import warnings\n",
    "warnings.filterwarnings('ignore')"
   ]
  },
  {
   "cell_type": "markdown",
   "metadata": {},
   "source": [
    "<h3>Part A: histogram</h3>"
   ]
  },
  {
   "cell_type": "code",
   "execution_count": 160,
   "metadata": {
    "collapsed": true
   },
   "outputs": [],
   "source": [
    "from sklearn.datasets import fetch_20newsgroups\n",
    "\n",
    "\n",
    "c1_train = fetch_20newsgroups(subset='train', categories=['comp.graphics'], shuffle=True, random_state=42)\n",
    "c2_train = fetch_20newsgroups(subset='train', categories=['comp.os.ms-windows.misc'], shuffle=True, random_state=42)\n",
    "c3_train = fetch_20newsgroups(subset='train', categories=['comp.sys.ibm.pc.hardware'], shuffle=True, random_state=42) \n",
    "c4_train = fetch_20newsgroups(subset='train', categories=['comp.sys.mac.hardware'], shuffle=True, random_state=42)\n",
    "\n",
    "r1_train = fetch_20newsgroups(subset='train', categories=['rec.autos'], shuffle=True, random_state=42)\n",
    "r2_train = fetch_20newsgroups(subset='train', categories=['rec.motorcycles'], shuffle=True, random_state=42)\n",
    "r3_train = fetch_20newsgroups(subset='train', categories=['rec.sport.baseball'], shuffle=True, random_state=42)\n",
    "r4_train = fetch_20newsgroups(subset='train', categories=['rec.sport.hockey'], shuffle=True, random_state=42)\n",
    "\n",
    "\n",
    "\n"
   ]
  },
  {
   "cell_type": "code",
   "execution_count": 161,
   "metadata": {},
   "outputs": [
    {
     "name": "stdout",
     "output_type": "stream",
     "text": [
      "(584, 591, 590, 578, 594, 598, 597, 600)\n"
     ]
    },
    {
     "data": {
      "image/png": "[encoded data removed]",
      "text/plain": [
       "<matplotlib.figure.Figure at 0x1a1551cc50>"
      ]
     },
     "metadata": {},
     "output_type": "display_data"
    }
   ],
   "source": [
    "data_lens = []\n",
    "data_lens = (len(c1_train.data),\n",
    "             len(c2_train.data),\n",
    "             len(c3_train.data),\n",
    "             len(c4_train.data),\n",
    "             len(r1_train.data),\n",
    "             len(r2_train.data),\n",
    "             len(r3_train.data),\n",
    "             len(r4_train.data)\n",
    "            )\n",
    "print(data_lens)\n",
    "\n",
    "names = ['comp.graphics', 'comp.os.ms-windows.misc', 'comp.sys.ibm.pc.hardware', 'comp.sys.mac.hardware', 'rec.autos', 'rec.motorcycles',  'rec.sport.baseball', 'rec.sport.hockey']\n",
    "ax = plt.subplot(111)\n",
    "width = 0.3\n",
    "\n",
    "#bins = map(lambda x: x-width/2, range(1, len(data_lens)+1))\n",
    "index = np.arange(8)\n",
    "ax.bar(index, data_lens, width=width)\n",
    "\n",
    "#ax.set_xticks(map(lambda x: x, range(1, len(data_lens)+1)))\n",
    "ax.set_xticks(index + width/2)\n",
    "ax.set_xticklabels(names,rotation=45, rotation_mode=\"anchor\", ha=\"right\")\n",
    "\n",
    "plt.show()"
   ]
  },
  {
   "cell_type": "markdown",
   "metadata": {},
   "source": [
    "<h3>Part B: TFxIDF</h3>"
   ]
  },
  {
   "cell_type": "code",
   "execution_count": 162,
   "metadata": {
    "collapsed": true
   },
   "outputs": [],
   "source": [
    "from sklearn.feature_extraction.text import CountVectorizer\n",
    "from sklearn.feature_extraction import text\n",
    "\n",
    "comp_categories = ['comp.graphics', 'comp.os.ms-windows.misc', 'comp.sys.ibm.pc.hardware', 'comp.sys.mac.hardware']\n",
    "rec_categories = ['rec.autos', 'rec.motorcycles', 'rec.sport.baseball', 'rec.sport.hockey']\n",
    "\n",
    "combined_categories = comp_categories + rec_categories\n",
    "#comp_train = fetch_20newsgroups(subset='train', categories=comp_categories, shuffle=True, random_state=42)\n",
    "#rec_train = fetch_20newsgroups(subset='train', categories=rec_categories, shuffle=True, random_state=42)\n",
    "\n",
    "X_train = fetch_20newsgroups(subset='train', categories=combined_categories, shuffle=True, random_state=42)\n",
    "X_test = fetch_20newsgroups(subset='test', categories=combined_categories, shuffle=True, random_state=42)\n",
    "\n",
    "\n",
    "    "
   ]
  },
  {
   "cell_type": "code",
   "execution_count": 163,
   "metadata": {},
   "outputs": [],
   "source": [
    "from nltk.tokenize import TreebankWordTokenizer\n",
    "from nltk.corpus import stopwords\n",
    "from nltk.stem import PorterStemmer\n",
    "from sklearn.feature_extraction import text\n",
    "from nltk.stem.snowball import SnowballStemmer\n",
    "from nltk.tag import pos_tag\n",
    "import nltk\n",
    "import re\n",
    "import string\n",
    "stop_words = text.ENGLISH_STOP_WORDS\n",
    "\n",
    "stemmer = SnowballStemmer(\"english\")\n",
    "\n",
    "from nltk import word_tokenize\n",
    "from nltk.tokenize import RegexpTokenizer\n",
    "from nltk.stem import PorterStemmer # what kind of stemming algorithm to use?\n",
    "\n",
    "import re\n",
    "\n",
    "class MyTokenizer(object):\n",
    "    def __init__(self):\n",
    "        self.stemmer = PorterStemmer()\n",
    "        self.token_pattern = re.compile(u'(?u)\\\\b\\\\w\\\\w+\\\\b')\n",
    "        \n",
    "    def __call__(self, doc):\n",
    "        return [self.stemmer.stem(w) for w in self.token_pattern.findall(doc)]\n",
    "\n",
    "\n",
    "\n",
    "\n",
    "vectorizer = CountVectorizer(stop_words='english', min_df=5)\n",
    "X_train_vectors = vectorizer.fit_transform(X_train.data)\n",
    "X_test_vectors = vectorizer.transform(X_test.data)\n",
    "\n",
    "\n"
   ]
  },
  {
   "cell_type": "markdown",
   "metadata": {},
   "source": [
    "<h3>Part C: 10 most significant terms</h3>"
   ]
  },
  {
   "cell_type": "code",
   "execution_count": 164,
   "metadata": {
    "collapsed": true
   },
   "outputs": [],
   "source": [
    "from sklearn.feature_extraction.text import CountVectorizer, TfidfVectorizer\n",
    "import math\n",
    "\n",
    "\"\"\"\n",
    "TFxICF = tf(t,c) * icf(t)\n",
    "tf(t,c): term frequency of term t in class c\n",
    "cf(t): class frequency (number of classes that contain t)\n",
    "\n",
    "icf(t) = log(n_classes/cf(t)) + 1\n",
    "cf(t): class frequency = number of classes where there is at least a document with term t\n",
    " \n",
    " we care about (zero-indexed) classes: 3,4,6,15\n",
    "\"\"\"\n",
    "n_classes = 20\n",
    "categories = ['alt.atheism',\n",
    " 'comp.graphics',\n",
    " 'comp.os.ms-windows.misc',\n",
    " 'comp.sys.ibm.pc.hardware', \n",
    " 'comp.sys.mac.hardware', \n",
    " 'comp.windows.x',\n",
    " 'misc.forsale', \n",
    " 'rec.autos',\n",
    " 'rec.motorcycles',\n",
    " 'rec.sport.baseball',\n",
    " 'rec.sport.hockey',\n",
    " 'sci.crypt',\n",
    " 'sci.electronics',\n",
    " 'sci.med',\n",
    " 'sci.space',\n",
    " 'soc.religion.christian', \n",
    " 'talk.politics.guns',\n",
    " 'talk.politics.mideast',\n",
    " 'talk.politics.misc',\n",
    " 'talk.religion.misc']\n",
    "\n",
    "\n",
    "\n",
    "all_docs_per_category=[]\n",
    "#for each category, aggregate all of its documents into one large document\n",
    "for cur_cat in categories:\n",
    "    categories=[str(cur_cat)]\n",
    "    docs_for_cat = fetch_20newsgroups(subset='train',categories=categories).data\n",
    "    aggregated_docs = \"\"\n",
    "    for doc in docs_for_cat:\n",
    "        aggregated_docs= aggregated_docs + \" \"+doc\n",
    "    all_docs_per_category.append(aggregated_docs)\n",
    "    \n",
    "\n",
    "#we will want to test both min_df=2 and min_df=5\n",
    "\"\"\"\n",
    "analyzer='word'means feature is made of words\n",
    "stop_words='english' or use the stop_words from above\n",
    "tokenizer=custom_tokenizer (use our custom tokenizer)\n",
    "lowercase is true by default (to lower)\n",
    "min_df=2\n",
    "\"\"\"\n",
    "vectorizer = CountVectorizer(analyzer='word', stop_words=stop_words, \n",
    "                             tokenizer=MyTokenizer(), min_df=2, lowercase=True)\n",
    "all_train_vecs = vectorizer.fit_transform(all_docs_per_category)\n",
    "\n",
    "\n"
   ]
  },
  {
   "cell_type": "code",
   "execution_count": null,
   "metadata": {},
   "outputs": [],
   "source": [
    "#print(aggregate)\n",
    "#print(\"Feature names\", vect\n",
    "print(len(vectorizer.get_feature_names()))\n",
    "print(all_train_vecs.shape[1])"
   ]
  },
  {
   "cell_type": "code",
   "execution_count": 165,
   "metadata": {
    "collapsed": true
   },
   "outputs": [],
   "source": [
    "#print(all_train_vecs[1,:])\n",
    "def calculate_tcicf(freq, max_tf_per_class, class_count_per_term):\n",
    "    return (freq/float(max_tf_per_class))*(math.log10(n_classes/class_count_per_term) + 1)\n",
    "\n",
    "def calculate_total_tcicf():\n",
    "    #shape[0] = #classes\n",
    "    #shape[1] = #features\n",
    "    num_classes = all_train_vecs.shape[0]\n",
    "    num_features = all_train_vecs.shape[1]\n",
    "    \n",
    "    #[i,:] gives us all columns in row i\n",
    "    #[:,i] gives us all rows in col i \n",
    "    #np.amax gives us max value in that row\n",
    "    max_tf_per_class = [np.amax(all_train_vecs[i,:]) for i in range(0, num_classes)]\n",
    "    \n",
    "    #need to iterate through whole matrix and check counts \n",
    "    class_count_per_term = np.zeros(num_features)\n",
    "    \n",
    "    #iterate through all of the classes\n",
    "    for c in range(0, num_classes):\n",
    "        #iterate through all of the features for that class (rows)\n",
    "        for feature in range(0, num_features):\n",
    "            if(all_train_vecs[c, feature] != 0):\n",
    "                class_count_per_term[feature] += 1\n",
    "                \n",
    "    #tcicf matrix is terms * classes (?) big_num*20\n",
    "    tf_icf = np.zeros((num_features, num_classes))\n",
    "\n",
    "\n",
    "    for term in range(0, num_features):\n",
    "        row = all_train_vecs[:,term].toarray()\n",
    "        for c in range(0, num_classes):\n",
    "            #we're indexing across first\n",
    "            tf_icf[term][c] = calculate_tcicf(row[c,0], max_tf_per_class[c],class_count_per_term[term])\n",
    "\n",
    "    return tf_icf\n",
    "                \n",
    "        \n",
    "        \n",
    "\n",
    "        "
   ]
  },
  {
   "cell_type": "code",
   "execution_count": 171,
   "metadata": {
    "scrolled": true
   },
   "outputs": [
    {
     "name": "stdout",
     "output_type": "stream",
     "text": [
      "['scsi', 'drive', 'edu', 'thi', 'use', 'line', 'com', 'subject', 'organ', 'ide']\n",
      "['edu', 'thi', 'line', 'mac', 'subject', 'organ', 'use', 'appl', 'post', 'problem']\n",
      "['edu', '00', 'line', 'subject', 'sale', 'organ', 'post', 'new', 'thi', 'com']\n",
      "['thi', 'god', 'wa', 'christian', 'edu', 'hi', 'jesu', 'subject', 'peopl', 'line']\n"
     ]
    },
    {
     "data": {
      "text/plain": [
       "'\\nfor category in [3,4,6,15]:\\n    tficf={}\\n    term_index=0;\\n    for term in vectorizer.get_feature_names():\\n        tficf[term]=tf_icf[term_index][category]\\n        term_index+=1\\n'"
      ]
     },
     "execution_count": 171,
     "metadata": {},
     "output_type": "execute_result"
    }
   ],
   "source": [
    "import operator \n",
    "\n",
    "tf_icf=calculate_total_tcicf()\n",
    "cats_of_interest = [3,4,6,15]\n",
    "terms = vectorizer.get_feature_names()\n",
    "\n",
    "for cat in cats_of_interest:\n",
    "    i = 0\n",
    "    tf_dict = {}\n",
    "    for term in terms:\n",
    "        tf_dict[term] = tf_icf[i][cat]\n",
    "        i += 1\n",
    "        \n",
    "# print top 10 significant term for this class\n",
    "    #sort in increasing order and pick top 10 elements\n",
    "    sorted_vals = sorted(tf_dict.items(), key=lambda elem: elem[1], reverse=True)\n",
    "    top_to_bottom = sorted_vals[:10] \n",
    "    \n",
    "    #need to extract \n",
    "    keys = []\n",
    "    for pair in top_to_bottom: \n",
    "        keys.append(pair[0])\n",
    "\n",
    "    print(keys)\n",
    "\n",
    "\n"
   ]
  },
  {
   "cell_type": "markdown",
   "metadata": {},
   "source": [
    "<h3>Part D: Dimensionality Reduction</h3>"
   ]
  },
  {
   "cell_type": "code",
   "execution_count": 144,
   "metadata": {
    "collapsed": true
   },
   "outputs": [],
   "source": [
    "from sklearn.feature_extraction.text import TfidfTransformer \n",
    "tfidf_tf = TfidfTransformer(norm='l2')\n",
    "\n",
    "X_train_tfidf = tfidf_tf.fit_transform(X_train_vectors)\n",
    "X_test_tfidf = tfidf_tf.transform(X_test_vectors)\n"
   ]
  },
  {
   "cell_type": "code",
   "execution_count": 145,
   "metadata": {},
   "outputs": [],
   "source": [
    "#perform LSI w/ k=50\n",
    "#NMF: min W,H: ||X-WH||^2\n",
    "\n",
    "from sklearn.decomposition import NMF\n",
    "nmf_model = NMF(n_components=50, init='random', random_state=0)\n",
    "train_nmf = nmf_model.fit_transform(X_train_tfidf)\n",
    "test_nmf = nmf_model.transform(X_test_tfidf)\n",
    "H = nmf_model.components_"
   ]
  },
  {
   "cell_type": "code",
   "execution_count": 146,
   "metadata": {
    "collapsed": true
   },
   "outputs": [],
   "source": [
    "from sklearn.decomposition import TruncatedSVD\n",
    "from sklearn.pipeline import Pipeline\n",
    "\n",
    "svd = TruncatedSVD(n_components=50)\n",
    "\n",
    "def get_lsi(train_matrix, test_matrix):\n",
    "    p = Pipeline(\n",
    "        steps=[\n",
    "            ('vector_counts', vectorizer),\n",
    "            ('tfidf_transform', tfidf_tf),\n",
    "            ('solve_svd', svd)\n",
    "            \n",
    "        ]\n",
    "    )\n",
    "    \n",
    "    return p.fit_transform(train_matrix), p.transform(test_matrix)\n"
   ]
  },
  {
   "cell_type": "code",
   "execution_count": 147,
   "metadata": {
    "collapsed": true
   },
   "outputs": [],
   "source": [
    "#Qprint(len(X_train.data))\n",
    "train_lsi, test_lsi = get_lsi(X_train.data, X_test.data)\n",
    "\n",
    "\n"
   ]
  },
  {
   "cell_type": "markdown",
   "metadata": {},
   "source": [
    "<h1>Learning Algorithms</h1>"
   ]
  },
  {
   "cell_type": "markdown",
   "metadata": {},
   "source": [
    "<h3>Part E: hard margin SVM</h3>"
   ]
  },
  {
   "cell_type": "code",
   "execution_count": 148,
   "metadata": {},
   "outputs": [],
   "source": [
    "from sklearn.metrics import *\n",
    "\n",
    "\n",
    "\"\"\"\n",
    "Need to take our combined data and separate it into the two groups for \n",
    "binary classificaiton (computer tech or recreation)\n",
    "\"\"\"\n",
    "y_train = [int(x/4) for x in X_train.target]\n",
    "y_test = [int(x/4) for x in X_test.target]\n",
    "\n",
    "\n",
    "#Some performance metric evaluations\n",
    "def evaluate(y_preds, y_test):\n",
    "\n",
    "    f1 = f1_score(y_true=y_test, y_pred=y_preds, average='macro')\n",
    "    acc = accuracy_score(y_test, y_preds)\n",
    "    conf = confusion_matrix(y_test, y_preds)\n",
    "    prec = precision_score(y_test, y_preds, average='macro')\n",
    "    rec = recall_score(y_test, y_preds, average='macro')\n",
    "\n",
    "\n",
    "    print(\"F1: \", f1)\n",
    "    print(\"Accuracy: \", acc)\n",
    "    print(\"Precision: \", prec)\n",
    "    print(\"Recall: \", rec)\n",
    "    print(\"Confusion matrix: \\n\", conf)\n",
    "    return (f1, acc, prec, rec, conf)\n",
    "\n",
    "def roc_auc(probs, y):\n",
    "    fpr, tpr, thresholds = roc_curve(y, probs[:, 1])\n",
    "    roc_auc = auc(fpr, tpr)\n",
    "    roc_str = 'ROC (AUC Gain = %0.2f)' % (roc_auc - 0.5)\n",
    "    plt.plot(fpr, tpr, lw=1,label=roc_str)\n",
    "    plt.plot([0,1],[0,1],label=\"RAN CLF\")\n",
    "    plt.title(roc_str)\n",
    "    plt.show()\n",
    "    \n",
    "    \n",
    "def prrc_auc(probs, y):\n",
    "    pr, rc, thresholds = precision_recall_curve(y, probs[:, 1])\n",
    "    roc_auc = auc(rc, pr)\n",
    "    roc_str = 'Prec vs Recall (AUC Gain = %0.2f)' % (roc_auc - np.mean(y))\n",
    "    plt.plot(rc,pr, lw=1,label=roc_str)\n",
    "    plt.plot([0,1],[np.mean(y),np.mean(y)],label=\"RAN CLF\")\n",
    "    plt.axis([0,1,0,1])\n",
    "    plt.title(roc_str)\n",
    "    plt.show()\n",
    "    \n",
    "#print(X_test.target)\n",
    "#print(y_test)\n",
    "#print(y_train)"
   ]
  },
  {
   "cell_type": "markdown",
   "metadata": {},
   "source": [
    "<h3> Evaluating the hard margin SVM (gamma=1000)</h3>"
   ]
  },
  {
   "cell_type": "code",
   "execution_count": 149,
   "metadata": {},
   "outputs": [
    {
     "data": {
      "image/png": "[encoded data removed]",
      "text/plain": [
       "<matplotlib.figure.Figure at 0x1a16dc2f98>"
      ]
     },
     "metadata": {},
     "output_type": "display_data"
    },
    {
     "data": {
      "image/png": "[encoded data removed]",
      "text/plain": [
       "<matplotlib.figure.Figure at 0x1a154c8cc0>"
      ]
     },
     "metadata": {},
     "output_type": "display_data"
    },
    {
     "name": "stdout",
     "output_type": "stream",
     "text": [
      "F1:  0.974276690064\n",
      "Accuracy:  0.974285714286\n",
      "Precision:  0.974523024066\n",
      "Recall:  0.974195694243\n",
      "Confusion matrix: \n",
      " [[1505   55]\n",
      " [  26 1564]]\n"
     ]
    },
    {
     "data": {
      "text/plain": [
       "(0.97427669006380579,\n",
       " 0.97428571428571431,\n",
       " 0.97452302406635116,\n",
       " 0.97419569424286401,\n",
       " array([[1505,   55],\n",
       "        [  26, 1564]]))"
      ]
     },
     "execution_count": 149,
     "metadata": {},
     "output_type": "execute_result"
    }
   ],
   "source": [
    "from sklearn.svm import SVC\n",
    "#Testing with LSI\n",
    "clf_lsi = SVC(C=1000, probability=True)\n",
    "clf_lsi.fit(train_lsi, y_train)\n",
    "\n",
    "y_preds = clf_lsi.predict(test_lsi)\n",
    "y_probs = clf_lsi.predict_proba(test_lsi)\n",
    "#plot curves and evaluate\n",
    "roc_auc(y_probs, y_test)\n",
    "prrc_auc(y_probs, y_test)\n",
    "evaluate(y_preds, y_test)\n"
   ]
  },
  {
   "cell_type": "markdown",
   "metadata": {},
   "source": [
    "<h3> Evaluating the Soft Margin SVM (gamma = 0.001)</h3>"
   ]
  },
  {
   "cell_type": "code",
   "execution_count": 150,
   "metadata": {},
   "outputs": [
    {
     "data": {
      "image/png": "[encoded data removed]",
      "text/plain": [
       "<matplotlib.figure.Figure at 0x1a1672d390>"
      ]
     },
     "metadata": {},
     "output_type": "display_data"
    },
    {
     "data": {
      "image/png": "[encoded data removed]",
      "text/plain": [
       "<matplotlib.figure.Figure at 0x1a08ff3f98>"
      ]
     },
     "metadata": {},
     "output_type": "display_data"
    },
    {
     "name": "stdout",
     "output_type": "stream",
     "text": [
      "F1:  0.335443037975\n",
      "Accuracy:  0.504761904762\n",
      "Precision:  0.252380952381\n",
      "Recall:  0.5\n",
      "Confusion matrix: \n",
      " [[   0 1560]\n",
      " [   0 1590]]\n"
     ]
    },
    {
     "data": {
      "text/plain": [
       "(0.33544303797468356,\n",
       " 0.50476190476190474,\n",
       " 0.25238095238095237,\n",
       " 0.5,\n",
       " array([[   0, 1560],\n",
       "        [   0, 1590]]))"
      ]
     },
     "execution_count": 150,
     "metadata": {},
     "output_type": "execute_result"
    }
   ],
   "source": [
    "#Testing with LSI\n",
    "clf_lsi = SVC(C=0.001, probability=True)\n",
    "clf_lsi.fit(train_lsi, y_train)\n",
    "\n",
    "y_preds = clf_lsi.predict(test_lsi)\n",
    "y_probs = clf_lsi.predict_proba(test_lsi)\n",
    "#plot curves and evaluate\n",
    "roc_auc(y_probs, y_test)\n",
    "prrc_auc(y_probs, y_test)\n",
    "evaluate(y_preds, y_test)\n",
    "\n"
   ]
  },
  {
   "cell_type": "markdown",
   "metadata": {},
   "source": [
    "<h3> Part F: 5-Fold Cross Validation </h3>"
   ]
  },
  {
   "cell_type": "code",
   "execution_count": 151,
   "metadata": {},
   "outputs": [
    {
     "name": "stdout",
     "output_type": "stream",
     "text": [
      "Mean score for gamma= 0.001  is:  0.504860572169\n",
      "Mean score for gamma= 0.01  is:  0.504860572169\n",
      "Mean score for gamma= 0.1  is:  0.504860572169\n",
      "Mean score for gamma= 1  is:  0.95836767707\n",
      "Mean score for gamma= 10  is:  0.971046195595\n",
      "Mean score for gamma= 100  is:  0.975061548064\n",
      "Mean score for gamma= 1000  is:  0.973161480051\n",
      "[0.50486057216933178, 0.50486057216933178, 0.50486057216933178, 0.95836767707006665, 0.97104619559519989, 0.97506154806368461, 0.97316148005080017]\n"
     ]
    }
   ],
   "source": [
    "from sklearn.model_selection import KFold\n",
    "from sklearn import cross_validation as cv\n",
    "\n",
    "kf = KFold(n_splits=5, shuffle=True)\n",
    "k_vals = [-3, -2, -1, 0, 1, 2, 3]\n",
    "results = []\n",
    "for kv in k_vals:\n",
    "    gamma = 10**(kv)\n",
    "    clf = SVC(C=gamma, probability=True)\n",
    "    mean = np.mean(cv.cross_val_score(clf, train_lsi, y_train, cv=5))\n",
    "    results.append(mean)\n",
    "    print(\"Mean score for gamma=\",gamma,\" is: \", mean)\n",
    "\n",
    "print(results)\n"
   ]
  },
  {
   "cell_type": "code",
   "execution_count": 152,
   "metadata": {},
   "outputs": [
    {
     "name": "stdout",
     "output_type": "stream",
     "text": [
      "Best classifier is k= 2  gamma= 100\n",
      "F1:  0.972373131381\n",
      "Accuracy:  0.972380952381\n",
      "Precision:  0.972541133544\n",
      "Recall:  0.97230890179\n",
      "Confusion matrix: \n",
      " [[1505   55]\n",
      " [  32 1558]]\n"
     ]
    }
   ],
   "source": [
    "#Select the best classifier\n",
    "best_index = np.argmax(results)\n",
    "best_k = k_vals[best_index]\n",
    "print(\"Best classifier is k=\", best_k, \" gamma=\", 10**best_k)\n",
    "\n",
    "clf_best = SVC(C=(10**best_k))\n",
    "clf_best.fit(train_lsi, y_train)\n",
    "y_preds = clf_best.predict(test_lsi)\n",
    "metrics = evaluate(y_preds, y_test)\n"
   ]
  },
  {
   "cell_type": "code",
   "execution_count": null,
   "metadata": {
    "collapsed": true
   },
   "outputs": [],
   "source": []
  },
  {
   "cell_type": "markdown",
   "metadata": {},
   "source": [
    "<h3> Part G: Naive Bayes </h3>"
   ]
  },
  {
   "cell_type": "code",
   "execution_count": 153,
   "metadata": {},
   "outputs": [
    {
     "data": {
      "image/png": "[encoded data removed]",
      "text/plain": [
       "<matplotlib.figure.Figure at 0x1a167ead68>"
      ]
     },
     "metadata": {},
     "output_type": "display_data"
    },
    {
     "data": {
      "image/png": "[encoded data removed]",
      "text/plain": [
       "<matplotlib.figure.Figure at 0x1a08c9f0b8>"
      ]
     },
     "metadata": {},
     "output_type": "display_data"
    },
    {
     "name": "stdout",
     "output_type": "stream",
     "text": [
      "F1:  0.937430295353\n",
      "Accuracy:  0.93746031746\n",
      "Precision:  0.93781170428\n",
      "Recall:  0.937336719884\n",
      "Confusion matrix: \n",
      " [[1442  118]\n",
      " [  79 1511]]\n"
     ]
    },
    {
     "data": {
      "text/plain": [
       "(0.93743029535260003,\n",
       " 0.93746031746031744,\n",
       " 0.93781170428004257,\n",
       " 0.93733671988388978,\n",
       " array([[1442,  118],\n",
       "        [  79, 1511]]))"
      ]
     },
     "execution_count": 153,
     "metadata": {},
     "output_type": "execute_result"
    }
   ],
   "source": [
    "from sklearn.naive_bayes import GaussianNB\n",
    "clf = GaussianNB()\n",
    "clf.fit(train_nmf, y_train)\n",
    "\n",
    "y_preds = clf.predict(test_nmf)\n",
    "y_probs = clf.predict_proba(test_nmf)\n",
    "#plot curves and evaluate\n",
    "roc_auc(y_probs, y_test)\n",
    "prrc_auc(y_probs, y_test)\n",
    "evaluate(y_preds, y_test)\n",
    "\n"
   ]
  },
  {
   "cell_type": "code",
   "execution_count": 154,
   "metadata": {},
   "outputs": [
    {
     "data": {
      "image/png": "[encoded data removed]",
      "text/plain": [
       "<matplotlib.figure.Figure at 0x1a13bfa780>"
      ]
     },
     "metadata": {},
     "output_type": "display_data"
    },
    {
     "data": {
      "image/png": "[encoded data removed]",
      "text/plain": [
       "<matplotlib.figure.Figure at 0x1a16f6c0f0>"
      ]
     },
     "metadata": {},
     "output_type": "display_data"
    },
    {
     "name": "stdout",
     "output_type": "stream",
     "text": [
      "F1:  0.931514890619\n",
      "Accuracy:  0.931746031746\n",
      "Precision:  0.936201094356\n",
      "Recall:  0.931277213353\n",
      "Confusion matrix: \n",
      " [[1376  184]\n",
      " [  31 1559]]\n"
     ]
    },
    {
     "data": {
      "text/plain": [
       "(0.93151489061949677,\n",
       " 0.93174603174603177,\n",
       " 0.93620109435610255,\n",
       " 0.93127721335268498,\n",
       " array([[1376,  184],\n",
       "        [  31, 1559]]))"
      ]
     },
     "execution_count": 154,
     "metadata": {},
     "output_type": "execute_result"
    }
   ],
   "source": [
    "from sklearn.naive_bayes import MultinomialNB\n",
    "clf = MultinomialNB()\n",
    "clf.fit(train_nmf, y_train)\n",
    "\n",
    "y_preds = clf.predict(test_nmf)\n",
    "y_probs = clf.predict_proba(test_nmf)\n",
    "#plot curves and evaluate\n",
    "roc_auc(y_probs, y_test)\n",
    "prrc_auc(y_probs, y_test)\n",
    "evaluate(y_preds, y_test)\n",
    "\n",
    "\n"
   ]
  },
  {
   "cell_type": "markdown",
   "metadata": {},
   "source": [
    "<h3> Part H: Logistic Regression </h3>"
   ]
  },
  {
   "cell_type": "code",
   "execution_count": 155,
   "metadata": {},
   "outputs": [
    {
     "data": {
      "image/png": "[encoded data removed]",
      "text/plain": [
       "<matplotlib.figure.Figure at 0x1a16f896a0>"
      ]
     },
     "metadata": {},
     "output_type": "display_data"
    },
    {
     "data": {
      "image/png": "[encoded data removed]",
      "text/plain": [
       "<matplotlib.figure.Figure at 0x1a16f89fd0>"
      ]
     },
     "metadata": {},
     "output_type": "display_data"
    },
    {
     "name": "stdout",
     "output_type": "stream",
     "text": [
      "F1:  0.966968734031\n",
      "Accuracy:  0.966984126984\n",
      "Precision:  0.967353104508\n",
      "Recall:  0.966866231253\n",
      "Confusion matrix: \n",
      " [[1489   71]\n",
      " [  33 1557]]\n"
     ]
    },
    {
     "data": {
      "text/plain": [
       "(0.96696873403135919,\n",
       " 0.96698412698412695,\n",
       " 0.96735310450816359,\n",
       " 0.96686623125302373,\n",
       " array([[1489,   71],\n",
       "        [  33, 1557]]))"
      ]
     },
     "execution_count": 155,
     "metadata": {},
     "output_type": "execute_result"
    }
   ],
   "source": [
    "from sklearn.linear_model import LogisticRegression\n",
    "\n",
    "clf = LogisticRegression()\n",
    "clf.fit(train_lsi, y_train)\n",
    "y_preds = clf.predict(test_lsi)\n",
    "y_probs = clf.predict_proba(test_lsi)\n",
    "\n",
    "from sklearn.naive_bayes import GaussianNB\n",
    "clf = GaussianNB()\n",
    "clf.fit(train_lsi, y_train)\n",
    "\n",
    "roc_auc(y_probs, y_test)\n",
    "prrc_auc(y_probs, y_test)\n",
    "evaluate(y_preds, y_test)\n",
    "\n",
    "\n"
   ]
  },
  {
   "cell_type": "markdown",
   "metadata": {},
   "source": [
    "<h3> Part I(1): Regularization in Logistic Regression </h3>"
   ]
  },
  {
   "cell_type": "code",
   "execution_count": 156,
   "metadata": {},
   "outputs": [
    {
     "data": {
      "image/png": "[encoded data removed]",
      "text/plain": [
       "<matplotlib.figure.Figure at 0x1a16f89198>"
      ]
     },
     "metadata": {},
     "output_type": "display_data"
    },
    {
     "data": {
      "image/png": "[encoded data removed]",
      "text/plain": [
       "<matplotlib.figure.Figure at 0x1a14b43828>"
      ]
     },
     "metadata": {},
     "output_type": "display_data"
    },
    {
     "name": "stdout",
     "output_type": "stream",
     "text": [
      "F1:  0.968559638238\n",
      "Accuracy:  0.968571428571\n",
      "Precision:  0.968832269723\n",
      "Recall:  0.968474842767\n",
      "Confusion matrix: \n",
      " [[1495   65]\n",
      " [  34 1556]]\n"
     ]
    },
    {
     "data": {
      "image/png": "[encoded data removed]",
      "text/plain": [
       "<matplotlib.figure.Figure at 0x1a0d567320>"
      ]
     },
     "metadata": {},
     "output_type": "display_data"
    },
    {
     "data": {
      "image/png": "[encoded data removed]",
      "text/plain": [
       "<matplotlib.figure.Figure at 0x1a0d567438>"
      ]
     },
     "metadata": {},
     "output_type": "display_data"
    },
    {
     "name": "stdout",
     "output_type": "stream",
     "text": [
      "F1:  0.966968734031\n",
      "Accuracy:  0.966984126984\n",
      "Precision:  0.967353104508\n",
      "Recall:  0.966866231253\n",
      "Confusion matrix: \n",
      " [[1489   71]\n",
      " [  33 1557]]\n"
     ]
    },
    {
     "data": {
      "text/plain": [
       "(0.96696873403135919,\n",
       " 0.96698412698412695,\n",
       " 0.96735310450816359,\n",
       " 0.96686623125302373,\n",
       " array([[1489,   71],\n",
       "        [  33, 1557]]))"
      ]
     },
     "execution_count": 156,
     "metadata": {},
     "output_type": "execute_result"
    }
   ],
   "source": [
    "\"\"\"\n",
    "TODO: sweep coefficients \n",
    "\"\"\"\n",
    "#Regularization L1\n",
    "clf_l1 = LogisticRegression(penalty='l1')\n",
    "clf_l1.fit(train_lsi, y_train)\n",
    "y_preds_l1 = clf_l1.predict(test_lsi)\n",
    "y_probs_l1 = clf_l1.predict_proba(test_lsi)\n",
    "\n",
    "\n",
    "roc_auc(y_probs_l1, y_test)\n",
    "prrc_auc(y_probs_l1, y_test)\n",
    "evaluate(y_preds_l1, y_test)\n",
    "\n",
    "\n",
    "#Regularization L2\n",
    "clf_l2 = LogisticRegression(penalty='l2')\n",
    "clf_l2.fit(train_lsi, y_train)\n",
    "y_preds_l2 = clf_l2.predict(test_lsi)\n",
    "y_probs_l2 = clf_l2.predict_proba(test_lsi)\n",
    "\n",
    "\n",
    "roc_auc(y_probs_l2, y_test)\n",
    "prrc_auc(y_probs_l2, y_test)\n",
    "evaluate(y_preds_l2, y_test)\n",
    "\n"
   ]
  },
  {
   "cell_type": "markdown",
   "metadata": {},
   "source": [
    "<h3> Part I(2): Multiclass Classification </h3>"
   ]
  },
  {
   "cell_type": "code",
   "execution_count": 157,
   "metadata": {},
   "outputs": [
    {
     "name": "stdout",
     "output_type": "stream",
     "text": [
      "Evaluating one vs. one classifier...\n",
      "F1:  0.972373131381\n",
      "Accuracy:  0.972380952381\n",
      "Precision:  0.972541133544\n",
      "Recall:  0.97230890179\n",
      "Confusion matrix: \n",
      " [[1505   55]\n",
      " [  32 1558]]\n",
      "\n",
      " \n",
      "\n",
      "Evaluating one vs. rest classifier...\n",
      "F1:  0.972373131381\n",
      "Accuracy:  0.972380952381\n",
      "Precision:  0.972541133544\n",
      "Recall:  0.97230890179\n",
      "Confusion matrix: \n",
      " [[1505   55]\n",
      " [  32 1558]]\n"
     ]
    },
    {
     "data": {
      "text/plain": [
       "(0.97237313138080617,\n",
       " 0.97238095238095235,\n",
       " 0.97254113354369853,\n",
       " 0.97230890179003393,\n",
       " array([[1505,   55],\n",
       "        [  32, 1558]]))"
      ]
     },
     "execution_count": 157,
     "metadata": {},
     "output_type": "execute_result"
    }
   ],
   "source": [
    "from sklearn.multiclass import OneVsOneClassifier, OneVsRestClassifier\n",
    "#one vs one\n",
    "svm = SVC(C=100)\n",
    "clf_ovo = OneVsOneClassifier(svm)\n",
    "clf_ovo.fit(train_lsi, y_train)\n",
    "y_preds_ovo = clf_ovo.predict(test_lsi)\n",
    "\n",
    "print(\"Evaluating one vs. one classifier...\")\n",
    "evaluate(y_preds_ovo, y_test)\n",
    "\n",
    "\n",
    "print(\"\\n \\n\")\n",
    "#one vs rest\n",
    "clf_ovr = OneVsRestClassifier(svm)\n",
    "clf_ovr.fit(train_lsi, y_train)\n",
    "y_preds_ovr = clf_ovr.predict(test_lsi)\n",
    "\n",
    "print(\"Evaluating one vs. rest classifier...\")\n",
    "evaluate(y_preds_ovr, y_test)\n",
    "\n",
    "\n"
   ]
  },
  {
   "cell_type": "code",
   "execution_count": null,
   "metadata": {
    "collapsed": true
   },
   "outputs": [],
   "source": []
  }
 ],
 "metadata": {
  "kernelspec": {
   "display_name": "Python 3",
   "language": "python",
   "name": "python3"
  },
  "language_info": {
   "codemirror_mode": {
    "name": "ipython",
    "version": 3
   },
   "file_extension": ".py",
   "mimetype": "text/x-python",
   "name": "python",
   "nbconvert_exporter": "python",
   "pygments_lexer": "ipython3",
   "version": "3.6.3"
  }
 },
 "nbformat": 4,
 "nbformat_minor": 2
}
