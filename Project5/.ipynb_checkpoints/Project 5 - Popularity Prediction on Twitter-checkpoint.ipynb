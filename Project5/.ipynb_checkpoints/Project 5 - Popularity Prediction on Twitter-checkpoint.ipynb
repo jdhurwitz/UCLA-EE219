{
 "cells": [
  {
   "cell_type": "markdown",
   "metadata": {},
   "source": [
    "# Popularity Prediction\n",
    "## Problem 1.1\n",
    "As a preliminary step, we calculated the following statistics to get a holistic overview of the twitter dataset."
   ]
  },
  {
   "cell_type": "code",
   "execution_count": 1,
   "metadata": {},
   "outputs": [],
   "source": [
    "import json\n",
    "import numpy as np\n",
    "import matplotlib.pyplot as plt\n",
    "%matplotlib inline \n",
    "\n",
    "data_dir = '/Volumes/TOCOMBINE/tweet_data' # MAKE SURE TO CHANGE THIS TO WHERE EVER YOUR DATA IS. \n",
    "# The total data size is ~14gb which is too large to be committed into github\n",
    "\n",
    "# Puts data into dict\n",
    "# hashtags = ['gohawks', 'gopatriots', 'nfl', 'patriots', 'sb49', 'superbowl'] \n",
    "# this takes awhile so use toy example of #gopatriots only\n",
    "hashtags = ['gopatriots']\n",
    "data = {}\n",
    "for hashtag in hashtags:\n",
    "    file_name = data_dir + '/tweets_#' + hashtag + '.txt' \n",
    "    with open(file_name, 'r') as f:\n",
    "        tweets = []\n",
    "        for i, l in enumerate(f):\n",
    "            tweet = json.loads(l)\n",
    "            tweets.append(tweet)\n",
    "        data[hashtag] = tweets"
   ]
  },
  {
   "cell_type": "code",
   "execution_count": 2,
   "metadata": {},
   "outputs": [
    {
     "name": "stdout",
     "output_type": "stream",
     "text": [
      "#gopatriots\n",
      "\tAvg # of tweets / hour = 46.346\n",
      "\tAvg # of followers / user = 1298.824\n",
      "\tAvg # of retweets / tweet = 1.400\n"
     ]
    }
   ],
   "source": [
    "for hashtag in hashtags:\n",
    "    total_tweets = len(data[hashtag])\n",
    "    min_utc = data[hashtag][0]['citation_date']\n",
    "    max_utc = data[hashtag][-1]['citation_date']\n",
    "    total_hours = (max_utc - min_utc) // 3600\n",
    "    \n",
    "    total_retweets = 0\n",
    "    \n",
    "    total_followers = 0\n",
    "    users = {}\n",
    "    for tweet in data[hashtag]:\n",
    "        user_id = tweet['tweet']['user']['id']\n",
    "        total_retweets += tweet['metrics']['citations']['total']\n",
    "        if user_id in users: continue # user already encountered\n",
    "        users[user_id] = True\n",
    "        total_followers += tweet['author']['followers']\n",
    "    total_users = len(users)\n",
    "    \n",
    "    print('#%s' % hashtag)\n",
    "    print('\\tAvg # of tweets / hour = %.3f' % (total_tweets / total_hours))\n",
    "    print('\\tAvg # of followers / user = %.3f' % (total_followers / total_users))\n",
    "    print('\\tAvg # of retweets / tweet = %.3f' % (total_retweets / total_tweets))"
   ]
  },
  {
   "cell_type": "markdown",
   "metadata": {},
   "source": [
    "a) Here, we show histograms with 1-hour bins that show the number the tweets in hour over time for two hashtag groups, #SuperBowl and #NFL. "
   ]
  },
  {
   "cell_type": "code",
   "execution_count": 23,
   "metadata": {},
   "outputs": [
    {
     "data": {
      "image/png": "[encoded data removed]",
      "text/plain": [
       "<matplotlib.figure.Figure at 0x125637be0>"
      ]
     },
     "metadata": {},
     "output_type": "display_data"
    }
   ],
   "source": [
    "import datetime, time\n",
    "import pytz\n",
    "for hashtag in hashtags:\n",
    "    total_tweets = len(data[hashtag])\n",
    "    min_utc = data[hashtag][0]['citation_date']//3600*3600\n",
    "    max_utc = data[hashtag][-1]['citation_date']//3600*3600\n",
    "#     print(min_utc, max_utc)\n",
    "    bins = np.arange(min_utc, max_utc+3600, 3600)\n",
    "    x = []\n",
    "    for tweet in data[hashtag]:\n",
    "        x.append(tweet['citation_date'])\n",
    "    \n",
    "    n, b, p = plt.hist(x, bins, facecolor='g')\n",
    "#     print(b,p)\n",
    "    plt.xlabel('Hour (UTC)')\n",
    "    plt.ylabel('# of tweets')\n",
    "    plt.title('#' + hashtag)\n",
    "#     plt.axis([40, 160, 0, 0.03])\n",
    "    plt.grid(True)\n",
    "    plt.show()"
   ]
  },
  {
   "cell_type": "markdown",
   "metadata": {},
   "source": [
    "## Problem 1.2\n",
    "For each hashtag, we first fitted a linear regression model using the following five features to\n",
    "predict the number of tweets in the next hour, with features extracted from tweet data in\n",
    "the previous hour.\n",
    "The features we used are:\n",
    "* Number of tweets (hashtag of interest)\n",
    "* Total number of retweets (hashtag of interest)\n",
    "* Sum of the number of followers of the users posting the hashtag\n",
    "* Maximum number of followers of the users posting the hashtag\n",
    "* Time of the day (which could take 24 values that represent hours of the day with respect to a given time zone)\n",
    "\n",
    "For each model, we present the training accuracy and r2 score. Further, we analyzed the significance of each feature using the t-test and P-value, using a third-party statsmodels.api."
   ]
  },
  {
   "cell_type": "code",
   "execution_count": 28,
   "metadata": {},
   "outputs": [
    {
     "name": "stdout",
     "output_type": "stream",
     "text": [
      "(441, 5) (441,)\n",
      "#gopatriots\n",
      "\t Training accuracy = 38740.916, R2 score = 0.678\n",
      "                            OLS Regression Results                            \n",
      "==============================================================================\n",
      "Dep. Variable:                      y   R-squared:                       0.686\n",
      "Model:                            OLS   Adj. R-squared:                  0.683\n",
      "Method:                 Least Squares   F-statistic:                     190.9\n",
      "Date:                Wed, 07 Mar 2018   Prob (F-statistic):          2.13e-107\n",
      "Time:                        18:42:36   Log-Likelihood:                -2955.6\n",
      "No. Observations:                 441   AIC:                             5921.\n",
      "Df Residuals:                     436   BIC:                             5942.\n",
      "Df Model:                           5                                         \n",
      "Covariance Type:            nonrobust                                         \n",
      "==============================================================================\n",
      "                 coef    std err          t      P>|t|      [0.025      0.975]\n",
      "------------------------------------------------------------------------------\n",
      "x1             0.2907      0.264      1.100      0.272      -0.229       0.810\n",
      "x2            -0.7146      0.267     -2.680      0.008      -1.239      -0.191\n",
      "x3             0.0018      0.000      8.143      0.000       0.001       0.002\n",
      "x4            -0.0018      0.000     -8.471      0.000      -0.002      -0.001\n",
      "x5             1.7018      0.732      2.326      0.020       0.264       3.140\n",
      "==============================================================================\n",
      "Omnibus:                      460.665   Durbin-Watson:                   1.834\n",
      "Prob(Omnibus):                  0.000   Jarque-Bera (JB):           120060.211\n",
      "Skew:                           3.905   Prob(JB):                         0.00\n",
      "Kurtosis:                      83.454   Cond. No.                     3.18e+04\n",
      "==============================================================================\n",
      "\n",
      "Warnings:\n",
      "[1] Standard Errors assume that the covariance matrix of the errors is correctly specified.\n",
      "[2] The condition number is large, 3.18e+04. This might indicate that there are\n",
      "strong multicollinearity or other numerical problems.\n"
     ]
    }
   ],
   "source": [
    "import statsmodels.api as sm\n",
    "import statsmodels.formula.api as smf\n",
    "import datetime, time\n",
    "import pytz\n",
    "from itertools import compress\n",
    "from sklearn import datasets, linear_model\n",
    "from sklearn.metrics import accuracy_score, r2_score, mean_squared_error\n",
    "\n",
    "pst_tz = pytz.timezone('US/Pacific')\n",
    "\n",
    "for hashtag in hashtags:\n",
    "    total_tweets = len(data[hashtag])\n",
    "    min_utc = data[hashtag][0]['citation_date']//3600*3600\n",
    "    max_utc = data[hashtag][-1]['citation_date']//3600*3600\n",
    "    bins = np.arange(min_utc, max_utc+3600, 3600) # [0, 5, 10, 15]\n",
    "    \n",
    "#     X = np.zeros((len(bins) - 2, 6))\n",
    "    bin_data = {}\n",
    "\n",
    "    post_times = [tweet['citation_date'] for tweet in data[hashtag]]\n",
    "    inds = np.digitize(post_times, bins)\n",
    "    for i in range(total_tweets):\n",
    "        bin_num = inds[i] # tweet is in this bin num : bins[inds[n]-1] <= tweet < bins[inds[n]]\n",
    "        t = (inds == bin_num)\n",
    "        tweet_inds = list(compress(range(len(t)), t))\n",
    "        \n",
    "        total_tweets, total_retweets, user_followers, time_of_day = 0, 0, {}, datetime.datetime.fromtimestamp(bins[bin_num-1], pst_tz).hour\n",
    "        for j in tweet_inds:\n",
    "            tweet = data[hashtag][j]\n",
    "            total_tweets += 1\n",
    "            total_retweets += tweet['metrics']['citations']['total']\n",
    "            user_id = tweet['tweet']['user']['id']\n",
    "            if user_id in user_followers: continue # user already encountered\n",
    "            user_followers[user_id] = tweet['author']['followers']\n",
    "#         print((total_tweets, total_retweets, np.sum(list(user_followers.values())), np.amax(list(user_followers.values())), time_of_day))\n",
    "        bin_data[bin_num] = (total_tweets, total_retweets, int(np.sum(list(user_followers.values()))), int(np.amax(list(user_followers.values()))), time_of_day)\n",
    "    \n",
    "    rows = []\n",
    "    for b, d in bin_data.items():\n",
    "        rows.append(np.array(list(d) + [bin_data[b+1][0] if b+1 in bin_data else 0]))\n",
    "    X = np.stack(rows)\n",
    "    y = X[:,-1]\n",
    "    X = X[:,0:5]\n",
    "    print(X.shape, y.shape)\n",
    "    \n",
    "    lr = linear_model.LinearRegression()\n",
    "    lr.fit(X, y)\n",
    "    y_pred = lr.predict(X)\n",
    "    print(\"#\" + hashtag)\n",
    "    print(\"\\t Mean squared error = %.3f\" % (mean_squared_error(y, y_pred)))\n",
    "    print(sm.OLS(y, X).fit().summary())\n",
    "    \n",
    "    "
   ]
  },
  {
   "cell_type": "markdown",
   "metadata": {},
   "source": [
    "From observing the significance, or p-value, of each feature, it is evident that the total number of tweets for the current hour is not a statistically significant feature as the p-value is larger than 0.05 (assuming alpha at 0.05). Every other feature, however, shows a low p-value, indicating that it contributes greatly our final prediction, and are therefor valuable features. In general, a low p-value is evidence for the change in the predictor's value to be directly correlated to the change in the response variable, which is what we desire.\n",
    "\n",
    "Inutitively, this makes sense as the total tweets for the current hour would not affect the the total tweets for the next hour. Tweets do not become frequent when there is large number of tweets prior, instead, they become frequent when the previous tweets is associated with a large number of retweets and followers, signaling traction and actual social impact (at least virutally). "
   ]
  },
  {
   "cell_type": "markdown",
   "metadata": {},
   "source": [
    "## Problem 1.3"
   ]
  },
  {
   "cell_type": "markdown",
   "metadata": {},
   "source": [
    "# Fan Base Predicition"
   ]
  },
  {
   "cell_type": "code",
   "execution_count": null,
   "metadata": {},
   "outputs": [],
   "source": []
  },
  {
   "cell_type": "code",
   "execution_count": null,
   "metadata": {},
   "outputs": [],
   "source": []
  },
  {
   "cell_type": "markdown",
   "metadata": {},
   "source": [
    "# \"put title here for your project's scope\""
   ]
  },
  {
   "cell_type": "code",
   "execution_count": null,
   "metadata": {},
   "outputs": [],
   "source": []
  }
 ],
 "metadata": {
  "kernelspec": {
   "display_name": "Python 3",
   "language": "python",
   "name": "python3"
  },
  "language_info": {
   "codemirror_mode": {
    "name": "ipython",
    "version": 3
   },
   "file_extension": ".py",
   "mimetype": "text/x-python",
   "name": "python",
   "nbconvert_exporter": "python",
   "pygments_lexer": "ipython3",
   "version": "3.6.2"
  }
 },
 "nbformat": 4,
 "nbformat_minor": 2
}
