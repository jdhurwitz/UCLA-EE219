{
 "cells": [
  {
   "cell_type": "markdown",
   "metadata": {},
   "source": [
    "# Popularity Prediction\n",
    "## Problem 1.1\n",
    "As a preliminary step, we calculated the following statistics to get a holistic overview of the twitter dataset."
   ]
  },
  {
   "cell_type": "code",
   "execution_count": 46,
   "metadata": {},
   "outputs": [],
   "source": [
    "import json\n",
    "import numpy as np\n",
    "import matplotlib.pyplot as plt\n",
    "%matplotlib inline \n",
    "\n",
    "data_dir = '/Volumes/TOCOMBINE/tweet_data' # MAKE SURE TO CHANGE THIS TO WHERE EVER YOUR DATA IS. \n",
    "# The total data size is ~14gb which is too large to be committed into github\n",
    "\n",
    "# Puts data into dict\n",
    "# hashtags = ['gohawks', 'gopatriots', 'nfl', 'patriots', 'sb49', 'superbowl'] \n",
    "# this takes awhile so use toy example of #gopatriots only\n",
    "hashtags = ['gopatriots']\n",
    "data = {}\n",
    "for hashtag in hashtags:\n",
    "    file_name = data_dir + '/tweets_#' + hashtag + '.txt' \n",
    "    with open(file_name, 'r') as f:\n",
    "        tweets = []\n",
    "        for i, l in enumerate(f):\n",
    "            tweet = json.loads(l)\n",
    "            tweets.append(tweet)\n",
    "        data[hashtag] = tweets"
   ]
  },
  {
   "cell_type": "code",
   "execution_count": 47,
   "metadata": {},
   "outputs": [
    {
     "name": "stdout",
     "output_type": "stream",
     "text": [
      "#gopatriots\n",
      "\tAvg # of tweets / hour = 46.346\n",
      "\tAvg # of followers / user = 1298.824\n",
      "\tAvg # of retweets / tweet = 1.400\n"
     ]
    }
   ],
   "source": [
    "for hashtag in hashtags:\n",
    "    total_tweets = len(data[hashtag])\n",
    "    min_utc = data[hashtag][0]['citation_date']\n",
    "    max_utc = data[hashtag][-1]['citation_date']\n",
    "    total_hours = (max_utc - min_utc) // 3600\n",
    "    \n",
    "    total_retweets = 0\n",
    "    \n",
    "    total_followers = 0\n",
    "    users = {}\n",
    "    for tweet in data[hashtag]:\n",
    "        user_id = tweet['tweet']['user']['id']\n",
    "        total_retweets += tweet['metrics']['citations']['total']\n",
    "        if user_id in users: continue # user already encountered\n",
    "        users[user_id] = True\n",
    "        total_followers += tweet['author']['followers']\n",
    "    total_users = len(users)\n",
    "    \n",
    "    print('#%s' % hashtag)\n",
    "    print('\\tAvg # of tweets / hour = %.3f' % (total_tweets / total_hours))\n",
    "    print('\\tAvg # of followers / user = %.3f' % (total_followers / total_users))\n",
    "    print('\\tAvg # of retweets / tweet = %.3f' % (total_retweets / total_tweets))"
   ]
  },
  {
   "cell_type": "markdown",
   "metadata": {},
   "source": [
    "a) Here, we show histograms with 1-hour bins that show the number the tweets in hour over time for two hashtag groups, #SuperBowl and #NFL. "
   ]
  },
  {
   "cell_type": "code",
   "execution_count": 48,
   "metadata": {},
   "outputs": [
    {
     "data": {
      "image/png": "[encoded data removed]",
      "text/plain": [
       "<matplotlib.figure.Figure at 0x10c85d198>"
      ]
     },
     "metadata": {},
     "output_type": "display_data"
    }
   ],
   "source": [
    "for hashtag in hashtags:\n",
    "    total_tweets = len(data[hashtag])\n",
    "    min_utc = data[hashtag][0]['citation_date']\n",
    "    max_utc = data[hashtag][-1]['citation_date']\n",
    "    bins = np.arange(min_utc, max_utc+3600, 3600)\n",
    "    x = []\n",
    "    for tweet in data[hashtag]:\n",
    "        x.append(tweet['citation_date'])\n",
    "    \n",
    "    plt.hist(x, bins, facecolor='g')\n",
    "    plt.xlabel('Hour (UTC)')\n",
    "    plt.ylabel('# of tweets')\n",
    "    plt.title('#' + hashtag)\n",
    "#     plt.axis([40, 160, 0, 0.03])\n",
    "    plt.grid(True)\n",
    "    plt.show()"
   ]
  },
  {
   "cell_type": "markdown",
   "metadata": {},
   "source": [
    "## Problem 1.2"
   ]
  },
  {
   "cell_type": "markdown",
   "metadata": {},
   "source": [
    "# Fan Base Predicition"
   ]
  },
  {
   "cell_type": "code",
   "execution_count": null,
   "metadata": {},
   "outputs": [],
   "source": []
  },
  {
   "cell_type": "code",
   "execution_count": null,
   "metadata": {},
   "outputs": [],
   "source": []
  },
  {
   "cell_type": "markdown",
   "metadata": {},
   "source": [
    "# \"put title here for your project's scope\""
   ]
  },
  {
   "cell_type": "code",
   "execution_count": null,
   "metadata": {},
   "outputs": [],
   "source": []
  }
 ],
 "metadata": {
  "kernelspec": {
   "display_name": "Python 3",
   "language": "python",
   "name": "python3"
  }
 },
 "nbformat": 4,
 "nbformat_minor": 2
}
