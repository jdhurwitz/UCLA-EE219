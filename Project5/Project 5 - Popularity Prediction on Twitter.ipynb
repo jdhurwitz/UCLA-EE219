{
 "cells": [
  {
   "cell_type": "markdown",
   "metadata": {},
   "source": [
    "# Popularity Prediction\n",
    "## Problem 1.1\n",
    "As a preliminary step, we calculated the following statistics to get a holistic overview of the twitter dataset."
   ]
  },
  {
   "cell_type": "code",
   "execution_count": 1,
   "metadata": {},
   "outputs": [],
   "source": [
    "import json\n",
    "import numpy as np\n",
    "import pandas as pd\n",
    "import matplotlib.pyplot as plt\n",
    "%matplotlib inline "
   ]
  },
  {
   "cell_type": "code",
   "execution_count": 137,
   "metadata": {
    "collapsed": true
   },
   "outputs": [],
   "source": [
    "data_dir = 'tweet_data' # MAKE SURE TO CHANGE THIS TO WHERE EVER YOUR DATA IS. \n",
    "# The total data size is ~14gb which is too large to be committed into github\n",
    "\n",
    "# Puts data into dict\n",
    "# hashtags = ['gohawks', 'gopatriots', 'nfl', 'patriots', 'sb49', 'superbowl'] \n",
    "# this takes awhile so use toy example of #gopatriots only\n",
    "hashtags = ['gopatriots']\n",
    "data = {}\n",
    "for hashtag in hashtags:\n",
    "    file_name = data_dir + '/tweets_#' + hashtag + '.txt' \n",
    "    with open(file_name, 'r') as f:\n",
    "        tweets = []\n",
    "        for i, l in enumerate(f):\n",
    "            tweet = json.loads(l)\n",
    "            tweets.append(tweet)\n",
    "        data[hashtag] = tweets"
   ]
  },
  {
   "cell_type": "code",
   "execution_count": 138,
   "metadata": {
    "collapsed": true
   },
   "outputs": [],
   "source": [
    "#print(data['gopatriots'][0])\n",
    "#print(data['gopatriots'][0]['metrics']['impressions'])\n",
    "#for item in data['gopatriots'][0].items():\n",
    " #   print(item)"
   ]
  },
  {
   "cell_type": "code",
   "execution_count": 139,
   "metadata": {},
   "outputs": [
    {
     "name": "stdout",
     "output_type": "stream",
     "text": [
      "#gopatriots\n",
      "\tAvg # of tweets / hour = 46.346\n",
      "\tAvg # of followers / user = 1298.824\n",
      "\tAvg # of retweets / tweet = 1.400\n"
     ]
    }
   ],
   "source": [
    "for hashtag in hashtags:\n",
    "    total_tweets = len(data[hashtag])\n",
    "    min_utc = data[hashtag][0]['citation_date']\n",
    "    max_utc = data[hashtag][-1]['citation_date']\n",
    "    total_hours = (max_utc - min_utc) // 3600\n",
    "    \n",
    "    total_retweets = 0\n",
    "    \n",
    "    total_followers = 0\n",
    "    users = {}\n",
    "    for tweet in data[hashtag]:\n",
    "        user_id = tweet['tweet']['user']['id']\n",
    "        total_retweets += tweet['metrics']['citations']['total']\n",
    "        if user_id in users: continue # user already encountered\n",
    "        users[user_id] = True\n",
    "        total_followers += tweet['author']['followers']\n",
    "    total_users = len(users)\n",
    "    \n",
    "    print('#%s' % hashtag)\n",
    "    print('\\tAvg # of tweets / hour = %.3f' % (total_tweets / total_hours))\n",
    "    print('\\tAvg # of followers / user = %.3f' % (total_followers / total_users))\n",
    "    print('\\tAvg # of retweets / tweet = %.3f' % (total_retweets / total_tweets))"
   ]
  },
  {
   "cell_type": "markdown",
   "metadata": {},
   "source": [
    "### a) Here, we show histograms with 1-hour bins that show the number the tweets in hour over time for two hashtag groups, #SuperBowl and #NFL. "
   ]
  },
  {
   "cell_type": "code",
   "execution_count": 140,
   "metadata": {},
   "outputs": [
    {
     "data": {
      "image/png": "[encoded data removed]",
      "text/plain": [
       "<matplotlib.figure.Figure at 0x1c5746a7b8>"
      ]
     },
     "metadata": {},
     "output_type": "display_data"
    }
   ],
   "source": [
    "import datetime, time\n",
    "import pytz\n",
    "hashtag_dict = {}\n",
    "for hashtag in hashtags:\n",
    "    total_tweets = len(data[hashtag])\n",
    "    hashtag_dict[hashtag] = total_tweets\n",
    "    min_utc = data[hashtag][0]['citation_date']//3600*3600\n",
    "    max_utc = data[hashtag][-1]['citation_date']//3600*3600\n",
    "#     print(min_utc, max_utc)\n",
    "    bins = np.arange(min_utc, max_utc+3600, 3600)\n",
    "    x = []\n",
    "    for tweet in data[hashtag]:\n",
    "        x.append(tweet['citation_date'])\n",
    "    \n",
    "    n, b, p = plt.hist(x, bins, facecolor='g')\n",
    "#     print(b,p)\n",
    "    plt.xlabel('Hour (UTC)')\n",
    "    plt.ylabel('# of tweets')\n",
    "    plt.title('#' + hashtag)\n",
    "#     plt.axis([40, 160, 0, 0.03])\n",
    "    plt.grid(True)\n",
    "    plt.show()"
   ]
  },
  {
   "cell_type": "markdown",
   "metadata": {},
   "source": [
    "## Problem 1.2\n",
    "For each hashtag, we first fitted a linear regression model using the following five features to\n",
    "predict the number of tweets in the next hour, with features extracted from tweet data in\n",
    "the previous hour.\n",
    "The features we used are:\n",
    "* Number of tweets (hashtag of interest)\n",
    "* Total number of retweets (hashtag of interest)\n",
    "* Sum of the number of followers of the users posting the hashtag\n",
    "* Maximum number of followers of the users posting the hashtag\n",
    "* Time of the day (which could take 24 values that represent hours of the day with respect to a given time zone)\n",
    "\n",
    "For each model, we present the training accuracy and r2 score. Further, we analyzed the significance of each feature using the t-test and P-value, using a third-party statsmodels.api."
   ]
  },
  {
   "cell_type": "code",
   "execution_count": 141,
   "metadata": {},
   "outputs": [
    {
     "name": "stdout",
     "output_type": "stream",
     "text": [
      "(441, 5) (441,)\n",
      "#gopatriots\n",
      "\t Mean squared error = 38740.916\n",
      "                            OLS Regression Results                            \n",
      "==============================================================================\n",
      "Dep. Variable:                      y   R-squared:                       0.686\n",
      "Model:                            OLS   Adj. R-squared:                  0.683\n",
      "Method:                 Least Squares   F-statistic:                     190.9\n",
      "Date:                Fri, 09 Mar 2018   Prob (F-statistic):          2.13e-107\n",
      "Time:                        15:55:17   Log-Likelihood:                -2955.6\n",
      "No. Observations:                 441   AIC:                             5921.\n",
      "Df Residuals:                     436   BIC:                             5942.\n",
      "Df Model:                           5                                         \n",
      "Covariance Type:            nonrobust                                         \n",
      "==============================================================================\n",
      "                 coef    std err          t      P>|t|      [0.025      0.975]\n",
      "------------------------------------------------------------------------------\n",
      "x1             0.2907      0.264      1.100      0.272      -0.229       0.810\n",
      "x2            -0.7146      0.267     -2.680      0.008      -1.239      -0.191\n",
      "x3             0.0018      0.000      8.143      0.000       0.001       0.002\n",
      "x4            -0.0018      0.000     -8.471      0.000      -0.002      -0.001\n",
      "x5             1.7018      0.732      2.326      0.020       0.264       3.140\n",
      "==============================================================================\n",
      "Omnibus:                      460.665   Durbin-Watson:                   1.834\n",
      "Prob(Omnibus):                  0.000   Jarque-Bera (JB):           120060.211\n",
      "Skew:                           3.905   Prob(JB):                         0.00\n",
      "Kurtosis:                      83.454   Cond. No.                     3.18e+04\n",
      "==============================================================================\n",
      "\n",
      "Warnings:\n",
      "[1] Standard Errors assume that the covariance matrix of the errors is correctly specified.\n",
      "[2] The condition number is large, 3.18e+04. This might indicate that there are\n",
      "strong multicollinearity or other numerical problems.\n"
     ]
    }
   ],
   "source": [
    "import statsmodels.api as sm\n",
    "import statsmodels.formula.api as smf\n",
    "import datetime, time\n",
    "import pytz\n",
    "from itertools import compress\n",
    "from sklearn import datasets, linear_model\n",
    "from sklearn.metrics import accuracy_score, r2_score, mean_squared_error\n",
    "\n",
    "pst_tz = pytz.timezone('US/Pacific')\n",
    "\n",
    "for hashtag in hashtags:\n",
    "    total_tweets = len(data[hashtag])\n",
    "    min_utc = data[hashtag][0]['citation_date']//3600*3600\n",
    "    max_utc = data[hashtag][-1]['citation_date']//3600*3600\n",
    "    bins = np.arange(min_utc, max_utc+3600, 3600) # [0, 5, 10, 15]\n",
    "    \n",
    "#     X = np.zeros((len(bins) - 2, 6))\n",
    "    bin_data = {}\n",
    "\n",
    "    post_times = [tweet['citation_date'] for tweet in data[hashtag]]\n",
    "    inds = np.digitize(post_times, bins)\n",
    "    for i in range(total_tweets):\n",
    "        bin_num = inds[i] # tweet is in this bin num : bins[inds[n]-1] <= tweet < bins[inds[n]]\n",
    "        t = (inds == bin_num)\n",
    "        tweet_inds = list(compress(range(len(t)), t))\n",
    "        \n",
    "        total_tweets, total_retweets, user_followers, time_of_day = 0, 0, {}, datetime.datetime.fromtimestamp(bins[bin_num-1], pst_tz).hour\n",
    "        for j in tweet_inds:\n",
    "            tweet = data[hashtag][j]\n",
    "            total_tweets += 1\n",
    "            total_retweets += tweet['metrics']['citations']['total']\n",
    "            user_id = tweet['tweet']['user']['id']\n",
    "            if user_id in user_followers: continue # user already encountered\n",
    "            user_followers[user_id] = tweet['author']['followers']\n",
    "#         print((total_tweets, total_retweets, np.sum(list(user_followers.values())), np.amax(list(user_followers.values())), time_of_day))\n",
    "        bin_data[bin_num] = (total_tweets, total_retweets, int(np.sum(list(user_followers.values()))), int(np.amax(list(user_followers.values()))), time_of_day)\n",
    "    \n",
    "    rows = []\n",
    "    for b, d in bin_data.items():\n",
    "        rows.append(np.array(list(d) + [bin_data[b+1][0] if b+1 in bin_data else 0]))\n",
    "    X = np.stack(rows)\n",
    "    y = X[:,-1]\n",
    "    X = X[:,0:5]\n",
    "    print(X.shape, y.shape)\n",
    "    \n",
    "    lr = linear_model.LinearRegression()\n",
    "    lr.fit(X, y)\n",
    "    y_pred = lr.predict(X)\n",
    "    print(\"#\" + hashtag)\n",
    "    print(\"\\t Mean squared error = %.3f\" % (mean_squared_error(y, y_pred)))\n",
    "    print(sm.OLS(y, X).fit().summary())\n",
    "    \n",
    "    "
   ]
  },
  {
   "cell_type": "markdown",
   "metadata": {},
   "source": [
    "From observing the significance, or p-value, of each feature, it is evident that the total number of tweets for the current hour is not a statistically significant feature as the p-value is larger than 0.05 (assuming alpha at 0.05). Every other feature, however, shows a low p-value, indicating that it contributes greatly our final prediction, and are therefore are valuable features. In general, a low p-value is evidence for the change in the predictor's value to be directly correlated to the change in the response variable, which is what we desire.\n",
    "\n",
    "Inutitively, this makes sense as the total tweets for the current hour would not affect the the total tweets for the next hour. Tweets do not become frequent when there is large number of tweets prior, instead, they become frequent when the previous tweets is associated with a large number of retweets and followers, signaling traction and actual social impact (at least virutally). "
   ]
  },
  {
   "cell_type": "markdown",
   "metadata": {},
   "source": [
    "## Problem 1.3\n",
    "Design a regression model using any features from the papers you find or other new features you may find useful for this problem. Fit your model on the data of each hashtag and report fitting accuracy and significance of variables."
   ]
  },
  {
   "cell_type": "markdown",
   "metadata": {},
   "source": [
    "The first features we attempted to add were total number of \"favorites\" per hour, total number of replies per hour, and total number of verified tweeters posting that hour. The motivation for looking at the number of verified tweeters was the hypothesis that a verified public figure would be able to influence the number of tweets having to do with a subject he or she tweeted about. Most verified accounts are celebrities. For example, it's likely that if Tom Brady tweeted \"#gopatriots\", there would be more retweets and comments sharing this hashtag due to the network effect. It turned out that in the dataset, not many users are verified and the p-value indicated that this feature was not important. The model with these features added did signficantly worse and exhibited an R2-value of 0.4."
   ]
  },
  {
   "cell_type": "code",
   "execution_count": 142,
   "metadata": {
    "collapsed": true
   },
   "outputs": [],
   "source": [
    "import statsmodels.api as sm\n",
    "import statsmodels.formula.api as smf\n",
    "import datetime, time\n",
    "import pytz\n",
    "from itertools import compress\n",
    "from sklearn import datasets, linear_model\n",
    "from sklearn.metrics import accuracy_score, r2_score, mean_squared_error\n",
    "\n",
    "pst_tz = pytz.timezone('US/Pacific')\n",
    "\n",
    "#for hashtag in hashtags:\n",
    "total_tweets = len(data[hashtag])\n",
    "min_utc = data[hashtag][0]['citation_date']//3600*3600\n",
    "max_utc = data[hashtag][-1]['citation_date']//3600*3600\n",
    "bins = np.arange(min_utc, max_utc+3600, 3600) # [0, 5, 10, 15]\n",
    "\n",
    "#     X = np.zeros((len(bins) - 2, 6))\n",
    "bin_data = {}\n",
    "\n",
    "post_times = [tweet['citation_date'] for tweet in data[hashtag]]\n",
    "inds = np.digitize(post_times, bins)\n",
    "for i in range(total_tweets):\n",
    "    bin_num = inds[i] # tweet is in this bin num : bins[inds[n]-1] <= tweet < bins[inds[n]]\n",
    "    t = (inds == bin_num)\n",
    "    tweet_inds = list(compress(range(len(t)), t))\n",
    "\n",
    "    total_tweets, total_retweets, user_followers, time_of_day = 0, 0, {}, datetime.datetime.fromtimestamp(bins[bin_num-1], pst_tz).hour\n",
    "    total_replies, total_ranking, total_impressions = 0, 0, 0\n",
    "    for j in tweet_inds:\n",
    "        tweet = data[hashtag][j]\n",
    "        total_tweets += 1\n",
    "        total_retweets += tweet['metrics']['citations']['total']\n",
    "        user_id = tweet['tweet']['user']['id']\n",
    "        \n",
    "        total_replies += tweet['metrics']['citations']['replies']\n",
    "        total_ranking += tweet['metrics']['ranking_score']\n",
    "        total_impressions += tweet['metrics']['impressions']\n",
    "        \n",
    "        \n",
    "\n",
    "        if user_id in user_followers: continue # user already encountered\n",
    "        user_followers[user_id] = tweet['author']['followers']\n",
    "#         print((total_tweets, total_retweets, np.sum(list(user_followers.values())), np.amax(list(user_followers.values())), time_of_day))\n",
    "    bin_data[bin_num] = (total_tweets, total_retweets, int(np.sum(list(user_followers.values()))), \n",
    "                         int(np.amax(list(user_followers.values()))), time_of_day,\n",
    "                        total_replies, total_ranking, total_impressions)\n",
    "\n",
    "\n",
    "    \n"
   ]
  },
  {
   "cell_type": "code",
   "execution_count": 143,
   "metadata": {},
   "outputs": [
    {
     "name": "stdout",
     "output_type": "stream",
     "text": [
      "(441, 8) (441,)\n",
      "#gopatriots\n",
      "\t Mean squared error = 32097.153\n",
      "                            OLS Regression Results                            \n",
      "==============================================================================\n",
      "Dep. Variable:                      y   R-squared:                       0.740\n",
      "Model:                            OLS   Adj. R-squared:                  0.735\n",
      "Method:                 Least Squares   F-statistic:                     154.2\n",
      "Date:                Fri, 09 Mar 2018   Prob (F-statistic):          1.31e-121\n",
      "Time:                        15:58:43   Log-Likelihood:                -2914.2\n",
      "No. Observations:                 441   AIC:                             5844.\n",
      "Df Residuals:                     433   BIC:                             5877.\n",
      "Df Model:                           8                                         \n",
      "Covariance Type:            nonrobust                                         \n",
      "==============================================================================\n",
      "                 coef    std err          t      P>|t|      [0.025      0.975]\n",
      "------------------------------------------------------------------------------\n",
      "x1           -11.4841      1.953     -5.880      0.000     -15.323      -7.646\n",
      "x2            -0.8573      0.256     -3.348      0.001      -1.361      -0.354\n",
      "x3             0.0039      0.000     12.326      0.000       0.003       0.004\n",
      "x4            -0.0018      0.000     -7.780      0.000      -0.002      -0.001\n",
      "x5             1.8499      0.671      2.757      0.006       0.531       3.169\n",
      "x6            -1.8950      4.261     -0.445      0.657     -10.270       6.480\n",
      "x7             2.5946      0.413      6.288      0.000       1.784       3.406\n",
      "x8            -0.0020      0.000     -7.841      0.000      -0.002      -0.001\n",
      "==============================================================================\n",
      "Omnibus:                      463.218   Durbin-Watson:                   1.831\n",
      "Prob(Omnibus):                  0.000   Jarque-Bera (JB):            97132.682\n",
      "Skew:                           4.028   Prob(JB):                         0.00\n",
      "Kurtosis:                      75.258   Cond. No.                     3.08e+05\n",
      "==============================================================================\n",
      "\n",
      "Warnings:\n",
      "[1] Standard Errors assume that the covariance matrix of the errors is correctly specified.\n",
      "[2] The condition number is large, 3.08e+05. This might indicate that there are\n",
      "strong multicollinearity or other numerical problems.\n"
     ]
    }
   ],
   "source": [
    "rows = []\n",
    "for b, d in bin_data.items():\n",
    "    rows.append(np.array(list(d) + [bin_data[b+1][0] if b+1 in bin_data else 0]))\n",
    "X = np.stack(rows)\n",
    "y = X[:,-1]\n",
    "X = X[:,0:8]\n",
    "print(X.shape, y.shape)\n",
    "\n",
    "lr = linear_model.LinearRegression()\n",
    "lr.fit(X, y)\n",
    "y_pred = lr.predict(X)\n",
    "print(\"#\" + hashtag)\n",
    "print(\"\\t Mean squared error = %.3f\" % (mean_squared_error(y, y_pred)))\n",
    "print(sm.OLS(y, X).fit().summary())"
   ]
  },
  {
   "cell_type": "markdown",
   "metadata": {},
   "source": [
    "While we initially started with the following features:\n",
    "- total number of favorites per hour\n",
    "- total number of replies per hour\n",
    "- total number of verified tweeters that hour\n",
    "\n",
    "Favorites and verified tweets were ineffective features. There are very few verified accounts so it resulted in sparsity and not much information gain. The number of favorites was also pretty low. The total number of replies seemed to improve performance, so we left it in. The next test involved the following three features, after having removed favorites and verified tweeters:\n",
    "- total number of replies per hour\n",
    "- total ranking \n",
    "- total impressions\n",
    "\n",
    "Ranking and impressions indicate the popularity or visibility of a tweet/tweeter, so these seemed like reasonable additions. These features improved RMSE performance by several points in terms of R2, and were vastly more effective than the previously added sparse features.\n"
   ]
  },
  {
   "cell_type": "markdown",
   "metadata": {},
   "source": [
    "## Problem 1.4\n",
    "In this part, we would like to perform 10-fold cross-validation on the models from the previous part and calculate the average prediction error over samples in the held-out part for the 10 tests. For this problem, you should split the feature data (your set of (features, predictant) pairs for windows) into 10 parts to perform cross-validation. Also, your evaluated error should be of the form |Npredicted − Nreal|.\n",
    "\n"
   ]
  },
  {
   "cell_type": "code",
   "execution_count": 144,
   "metadata": {
    "collapsed": true
   },
   "outputs": [],
   "source": [
    "from sklearn.model_selection import KFold\n",
    "from sklearn.metrics import mean_absolute_error #RMSE\n",
    "\n",
    "def cv(X, y, n_splits=10, verbose=True, display_last_ols=True):\n",
    "    kf = KFold(n_splits=n_splits)\n",
    "    rmses = []\n",
    "    \n",
    "    for train_index, test_index in kf.split(X):\n",
    "        X_train, X_test = X[train_index], X[test_index]\n",
    "        y_train, y_test = y[train_index], y[test_index]\n",
    "        \n",
    "        #print(sm.OLS(y, X).fit().summary())\n",
    "        lr = sm.OLS(y_train, X_train).fit()\n",
    "        y_preds = lr.predict(X_test)\n",
    "        \n",
    "        rmses.append(mean_squared_error(y_test, y_preds))\n",
    "    if display_last_ols:\n",
    "        print(lr.summary())\n",
    "        \n",
    "    if verbose: \n",
    "        print(\"Errors from CV are: \", rmses)\n",
    "        print(\"Averaged error is: \", np.mean(rmses))\n",
    "        \n",
    "    return rmses\n",
    "    "
   ]
  },
  {
   "cell_type": "code",
   "execution_count": 145,
   "metadata": {
    "collapsed": true
   },
   "outputs": [],
   "source": [
    "def build_matrix(raw_df, index='date'):\n",
    "    \"\"\"\n",
    "    Iterates through the rows of the created dataframe and performs summing, maxes, and \n",
    "    creates time series\n",
    "    \"\"\"\n",
    "    raw_df = raw_df.set_index(index)\n",
    "    time_series = raw_df.groupby(pd.TimeGrouper(freq='60Min'))\n",
    "    \n",
    "    X = np.zeros((len(time_series), 8))\n",
    "    y = np.zeros((len(time_series), 1))\n",
    "    for i, (time_interval, g) in enumerate(time_series):\n",
    "        \"\"\"\n",
    "        #get the date for sorting\n",
    "        date = datetime.fromtimestamp(tweet_data['firstpost_date'])\n",
    "        df.set_value(i, 'date', date)\n",
    "        df.set_value(i, 'total_tweets', 1)\n",
    "        df.set_value(i, 'total_retweets', tweet['metrics']['citations']['total'])\n",
    "        \n",
    "        #will sum and take max in post processing\n",
    "        df.set_value(i, 'sum_followers', tweet['author']['followers'])\n",
    "        df.set_value(i, 'max_followers', tweet['author']['followers'])\n",
    "        df.set_value(i, 'total_replies', tweet['metrics']['citations']['replies'])\n",
    "        df.set_value(i, 'total_ranking', tweet['metrics']['ranking_score'])\n",
    "        df.set_value(i, 'total_impressions', tweet['metrics']['impressions'])\n",
    "\n",
    "\n",
    "        \"\"\"\n",
    "        X[i, 0] = g.total_tweets.sum()\n",
    "        X[i, 1] = g.total_retweets.sum()\n",
    "        X[i, 2] = g.sum_followers.sum()\n",
    "        X[i, 3] = g.max_followers.max()\n",
    "        X[i, 4] = time_interval.hour     #store the hour of the day -> preserve order\n",
    "        X[i, 5] = g.total_replies.sum()\n",
    "        X[i, 6] = g.total_ranking.sum()\n",
    "        X[i, 7] = g.total_impressions.sum()\n",
    "        \n",
    "        y[i, 0] = g.total_tweets.sum()\n",
    "        \n",
    "    return np.nan_to_num(X[:-1]), y[1:]"
   ]
  },
  {
   "cell_type": "code",
   "execution_count": 146,
   "metadata": {},
   "outputs": [
    {
     "name": "stdout",
     "output_type": "stream",
     "text": [
      "2015-01-14 09:00:00-08:00\n"
     ]
    }
   ],
   "source": [
    "import statsmodels.api as sm\n",
    "import statsmodels.formula.api as smf\n",
    "import datetime, time\n",
    "import pytz\n",
    "from itertools import compress\n",
    "from sklearn import datasets, linear_model\n",
    "from sklearn.metrics import accuracy_score, r2_score, mean_squared_error\n",
    "\n",
    "pst_tz = pytz.timezone('US/Pacific')\n",
    "\n",
    "#for hashtag in hashtags:\n",
    "total_tweets = len(data[hashtag])\n",
    "min_utc = data[hashtag][0]['citation_date']//3600*3600\n",
    "max_utc = data[hashtag][-1]['citation_date']//3600*3600\n",
    "bins = np.arange(min_utc, max_utc+3600, 3600) # [0, 5, 10, 15]\n",
    "\n",
    "\n",
    "print(datetime.datetime.fromtimestamp(min_utc, pst_tz))\n",
    "#datetime args: Attributes: year, month, day, hour, minute, second, microsecond, and tzinfo.\n",
    "#before Feb 1, 8:00am\n",
    "first_date_marker = datetime.datetime(2015, 2, 1, 8, 0, 0, 0)\n",
    "\n",
    "#end at 8pm\n",
    "second_date_marker = datetime.datetime(2015, 2, 1, 20, 0, 0, 0)\n",
    "\n"
   ]
  },
  {
   "cell_type": "code",
   "execution_count": 147,
   "metadata": {
    "collapsed": true
   },
   "outputs": [],
   "source": [
    "def filter_and_test(df):\n",
    "    ###Set up the data by filtering via index\n",
    "    #Before Feb. 1, 8:00 a.m.\n",
    "    #sort out the times in the dataframe before this period\n",
    "    df_p1 = df[df.date < first_date_marker]\n",
    "\n",
    "\n",
    "    #Between Feb. 1, 8:00 a.m. and 8:00 p.m. \n",
    "    df_p2 = df[(df.date > first_date_marker) &\n",
    "               (df.date < second_date_marker)]\n",
    "\n",
    "    #After Feb. 1, 8:00 p.m.\n",
    "    df_p3 = df[df.date > second_date_marker]\n",
    "\n",
    "    print(\"Before Feb. 1, 8:00 a.m.\")\n",
    "    X_df_p1, y_df_p1 = build_matrix(df_p1, index='date')\n",
    "    errors_df_p1 = cv(X_df_p1, y_df_p1) #default splits = 10 no need to specify\n",
    "\n",
    "    print(\"Between Feb. 1, 8:00 a.m. and 8:00 p.m.\")\n",
    "    X_df_p2, y_df_p2 = build_matrix(df_p2, index='date')\n",
    "    errors_df_p2 = cv(X_df_p2, y_df_p2)\n",
    "\n",
    "    print(\"After Feb. 1, 8:00 p.m.\")\n",
    "    X_df_p3, y_df_p3 = build_matrix(df_p3, index='date')\n",
    "    errors_df_p3 = cv(X_df_p3, y_df_p3)\n",
    "\n",
    "\n",
    "\n"
   ]
  },
  {
   "cell_type": "markdown",
   "metadata": {},
   "source": [
    "### Per-Hashtag Performance with 3 Models\n",
    "For each hashtag, report the average cross-validation errors for the 3 different models. Note that you should do the 90-10% splitting for each model within its specific time window. I.e. Only use data within one of the 3 periods above for training and testing each time, so for each period you will run 10 tests."
   ]
  },
  {
   "cell_type": "code",
   "execution_count": 148,
   "metadata": {},
   "outputs": [
    {
     "name": "stderr",
     "output_type": "stream",
     "text": [
      "\r",
      "  0%|          | 0/26232 [00:00<?, ?it/s]"
     ]
    },
    {
     "name": "stdout",
     "output_type": "stream",
     "text": [
      "---\n",
      "Hashtag:  gopatriots\n",
      "---\n"
     ]
    },
    {
     "name": "stderr",
     "output_type": "stream",
     "text": [
      "100%|██████████| 26232/26232 [00:02<00:00, 10026.49it/s]\n"
     ]
    },
    {
     "name": "stdout",
     "output_type": "stream",
     "text": [
      "Before Feb. 1, 8:00 a.m.\n",
      "                            OLS Regression Results                            \n",
      "==============================================================================\n",
      "Dep. Variable:                      y   R-squared:                       0.630\n",
      "Model:                            OLS   Adj. R-squared:                  0.624\n",
      "Method:                 Least Squares   F-statistic:                     103.2\n",
      "Date:                Fri, 09 Mar 2018   Prob (F-statistic):           1.31e-99\n",
      "Time:                        15:58:46   Log-Likelihood:                -2538.7\n",
      "No. Observations:                 493   AIC:                             5093.\n",
      "Df Residuals:                     485   BIC:                             5127.\n",
      "Df Model:                           8                                         \n",
      "Covariance Type:            nonrobust                                         \n",
      "==============================================================================\n",
      "                 coef    std err          t      P>|t|      [0.025      0.975]\n",
      "------------------------------------------------------------------------------\n",
      "x1             6.4784      2.466      2.627      0.009       1.633      11.323\n",
      "x2             0.0137      0.150      0.091      0.927      -0.281       0.308\n",
      "x3            -0.0019      0.000     -5.726      0.000      -0.003      -0.001\n",
      "x4             0.0019      0.000      8.030      0.000       0.001       0.002\n",
      "x5            -0.2524      0.164     -1.541      0.124      -0.574       0.069\n",
      "x6             1.4787      1.884      0.785      0.433      -2.224       5.181\n",
      "x7            -0.8167      0.499     -1.637      0.102      -1.797       0.163\n",
      "x8         -2.658e-05      0.000     -0.226      0.821      -0.000       0.000\n",
      "==============================================================================\n",
      "Omnibus:                      759.385   Durbin-Watson:                   1.972\n",
      "Prob(Omnibus):                  0.000   Jarque-Bera (JB):           370641.523\n",
      "Skew:                           8.218   Prob(JB):                         0.00\n",
      "Kurtosis:                     136.316   Cond. No.                     4.03e+05\n",
      "==============================================================================\n",
      "\n",
      "Warnings:\n",
      "[1] Standard Errors assume that the covariance matrix of the errors is correctly specified.\n",
      "[2] The condition number is large, 4.03e+05. This might indicate that there are\n",
      "strong multicollinearity or other numerical problems.\n",
      "Errors from CV are:  [10.694077661294902, 11.163409861398719, 14.829019885209823, 10252.185794896926, 11910.651520773967, 37.296861914597855, 1241.0893042809769, 336.42794536395826, 68.731526617074564, 153.3974182715902]\n",
      "Averaged error is:  2403.64668795\n",
      "Between Feb. 1, 8:00 a.m. and 8:00 p.m.\n",
      "                            OLS Regression Results                            \n",
      "==============================================================================\n",
      "Dep. Variable:                      y   R-squared:                       0.950\n",
      "Model:                            OLS   Adj. R-squared:                  0.750\n",
      "Method:                 Least Squares   F-statistic:                     4.753\n",
      "Date:                Fri, 09 Mar 2018   Prob (F-statistic):              0.185\n",
      "Time:                        15:58:46   Log-Likelihood:                -75.367\n",
      "No. Observations:                  10   AIC:                             166.7\n",
      "Df Residuals:                       2   BIC:                             169.2\n",
      "Df Model:                           8                                         \n",
      "Covariance Type:            nonrobust                                         \n",
      "==============================================================================\n",
      "                 coef    std err          t      P>|t|      [0.025      0.975]\n",
      "------------------------------------------------------------------------------\n",
      "x1           297.7770    158.016      1.884      0.200    -382.110     977.664\n",
      "x2            -9.1687      5.893     -1.556      0.260     -34.525      16.187\n",
      "x3             0.0800      0.065      1.235      0.342      -0.199       0.359\n",
      "x4            -0.0121      0.007     -1.675      0.236      -0.043       0.019\n",
      "x5           -29.5580    114.470     -0.258      0.820    -522.084     462.968\n",
      "x6           855.4949    597.483      1.432      0.289   -1715.267    3426.257\n",
      "x7           -61.6203     32.723     -1.883      0.200    -202.415      79.174\n",
      "x8            -0.0755      0.063     -1.196      0.354      -0.347       0.196\n",
      "==============================================================================\n",
      "Omnibus:                        2.972   Durbin-Watson:                   2.455\n",
      "Prob(Omnibus):                  0.226   Jarque-Bera (JB):                1.544\n",
      "Skew:                          -0.950   Prob(JB):                        0.462\n",
      "Kurtosis:                       2.690   Cond. No.                     5.97e+06\n",
      "==============================================================================\n",
      "\n",
      "Warnings:\n",
      "[1] Standard Errors assume that the covariance matrix of the errors is correctly specified.\n",
      "[2] The condition number is large, 5.97e+06. This might indicate that there are\n",
      "strong multicollinearity or other numerical problems.\n",
      "Errors from CV are:  [20664677.012114398, 39603901.581337824, 21676923.910048008, 523705.38405767444, 3038297.6346605821, 9694198.660976721, 756213567693.12939, 55046493.14200417, 67727673.706404507, 726730671.66225386]\n",
      "Averaged error is:  75715827423.6\n",
      "After Feb. 1, 8:00 p.m.\n",
      "                            OLS Regression Results                            \n",
      "==============================================================================\n",
      "Dep. Variable:                      y   R-squared:                       0.960\n",
      "Model:                            OLS   Adj. R-squared:                  0.957\n",
      "Method:                 Least Squares   F-statistic:                     308.6\n",
      "Date:                Fri, 09 Mar 2018   Prob (F-statistic):           2.44e-68\n",
      "Time:                        15:58:46   Log-Likelihood:                -276.94\n",
      "No. Observations:                 111   AIC:                             569.9\n",
      "Df Residuals:                     103   BIC:                             591.5\n",
      "Df Model:                           8                                         \n",
      "Covariance Type:            nonrobust                                         \n",
      "==============================================================================\n",
      "                 coef    std err          t      P>|t|      [0.025      0.975]\n",
      "------------------------------------------------------------------------------\n",
      "x1            -2.1226      0.519     -4.094      0.000      -3.151      -1.094\n",
      "x2            -0.0761      0.145     -0.525      0.601      -0.364       0.212\n",
      "x3            -0.0012      0.000     -2.780      0.006      -0.002      -0.000\n",
      "x4             0.0016      0.000      9.019      0.000       0.001       0.002\n",
      "x5             0.0144      0.024      0.604      0.547      -0.033       0.062\n",
      "x6            -4.7004      1.490     -3.154      0.002      -7.656      -1.745\n",
      "x7             0.8364      0.101      8.270      0.000       0.636       1.037\n",
      "x8            -0.0004      0.000     -0.975      0.332      -0.001       0.000\n",
      "==============================================================================\n",
      "Omnibus:                       41.953   Durbin-Watson:                   2.403\n",
      "Prob(Omnibus):                  0.000   Jarque-Bera (JB):              464.361\n",
      "Skew:                           0.776   Prob(JB):                    1.46e-101\n",
      "Kurtosis:                      12.899   Cond. No.                     1.61e+05\n",
      "==============================================================================\n",
      "\n",
      "Warnings:\n",
      "[1] Standard Errors assume that the covariance matrix of the errors is correctly specified.\n",
      "[2] The condition number is large, 1.61e+05. This might indicate that there are\n",
      "strong multicollinearity or other numerical problems.\n",
      "Errors from CV are:  [734.51850223924521, 67.458427262209071, 1.0377235647817953, 1.0857527985785336, 2.3979051938372975, 1.0739505760943466, 0.01416111388145796, 0.22218300144855707, 0.18820983469492433, 0.089324979430604315]\n",
      "Averaged error is:  80.8086140564\n"
     ]
    },
    {
     "name": "stderr",
     "output_type": "stream",
     "text": [
      "/Users/Jonny/anaconda3/lib/python3.6/site-packages/scipy/stats/stats.py:1334: UserWarning: kurtosistest only valid for n>=20 ... continuing anyway, n=10\n",
      "  \"anyway, n=%i\" % int(n))\n"
     ]
    }
   ],
   "source": [
    "import os\n",
    "df_aggregated = None\n",
    "\n",
    "for hashtag, num_tweets in hashtag_dict.items():\n",
    "    print(\"---\")\n",
    "    print(\"Hashtag: \", hashtag)\n",
    "    print(\"---\")\n",
    "    with open(os.path.join('tweet_data','tweets_#' + hashtag +'.txt'), 'r') as file:\n",
    "        df = pd.DataFrame(index=range(num_tweets),\n",
    "                         columns=['date', 'total_tweets', 'total_retweets', 'sum_followers',\n",
    "                                 'max_followers', 'total_replies', 'total_ranking',\n",
    "                                 'total_impressions'])\n",
    "        \n",
    "#total_tweets, total_retweets, sum_followers, \n",
    "#max_followers, time_of_day, toatl_replies, total_ranking, total_impressions\n",
    "        for i, l in enumerate(file):\n",
    "            tweet = json.loads(l)\n",
    "\n",
    "            #get the date for sorting\n",
    "            date = datetime.datetime.fromtimestamp(tweet['firstpost_date'])\n",
    "            df.set_value(i, 'date', date)\n",
    "            df.set_value(i, 'total_tweets', 1)\n",
    "            df.set_value(i, 'total_retweets', tweet['metrics']['citations']['total'])\n",
    "\n",
    "            #will sum and take max in post processing\n",
    "            df.set_value(i, 'sum_followers', tweet['author']['followers'])\n",
    "            df.set_value(i, 'max_followers', tweet['author']['followers'])\n",
    "            df.set_value(i, 'total_replies', tweet['metrics']['citations']['replies'])\n",
    "            df.set_value(i, 'total_ranking', tweet['metrics']['ranking_score'])\n",
    "            df.set_value(i, 'total_impressions', tweet['metrics']['impressions'])\n",
    "\n",
    "        filter_and_test(df)\n",
    "        if df_aggregated is None: #first iteration \n",
    "            df_aggregated = df\n",
    "        else: #aggregate\n",
    "            df_aggregated = pd.concat([df_aggregated, df])\n",
    "\n",
    "            \n",
    "#            full_errors = cv(X_full, y_full, n_splits=10)\n",
    " #           print(\"Errors from full set CV: \", full_errors)\n",
    "  #          print(\"Mean error from CV: \", np.mean(full_errors))\n",
    "\n",
    "\n",
    "\n"
   ]
  },
  {
   "cell_type": "markdown",
   "metadata": {},
   "source": [
    "### Aggregated Data of all Hashtags\n",
    "\n",
    "In the previous step, data of all hashtags was aggregated. The function call below only means something when more than one hashtag is involved, otherwise results will be the same as the previous time interval split, since the dataframe will only contain data from one set\n",
    "\n"
   ]
  },
  {
   "cell_type": "code",
   "execution_count": 149,
   "metadata": {},
   "outputs": [
    {
     "name": "stdout",
     "output_type": "stream",
     "text": [
      "Before Feb. 1, 8:00 a.m.\n",
      "                            OLS Regression Results                            \n",
      "==============================================================================\n",
      "Dep. Variable:                      y   R-squared:                       0.630\n",
      "Model:                            OLS   Adj. R-squared:                  0.624\n",
      "Method:                 Least Squares   F-statistic:                     103.2\n",
      "Date:                Fri, 09 Mar 2018   Prob (F-statistic):           1.31e-99\n",
      "Time:                        15:58:47   Log-Likelihood:                -2538.7\n",
      "No. Observations:                 493   AIC:                             5093.\n",
      "Df Residuals:                     485   BIC:                             5127.\n",
      "Df Model:                           8                                         \n",
      "Covariance Type:            nonrobust                                         \n",
      "==============================================================================\n",
      "                 coef    std err          t      P>|t|      [0.025      0.975]\n",
      "------------------------------------------------------------------------------\n",
      "x1             6.4784      2.466      2.627      0.009       1.633      11.323\n",
      "x2             0.0137      0.150      0.091      0.927      -0.281       0.308\n",
      "x3            -0.0019      0.000     -5.726      0.000      -0.003      -0.001\n",
      "x4             0.0019      0.000      8.030      0.000       0.001       0.002\n",
      "x5            -0.2524      0.164     -1.541      0.124      -0.574       0.069\n",
      "x6             1.4787      1.884      0.785      0.433      -2.224       5.181\n",
      "x7            -0.8167      0.499     -1.637      0.102      -1.797       0.163\n",
      "x8         -2.658e-05      0.000     -0.226      0.821      -0.000       0.000\n",
      "==============================================================================\n",
      "Omnibus:                      759.385   Durbin-Watson:                   1.972\n",
      "Prob(Omnibus):                  0.000   Jarque-Bera (JB):           370641.523\n",
      "Skew:                           8.218   Prob(JB):                         0.00\n",
      "Kurtosis:                     136.316   Cond. No.                     4.03e+05\n",
      "==============================================================================\n",
      "\n",
      "Warnings:\n",
      "[1] Standard Errors assume that the covariance matrix of the errors is correctly specified.\n",
      "[2] The condition number is large, 4.03e+05. This might indicate that there are\n",
      "strong multicollinearity or other numerical problems.\n",
      "Errors from CV are:  [10.694077661294902, 11.163409861398719, 14.829019885209823, 10252.185794896926, 11910.651520773967, 37.296861914597855, 1241.0893042809769, 336.42794536395826, 68.731526617074564, 153.3974182715902]\n",
      "Averaged error is:  2403.64668795\n",
      "Between Feb. 1, 8:00 a.m. and 8:00 p.m.\n",
      "                            OLS Regression Results                            \n",
      "==============================================================================\n",
      "Dep. Variable:                      y   R-squared:                       0.950\n",
      "Model:                            OLS   Adj. R-squared:                  0.750\n",
      "Method:                 Least Squares   F-statistic:                     4.753\n",
      "Date:                Fri, 09 Mar 2018   Prob (F-statistic):              0.185\n",
      "Time:                        15:58:47   Log-Likelihood:                -75.367\n",
      "No. Observations:                  10   AIC:                             166.7\n",
      "Df Residuals:                       2   BIC:                             169.2\n",
      "Df Model:                           8                                         \n",
      "Covariance Type:            nonrobust                                         \n",
      "==============================================================================\n",
      "                 coef    std err          t      P>|t|      [0.025      0.975]\n",
      "------------------------------------------------------------------------------\n",
      "x1           297.7770    158.016      1.884      0.200    -382.110     977.664\n",
      "x2            -9.1687      5.893     -1.556      0.260     -34.525      16.187\n",
      "x3             0.0800      0.065      1.235      0.342      -0.199       0.359\n",
      "x4            -0.0121      0.007     -1.675      0.236      -0.043       0.019\n",
      "x5           -29.5580    114.470     -0.258      0.820    -522.084     462.968\n",
      "x6           855.4949    597.483      1.432      0.289   -1715.267    3426.257\n",
      "x7           -61.6203     32.723     -1.883      0.200    -202.415      79.174\n",
      "x8            -0.0755      0.063     -1.196      0.354      -0.347       0.196\n",
      "==============================================================================\n",
      "Omnibus:                        2.972   Durbin-Watson:                   2.455\n",
      "Prob(Omnibus):                  0.226   Jarque-Bera (JB):                1.544\n",
      "Skew:                          -0.950   Prob(JB):                        0.462\n",
      "Kurtosis:                       2.690   Cond. No.                     5.97e+06\n",
      "==============================================================================\n",
      "\n",
      "Warnings:\n",
      "[1] Standard Errors assume that the covariance matrix of the errors is correctly specified.\n",
      "[2] The condition number is large, 5.97e+06. This might indicate that there are\n",
      "strong multicollinearity or other numerical problems.\n",
      "Errors from CV are:  [20664677.012114398, 39603901.581337817, 21676923.910048008, 523705.3840576692, 3038297.6346606454, 9694198.660976721, 756213567693.12854, 55046493.142003737, 67727673.706404507, 726730671.66225386]\n",
      "Averaged error is:  75715827423.6\n",
      "After Feb. 1, 8:00 p.m.\n",
      "                            OLS Regression Results                            \n",
      "==============================================================================\n",
      "Dep. Variable:                      y   R-squared:                       0.960\n",
      "Model:                            OLS   Adj. R-squared:                  0.957\n",
      "Method:                 Least Squares   F-statistic:                     308.6\n",
      "Date:                Fri, 09 Mar 2018   Prob (F-statistic):           2.44e-68\n",
      "Time:                        15:58:47   Log-Likelihood:                -276.94\n",
      "No. Observations:                 111   AIC:                             569.9\n",
      "Df Residuals:                     103   BIC:                             591.5\n",
      "Df Model:                           8                                         \n",
      "Covariance Type:            nonrobust                                         \n",
      "==============================================================================\n",
      "                 coef    std err          t      P>|t|      [0.025      0.975]\n",
      "------------------------------------------------------------------------------\n",
      "x1            -2.1226      0.519     -4.094      0.000      -3.151      -1.094\n",
      "x2            -0.0761      0.145     -0.525      0.601      -0.364       0.212\n",
      "x3            -0.0012      0.000     -2.780      0.006      -0.002      -0.000\n",
      "x4             0.0016      0.000      9.019      0.000       0.001       0.002\n",
      "x5             0.0144      0.024      0.604      0.547      -0.033       0.062\n",
      "x6            -4.7004      1.490     -3.154      0.002      -7.656      -1.745\n",
      "x7             0.8364      0.101      8.270      0.000       0.636       1.037\n",
      "x8            -0.0004      0.000     -0.975      0.332      -0.001       0.000\n",
      "==============================================================================\n",
      "Omnibus:                       41.953   Durbin-Watson:                   2.403\n",
      "Prob(Omnibus):                  0.000   Jarque-Bera (JB):              464.361\n",
      "Skew:                           0.776   Prob(JB):                    1.46e-101\n",
      "Kurtosis:                      12.899   Cond. No.                     1.61e+05\n",
      "==============================================================================\n",
      "\n",
      "Warnings:\n",
      "[1] Standard Errors assume that the covariance matrix of the errors is correctly specified.\n",
      "[2] The condition number is large, 1.61e+05. This might indicate that there are\n",
      "strong multicollinearity or other numerical problems.\n",
      "Errors from CV are:  [734.51850223924521, 67.458427262209071, 1.0377235647817953, 1.0857527985785336, 2.3979051938372975, 1.0739505760943466, 0.01416111388145796, 0.22218300144855707, 0.18820983469492433, 0.089324979430604315]\n",
      "Averaged error is:  80.8086140564\n"
     ]
    },
    {
     "name": "stderr",
     "output_type": "stream",
     "text": [
      "/Users/Jonny/anaconda3/lib/python3.6/site-packages/scipy/stats/stats.py:1334: UserWarning: kurtosistest only valid for n>=20 ... continuing anyway, n=10\n",
      "  \"anyway, n=%i\" % int(n))\n"
     ]
    }
   ],
   "source": [
    "filter_and_test(df_aggregated)"
   ]
  },
  {
   "cell_type": "code",
   "execution_count": 13,
   "metadata": {},
   "outputs": [],
   "source": [
    "## Problem 1.5"
   ]
  },
  {
   "cell_type": "markdown",
   "metadata": {},
   "source": [
    "# Fan Base Predicition\n",
    "\n",
    "In this next section, we trained three different types of binary classification models to predict the location of the tweet's user based on the pure semantics of their tweets. For example, a user from Washington will most likely root for their local Redskins and will produce a positive sentiment in their tweet. We exploit this, and thus train our models. As a preprocessing step, we converted the tweet's text into numerical features by applying a TF-IDF based vectorizer (setting min_df = 3). The dataset was split into training and test set, in a 75:25 ratio.\n",
    "\n",
    "a) First, we employed a basic logistic regression model, and the results are as such:"
   ]
  },
  {
   "cell_type": "code",
   "execution_count": 12,
   "metadata": {},
   "outputs": [],
   "source": [
    "data_dir = '/Volumes/TOCOMBINE/tweet_data' # MAKE SURE TO CHANGE THIS TO WHERE EVER YOUR DATA IS. \n",
    "# The total data size is ~14gb which is too large to be committed into github\n",
    "\n",
    "# Puts data into dict\n",
    "# hashtags = ['gohawks', 'gopatriots', 'nfl', 'patriots', 'sb49', 'superbowl'] \n",
    "# this takes awhile so use toy example of #gopatriots only\n",
    "tweets_sb = []\n",
    "with open(data_dir + '/tweets_#gopatriots.txt' , 'r') as f:\n",
    "    for i, l in enumerate(f):\n",
    "        tweet = json.loads(l)\n",
    "        tweets_sb.append(tweet)"
   ]
  },
  {
   "cell_type": "code",
   "execution_count": 34,
   "metadata": {},
   "outputs": [
    {
     "data": {
      "image/png": "[encoded data removed]",
      "text/plain": [
       "<matplotlib.figure.Figure at 0x12e6ba748>"
      ]
     },
     "metadata": {},
     "output_type": "display_data"
    },
    {
     "data": {
      "image/png": "[encoded data removed]",
      "text/plain": [
       "<matplotlib.figure.Figure at 0x12e25c438>"
      ]
     },
     "metadata": {},
     "output_type": "display_data"
    },
    {
     "name": "stdout",
     "output_type": "stream",
     "text": [
      "Accuracy = 0.821, Precision = 0.820, Recall = 1.000\n"
     ]
    }
   ],
   "source": [
    "from sklearn.feature_extraction import text\n",
    "from sklearn.feature_extraction.text import CountVectorizer\n",
    "from sklearn.feature_extraction.text import TfidfTransformer\n",
    "from sklearn.model_selection import train_test_split\n",
    "\n",
    "from nltk import word_tokenize\n",
    "from nltk.tokenize import RegexpTokenizer\n",
    "from nltk.stem import PorterStemmer\n",
    "\n",
    "import re\n",
    "\n",
    "class MyTokenizer(object):\n",
    "    def __init__(self):\n",
    "        self.stemmer = PorterStemmer()\n",
    "        self.token_pattern = re.compile(u'(?u)\\\\b\\\\w\\\\w+\\\\b')\n",
    "        \n",
    "    def __call__(self, doc):\n",
    "        return [self.stemmer.stem(w) for w in self.token_pattern.findall(doc)]\n",
    "\n",
    "vectorizer = CountVectorizer(min_df=3, stop_words=text.ENGLISH_STOP_WORDS, tokenizer=MyTokenizer()) \n",
    "tfidf_transformer = TfidfTransformer()\n",
    "\n",
    "washington_terms = ['Seattle, Washington', 'Washington', 'WA', 'Seattle, WA', 'Kirkland, Washington']\n",
    "massachusetts_terms = ['massachusetts', 'ma']\n",
    "\n",
    "def find_location(loc):\n",
    "    for wt in washington_terms:\n",
    "        if loc.lower().find(wt.lower()) >= 0:\n",
    "            return \"washington\" # 0\n",
    "    for mt in massachusetts_terms:\n",
    "        if loc.lower().find(mt.lower()) >= 0:\n",
    "            return \"massachusetts\" # 1\n",
    "    return None\n",
    "\n",
    "X, y = [], []\n",
    "for tweet in tweets_sb:\n",
    "    location = find_location(tweet['tweet']['user']['location'])\n",
    "    if location is None: continue # does not belong to either state\n",
    "    X.append(tweet['tweet']['text'])\n",
    "    y.append(0 if location == \"washington\" else 1)\n",
    "\n",
    "X = vectorizer.fit_transform(X)\n",
    "X = tfidf_transformer.fit_transform(X)\n",
    "y = np.array(y)\n",
    "\n",
    "X_train, X_test, y_train, y_test = train_test_split(X, y, test_size=0.25, random_state=42)\n",
    "# print(X.shape, y.shape)\n",
    "logistic = linear_model.LogisticRegression()\n",
    "logistic.fit(X_train, y_train)\n",
    "y_pred = logistic.predict(X_test)\n",
    "y_pred_prob = logistic.predict_proba(X_test)\n",
    "show_stats(y_test, y_pred, y_pred_prob)"
   ]
  },
  {
   "cell_type": "code",
   "execution_count": 35,
   "metadata": {},
   "outputs": [],
   "source": [
    "def show_stats(y_test, y_pred, y_pred_prob):\n",
    "    import itertools\n",
    "    from sklearn import linear_model\n",
    "    from sklearn.metrics import confusion_matrix, roc_curve, roc_auc_score, precision_score, accuracy_score, recall_score\n",
    "\n",
    "    def plot_confusion_matrix(cm, classes,\n",
    "                              normalize=False,\n",
    "                              title='Confusion matrix',\n",
    "                              cmap=plt.cm.Blues):\n",
    "        \"\"\"\n",
    "        This function prints and plots the confusion matrix.\n",
    "        Normalization can be applied by setting `normalize=True`.\n",
    "        \"\"\"\n",
    "        if normalize:\n",
    "            cm = cm.astype('float') / cm.sum(axis=1)[:, np.newaxis]\n",
    "\n",
    "        plt.imshow(cm, interpolation='nearest', cmap=cmap)\n",
    "        plt.title(title)\n",
    "        plt.colorbar()\n",
    "        tick_marks = np.arange(len(classes))\n",
    "        plt.xticks(tick_marks, classes, rotation=45)\n",
    "        plt.yticks(tick_marks, classes)\n",
    "\n",
    "        fmt = '.2f' if normalize else 'd'\n",
    "        thresh = cm.max() / 2.\n",
    "        for i, j in itertools.product(range(cm.shape[0]), range(cm.shape[1])):\n",
    "            plt.text(j, i, format(cm[i, j], fmt),\n",
    "                     horizontalalignment=\"center\",\n",
    "                     color=\"white\" if cm[i, j] > thresh else \"black\")\n",
    "\n",
    "        plt.tight_layout()\n",
    "        plt.ylabel('True label')\n",
    "        plt.xlabel('Predicted label')\n",
    "        plt.show()\n",
    "\n",
    "    cnf_matrix = confusion_matrix(y_test, y_pred)\n",
    "    plot_confusion_matrix(cnf_matrix, ['WA', 'MA'], title='Confusion Matrix - Logistic Regression')\n",
    "\n",
    "    fpr, tpr, thresholds = roc_curve(y_test, y_pred_prob[:,0], pos_label=0)\n",
    "    plt.plot(fpr, tpr, label='AUC =  %.3f' % roc_auc_score(y_test, y_pred_prob[:,0]))\n",
    "    plt.title('ROC Curve - Logistic Regression')\n",
    "    plt.ylabel('True Positive Rate')\n",
    "    plt.xlabel('False Positive Rate')\n",
    "    plt.legend()\n",
    "    plt.show()\n",
    "\n",
    "    print('Accuracy = %.3f, Precision = %.3f, Recall = %.3f' % (accuracy_score(y_test, y_pred), precision_score(y_test, y_pred), recall_score(y_test, y_pred)))\n"
   ]
  },
  {
   "cell_type": "markdown",
   "metadata": {},
   "source": [
    "b) Afterwards, we applied a more complex model of a Linear support vector machine."
   ]
  },
  {
   "cell_type": "code",
   "execution_count": 40,
   "metadata": {},
   "outputs": [
    {
     "data": {
      "image/png": "[encoded data removed]",
      "text/plain": [
       "<matplotlib.figure.Figure at 0x12e6fa048>"
      ]
     },
     "metadata": {},
     "output_type": "display_data"
    },
    {
     "data": {
      "image/png": "[encoded data removed]",
      "text/plain": [
       "<matplotlib.figure.Figure at 0x10a3cc668>"
      ]
     },
     "metadata": {},
     "output_type": "display_data"
    },
    {
     "name": "stdout",
     "output_type": "stream",
     "text": [
      "Accuracy = 0.821, Precision = 0.823, Recall = 0.995\n"
     ]
    }
   ],
   "source": [
    "from sklearn.svm import SVC\n",
    "\n",
    "clf = SVC(kernel='linear', probability=True)\n",
    "clf.fit(X_train, y_train)\n",
    "y_pred = clf.predict(X_test)\n",
    "y_pred_prob = clf.predict_proba(X_test)\n",
    "show_stats(y_test, y_pred, y_pred_prob)"
   ]
  },
  {
   "cell_type": "markdown",
   "metadata": {},
   "source": [
    "c) Finally, we employed a multinomial Naive Bayes classifier. This type of model is suitable for classification with discrete features and in practice, fractional counts such as tf-idf representations also work, which is the case in our machine learning problem."
   ]
  },
  {
   "cell_type": "code",
   "execution_count": 42,
   "metadata": {},
   "outputs": [
    {
     "data": {
      "image/png": "[encoded data removed]",
      "text/plain": [
       "<matplotlib.figure.Figure at 0x12e716b70>"
      ]
     },
     "metadata": {},
     "output_type": "display_data"
    },
    {
     "data": {
      "image/png": "[encoded data removed]",
      "text/plain": [
       "<matplotlib.figure.Figure at 0x12da77fd0>"
      ]
     },
     "metadata": {},
     "output_type": "display_data"
    },
    {
     "name": "stdout",
     "output_type": "stream",
     "text": [
      "Accuracy = 0.823, Precision = 0.824, Recall = 0.998\n"
     ]
    }
   ],
   "source": [
    "from sklearn.naive_bayes import MultinomialNB\n",
    "\n",
    "clf = MultinomialNB()\n",
    "clf.fit(X_train, y_train)\n",
    "y_pred = clf.predict(X_test)\n",
    "y_pred_prob = clf.predict_proba(X_test)\n",
    "show_stats(y_test, y_pred, y_pred_prob)"
   ]
  },
  {
   "cell_type": "markdown",
   "metadata": {},
   "source": [
    "Overall, comparing these three models' results, one can claim that..."
   ]
  },
  {
   "cell_type": "markdown",
   "metadata": {},
   "source": [
    "# \"put title here for your project's scope\""
   ]
  },
  {
   "cell_type": "code",
   "execution_count": null,
   "metadata": {},
   "outputs": [],
   "source": []
  },
  {
   "cell_type": "code",
   "execution_count": null,
   "metadata": {
    "collapsed": true
   },
   "outputs": [],
   "source": []
  }
 ],
 "metadata": {
  "kernelspec": {
   "display_name": "Python 3",
   "language": "python",
   "name": "python3"
  },
  "language_info": {
   "codemirror_mode": {
    "name": "ipython",
    "version": 3
   },
   "file_extension": ".py",
   "mimetype": "text/x-python",
   "name": "python",
   "nbconvert_exporter": "python",
   "pygments_lexer": "ipython3",
   "version": "3.6.2"
  }
 },
 "nbformat": 4,
 "nbformat_minor": 2
}
