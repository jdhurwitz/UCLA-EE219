{
 "cells": [
  {
   "cell_type": "markdown",
   "metadata": {},
   "source": [
    "# Popularity Prediction\n",
    "## Problem 1.1\n",
    "As a preliminary step, we calculated the following statistics to get a holistic overview of the twitter dataset."
   ]
  },
  {
   "cell_type": "code",
   "execution_count": 78,
   "metadata": {
    "collapsed": true
   },
   "outputs": [],
   "source": [
    "import json\n",
    "import numpy as np\n",
    "import pandas as pd\n",
    "import matplotlib.pyplot as plt\n",
    "%matplotlib inline \n",
    "\n",
    "import os\n",
    "import tqdm #python for loop progress bar\n",
    "\n",
    "import datetime, time\n",
    "import pytz\n",
    "\n"
   ]
  },
  {
   "cell_type": "code",
   "execution_count": 79,
   "metadata": {
    "collapsed": true
   },
   "outputs": [],
   "source": [
    "#these values were found via wc -l in CLI\n",
    "hashtag_dict = {\n",
    "    'gohawks':188136,\n",
    "    'gopatriots':26232,\n",
    "    'nfl':259024,\n",
    "    'patriots':489713,\n",
    "    'sb49':826951,\n",
    "    'superbowl':1348767\n",
    "}"
   ]
  },
  {
   "cell_type": "code",
   "execution_count": 80,
   "metadata": {
    "collapsed": true
   },
   "outputs": [],
   "source": [
    "def build_matrix(raw_df, index='date', mat_type='full'):\n",
    "    \"\"\"\n",
    "    Iterates through the rows of the created dataframe and performs summing, maxes, and \n",
    "    creates time series\n",
    "    \"\"\"\n",
    "    raw_df = raw_df.set_index(index)\n",
    "    time_series = raw_df.groupby(pd.TimeGrouper(freq='60Min'))\n",
    "    \n",
    "    X = np.zeros((len(time_series), 8))\n",
    "    y = np.zeros((len(time_series), 1))\n",
    "    for i, (time_interval, g) in enumerate(time_series):\n",
    "        \"\"\"\n",
    "        #get the date for sorting\n",
    "        date = datetime.fromtimestamp(tweet_data['firstpost_date'])\n",
    "        df.set_value(i, 'date', date)\n",
    "        df.set_value(i, 'total_tweets', 1)\n",
    "        df.set_value(i, 'total_retweets', tweet['metrics']['citations']['total'])\n",
    "        \n",
    "        #will sum and take max in post processing\n",
    "        df.set_value(i, 'sum_followers', tweet['author']['followers'])\n",
    "        df.set_value(i, 'max_followers', tweet['author']['followers'])\n",
    "        df.set_value(i, 'total_replies', tweet['metrics']['citations']['replies'])\n",
    "        df.set_value(i, 'total_ranking', tweet['metrics']['ranking_score'])\n",
    "        df.set_value(i, 'total_impressions', tweet['metrics']['impressions'])\n",
    "\n",
    "\n",
    "        \"\"\"\n",
    "        if(mat_type is 'full'):\n",
    "            X[i, 0] = g.total_tweets.sum()\n",
    "            X[i, 1] = g.total_retweets.sum()\n",
    "            X[i, 2] = g.sum_followers.sum()\n",
    "            X[i, 3] = g.max_followers.max()\n",
    "            X[i, 4] = time_interval.hour     #store the hour of the day -> preserve order\n",
    "            X[i, 5] = g.total_replies.sum()\n",
    "            X[i, 6] = g.total_ranking.sum()\n",
    "            X[i, 7] = g.total_impressions.sum()\n",
    "        elif(mat_type is 'partial'):\n",
    "            X[i, 0] = g.total_tweets.sum()\n",
    "            X[i, 1] = g.total_retweets.sum()\n",
    "            X[i, 2] = g.sum_followers.sum()\n",
    "            X[i, 3] = g.max_followers.max()\n",
    "            X[i, 4] = time_interval.hour     #store the hour of the day -> preserve order\n",
    "\n",
    "            \n",
    "        y[i, 0] = g.total_tweets.sum()\n",
    "        \n",
    "    return np.nan_to_num(X[:-1]), y[1:]"
   ]
  },
  {
   "cell_type": "code",
   "execution_count": 81,
   "metadata": {},
   "outputs": [
    {
     "name": "stderr",
     "output_type": "stream",
     "text": [
      "\n",
      "  0%|          | 0/188136 [00:00<?, ?it/s]\u001b[A\n",
      "  0%|          | 816/188136 [00:00<00:23, 8082.08it/s]\u001b[A"
     ]
    },
    {
     "name": "stdout",
     "output_type": "stream",
     "text": [
      "---\n",
      "Hashtag:  gohawks  with ntweets:  188136\n",
      "---\n"
     ]
    },
    {
     "name": "stderr",
     "output_type": "stream",
     "text": [
      "\n",
      "  1%|          | 1573/188136 [00:00<00:23, 7829.19it/s]\u001b[A\n",
      "  1%|▏         | 2442/188136 [00:00<00:22, 8114.77it/s]\u001b[A\n",
      "  2%|▏         | 3304/188136 [00:00<00:22, 8239.38it/s]\u001b[A\n",
      "  2%|▏         | 4243/188136 [00:00<00:21, 8467.46it/s]\u001b[A\n",
      "  3%|▎         | 5183/188136 [00:00<00:21, 8621.71it/s]\u001b[A\n",
      "  3%|▎         | 6113/188136 [00:00<00:20, 8718.11it/s]\u001b[A\n",
      "  4%|▎         | 6946/188136 [00:00<00:21, 8361.51it/s]\u001b[A\n",
      "  4%|▍         | 7722/188136 [00:00<00:22, 8114.35it/s]\u001b[A\n",
      "  5%|▍         | 8548/188136 [00:01<00:22, 8127.95it/s]\u001b[A\n",
      "  5%|▍         | 9401/188136 [00:01<00:21, 8164.06it/s]\u001b[A\n",
      "  5%|▌         | 10298/188136 [00:01<00:21, 8226.56it/s]\u001b[A\n",
      "  6%|▌         | 11242/188136 [00:01<00:21, 8317.38it/s]\u001b[A\n",
      "  6%|▋         | 12198/188136 [00:01<00:20, 8402.43it/s]\u001b[A\n",
      "  7%|▋         | 13157/188136 [00:01<00:20, 8478.45it/s]\u001b[A\n",
      "  7%|▋         | 14066/188136 [00:01<00:20, 8485.62it/s]\u001b[A\n",
      "  8%|▊         | 14961/188136 [00:01<00:20, 8491.32it/s]\u001b[A\n",
      "  8%|▊         | 15846/188136 [00:01<00:20, 8505.18it/s]\u001b[A\n",
      "  9%|▉         | 16746/188136 [00:01<00:20, 8529.68it/s]\u001b[A\n",
      "  9%|▉         | 17647/188136 [00:02<00:19, 8553.56it/s]\u001b[A\n",
      " 10%|▉         | 18594/188136 [00:02<00:19, 8595.77it/s]\u001b[A\n",
      " 10%|█         | 19528/188136 [00:02<00:19, 8628.35it/s]\u001b[A\n",
      " 11%|█         | 20444/188136 [00:02<00:19, 8627.57it/s]\u001b[A\n",
      " 11%|█▏        | 21344/188136 [00:02<00:19, 8467.31it/s]\u001b[A\n",
      " 12%|█▏        | 22153/188136 [00:02<00:19, 8404.57it/s]\u001b[A\n",
      " 12%|█▏        | 22930/188136 [00:02<00:19, 8364.29it/s]\u001b[A\n",
      " 13%|█▎        | 23695/188136 [00:02<00:19, 8335.53it/s]\u001b[A\n",
      " 13%|█▎        | 24456/188136 [00:02<00:19, 8200.45it/s]\u001b[A\n",
      " 13%|█▎        | 25156/188136 [00:03<00:20, 8125.14it/s]\u001b[A\n",
      " 14%|█▍        | 25886/188136 [00:03<00:20, 8097.42it/s]\u001b[A\n",
      " 14%|█▍        | 26664/188136 [00:03<00:19, 8088.71it/s]\u001b[A\n",
      " 15%|█▍        | 27507/188136 [00:03<00:19, 8095.50it/s]\u001b[A\n",
      " 15%|█▌        | 28261/188136 [00:03<00:19, 8054.39it/s]\u001b[A\n",
      " 15%|█▌        | 29030/188136 [00:03<00:19, 8046.70it/s]\u001b[A\n",
      " 16%|█▌        | 30006/188136 [00:03<00:19, 8092.69it/s]\u001b[A\n",
      " 16%|█▋        | 30972/188136 [00:03<00:19, 8133.10it/s]\u001b[A\n",
      " 17%|█▋        | 31830/188136 [00:03<00:19, 8053.34it/s]\u001b[A\n",
      " 17%|█▋        | 32649/188136 [00:04<00:19, 8057.82it/s]\u001b[A\n",
      " 18%|█▊        | 33633/188136 [00:04<00:19, 8100.32it/s]\u001b[A\n",
      " 18%|█▊        | 34586/188136 [00:04<00:18, 8134.28it/s]\u001b[A\n",
      " 19%|█▉        | 35532/188136 [00:04<00:18, 8164.67it/s]\u001b[A\n",
      " 19%|█▉        | 36459/188136 [00:04<00:18, 8188.96it/s]\u001b[A\n",
      " 20%|█▉        | 37388/188136 [00:04<00:18, 8212.04it/s]\u001b[A\n",
      " 20%|██        | 38302/188136 [00:04<00:18, 8208.40it/s]\u001b[A\n",
      " 21%|██        | 39239/188136 [00:04<00:18, 8232.79it/s]\u001b[A\n",
      " 21%|██▏       | 40247/188136 [00:04<00:17, 8270.46it/s]\u001b[A\n",
      " 22%|██▏       | 41245/188136 [00:04<00:17, 8304.91it/s]\u001b[A\n",
      " 22%|██▏       | 42254/188136 [00:05<00:17, 8340.06it/s]\u001b[A\n",
      " 23%|██▎       | 43222/188136 [00:05<00:17, 8357.66it/s]\u001b[A\n",
      " 23%|██▎       | 44176/188136 [00:05<00:17, 8373.65it/s]\u001b[A\n",
      " 24%|██▍       | 45122/188136 [00:05<00:17, 8335.82it/s]\u001b[A\n",
      " 24%|██▍       | 45990/188136 [00:05<00:17, 8311.40it/s]\u001b[A\n",
      " 25%|██▍       | 46839/188136 [00:05<00:16, 8314.00it/s]\u001b[A\n",
      "Exception in thread Thread-17:\n",
      "Traceback (most recent call last):\n",
      "  File \"/Users/Jonny/anaconda3/lib/python3.6/threading.py\", line 916, in _bootstrap_inner\n",
      "    self.run()\n",
      "  File \"/Users/Jonny/anaconda3/lib/python3.6/site-packages/tqdm/_tqdm.py\", line 148, in run\n",
      "    for instance in self.tqdm_cls._instances:\n",
      "  File \"/Users/Jonny/anaconda3/lib/python3.6/_weakrefset.py\", line 60, in __iter__\n",
      "    for itemref in self.data:\n",
      "RuntimeError: Set changed size during iteration\n",
      "\n",
      "100%|██████████| 188136/188136 [00:20<00:00, 9159.33it/s]\n",
      "  3%|▎         | 825/26232 [00:00<00:03, 8246.45it/s]"
     ]
    },
    {
     "name": "stdout",
     "output_type": "stream",
     "text": [
      "---\n",
      "Hashtag:  gopatriots  with ntweets:  26232\n",
      "---\n"
     ]
    },
    {
     "name": "stderr",
     "output_type": "stream",
     "text": [
      "100%|██████████| 26232/26232 [00:02<00:00, 9499.11it/s]\n",
      "  0%|          | 0/259024 [00:00<?, ?it/s]"
     ]
    },
    {
     "name": "stdout",
     "output_type": "stream",
     "text": [
      "---\n",
      "Hashtag:  nfl  with ntweets:  259024\n",
      "---\n"
     ]
    },
    {
     "name": "stderr",
     "output_type": "stream",
     "text": [
      "100%|██████████| 259024/259024 [00:27<00:00, 9458.72it/s]\n",
      "  0%|          | 0/489713 [00:00<?, ?it/s]"
     ]
    },
    {
     "name": "stdout",
     "output_type": "stream",
     "text": [
      "---\n",
      "Hashtag:  patriots  with ntweets:  489713\n",
      "---\n"
     ]
    },
    {
     "name": "stderr",
     "output_type": "stream",
     "text": [
      "100%|██████████| 489713/489713 [00:49<00:00, 9992.36it/s] \n"
     ]
    },
    {
     "name": "stdout",
     "output_type": "stream",
     "text": [
      "---\n",
      "Hashtag:  sb49  with ntweets:  826951\n",
      "---\n"
     ]
    },
    {
     "name": "stderr",
     "output_type": "stream",
     "text": [
      "100%|██████████| 826951/826951 [01:25<00:00, 9718.06it/s] \n"
     ]
    },
    {
     "name": "stdout",
     "output_type": "stream",
     "text": [
      "---\n",
      "Hashtag:  superbowl  with ntweets:  1348767\n",
      "---\n"
     ]
    },
    {
     "name": "stderr",
     "output_type": "stream",
     "text": [
      "100%|██████████| 1348767/1348767 [03:49<00:00, 5879.00it/s]"
     ]
    },
    {
     "name": "stdout",
     "output_type": "stream",
     "text": [
      "CPU times: user 6min 32s, sys: 20.5 s, total: 6min 53s\n",
      "Wall time: 6min 55s\n"
     ]
    },
    {
     "name": "stderr",
     "output_type": "stream",
     "text": [
      "\n"
     ]
    }
   ],
   "source": [
    "%%time\n",
    "data = {}\n",
    "for hashtag, num_tweets in hashtag_dict.items():\n",
    "    print(\"---\")\n",
    "    print(\"Hashtag: \", hashtag, \" with ntweets: \", num_tweets)\n",
    "    print(\"---\")\n",
    "    with open(os.path.join('tweet_data','tweets_#' + hashtag +'.txt'), 'r') as file:\n",
    "        df = pd.DataFrame(index=range(num_tweets),\n",
    "                         columns=['date', 'total_tweets', 'total_retweets', 'sum_followers',\n",
    "                                 'max_followers', 'total_replies', 'total_ranking',\n",
    "                                 'total_impressions'])\n",
    "\n",
    "#total_tweets, total_retweets, sum_followers, \n",
    "#max_followers, time_of_day, toatl_replies, total_ranking, total_impressions\n",
    "        for i, l in tqdm.tqdm(enumerate(file), total=num_tweets):\n",
    "        \n",
    "        #pandas df has first element as index and second as col\n",
    "            tweet = json.loads(l)\n",
    "\n",
    "            #get the date for sorting\n",
    "            date = datetime.datetime.fromtimestamp(tweet['firstpost_date'])\n",
    "            df.set_value(i, 'date', date)\n",
    "            df.set_value(i, 'total_tweets', 1)\n",
    "            df.set_value(i, 'total_retweets', tweet['metrics']['citations']['total'])\n",
    "\n",
    "            #will sum and take max in post processing\n",
    "            df.set_value(i, 'sum_followers', tweet['author']['followers'])\n",
    "            df.set_value(i, 'max_followers', tweet['author']['followers'])\n",
    "            df.set_value(i, 'total_replies', tweet['metrics']['citations']['replies'])\n",
    "            df.set_value(i, 'total_ranking', tweet['metrics']['ranking_score'])\n",
    "            df.set_value(i, 'total_impressions', tweet['metrics']['impressions'])\n",
    "    \n",
    "        data[hashtag] = df\n",
    "\n",
    "\n",
    "   # print('#%s' % hashtag)\n",
    "   # print('\\tAvg # of tweets / hour = %.3f' % (total_tweets / total_hours))\n",
    "   # print('\\tAvg # of followers / user = %.3f' % (total_followers / total_users))\n",
    "   # print('\\tAvg # of retweets / tweet = %.3f' % (total_retweets / total_tweets))"
   ]
  },
  {
   "cell_type": "code",
   "execution_count": 82,
   "metadata": {},
   "outputs": [],
   "source": [
    "frames = [data['gohawks'], \n",
    "          data['gopatriots'], \n",
    "          data['nfl'], \n",
    "          data['patriots'], \n",
    "          data['sb49'], \n",
    "          data['superbowl']]\n",
    "frame_hashtags=['gohawks', 'gopatriots', 'nfl', 'patriots', 'sb49', 'superbowl']\n",
    "\n",
    "all_data = pd.concat(frames)"
   ]
  },
  {
   "cell_type": "code",
   "execution_count": 83,
   "metadata": {},
   "outputs": [
    {
     "name": "stdout",
     "output_type": "stream",
     "text": [
      "(188136, 8)\n",
      "(26232, 8)\n",
      "(259024, 8)\n",
      "(489713, 8)\n",
      "(826951, 8)\n",
      "(1348767, 8)\n",
      "(3138823, 8)\n",
      "3138823\n"
     ]
    }
   ],
   "source": [
    "#Verify that the dataframes are the right size\n",
    "print(data['gohawks'].shape)\n",
    "print(data['gopatriots'].shape)\n",
    "print(data['nfl'].shape)\n",
    "print(data['patriots'].shape)\n",
    "print(data['sb49'].shape)\n",
    "print(data['superbowl'].shape)\n",
    "\n",
    "assert(data['gohawks'].shape[0] == hashtag_dict['gohawks'])\n",
    "assert(data['gopatriots'].shape[0] == hashtag_dict['gopatriots'])\n",
    "assert(data['nfl'].shape[0] == hashtag_dict['nfl'])\n",
    "assert(data['patriots'].shape[0] == hashtag_dict['patriots'])\n",
    "assert(data['sb49'].shape[0] == hashtag_dict['sb49'])\n",
    "assert(data['superbowl'].shape[0] == hashtag_dict['superbowl'])\n",
    "\n",
    "\n",
    "print(all_data.shape)\n",
    "s=0\n",
    "for hashtag, ntweets in hashtag_dict.items():\n",
    "   s+=ntweets\n",
    "\n",
    "print(s)\n",
    "\n",
    "assert(all_data.shape[0] == s)\n"
   ]
  },
  {
   "cell_type": "markdown",
   "metadata": {},
   "source": [
    "### a) Here, we show histograms with 1-hour bins that show the number the tweets in hour over time for two hashtag groups, #SuperBowl and #NFL. "
   ]
  },
  {
   "cell_type": "code",
   "execution_count": null,
   "metadata": {},
   "outputs": [],
   "source": [
    "####TODO\n",
    "###TODO\n",
    "##TODO\n",
    "\n",
    "#frames_to_plot=[data['superbowl'], data['nfl']]\n",
    "frames_to_plot=[data['gopatriots']]\n",
    "for df in frames_to_plot:\n",
    "#    import pdb; pdb.set_trace() # debugging starts here\n",
    "    total_tweets = df.shape[0]\n",
    "    \n",
    "    min_utc = int(df['date'][df.index[0]].utcnow().strftime(\"%s\"))//3600*3600\n",
    "    #//3600*3600\n",
    "    max_utc = int(df['date'][df.index[-1]].utcnow().strftime(\"%s\"))//3600*3600\n",
    "    print(min_utc, max_utc)\n",
    "    bins = np.arange(min_utc, max_utc+3600, 3600)\n",
    "    x = []\n",
    "    for index, row in df.iterrows():\n",
    "        print(row['date'].utcnow().strftime(\"%s\"))\n",
    "        x.append(int(row['date'].utcnow().strftime(\"%s\")))\n",
    "    n, b, p = plt.hist(x, bins, facecolor='g')\n",
    "#     print(b,p)\n",
    "    plt.xlabel('Hour (UTC)')\n",
    "    plt.ylabel('# of tweets')\n",
    "    plt.title('#' + hashtag)\n",
    "#     plt.axis([40, 160, 0, 0.03])\n",
    "    plt.grid(True)\n",
    "    plt.show()"
   ]
  },
  {
   "cell_type": "markdown",
   "metadata": {},
   "source": [
    "## Problem 1.2\n",
    "For each hashtag, we first fitted a linear regression model using the following five features to\n",
    "predict the number of tweets in the next hour, with features extracted from tweet data in\n",
    "the previous hour.\n",
    "The features we used are:\n",
    "* Number of tweets (hashtag of interest)\n",
    "* Total number of retweets (hashtag of interest)\n",
    "* Sum of the number of followers of the users posting the hashtag\n",
    "* Maximum number of followers of the users posting the hashtag\n",
    "* Time of the day (which could take 24 values that represent hours of the day with respect to a given time zone)\n",
    "\n",
    "For each model, we present the mean squared error and r2 score. Further, we analyzed the significance of each feature using the t-test and P-value, using a third-party statsmodels.api."
   ]
  },
  {
   "cell_type": "code",
   "execution_count": 84,
   "metadata": {},
   "outputs": [
    {
     "name": "stdout",
     "output_type": "stream",
     "text": [
      "\t Mean squared error = 566824.371\n",
      "                            OLS Regression Results                            \n",
      "==============================================================================\n",
      "Dep. Variable:                      y   R-squared:                       0.498\n",
      "Model:                            OLS   Adj. R-squared:                  0.495\n",
      "Method:                 Least Squares   F-statistic:                     191.6\n",
      "Date:                Fri, 16 Mar 2018   Prob (F-statistic):          7.78e-142\n",
      "Time:                        12:53:28   Log-Likelihood:                -7818.7\n",
      "No. Observations:                 972   AIC:                         1.565e+04\n",
      "Df Residuals:                     967   BIC:                         1.567e+04\n",
      "Df Model:                           5                                         \n",
      "Covariance Type:            nonrobust                                         \n",
      "==============================================================================\n",
      "                 coef    std err          t      P>|t|      [0.025      0.975]\n",
      "------------------------------------------------------------------------------\n",
      "x1             1.2946      0.133      9.754      0.000       1.034       1.555\n",
      "x2            -0.1660      0.044     -3.801      0.000      -0.252      -0.080\n",
      "x3            -0.0002   6.48e-05     -2.676      0.008      -0.000   -4.62e-05\n",
      "x4          7.037e-05      0.000      0.584      0.559      -0.000       0.000\n",
      "x5             4.8688      1.892      2.573      0.010       1.155       8.583\n",
      "const               0          0        nan        nan           0           0\n",
      "x6                  0          0        nan        nan           0           0\n",
      "x7                  0          0        nan        nan           0           0\n",
      "==============================================================================\n",
      "Omnibus:                     1700.263   Durbin-Watson:                   2.209\n",
      "Prob(Omnibus):                  0.000   Jarque-Bera (JB):          3686767.798\n",
      "Skew:                          11.016   Prob(JB):                         0.00\n",
      "Kurtosis:                     303.908   Cond. No.                          inf\n",
      "==============================================================================\n",
      "\n",
      "Warnings:\n",
      "[1] Standard Errors assume that the covariance matrix of the errors is correctly specified.\n",
      "[2] The smallest eigenvalue is      0. This might indicate that there are\n",
      "strong multicollinearity problems or that the design matrix is singular.\n"
     ]
    },
    {
     "name": "stderr",
     "output_type": "stream",
     "text": [
      "/Users/Jonny/anaconda3/lib/python3.6/site-packages/statsmodels/regression/linear_model.py:1471: RuntimeWarning: divide by zero encountered in double_scalars\n",
      "  return np.sqrt(eigvals[0]/eigvals[-1])\n",
      "/Users/Jonny/anaconda3/lib/python3.6/site-packages/statsmodels/base/model.py:1036: RuntimeWarning: invalid value encountered in true_divide\n",
      "  return self.params / self.bse\n",
      "/Users/Jonny/anaconda3/lib/python3.6/site-packages/scipy/stats/_distn_infrastructure.py:879: RuntimeWarning: invalid value encountered in greater\n",
      "  return (self.a < x) & (x < self.b)\n",
      "/Users/Jonny/anaconda3/lib/python3.6/site-packages/scipy/stats/_distn_infrastructure.py:879: RuntimeWarning: invalid value encountered in less\n",
      "  return (self.a < x) & (x < self.b)\n",
      "/Users/Jonny/anaconda3/lib/python3.6/site-packages/scipy/stats/_distn_infrastructure.py:1818: RuntimeWarning: invalid value encountered in less_equal\n",
      "  cond2 = cond0 & (x <= self.a)\n"
     ]
    },
    {
     "name": "stdout",
     "output_type": "stream",
     "text": [
      "\t Mean squared error = 27345.569\n",
      "                            OLS Regression Results                            \n",
      "==============================================================================\n",
      "Dep. Variable:                      y   R-squared:                       0.660\n",
      "Model:                            OLS   Adj. R-squared:                  0.658\n",
      "Method:                 Least Squares   F-statistic:                     263.3\n",
      "Date:                Fri, 16 Mar 2018   Prob (F-statistic):          3.58e-156\n",
      "Time:                        12:53:29   Log-Likelihood:                -4458.0\n",
      "No. Observations:                 683   AIC:                             8926.\n",
      "Df Residuals:                     678   BIC:                             8949.\n",
      "Df Model:                           5                                         \n",
      "Covariance Type:            nonrobust                                         \n",
      "==============================================================================\n",
      "                 coef    std err          t      P>|t|      [0.025      0.975]\n",
      "------------------------------------------------------------------------------\n",
      "x1            -0.9102      0.233     -3.913      0.000      -1.367      -0.454\n",
      "x2             1.8188      0.233      7.821      0.000       1.362       2.275\n",
      "x3            -0.0006      0.000     -2.801      0.005      -0.001      -0.000\n",
      "x4             0.0003      0.000      1.567      0.118   -7.64e-05       0.001\n",
      "x5            -0.0321      0.489     -0.066      0.948      -0.992       0.928\n",
      "const               0          0        nan        nan           0           0\n",
      "x6                  0          0        nan        nan           0           0\n",
      "x7                  0          0        nan        nan           0           0\n",
      "==============================================================================\n",
      "Omnibus:                      470.173   Durbin-Watson:                   2.080\n",
      "Prob(Omnibus):                  0.000   Jarque-Bera (JB):           337818.087\n",
      "Skew:                           1.678   Prob(JB):                         0.00\n",
      "Kurtosis:                     111.901   Cond. No.                          inf\n",
      "==============================================================================\n",
      "\n",
      "Warnings:\n",
      "[1] Standard Errors assume that the covariance matrix of the errors is correctly specified.\n",
      "[2] The smallest eigenvalue is      0. This might indicate that there are\n",
      "strong multicollinearity problems or that the design matrix is singular.\n",
      "\t Mean squared error = 217537.196\n",
      "                            OLS Regression Results                            \n",
      "==============================================================================\n",
      "Dep. Variable:                      y   R-squared:                       0.644\n",
      "Model:                            OLS   Adj. R-squared:                  0.642\n",
      "Method:                 Least Squares   F-statistic:                     332.8\n",
      "Date:                Fri, 16 Mar 2018   Prob (F-statistic):          1.55e-203\n",
      "Time:                        12:53:29   Log-Likelihood:                -7007.2\n",
      "No. Observations:                 926   AIC:                         1.402e+04\n",
      "Df Residuals:                     921   BIC:                         1.405e+04\n",
      "Df Model:                           5                                         \n",
      "Covariance Type:            nonrobust                                         \n",
      "==============================================================================\n",
      "                 coef    std err          t      P>|t|      [0.025      0.975]\n",
      "------------------------------------------------------------------------------\n",
      "x1             0.9383      0.131      7.142      0.000       0.680       1.196\n",
      "x2            -0.2501      0.065     -3.834      0.000      -0.378      -0.122\n",
      "x3          5.818e-05   2.06e-05      2.820      0.005    1.77e-05    9.87e-05\n",
      "x4         -3.562e-05    2.8e-05     -1.271      0.204   -9.06e-05    1.94e-05\n",
      "x5             3.8717      1.285      3.013      0.003       1.350       6.394\n",
      "const               0          0        nan        nan           0           0\n",
      "x6                  0          0        nan        nan           0           0\n",
      "x7                  0          0        nan        nan           0           0\n",
      "==============================================================================\n",
      "Omnibus:                     1079.475   Durbin-Watson:                   2.292\n",
      "Prob(Omnibus):                  0.000   Jarque-Bera (JB):          1415668.110\n",
      "Skew:                           4.735   Prob(JB):                         0.00\n",
      "Kurtosis:                     194.315   Cond. No.                          inf\n",
      "==============================================================================\n",
      "\n",
      "Warnings:\n",
      "[1] Standard Errors assume that the covariance matrix of the errors is correctly specified.\n",
      "[2] The smallest eigenvalue is      0. This might indicate that there are\n",
      "strong multicollinearity problems or that the design matrix is singular.\n",
      "\t Mean squared error = 3382551.212\n",
      "                            OLS Regression Results                            \n",
      "==============================================================================\n",
      "Dep. Variable:                      y   R-squared:                       0.719\n",
      "Model:                            OLS   Adj. R-squared:                  0.717\n",
      "Method:                 Least Squares   F-statistic:                     498.7\n",
      "Date:                Fri, 16 Mar 2018   Prob (F-statistic):          1.05e-265\n",
      "Time:                        12:53:30   Log-Likelihood:                -8758.3\n",
      "No. Observations:                 980   AIC:                         1.753e+04\n",
      "Df Residuals:                     975   BIC:                         1.755e+04\n",
      "Df Model:                           5                                         \n",
      "Covariance Type:            nonrobust                                         \n",
      "==============================================================================\n",
      "                 coef    std err          t      P>|t|      [0.025      0.975]\n",
      "------------------------------------------------------------------------------\n",
      "x1             1.7781      0.080     22.181      0.000       1.621       1.935\n",
      "x2            -0.8579      0.067    -12.766      0.000      -0.990      -0.726\n",
      "x3             0.0002   2.19e-05      7.303      0.000       0.000       0.000\n",
      "x4         -7.153e-05    7.5e-05     -0.953      0.341      -0.000    7.57e-05\n",
      "x5             8.0908      4.665      1.734      0.083      -1.063      17.245\n",
      "const               0          0        nan        nan           0           0\n",
      "x6                  0          0        nan        nan           0           0\n",
      "x7                  0          0        nan        nan           0           0\n",
      "==============================================================================\n",
      "Omnibus:                     1877.512   Durbin-Watson:                   1.712\n",
      "Prob(Omnibus):                  0.000   Jarque-Bera (JB):          4320561.851\n",
      "Skew:                          13.564   Prob(JB):                         0.00\n",
      "Kurtosis:                     327.151   Cond. No.                          inf\n",
      "==============================================================================\n",
      "\n",
      "Warnings:\n",
      "[1] Standard Errors assume that the covariance matrix of the errors is correctly specified.\n",
      "[2] The smallest eigenvalue is      0. This might indicate that there are\n",
      "strong multicollinearity problems or that the design matrix is singular.\n",
      "\t Mean squared error = 20100620.749\n",
      "                            OLS Regression Results                            \n",
      "==============================================================================\n",
      "Dep. Variable:                      y   R-squared:                       0.807\n",
      "Model:                            OLS   Adj. R-squared:                  0.806\n",
      "Method:                 Least Squares   F-statistic:                     483.8\n",
      "Date:                Fri, 16 Mar 2018   Prob (F-statistic):          1.10e-203\n",
      "Time:                        12:53:31   Log-Likelihood:                -5719.6\n",
      "No. Observations:                 582   AIC:                         1.145e+04\n",
      "Df Residuals:                     577   BIC:                         1.147e+04\n",
      "Df Model:                           5                                         \n",
      "Covariance Type:            nonrobust                                         \n",
      "==============================================================================\n",
      "                 coef    std err          t      P>|t|      [0.025      0.975]\n",
      "------------------------------------------------------------------------------\n",
      "x1             1.0904      0.099     10.999      0.000       0.896       1.285\n",
      "x2            -0.1175      0.091     -1.291      0.197      -0.296       0.061\n",
      "x3          3.653e-06   1.45e-05      0.253      0.801   -2.48e-05    3.21e-05\n",
      "x4             0.0001   4.77e-05      2.213      0.027    1.19e-05       0.000\n",
      "x5            -4.1655     15.345     -0.271      0.786     -34.303      25.972\n",
      "const               0          0        nan        nan           0           0\n",
      "x6                  0          0        nan        nan           0           0\n",
      "x7                  0          0        nan        nan           0           0\n",
      "==============================================================================\n",
      "Omnibus:                     1171.838   Durbin-Watson:                   1.661\n",
      "Prob(Omnibus):                  0.000   Jarque-Bera (JB):          2101434.987\n",
      "Skew:                          14.391   Prob(JB):                         0.00\n",
      "Kurtosis:                     295.965   Cond. No.                          inf\n",
      "==============================================================================\n",
      "\n",
      "Warnings:\n",
      "[1] Standard Errors assume that the covariance matrix of the errors is correctly specified.\n",
      "[2] The smallest eigenvalue is      0. This might indicate that there are\n",
      "strong multicollinearity problems or that the design matrix is singular.\n"
     ]
    },
    {
     "name": "stdout",
     "output_type": "stream",
     "text": [
      "\t Mean squared error = 42576118.849\n",
      "                            OLS Regression Results                            \n",
      "==============================================================================\n",
      "Dep. Variable:                      y   R-squared:                       0.786\n",
      "Model:                            OLS   Adj. R-squared:                  0.785\n",
      "Method:                 Least Squares   F-statistic:                     703.7\n",
      "Date:                Fri, 16 Mar 2018   Prob (F-statistic):          1.04e-317\n",
      "Time:                        12:53:33   Log-Likelihood:                -9824.9\n",
      "No. Observations:                 963   AIC:                         1.966e+04\n",
      "Df Residuals:                     958   BIC:                         1.968e+04\n",
      "Df Model:                           5                                         \n",
      "Covariance Type:            nonrobust                                         \n",
      "==============================================================================\n",
      "                 coef    std err          t      P>|t|      [0.025      0.975]\n",
      "------------------------------------------------------------------------------\n",
      "x1             1.3299      0.236      5.633      0.000       0.867       1.793\n",
      "x2             0.4026      0.117      3.434      0.001       0.173       0.633\n",
      "x3            -0.0002    1.2e-05    -20.299      0.000      -0.000      -0.000\n",
      "x4             0.0011   9.85e-05     11.032      0.000       0.001       0.001\n",
      "x5           -24.3155     17.329     -1.403      0.161     -58.322       9.691\n",
      "const               0          0        nan        nan           0           0\n",
      "x6                  0          0        nan        nan           0           0\n",
      "x7                  0          0        nan        nan           0           0\n",
      "==============================================================================\n",
      "Omnibus:                     1747.162   Durbin-Watson:                   2.235\n",
      "Prob(Omnibus):                  0.000   Jarque-Bera (JB):          4485126.325\n",
      "Skew:                          11.878   Prob(JB):                         0.00\n",
      "Kurtosis:                     336.488   Cond. No.                          inf\n",
      "==============================================================================\n",
      "\n",
      "Warnings:\n",
      "[1] Standard Errors assume that the covariance matrix of the errors is correctly specified.\n",
      "[2] The smallest eigenvalue is      0. This might indicate that there are\n",
      "strong multicollinearity problems or that the design matrix is singular.\n"
     ]
    }
   ],
   "source": [
    "import statsmodels.api as sm\n",
    "import statsmodels.formula.api as smf\n",
    "import datetime, time\n",
    "import pytz\n",
    "from itertools import compress\n",
    "from sklearn import datasets, linear_model\n",
    "from sklearn.metrics import accuracy_score, r2_score, mean_squared_error\n",
    "\n",
    "pst_tz = pytz.timezone('US/Pacific')\n",
    "\n",
    "for df in frames:\n",
    "    X, y = build_matrix(df, mat_type='partial')\n",
    "    lr = linear_model.LinearRegression()\n",
    "    lr.fit(X, y)\n",
    "    y_pred = lr.predict(X)\n",
    "    print(\"\\t Mean squared error = %.3f\" % (mean_squared_error(y, y_pred)))\n",
    "    print(sm.OLS(y, X).fit().summary())"
   ]
  },
  {
   "cell_type": "markdown",
   "metadata": {},
   "source": [
    "From observing the significance, or p-value, of each feature, it is evident that the total number of tweets for the current hour is not a statistically significant feature as the p-value is larger than 0.05 (assuming alpha at 0.05). Every other feature, however, shows a low p-value, indicating that it contributes greatly our final prediction, and are therefore are valuable features. In general, a low p-value is evidence for the change in the predictor's value to be directly correlated to the change in the response variable, which is what we desire.\n",
    "\n",
    "Inutitively, this makes sense as the total tweets for the current hour would not affect the the total tweets for the next hour. Tweets do not become frequent when there is large number of tweets prior, instead, they become frequent when the previous tweets is associated with a large number of retweets and followers, signaling traction and actual social impact (at least virutally). "
   ]
  },
  {
   "cell_type": "markdown",
   "metadata": {},
   "source": [
    "## Problem 1.3\n",
    "Design a regression model using any features from the papers you find or other new features you may find useful for this problem. Fit your model on the data of each hashtag and report fitting accuracy and significance of variables."
   ]
  },
  {
   "cell_type": "markdown",
   "metadata": {},
   "source": [
    "The first features we attempted to add were total number of \"favorites\" per hour, total number of replies per hour, and total number of verified tweeters posting that hour. The motivation for looking at the number of verified tweeters was the hypothesis that a verified public figure would be able to influence the number of tweets having to do with a subject he or she tweeted about. Most verified accounts are celebrities. For example, it's likely that if Tom Brady tweeted \"#gopatriots\", there would be more retweets and comments sharing this hashtag due to the network effect. It turned out that in the dataset, not many users are verified and the p-value indicated that this feature was not important. The model with these features added did signficantly worse and exhibited an R2-value of 0.4."
   ]
  },
  {
   "cell_type": "code",
   "execution_count": 85,
   "metadata": {},
   "outputs": [
    {
     "name": "stdout",
     "output_type": "stream",
     "text": [
      "\t Mean squared error = 556864.412\n",
      "                            OLS Regression Results                            \n",
      "==============================================================================\n",
      "Dep. Variable:                      y   R-squared:                       0.507\n",
      "Model:                            OLS   Adj. R-squared:                  0.502\n",
      "Method:                 Least Squares   F-statistic:                     123.7\n",
      "Date:                Fri, 16 Mar 2018   Prob (F-statistic):          3.31e-142\n",
      "Time:                        12:53:34   Log-Likelihood:                -7810.0\n",
      "No. Observations:                 972   AIC:                         1.564e+04\n",
      "Df Residuals:                     964   BIC:                         1.567e+04\n",
      "Df Model:                           8                                         \n",
      "Covariance Type:            nonrobust                                         \n",
      "==============================================================================\n",
      "                 coef    std err          t      P>|t|      [0.025      0.975]\n",
      "------------------------------------------------------------------------------\n",
      "x1             7.6429      1.962      3.896      0.000       3.793      11.493\n",
      "x2            -0.2044      0.050     -4.071      0.000      -0.303      -0.106\n",
      "x3            -0.0003    9.5e-05     -3.451      0.001      -0.001      -0.000\n",
      "x4         -8.104e-05      0.000     -0.645      0.519      -0.000       0.000\n",
      "x5             3.6629      1.917      1.911      0.056      -0.099       7.425\n",
      "x6            -6.1694      7.168     -0.861      0.390     -20.237       7.898\n",
      "x7            -1.3654      0.424     -3.223      0.001      -2.197      -0.534\n",
      "x8             0.0002   7.52e-05      2.627      0.009    4.99e-05       0.000\n",
      "==============================================================================\n",
      "Omnibus:                     1827.334   Durbin-Watson:                   2.214\n",
      "Prob(Omnibus):                  0.000   Jarque-Bera (JB):          4851359.955\n",
      "Skew:                          12.893   Prob(JB):                         0.00\n",
      "Kurtosis:                     348.140   Cond. No.                     9.36e+05\n",
      "==============================================================================\n",
      "\n",
      "Warnings:\n",
      "[1] Standard Errors assume that the covariance matrix of the errors is correctly specified.\n",
      "[2] The condition number is large, 9.36e+05. This might indicate that there are\n",
      "strong multicollinearity or other numerical problems.\n",
      "\t Mean squared error = 24981.940\n",
      "                            OLS Regression Results                            \n",
      "==============================================================================\n",
      "Dep. Variable:                      y   R-squared:                       0.689\n",
      "Model:                            OLS   Adj. R-squared:                  0.686\n",
      "Method:                 Least Squares   F-statistic:                     187.3\n",
      "Date:                Fri, 16 Mar 2018   Prob (F-statistic):          8.76e-166\n",
      "Time:                        12:53:35   Log-Likelihood:                -4427.2\n",
      "No. Observations:                 683   AIC:                             8870.\n",
      "Df Residuals:                     675   BIC:                             8907.\n",
      "Df Model:                           8                                         \n",
      "Covariance Type:            nonrobust                                         \n",
      "==============================================================================\n",
      "                 coef    std err          t      P>|t|      [0.025      0.975]\n",
      "------------------------------------------------------------------------------\n",
      "x1           -13.8469      1.804     -7.676      0.000     -17.389     -10.305\n",
      "x2             2.4871      0.240     10.352      0.000       2.015       2.959\n",
      "x3            -0.0016      0.000     -3.782      0.000      -0.002      -0.001\n",
      "x4             0.0008      0.000      3.181      0.002       0.000       0.001\n",
      "x5            -0.0682      0.471     -0.145      0.885      -0.992       0.856\n",
      "x6            -8.6841      3.681     -2.359      0.019     -15.911      -1.457\n",
      "x7             2.6665      0.368      7.248      0.000       1.944       3.389\n",
      "x8             0.0005      0.000      1.696      0.090   -7.67e-05       0.001\n",
      "==============================================================================\n",
      "Omnibus:                      760.450   Durbin-Watson:                   1.889\n",
      "Prob(Omnibus):                  0.000   Jarque-Bera (JB):           306948.952\n",
      "Skew:                           4.550   Prob(JB):                         0.00\n",
      "Kurtosis:                     106.456   Cond. No.                     3.28e+05\n",
      "==============================================================================\n",
      "\n",
      "Warnings:\n",
      "[1] Standard Errors assume that the covariance matrix of the errors is correctly specified.\n",
      "[2] The condition number is large, 3.28e+05. This might indicate that there are\n",
      "strong multicollinearity or other numerical problems.\n",
      "\t Mean squared error = 213628.897\n",
      "                            OLS Regression Results                            \n",
      "==============================================================================\n",
      "Dep. Variable:                      y   R-squared:                       0.650\n",
      "Model:                            OLS   Adj. R-squared:                  0.647\n",
      "Method:                 Least Squares   F-statistic:                     213.5\n",
      "Date:                Fri, 16 Mar 2018   Prob (F-statistic):          1.33e-203\n",
      "Time:                        12:53:36   Log-Likelihood:                -6998.3\n",
      "No. Observations:                 926   AIC:                         1.401e+04\n",
      "Df Residuals:                     918   BIC:                         1.405e+04\n",
      "Df Model:                           8                                         \n",
      "Covariance Type:            nonrobust                                         \n",
      "==============================================================================\n",
      "                 coef    std err          t      P>|t|      [0.025      0.975]\n",
      "------------------------------------------------------------------------------\n",
      "x1             5.9031      1.296      4.554      0.000       3.359       8.447\n",
      "x2            -0.2009      0.066     -3.052      0.002      -0.330      -0.072\n",
      "x3          4.882e-05    3.4e-05      1.437      0.151   -1.79e-05       0.000\n",
      "x4          -2.58e-05   2.81e-05     -0.920      0.358   -8.09e-05    2.92e-05\n",
      "x5             3.1047      1.307      2.376      0.018       0.540       5.670\n",
      "x6            -5.0117      3.185     -1.574      0.116     -11.262       1.239\n",
      "x7            -1.1149      0.289     -3.853      0.000      -1.683      -0.547\n",
      "x8          7.719e-06   2.59e-05      0.298      0.766   -4.32e-05    5.86e-05\n",
      "==============================================================================\n",
      "Omnibus:                     1115.581   Durbin-Watson:                   2.340\n",
      "Prob(Omnibus):                  0.000   Jarque-Bera (JB):          1327222.741\n",
      "Skew:                           5.094   Prob(JB):                         0.00\n",
      "Kurtosis:                     188.189   Cond. No.                     1.10e+06\n",
      "==============================================================================\n",
      "\n",
      "Warnings:\n",
      "[1] Standard Errors assume that the covariance matrix of the errors is correctly specified.\n",
      "[2] The condition number is large, 1.1e+06. This might indicate that there are\n",
      "strong multicollinearity or other numerical problems.\n",
      "\t Mean squared error = 3303997.725\n",
      "                            OLS Regression Results                            \n",
      "==============================================================================\n",
      "Dep. Variable:                      y   R-squared:                       0.726\n",
      "Model:                            OLS   Adj. R-squared:                  0.723\n",
      "Method:                 Least Squares   F-statistic:                     321.1\n",
      "Date:                Fri, 16 Mar 2018   Prob (F-statistic):          9.87e-267\n",
      "Time:                        12:53:37   Log-Likelihood:                -8746.7\n",
      "No. Observations:                 980   AIC:                         1.751e+04\n",
      "Df Residuals:                     972   BIC:                         1.755e+04\n",
      "Df Model:                           8                                         \n",
      "Covariance Type:            nonrobust                                         \n",
      "==============================================================================\n",
      "                 coef    std err          t      P>|t|      [0.025      0.975]\n",
      "------------------------------------------------------------------------------\n",
      "x1             7.7411      1.266      6.115      0.000       5.257      10.226\n",
      "x2            -0.4992      0.102     -4.911      0.000      -0.699      -0.300\n",
      "x3             0.0005      0.000      3.260      0.001       0.000       0.001\n",
      "x4            -0.0003   9.34e-05     -3.611      0.000      -0.001      -0.000\n",
      "x5             7.4431      4.646      1.602      0.109      -1.675      16.561\n",
      "x6             2.7513      4.536      0.606      0.544      -6.151      11.654\n",
      "x7            -1.5844      0.336     -4.722      0.000      -2.243      -0.926\n",
      "x8            -0.0002      0.000     -1.228      0.220      -0.000       0.000\n",
      "==============================================================================\n",
      "Omnibus:                     1905.666   Durbin-Watson:                   1.736\n",
      "Prob(Omnibus):                  0.000   Jarque-Bera (JB):          4520247.405\n",
      "Skew:                          14.030   Prob(JB):                         0.00\n",
      "Kurtosis:                     334.531   Cond. No.                     8.11e+05\n",
      "==============================================================================\n",
      "\n",
      "Warnings:\n",
      "[1] Standard Errors assume that the covariance matrix of the errors is correctly specified.\n",
      "[2] The condition number is large, 8.11e+05. This might indicate that there are\n",
      "strong multicollinearity or other numerical problems.\n"
     ]
    },
    {
     "name": "stdout",
     "output_type": "stream",
     "text": [
      "\t Mean squared error = 18516861.767\n",
      "                            OLS Regression Results                            \n",
      "==============================================================================\n",
      "Dep. Variable:                      y   R-squared:                       0.822\n",
      "Model:                            OLS   Adj. R-squared:                  0.820\n",
      "Method:                 Least Squares   F-statistic:                     332.2\n",
      "Date:                Fri, 16 Mar 2018   Prob (F-statistic):          8.72e-210\n",
      "Time:                        12:53:39   Log-Likelihood:                -5696.0\n",
      "No. Observations:                 582   AIC:                         1.141e+04\n",
      "Df Residuals:                     574   BIC:                         1.144e+04\n",
      "Df Model:                           8                                         \n",
      "Covariance Type:            nonrobust                                         \n",
      "==============================================================================\n",
      "                 coef    std err          t      P>|t|      [0.025      0.975]\n",
      "------------------------------------------------------------------------------\n",
      "x1            12.9692      1.791      7.242      0.000       9.452      16.487\n",
      "x2             0.3982      0.116      3.423      0.001       0.170       0.627\n",
      "x3             0.0002    8.1e-05      2.049      0.041    6.91e-06       0.000\n",
      "x4          4.949e-05   5.93e-05      0.834      0.404    -6.7e-05       0.000\n",
      "x5             1.6699     15.047      0.111      0.912     -27.885      31.225\n",
      "x6           -13.8154      7.968     -1.734      0.083     -29.465       1.834\n",
      "x7            -3.0765      0.462     -6.658      0.000      -3.984      -2.169\n",
      "x8            -0.0001   8.06e-05     -1.625      0.105      -0.000    2.74e-05\n",
      "==============================================================================\n",
      "Omnibus:                     1145.750   Durbin-Watson:                   1.728\n",
      "Prob(Omnibus):                  0.000   Jarque-Bera (JB):          2135236.482\n",
      "Skew:                          13.625   Prob(JB):                         0.00\n",
      "Kurtosis:                     298.480   Cond. No.                     1.04e+07\n",
      "==============================================================================\n",
      "\n",
      "Warnings:\n",
      "[1] Standard Errors assume that the covariance matrix of the errors is correctly specified.\n",
      "[2] The condition number is large, 1.04e+07. This might indicate that there are\n",
      "strong multicollinearity or other numerical problems.\n",
      "\t Mean squared error = 40498445.505\n",
      "                            OLS Regression Results                            \n",
      "==============================================================================\n",
      "Dep. Variable:                      y   R-squared:                       0.796\n",
      "Model:                            OLS   Adj. R-squared:                  0.795\n",
      "Method:                 Least Squares   F-statistic:                     467.1\n",
      "Date:                Fri, 16 Mar 2018   Prob (F-statistic):          4.94e-324\n",
      "Time:                        12:53:41   Log-Likelihood:                -9800.8\n",
      "No. Observations:                 963   AIC:                         1.962e+04\n",
      "Df Residuals:                     955   BIC:                         1.966e+04\n",
      "Df Model:                           8                                         \n",
      "Covariance Type:            nonrobust                                         \n",
      "==============================================================================\n",
      "                 coef    std err          t      P>|t|      [0.025      0.975]\n",
      "------------------------------------------------------------------------------\n",
      "x1           -11.7704      2.820     -4.173      0.000     -17.305      -6.235\n",
      "x2             0.6362      0.121      5.256      0.000       0.399       0.874\n",
      "x3             0.0008      0.000      3.732      0.000       0.000       0.001\n",
      "x4             0.0010      0.000      9.921      0.000       0.001       0.001\n",
      "x5           -11.8030     17.077     -0.691      0.490     -45.315      21.709\n",
      "x6            58.3133     17.813      3.274      0.001      23.356      93.270\n",
      "x7             2.7623      0.600      4.603      0.000       1.585       3.940\n",
      "x8            -0.0011      0.000     -4.951      0.000      -0.002      -0.001\n",
      "==============================================================================\n",
      "Omnibus:                     1920.101   Durbin-Watson:                   2.088\n",
      "Prob(Omnibus):                  0.000   Jarque-Bera (JB):          5295072.478\n",
      "Skew:                          14.773   Prob(JB):                         0.00\n",
      "Kurtosis:                     365.066   Cond. No.                     1.16e+07\n",
      "==============================================================================\n",
      "\n",
      "Warnings:\n",
      "[1] Standard Errors assume that the covariance matrix of the errors is correctly specified.\n",
      "[2] The condition number is large, 1.16e+07. This might indicate that there are\n",
      "strong multicollinearity or other numerical problems.\n"
     ]
    }
   ],
   "source": [
    "import statsmodels.api as sm\n",
    "import statsmodels.formula.api as smf\n",
    "import datetime, time\n",
    "import pytz\n",
    "from itertools import compress\n",
    "from sklearn import datasets, linear_model\n",
    "from sklearn.metrics import accuracy_score, r2_score, mean_squared_error\n",
    "\n",
    "pst_tz = pytz.timezone('US/Pacific')\n",
    "\n",
    "for df in frames:\n",
    "    X, y = build_matrix(df, mat_type='full')\n",
    "    lr = linear_model.LinearRegression()\n",
    "    lr.fit(X, y)\n",
    "    y_pred = lr.predict(X)\n",
    "    print(\"\\t Mean squared error = %.3f\" % (mean_squared_error(y, y_pred)))\n",
    "    print(sm.OLS(y, X).fit().summary())"
   ]
  },
  {
   "cell_type": "markdown",
   "metadata": {},
   "source": [
    "While we initially started with the following features:\n",
    "- total number of favorites per hour\n",
    "- total number of replies per hour\n",
    "- total number of verified tweeters that hour\n",
    "\n",
    "Favorites and verified tweets were ineffective features. There are very few verified accounts so it resulted in sparsity and not much information gain. The number of favorites was also pretty low. The total number of replies seemed to improve performance, so we left it in. The next test involved the following three features, after having removed favorites and verified tweeters:\n",
    "- total number of replies per hour\n",
    "- total ranking \n",
    "- total impressions\n",
    "\n",
    "Ranking and impressions indicate the popularity or visibility of a tweet/tweeter, so these seemed like reasonable additions. These features improved RMSE performance by several points in terms of R2, and were vastly more effective than the previously added sparse features.\n"
   ]
  },
  {
   "cell_type": "markdown",
   "metadata": {},
   "source": [
    "## Problem 1.4\n",
    "In this part, we would like to perform 10-fold cross-validation on the models from the previous part and calculate the average prediction error over samples in the held-out part for the 10 tests. For this problem, you should split the feature data (your set of (features, predictant) pairs for windows) into 10 parts to perform cross-validation. Also, your evaluated error should be of the form |Npredicted − Nreal|.\n",
    "\n"
   ]
  },
  {
   "cell_type": "code",
   "execution_count": 114,
   "metadata": {},
   "outputs": [],
   "source": [
    "from sklearn.model_selection import KFold\n",
    "from sklearn.metrics import mean_absolute_error #RMSE\n",
    "from sklearn.ensemble import RandomForestRegressor\n",
    "from sklearn.neural_network import MLPRegressor\n",
    "\n",
    "def cv(X, y, model, n_splits=10, verbose=True, display_last_ols=False):\n",
    "    kf = KFold(n_splits=n_splits)\n",
    "    rmses = []\n",
    "    \n",
    "    for train_index, test_index in kf.split(X):\n",
    "        X_train, X_test = X[train_index], X[test_index]\n",
    "        y_train, y_test = y[train_index], y[test_index]\n",
    "        y_train = y_train.ravel()\n",
    "        y_test = y_test.ravel()\n",
    "        #print(sm.OLS(y, X).fit().summary())\n",
    "#        print(X_train.shape)\n",
    "#        print(y_train.shape)\n",
    "        if(model == 'lr'):\n",
    "            lr = sm.OLS(y_train, X_train).fit()\n",
    "            y_preds = lr.predict(X_test)\n",
    "        elif(model == 'rf'):\n",
    "            rf = RandomForestRegressor()\n",
    "            rf.fit(X_train, y_train)\n",
    "            y_preds = rf.predict(X_test)\n",
    "        elif(model == 'mlp'):\n",
    "            mlp = MLPRegressor()\n",
    "            mlp.fit(X_train, y_train)\n",
    "            y_preds = mlp.predict(X_test)\n",
    "        \n",
    "        rmses.append(mean_squared_error(y_test, y_preds))\n",
    "        \n",
    "        \n",
    "    if verbose: \n",
    "        print(\"Errors from CV are: \", rmses)\n",
    "        print(\"Averaged error is: \", np.mean(rmses))\n",
    "        if model is 'lr':\n",
    "            print(lr.summary())\n",
    "        \n",
    "    return rmses\n",
    "    "
   ]
  },
  {
   "cell_type": "code",
   "execution_count": 115,
   "metadata": {},
   "outputs": [],
   "source": [
    "\n",
    "#datetime args: Attributes: year, month, day, hour, minute, second, microsecond, and tzinfo.\n",
    "#before Feb 1, 8:00am\n",
    "first_date_marker = datetime.datetime(2015, 2, 1, 8, 0, 0, 0)\n",
    "\n",
    "#end at 8pm\n",
    "second_date_marker = datetime.datetime(2015, 2, 1, 20, 0, 0, 0)\n",
    "\n"
   ]
  },
  {
   "cell_type": "code",
   "execution_count": 116,
   "metadata": {
    "collapsed": true
   },
   "outputs": [],
   "source": [
    "def filter_and_test(df, model, verbose=True):\n",
    "    ###Set up the data by filtering via index\n",
    "    #Before Feb. 1, 8:00 a.m.\n",
    "    #sort out the times in the dataframe before this period\n",
    "    df_p1 = df[df.date < first_date_marker]\n",
    "\n",
    "\n",
    "    #Between Feb. 1, 8:00 a.m. and 8:00 p.m. \n",
    "    df_p2 = df[(df.date > first_date_marker) &\n",
    "               (df.date < second_date_marker)]\n",
    "\n",
    "    #After Feb. 1, 8:00 p.m.\n",
    "    df_p3 = df[df.date > second_date_marker]\n",
    "\n",
    "    print(\"Before Feb. 1, 8:00 a.m.\")\n",
    "    X_df_p1, y_df_p1 = build_matrix(df_p1, index='date')\n",
    "    errors_df_p1 = cv(X_df_p1, y_df_p1, model, verbose=verbose) #default splits = 10 no need to specify\n",
    "   # print(\"Average cv error: \", np.mean(errors_df_p1))\n",
    "    \n",
    "    print(\"Between Feb. 1, 8:00 a.m. and 8:00 p.m.\")\n",
    "    X_df_p2, y_df_p2 = build_matrix(df_p2, index='date')\n",
    "    errors_df_p2 = cv(X_df_p2, y_df_p2, model,verbose=verbose)\n",
    "  #  print(\"Average cv error: \", np.mean(errors_df_p2))\n",
    "    \n",
    "    print(\"After Feb. 1, 8:00 p.m.\")\n",
    "    X_df_p3, y_df_p3 = build_matrix(df_p3, index='date')\n",
    "    errors_df_p3 = cv(X_df_p3, y_df_p3, model,verbose=verbose)\n",
    "   # print(\"Average cv error: \", np.mean(errors_df_p3))\n",
    "\n",
    "    return np.mean(errors_df_p1), np.mean(errors_df_p2), np.mean(errors_df_p3)\n"
   ]
  },
  {
   "cell_type": "markdown",
   "metadata": {},
   "source": [
    "### Per-Hashtag Performance with 3 Models\n",
    "For each hashtag, report the average cross-validation errors for the 3 different models. Note that you should do the 90-10% splitting for each model within its specific time window. I.e. Only use data within one of the 3 periods above for training and testing each time, so for each period you will run 10 tests."
   ]
  },
  {
   "cell_type": "code",
   "execution_count": 117,
   "metadata": {},
   "outputs": [],
   "source": [
    "#%%javascript\n",
    "#IPython.OutputArea.prototype._should_scroll = function(lines) {\n",
    "#    return false;\n",
    "#}"
   ]
  },
  {
   "cell_type": "code",
   "execution_count": 118,
   "metadata": {},
   "outputs": [
    {
     "name": "stdout",
     "output_type": "stream",
     "text": [
      "Model is: lr\n",
      "Before Feb. 1, 8:00 a.m.\n",
      "Between Feb. 1, 8:00 a.m. and 8:00 p.m.\n",
      "After Feb. 1, 8:00 p.m.\n",
      "Hashtag:  gohawks\n",
      "Period 1 avg. cv error:  1382106.04845\n",
      "Period 2 avg. cv error:  5101080553.83\n",
      "Period 3 avg. cv error:  340217.549689\n",
      "Before Feb. 1, 8:00 a.m.\n",
      "Between Feb. 1, 8:00 a.m. and 8:00 p.m.\n",
      "After Feb. 1, 8:00 p.m.\n",
      "Hashtag:  gopatriots\n",
      "Period 1 avg. cv error:  2403.64668795\n",
      "Period 2 avg. cv error:  75715827423.6\n",
      "Period 3 avg. cv error:  80.8086140564\n",
      "Before Feb. 1, 8:00 a.m.\n",
      "Between Feb. 1, 8:00 a.m. and 8:00 p.m.\n",
      "After Feb. 1, 8:00 p.m.\n",
      "Hashtag:  nfl\n",
      "Period 1 avg. cv error:  58859.8755465\n",
      "Period 2 avg. cv error:  315472851.69\n",
      "Period 3 avg. cv error:  25227.5050623\n",
      "Before Feb. 1, 8:00 a.m.\n",
      "Between Feb. 1, 8:00 a.m. and 8:00 p.m.\n",
      "After Feb. 1, 8:00 p.m.\n",
      "Hashtag:  patriots\n",
      "Period 1 avg. cv error:  368516.190929\n",
      "Period 2 avg. cv error:  9815441030.44\n",
      "Period 3 avg. cv error:  51652.4952138\n",
      "Before Feb. 1, 8:00 a.m.\n",
      "Between Feb. 1, 8:00 a.m. and 8:00 p.m.\n",
      "After Feb. 1, 8:00 p.m.\n",
      "Hashtag:  sb49\n",
      "Period 1 avg. cv error:  11563.2334898\n",
      "Period 2 avg. cv error:  18321600567.0\n",
      "Period 3 avg. cv error:  120403.776686\n",
      "Before Feb. 1, 8:00 a.m.\n",
      "Between Feb. 1, 8:00 a.m. and 8:00 p.m.\n",
      "After Feb. 1, 8:00 p.m.\n",
      "Hashtag:  superbowl\n",
      "Period 1 avg. cv error:  417466.104268\n",
      "Period 2 avg. cv error:  51943860578.5\n",
      "Period 3 avg. cv error:  354705.82262\n",
      "Model is: rf\n",
      "Before Feb. 1, 8:00 a.m.\n",
      "Between Feb. 1, 8:00 a.m. and 8:00 p.m.\n",
      "After Feb. 1, 8:00 p.m.\n",
      "Hashtag:  gohawks\n",
      "Period 1 avg. cv error:  393340.232155\n",
      "Period 2 avg. cv error:  15267138.271\n",
      "Period 3 avg. cv error:  7871.69953723\n",
      "Before Feb. 1, 8:00 a.m.\n",
      "Between Feb. 1, 8:00 a.m. and 8:00 p.m.\n",
      "After Feb. 1, 8:00 p.m.\n",
      "Hashtag:  gopatriots\n",
      "Period 1 avg. cv error:  2565.56748347\n",
      "Period 2 avg. cv error:  870886.682\n",
      "Period 3 avg. cv error:  88.6621294411\n",
      "Before Feb. 1, 8:00 a.m.\n",
      "Between Feb. 1, 8:00 a.m. and 8:00 p.m.\n",
      "After Feb. 1, 8:00 p.m.\n",
      "Hashtag:  nfl\n",
      "Period 1 avg. cv error:  49268.6043666\n",
      "Period 2 avg. cv error:  8807653.472\n",
      "Period 3 avg. cv error:  39762.7060714\n",
      "Before Feb. 1, 8:00 a.m.\n",
      "Between Feb. 1, 8:00 a.m. and 8:00 p.m.\n",
      "After Feb. 1, 8:00 p.m.\n",
      "Hashtag:  patriots\n",
      "Period 1 avg. cv error:  561792.277029\n",
      "Period 2 avg. cv error:  445833964.581\n",
      "Period 3 avg. cv error:  62194.4038736\n",
      "Before Feb. 1, 8:00 a.m.\n",
      "Between Feb. 1, 8:00 a.m. and 8:00 p.m.\n",
      "After Feb. 1, 8:00 p.m.\n",
      "Hashtag:  sb49\n",
      "Period 1 avg. cv error:  21567.7895057\n",
      "Period 2 avg. cv error:  1472822088.55\n",
      "Period 3 avg. cv error:  86744.3362582\n",
      "Before Feb. 1, 8:00 a.m.\n",
      "Between Feb. 1, 8:00 a.m. and 8:00 p.m.\n",
      "After Feb. 1, 8:00 p.m.\n",
      "Hashtag:  superbowl\n",
      "Period 1 avg. cv error:  530564.791164\n",
      "Period 2 avg. cv error:  5166929000.94\n",
      "Period 3 avg. cv error:  268995.389808\n",
      "Model is: mlp\n",
      "Before Feb. 1, 8:00 a.m.\n",
      "Between Feb. 1, 8:00 a.m. and 8:00 p.m.\n",
      "After Feb. 1, 8:00 p.m.\n",
      "Hashtag:  gohawks\n",
      "Period 1 avg. cv error:  999687705.327\n",
      "Period 2 avg. cv error:  287472987519.0\n",
      "Period 3 avg. cv error:  420927117.62\n",
      "Before Feb. 1, 8:00 a.m.\n",
      "Between Feb. 1, 8:00 a.m. and 8:00 p.m.\n",
      "After Feb. 1, 8:00 p.m.\n",
      "Hashtag:  gopatriots\n",
      "Period 1 avg. cv error:  439801213.785\n",
      "Period 2 avg. cv error:  6642908021.95\n",
      "Period 3 avg. cv error:  249629.994804\n",
      "Before Feb. 1, 8:00 a.m.\n",
      "Between Feb. 1, 8:00 a.m. and 8:00 p.m.\n",
      "After Feb. 1, 8:00 p.m.\n",
      "Hashtag:  nfl\n",
      "Period 1 avg. cv error:  14415197170.3\n",
      "Period 2 avg. cv error:  779292784965.0\n",
      "Period 3 avg. cv error:  49286294686.0\n",
      "Before Feb. 1, 8:00 a.m.\n",
      "Between Feb. 1, 8:00 a.m. and 8:00 p.m.\n",
      "After Feb. 1, 8:00 p.m.\n",
      "Hashtag:  patriots\n",
      "Period 1 avg. cv error:  2208750537.57\n",
      "Period 2 avg. cv error:  2.58061925439e+12\n",
      "Period 3 avg. cv error:  7103670014.63\n",
      "Before Feb. 1, 8:00 a.m.\n",
      "Between Feb. 1, 8:00 a.m. and 8:00 p.m.\n",
      "After Feb. 1, 8:00 p.m.\n",
      "Hashtag:  sb49\n",
      "Period 1 avg. cv error:  208055540934.0\n",
      "Period 2 avg. cv error:  5.43684101952e+14\n",
      "Period 3 avg. cv error:  1.09610577271e+12\n",
      "Before Feb. 1, 8:00 a.m.\n",
      "Between Feb. 1, 8:00 a.m. and 8:00 p.m.\n",
      "After Feb. 1, 8:00 p.m.\n",
      "Hashtag:  superbowl\n",
      "Period 1 avg. cv error:  10616067202.9\n",
      "Period 2 avg. cv error:  3.82303647068e+14\n",
      "Period 3 avg. cv error:  840611655224.0\n",
      "CPU times: user 34.5 s, sys: 1.68 s, total: 36.1 s\n",
      "Wall time: 33.9 s\n"
     ]
    }
   ],
   "source": [
    "%%time\n",
    "import os\n",
    "import tqdm\n",
    "\n",
    "models = ['lr', 'rf', 'mlp']\n",
    "results = {}\n",
    "for model in models:\n",
    "    print(\"Model is: \"+model)\n",
    "    i = 0\n",
    "    p1_errs, p2_errs, p3_errs = [],[],[]\n",
    "    for df in frames:\n",
    "        err_p1, err_p2, err_p3 = filter_and_test(df, model, verbose=False)\n",
    "        print(\"Hashtag: \", frame_hashtags[i])\n",
    "        print(\"Period 1 avg. cv error: \", err_p1)\n",
    "        print(\"Period 2 avg. cv error: \", err_p2)\n",
    "        print(\"Period 3 avg. cv error: \", err_p3)\n",
    "        p1_errs.append(err_p1)\n",
    "        p2_errs.append(err_p2)\n",
    "        p3_errs.append(err_p3)\n",
    "        i+=1\n",
    "    results[model] = [np.mean(p1_errs), np.mean(p2_errs), np.mean(p3_errs)]\n",
    "            \n",
    "#            full_errors = cv(X_full, y_full, n_splits=10)\n",
    " #           print(\"Errors from full set CV: \", full_errors)\n",
    "  #          print(\"Mean error from CV: \", np.mean(full_errors))\n"
   ]
  },
  {
   "cell_type": "code",
   "execution_count": 121,
   "metadata": {},
   "outputs": [
    {
     "name": "stdout",
     "output_type": "stream",
     "text": [
      "[26869402701.343258, 1185425914.8257301, 155312006761500.31]\n",
      "1\n"
     ]
    }
   ],
   "source": [
    "sum_errors = []\n",
    "for model, result_arr in results.items():\n",
    "    sum_errors.append(np.sum(result_arr))\n",
    "    \n",
    "print(sum_errors)    \n",
    "print(np.argmin(sum_errors))"
   ]
  },
  {
   "cell_type": "markdown",
   "metadata": {},
   "source": [
    "To evaluate models holistically, we first run each model on each period independently. The period-specific cross-validation errors are stored in three lists. Then at the end, the list values are averaged across all hashtags. So each model will have three corresponding error values associated with it corresponding to the averaged cross-validation error for each time period (1-3). To select the best performing model overall, we iterated through the model:error_list pairs and summed the three errors in error_list. Then, we chose the model with the lowewst summed value. We found that the random forest model with sklearn's default configuration performed better than linear regression or an MLP. Thus, the random forest model will be used for the next section."
   ]
  },
  {
   "cell_type": "markdown",
   "metadata": {},
   "source": [
    "### Aggregated Data of all Hashtags\n",
    "\n",
    "In the previous step, data of all hashtags was aggregated. The function call below only means something when more than one hashtag is involved, otherwise results will be the same as the previous time interval split, since the dataframe will only contain data from one set\n",
    "\n"
   ]
  },
  {
   "cell_type": "code",
   "execution_count": 122,
   "metadata": {},
   "outputs": [
    {
     "name": "stdout",
     "output_type": "stream",
     "text": [
      "Before Feb. 1, 8:00 a.m.\n",
      "Between Feb. 1, 8:00 a.m. and 8:00 p.m.\n",
      "After Feb. 1, 8:00 p.m.\n"
     ]
    }
   ],
   "source": [
    "err_p1, err_p2, err_p3 = filter_and_test(all_data, model='rf', verbose=False)"
   ]
  },
  {
   "cell_type": "code",
   "execution_count": 123,
   "metadata": {},
   "outputs": [
    {
     "name": "stdout",
     "output_type": "stream",
     "text": [
      "Period 1 avg. cv error:  3478598.01082\n",
      "Period 2 avg. cv error:  14568641392.7\n",
      "Period 3 avg. cv error:  492054.431148\n"
     ]
    }
   ],
   "source": [
    "print(\"Period 1 avg. cv error: \", err_p1)\n",
    "print(\"Period 2 avg. cv error: \", err_p2)\n",
    "print(\"Period 3 avg. cv error: \", err_p3)"
   ]
  },
  {
   "cell_type": "code",
   "execution_count": 125,
   "metadata": {},
   "outputs": [
    {
     "name": "stdout",
     "output_type": "stream",
     "text": [
      "[259849.87695055071, 1185088455.4158332, 77609.532946276842]\n"
     ]
    }
   ],
   "source": [
    "print(results['rf'])"
   ]
  },
  {
   "cell_type": "markdown",
   "metadata": {},
   "source": [
    "## Problem 1.5\n",
    "todo\n"
   ]
  },
  {
   "cell_type": "markdown",
   "metadata": {},
   "source": [
    "# Fan Base Predicition\n",
    "\n",
    "In this next section, we trained three different types of binary classification models to predict the location of the tweet's user based on the pure semantics of their tweets. For example, a user from Washington will most likely root for their local Redskins and will produce a positive sentiment in their tweet. We exploit this, and thus train our models. As a preprocessing step, we converted the tweet's text into numerical features by applying a TF-IDF based vectorizer (setting min_df = 3). The dataset was split into training and test set, in a 75:25 ratio.\n",
    "\n",
    "a) First, we employed a basic logistic regression model, and the results are as such:"
   ]
  },
  {
   "cell_type": "code",
   "execution_count": 2,
   "metadata": {
    "collapsed": true
   },
   "outputs": [],
   "source": [
    "import json\n",
    "data_dir = '/Volumes/TOCOMBINE/tweet_data' # MAKE SURE TO CHANGE THIS TO WHERE EVER YOUR DATA IS. \n",
    "# The total data size is ~14gb which is too large to be committed into github\n",
    "\n",
    "# Puts data into dict\n",
    "# hashtags = ['gohawks', 'gopatriots', 'nfl', 'patriots', 'sb49', 'superbowl'] \n",
    "# this takes awhile so use toy example of #gopatriots only\n",
    "tweets_sb = []\n",
    "with open(data_dir + '/tweets_#gopatriots.txt' , 'r') as f:\n",
    "    for i, l in enumerate(f):\n",
    "        tweet = json.loads(l)\n",
    "        tweets_sb.append(tweet)"
   ]
  },
  {
   "cell_type": "code",
   "execution_count": 9,
   "metadata": {},
   "outputs": [
    {
     "data": {
      "image/png": "[encoded data removed]",
      "text/plain": [
       "<matplotlib.figure.Figure at 0x122644cf8>"
      ]
     },
     "metadata": {},
     "output_type": "display_data"
    },
    {
     "data": {
      "image/png": "[encoded data removed]",
      "text/plain": [
       "<matplotlib.figure.Figure at 0x1266bfdd8>"
      ]
     },
     "metadata": {},
     "output_type": "display_data"
    },
    {
     "name": "stdout",
     "output_type": "stream",
     "text": [
      "Accuracy = 0.821, Precision = 0.820, Recall = 1.000\n"
     ]
    }
   ],
   "source": [
    "import numpy as np\n",
    "from sklearn import datasets, linear_model\n",
    "from sklearn.feature_extraction import text\n",
    "from sklearn.feature_extraction.text import CountVectorizer\n",
    "from sklearn.feature_extraction.text import TfidfTransformer\n",
    "from sklearn.model_selection import train_test_split\n",
    "\n",
    "from nltk import word_tokenize\n",
    "from nltk.tokenize import RegexpTokenizer\n",
    "from nltk.stem import PorterStemmer\n",
    "\n",
    "import re\n",
    "\n",
    "class MyTokenizer(object):\n",
    "    def __init__(self):\n",
    "        self.stemmer = PorterStemmer()\n",
    "        self.token_pattern = re.compile(u'(?u)\\\\b\\\\w\\\\w+\\\\b')\n",
    "        \n",
    "    def __call__(self, doc):\n",
    "        return [self.stemmer.stem(w) for w in self.token_pattern.findall(doc)]\n",
    "\n",
    "vectorizer = CountVectorizer(min_df=3, stop_words=text.ENGLISH_STOP_WORDS, tokenizer=MyTokenizer()) \n",
    "tfidf_transformer = TfidfTransformer()\n",
    "\n",
    "washington_terms = ['Seattle, Washington', 'Washington', 'WA', 'Seattle, WA', 'Kirkland, Washington']\n",
    "massachusetts_terms = ['massachusetts', 'ma']\n",
    "\n",
    "def find_location(loc):\n",
    "    for wt in washington_terms:\n",
    "        if loc.lower().find(wt.lower()) >= 0:\n",
    "            return \"washington\" # 0\n",
    "    for mt in massachusetts_terms:\n",
    "        if loc.lower().find(mt.lower()) >= 0:\n",
    "            return \"massachusetts\" # 1\n",
    "    return None\n",
    "\n",
    "X, y = [], []\n",
    "for tweet in tweets_sb:\n",
    "    location = find_location(tweet['tweet']['user']['location'])\n",
    "    if location is None: continue # does not belong to either state\n",
    "    X.append(tweet['tweet']['text'])\n",
    "    y.append(0 if location == \"washington\" else 1)\n",
    "\n",
    "X = vectorizer.fit_transform(X)\n",
    "X = tfidf_transformer.fit_transform(X)\n",
    "y = np.array(y)\n",
    "\n",
    "X_train, X_test, y_train, y_test = train_test_split(X, y, test_size=0.25, random_state=42)\n",
    "# print(X.shape, y.shape)\n",
    "logistic = linear_model.LogisticRegression()\n",
    "logistic.fit(X_train, y_train)\n",
    "y_pred = logistic.predict(X_test)\n",
    "y_pred_prob = logistic.predict_proba(X_test)\n",
    "show_stats(y_test, y_pred, y_pred_prob)"
   ]
  },
  {
   "cell_type": "code",
   "execution_count": 6,
   "metadata": {
    "collapsed": true
   },
   "outputs": [],
   "source": [
    "def show_stats(y_test, y_pred, y_pred_prob):\n",
    "    import itertools\n",
    "    from sklearn import linear_model\n",
    "    from sklearn.metrics import confusion_matrix, roc_curve, roc_auc_score, precision_score, accuracy_score, recall_score\n",
    "\n",
    "    def plot_confusion_matrix(cm, classes,\n",
    "                              normalize=False,\n",
    "                              title='Confusion matrix',\n",
    "                              cmap=plt.cm.Blues):\n",
    "        \"\"\"\n",
    "        This function prints and plots the confusion matrix.\n",
    "        Normalization can be applied by setting `normalize=True`.\n",
    "        \"\"\"\n",
    "        if normalize:\n",
    "            cm = cm.astype('float') / cm.sum(axis=1)[:, np.newaxis]\n",
    "\n",
    "        plt.imshow(cm, interpolation='nearest', cmap=cmap)\n",
    "        plt.title(title)\n",
    "        plt.colorbar()\n",
    "        tick_marks = np.arange(len(classes))\n",
    "        plt.xticks(tick_marks, classes, rotation=45)\n",
    "        plt.yticks(tick_marks, classes)\n",
    "\n",
    "        fmt = '.2f' if normalize else 'd'\n",
    "        thresh = cm.max() / 2.\n",
    "        for i, j in itertools.product(range(cm.shape[0]), range(cm.shape[1])):\n",
    "            plt.text(j, i, format(cm[i, j], fmt),\n",
    "                     horizontalalignment=\"center\",\n",
    "                     color=\"white\" if cm[i, j] > thresh else \"black\")\n",
    "\n",
    "        plt.tight_layout()\n",
    "        plt.ylabel('True label')\n",
    "        plt.xlabel('Predicted label')\n",
    "        plt.show()\n",
    "\n",
    "    cnf_matrix = confusion_matrix(y_test, y_pred)\n",
    "    plot_confusion_matrix(cnf_matrix, ['WA', 'MA'], title='Confusion Matrix')\n",
    "\n",
    "    fpr, tpr, thresholds = roc_curve(y_test, y_pred_prob[:,0], pos_label=0)\n",
    "    plt.plot(fpr, tpr, label='AUC =  %.3f' % roc_auc_score(y_test, y_pred_prob[:,0]))\n",
    "    plt.title('ROC Curve')\n",
    "    plt.ylabel('True Positive Rate')\n",
    "    plt.xlabel('False Positive Rate')\n",
    "    plt.legend()\n",
    "    plt.show()\n",
    "\n",
    "    print('Accuracy = %.3f, Precision = %.3f, Recall = %.3f' % (accuracy_score(y_test, y_pred), precision_score(y_test, y_pred), recall_score(y_test, y_pred)))\n"
   ]
  },
  {
   "cell_type": "markdown",
   "metadata": {},
   "source": [
    "b) Afterwards, we applied a more complex model of a Linear support vector machine. The results are as follows"
   ]
  },
  {
   "cell_type": "code",
   "execution_count": 10,
   "metadata": {},
   "outputs": [
    {
     "data": {
      "image/png": "[encoded data removed]",
      "text/plain": [
       "<matplotlib.figure.Figure at 0x124810e10>"
      ]
     },
     "metadata": {},
     "output_type": "display_data"
    },
    {
     "data": {
      "image/png": "[encoded data removed]",
      "text/plain": [
       "<matplotlib.figure.Figure at 0x1270ba278>"
      ]
     },
     "metadata": {},
     "output_type": "display_data"
    },
    {
     "name": "stdout",
     "output_type": "stream",
     "text": [
      "Accuracy = 0.821, Precision = 0.823, Recall = 0.995\n"
     ]
    }
   ],
   "source": [
    "from sklearn.svm import SVC\n",
    "\n",
    "clf = SVC(kernel='linear', probability=True)\n",
    "clf.fit(X_train, y_train)\n",
    "y_pred = clf.predict(X_test)\n",
    "y_pred_prob = clf.predict_proba(X_test)\n",
    "show_stats(y_test, y_pred, y_pred_prob)"
   ]
  },
  {
   "cell_type": "markdown",
   "metadata": {},
   "source": [
    "c) Finally, we employed a multinomial Naive Bayes classifier. This type of model is suitable for classification with discrete features and in practice, fractional counts such as tf-idf representations also work, which is the case in our machine learning problem."
   ]
  },
  {
   "cell_type": "code",
   "execution_count": 11,
   "metadata": {},
   "outputs": [
    {
     "data": {
      "image/png": "[encoded data removed]",
      "text/plain": [
       "<matplotlib.figure.Figure at 0x12727fa90>"
      ]
     },
     "metadata": {},
     "output_type": "display_data"
    },
    {
     "data": {
      "image/png": "[encoded data removed]",
      "text/plain": [
       "<matplotlib.figure.Figure at 0x12266a7b8>"
      ]
     },
     "metadata": {},
     "output_type": "display_data"
    },
    {
     "name": "stdout",
     "output_type": "stream",
     "text": [
      "Accuracy = 0.823, Precision = 0.824, Recall = 0.998\n"
     ]
    }
   ],
   "source": [
    "from sklearn.naive_bayes import MultinomialNB\n",
    "\n",
    "clf = MultinomialNB()\n",
    "clf.fit(X_train, y_train)\n",
    "y_pred = clf.predict(X_test)\n",
    "y_pred_prob = clf.predict_proba(X_test)\n",
    "show_stats(y_test, y_pred, y_pred_prob)"
   ]
  },
  {
   "cell_type": "markdown",
   "metadata": {},
   "source": [
    "Overall, comparing these three models' results, one can claim that..."
   ]
  },
  {
   "cell_type": "markdown",
   "metadata": {},
   "source": [
    "# Prediction of Game Results based on Tweet Sentiment\n",
    "\n",
    "To build upon the previous section's exploration with using tweet semantics for prediction, we will describe a model that can predict the winner (and loser) of the game based on the current tweet sentiment for both participating teams.\n",
    "Given that team A and team B are paritipating in the superbowl, the features we used are:\n",
    "* Total number of positive tweets for #go{team A}\n",
    "* Total number of negative tweets for #go{team A}\n",
    "* Total number of retweets for #go{team A}\n",
    "* Total number of positive tweets for #go{team B}\n",
    "* Total number of negative tweets for #go{team B}\n",
    "* Total number of retweets for #go{team B}\n",
    "\n",
    "For our given dataset of superbowl 15, we collect the tweet statistics from #gopatriots and #gohawks. To determine whether a given tweet is positive, we use the sentiment analyzer API provided by Textblob (https://pypi.python.org/pypi/textblob)\n",
    "\n",
    "We employed a logistic regression model to predict the outcome of the game. Unfortunately, since our given dataset is regarding only one superbowl game, we could only create one training example, which of course is not sufficient to generate a robust model. If we had sufficient time, we would first collect the same kind of tweet statistics for all the past superbowl games (starting from superbowl 2007 since Twitter was founded in early 2006). In addition, since this gives us only ten more examples, we would collect tweet datasets for at least a couple hundred NFL football games to finally generate a decently sized training set."
   ]
  },
  {
   "cell_type": "code",
   "execution_count": 12,
   "metadata": {
    "collapsed": true
   },
   "outputs": [],
   "source": [
    "data_dir = '/Volumes/TOCOMBINE/tweet_data' # MAKE SURE TO CHANGE THIS TO WHERE EVER YOUR DATA IS. \n",
    "# The total data size is ~14gb which is too large to be committed into github\n",
    "\n",
    "# Puts data into dict\n",
    "hashtags = ['gopatriots']\n",
    "data = {}\n",
    "for hashtag in hashtags:\n",
    "    file_name = data_dir + '/tweets_#' + hashtag + '.txt' \n",
    "    with open(file_name, 'r') as f:\n",
    "        tweets = []\n",
    "        for i, l in enumerate(f):\n",
    "            tweet = json.loads(l)\n",
    "            tweets.append(tweet)\n",
    "        data[hashtag] = tweets"
   ]
  },
  {
   "cell_type": "code",
   "execution_count": 14,
   "metadata": {
    "collapsed": true
   },
   "outputs": [],
   "source": [
    "from textblob import TextBlob\n",
    "import regex as re\n",
    "\n",
    "def clean_tweet(tweet):\n",
    "    '''\n",
    "    Utility function to clean tweet text by removing links, special characters\n",
    "    using simple regex statements.\n",
    "    '''\n",
    "    return ' '.join(re.sub(\"(@[A-Za-z0-9]+)|([^0-9A-Za-z \\t])|(\\w+:\\/\\/\\S+)\", \" \", tweet).split())\n",
    "\n",
    "def get_tweet_sentiment(tweet):\n",
    "    '''\n",
    "    Utility function to classify sentiment of passed tweet\n",
    "    using textblob's sentiment method\n",
    "    '''\n",
    "    # create TextBlob object of passed tweet text\n",
    "    analysis = TextBlob(clean_tweet(tweet))\n",
    "    # set sentiment\n",
    "    if analysis.sentiment.polarity > 0:\n",
    "        return 'positive'\n",
    "    elif analysis.sentiment.polarity == 0:\n",
    "        return 'neutral'\n",
    "    else:\n",
    "        return 'negative'\n",
    "\n",
    "row = []\n",
    "for hashtag in hashtags:\n",
    "    positives, negatives, retweets = 0, 0, 0\n",
    "    for tweet in data[hashtag]:\n",
    "        sentiment = get_tweet_sentiment(tweet['tweet']['text'])\n",
    "        if sentiment is 'positive':\n",
    "            positives += 1\n",
    "        elif sentiment is 'negative':\n",
    "            negatives += 1\n",
    "        retweets += tweet['metrics']['citations']['total']\n",
    "    row.append(positives)\n",
    "    row.append(negatives)\n",
    "    row.append(retweets)\n",
    "X = np.array(row)\n",
    "y = np.array([1,0]) # Patriots won, Seahwaks lost"
   ]
  },
  {
   "cell_type": "code",
   "execution_count": 16,
   "metadata": {},
   "outputs": [
    {
     "data": {
      "image/png": "[encoded data removed]",
      "text/plain": [
       "<matplotlib.figure.Figure at 0x11de28da0>"
      ]
     },
     "metadata": {},
     "output_type": "display_data"
    },
    {
     "data": {
      "image/png": "[encoded data removed]",
      "text/plain": [
       "<matplotlib.figure.Figure at 0x13f936710>"
      ]
     },
     "metadata": {},
     "output_type": "display_data"
    },
    {
     "name": "stdout",
     "output_type": "stream",
     "text": [
      "Accuracy = 0.824, Precision = 0.823, Recall = 1.000\n"
     ]
    }
   ],
   "source": [
    "logistic = linear_model.LogisticRegression()\n",
    "logistic.fit(X, y)\n",
    "y_pred = logistic.predict(X)\n",
    "y_pred_prob = logistic.predict_proba(X)\n",
    "show_stats(y, y_pred, y_pred_prob)"
   ]
  },
  {
   "cell_type": "markdown",
   "metadata": {},
   "source": [
    "The performance of the logistic regression model is summarized above. This, of course, is meaningless to analyze as we only utilized one trainig example. However, with more data, we are certain that we can create a generalizable predictor of superbowl champions based on both teams' fans' tweet sentiment. Our intuition is that the winning team will gather more both positive and negative tweets than those of the losing team, as the winning fan is most likely to tweet a positive tweet about his or her winning team, and the losing fan is most likely to tweet a negative tweet about the opposing team's undeserved victory."
   ]
  },
  {
   "cell_type": "code",
   "execution_count": null,
   "metadata": {
    "collapsed": true
   },
   "outputs": [],
   "source": []
  }
 ],
 "metadata": {
  "kernelspec": {
   "display_name": "Python 3",
   "language": "python",
   "name": "python3"
  },
  "language_info": {
   "codemirror_mode": {
    "name": "ipython",
    "version": 3
   },
   "file_extension": ".py",
   "mimetype": "text/x-python",
   "name": "python",
   "nbconvert_exporter": "python",
   "pygments_lexer": "ipython3",
   "version": "3.6.3"
  }
 },
 "nbformat": 4,
 "nbformat_minor": 2
}
