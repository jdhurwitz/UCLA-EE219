{
 "cells": [
  {
   "cell_type": "code",
   "execution_count": 3,
   "metadata": {
    "collapsed": true
   },
   "outputs": [],
   "source": [
    "%matplotlib inline\n",
    "\n",
    "import matplotlib\n",
    "import numpy as np\n",
    "import matplotlib.pyplot as plt"
   ]
  },
  {
   "cell_type": "code",
   "execution_count": 4,
   "metadata": {
    "collapsed": true
   },
   "outputs": [],
   "source": [
    "from sklearn.datasets import fetch_20newsgroups"
   ]
  },
  {
   "cell_type": "code",
   "execution_count": 10,
   "metadata": {
    "collapsed": true
   },
   "outputs": [],
   "source": [
    "comp_categories = ['comp.graphics', 'comp.os.ms-windows.misc', 'comp.sys.ibm.pc.hardware', 'comp.sys.mac.hardware']\n",
    "rec_categories = ['rec.autos', 'rec.motorcycles', 'rec.sport.baseball', 'rec.sport.hockey']\n",
    "comp_train = fetch_20newsgroups(subset='train', categories=comp_categories, shuffle=True, random_state=42)\n",
    "rec_train = fetch_20newsgroups(subset='train', categories=rec_categories, shuffle=True, random_state=42)"
   ]
  },
  {
   "cell_type": "code",
   "execution_count": 137,
   "metadata": {},
   "outputs": [
    {
     "name": "stdout",
     "output_type": "stream",
     "text": [
      "2343 documents\n",
      "4 categories\n",
      "2389 documents\n",
      "4 categories\n"
     ]
    }
   ],
   "source": [
    "print(\"%d documents\" % len(comp_train.filenames))\n",
    "print(\"%d categories\" % len(comp_train.target_names))\n",
    "\n",
    "print(\"%d documents\" % len(rec_train.filenames))\n",
    "print(\"%d categories\" % len(rec_train.target_names))"
   ]
  },
  {
   "cell_type": "code",
   "execution_count": 39,
   "metadata": {},
   "outputs": [
    {
     "data": {
      "image/png": "[encoded data removed]",
      "text/plain": [
       "<matplotlib.figure.Figure at 0x11db42890>"
      ]
     },
     "metadata": {},
     "output_type": "display_data"
    }
   ],
   "source": [
    "# a)\n",
    "plt.bar(np.arange(2), [len(comp_train.filenames), len(rec_train.filenames)], align='center', alpha=0.5)\n",
    "plt.xticks(np.arange(2), ('Computer Technology', 'Recreational Activity'))\n",
    "plt.ylabel('# Examples')\n",
    "plt.title('Training Data')\n",
    "plt.show()"
   ]
  },
  {
   "cell_type": "code",
   "execution_count": 65,
   "metadata": {
    "collapsed": true
   },
   "outputs": [],
   "source": [
    "# b) First tokenize each document into words. Then, excluding the stop words,\n",
    "# punctuations, and using stemmed version of words, create a TFxIDF vector representations\n",
    "from sklearn.feature_extraction import text\n",
    "from sklearn.feature_extraction.text import CountVectorizer\n",
    "from sklearn.feature_extraction.text import TfidfTransformer\n",
    "\n",
    "from nltk import word_tokenize\n",
    "from nltk.tokenize import RegexpTokenizer\n",
    "from nltk.stem import PorterStemmer # what kind of stemming algorithm to use?\n",
    "\n",
    "import re\n",
    "\n",
    "class MyTokenizer(object):\n",
    "    def __init__(self):\n",
    "        self.stemmer =nPorterStemmer()\n",
    "        self.token_pattern = re.compile(u'(?u)\\\\b\\\\w\\\\w+\\\\b')\n",
    "        \n",
    "    def __call__(self, doc):\n",
    "        return [self.stemmer.stem(w) for w in self.token_pattern.findall(doc)]\n",
    "\n",
    "myVectorizer_df2 = CountVectorizer(min_df=2, stop_words=text.ENGLISH_STOP_WORDS, tokenizer=MyTokenizer()) \n",
    "myVectorizer_df5 = CountVectorizer(min_df=5, stop_words=text.ENGLISH_STOP_WORDS, tokenizer=MyTokenizer()) "
   ]
  },
  {
   "cell_type": "code",
   "execution_count": 209,
   "metadata": {
    "collapsed": true
   },
   "outputs": [],
   "source": [
    "corpus = comp_train.data + rec_train.data\n",
    "Xdf2 = myVectorizer_df2.fit_transform(corpus)\n",
    "Xdf5 = myVectorizer_df5.fit_transform(corpus)\n",
    "\n",
    "tfidf_transformer2, tfidf_transformer5 = TfidfTransformer(), TfidfTransformer()\n",
    "Xtf2 = tfidf_transformer2.fit_transform(Xdf2)\n",
    "Xtf5 = tfidf_transformer5.fit_transform(Xdf5)"
   ]
  },
  {
   "cell_type": "code",
   "execution_count": 67,
   "metadata": {},
   "outputs": [
    {
     "name": "stdout",
     "output_type": "stream",
     "text": [
      "((4732, 25305), (4732, 10691))\n",
      "((4732, 25305), (4732, 10691))\n"
     ]
    }
   ],
   "source": [
    "# myVectorizer.get_feature_names()\n",
    "print(Xdf2.shape, Xdf5.shape) # 4732 documents and 25305 terms(tokens?)\n",
    "print(Xtf2.shape, Xtf5.shape)\n",
    "# Is X my answer?"
   ]
  },
  {
   "cell_type": "code",
   "execution_count": 52,
   "metadata": {},
   "outputs": [
    {
     "data": {
      "text/plain": [
       "[u'and',\n",
       " u'document',\n",
       " u'first',\n",
       " u'is',\n",
       " u'one',\n",
       " u'second',\n",
       " u'the',\n",
       " u'third',\n",
       " u'this']"
      ]
     },
     "execution_count": 52,
     "metadata": {},
     "output_type": "execute_result"
    }
   ],
   "source": [
    "# vec=CountVectorizer(min_df=1)\n",
    "# corpus = [\n",
    "#     'This is the first document.',\n",
    "#     'This is the second second document.',\n",
    "#     'And the third one.',\n",
    "#     'Is this the first document?',\n",
    "# ]\n",
    "# X = vec.fit_transform(corpus)\n",
    "# vec.get_feature_names()"
   ]
  },
  {
   "cell_type": "code",
   "execution_count": null,
   "metadata": {
    "collapsed": true
   },
   "outputs": [],
   "source": [
    "# c) TFICF?? "
   ]
  },
  {
   "cell_type": "code",
   "execution_count": 206,
   "metadata": {},
   "outputs": [
    {
     "name": "stdout",
     "output_type": "stream",
     "text": [
      "((4732, 50), (4732, 50))\n",
      "((4732, 50), (4732, 50))\n"
     ]
    }
   ],
   "source": [
    "# d) Latent Semantic Indexing (Analysis)\n",
    "from sklearn.decomposition import TruncatedSVD\n",
    "k = 50\n",
    "svd2, svd5 = TruncatedSVD(n_components=k, random_state=42), TruncatedSVD(n_components=k, random_state=42)\n",
    "Xtf2_transformed = svd2.fit_transform(Xtf2)\n",
    "Xtf5_transformed = svd5.fit_transform(Xtf5)\n",
    "print(Xtf2_transformed.shape, Xtf5_transformed.shape)\n",
    "\n",
    "# NMF\n",
    "from sklearn.decomposition import NMF\n",
    "nmfsvd2, nmfsvd5 = NMF(n_components=50, random_state=42), NMF(n_components=50, random_state=42)\n",
    "Xtf2_nmftrans = nmfsvd2.fit_transform(Xtf2)\n",
    "Xtf5_nmftrans = nmfsvd5.fit_transform(Xtf5)\n",
    "print(Xtf2_nmftrans.shape, Xtf5_nmftrans.shape)"
   ]
  },
  {
   "cell_type": "code",
   "execution_count": 211,
   "metadata": {},
   "outputs": [
    {
     "name": "stdout",
     "output_type": "stream",
     "text": [
      "df=2 Hard and Soft\n",
      "(0.97333333333333338, 0.96923076923076923, 0.97674418604651159)\n",
      "(0.50476190476190474, 0.0, nan)\n"
     ]
    },
    {
     "name": "stderr",
     "output_type": "stream",
     "text": [
      "/Users/Peter/miniconda2/lib/python2.7/site-packages/ipykernel_launcher.py:5: RuntimeWarning: invalid value encountered in long_scalars\n",
      "  \"\"\"\n"
     ]
    }
   ],
   "source": [
    "# Compare df 2\n",
    "import numpy as np\n",
    "from sklearn.svm import LinearSVC, SVC\n",
    "\n",
    "ytrain = np.zeros(shape=(4732,))\n",
    "ytrain[len(comp_train.filenames):] = 1\n",
    "\n",
    "hardclf = SVC(random_state=42, kernel='linear', C=1000, probability=True)\n",
    "hardclf.fit(Xtf2_transformed, ytrain)\n",
    "softclf = SVC(random_state=42, kernel='linear', C=0.001, probability=True)\n",
    "softclf.fit(Xtf2_transformed, ytrain)\n",
    "\n",
    "testX = tfidf_transformer2.transform(myVectorizer_df2.transform(comp_test.data + rec_test.data))\n",
    "testX2_transformed = svd2.transform(testX)\n",
    "testy = np.zeros(shape=(1560+1590,))\n",
    "testy[1560:] = 1\n",
    "\n",
    "ypredhard = hardclf.predict(testX2_transformed)\n",
    "ypredsoft = softclf.predict(testX2_transformed)\n",
    "ypredhardProb = hardclf.predict_proba(testX2_transformed)\n",
    "ypredsoftProb = softclf.predict_proba(testX2_transformed)\n",
    "# print(ypredhard.shape, ypredsoft.shape)\n",
    "# print(ypredhardProb.shape, ypredsoftProb.shape)\n",
    "print(\"df=2 Hard and Soft\")\n",
    "print(getmetrics(confusion_matrix(testy, ypredhard)))\n",
    "print(getmetrics(confusion_matrix(testy, ypredsoft)))"
   ]
  },
  {
   "cell_type": "code",
   "execution_count": 212,
   "metadata": {},
   "outputs": [
    {
     "name": "stdout",
     "output_type": "stream",
     "text": [
      "df=5 Hard and Soft\n",
      "(0.97142857142857142, 0.96602564102564104, 0.97603626943005184)\n",
      "(0.50476190476190474, 0.0, nan)\n"
     ]
    },
    {
     "name": "stderr",
     "output_type": "stream",
     "text": [
      "/Users/Peter/miniconda2/lib/python2.7/site-packages/ipykernel_launcher.py:5: RuntimeWarning: invalid value encountered in long_scalars\n",
      "  \"\"\"\n"
     ]
    }
   ],
   "source": [
    "# Vs. df 5\n",
    "hardclf = SVC(random_state=42, kernel='linear', C=1000, probability=True)\n",
    "hardclf.fit(Xtf5_transformed, ytrain)\n",
    "softclf = SVC(random_state=42, kernel='linear', C=0.001, probability=True)\n",
    "softclf.fit(Xtf5_transformed, ytrain)\n",
    "\n",
    "testX = tfidf_transformer5.transform(myVectorizer_df5.transform(comp_test.data + rec_test.data))\n",
    "testX5_transformed = svd5.transform(testX)\n",
    "testy = np.zeros(shape=(1560+1590,))\n",
    "testy[1560:] = 1\n",
    "\n",
    "ypredhard = hardclf.predict(testX5_transformed)\n",
    "ypredsoft = softclf.predict(testX5_transformed)\n",
    "ypredhardProb = hardclf.predict_proba(testX5_transformed)\n",
    "ypredsoftProb = softclf.predict_proba(testX5_transformed)\n",
    "# print(ypredhard.shape, ypredsoft.shape)\n",
    "# print(ypredhardProb.shape, ypredsoftProb.shape)\n",
    "print(\"df=5 Hard and Soft\")\n",
    "print(getmetrics(confusion_matrix(testy, ypredhard)))\n",
    "print(getmetrics(confusion_matrix(testy, ypredsoft)))\n",
    "\n",
    "# Df=2 performs marginally better"
   ]
  },
  {
   "cell_type": "code",
   "execution_count": 165,
   "metadata": {},
   "outputs": [
    {
     "data": {
      "text/plain": [
       "SVC(C=0.001, cache_size=200, class_weight=None, coef0=0.0,\n",
       "  decision_function_shape='ovr', degree=3, gamma='auto', kernel='linear',\n",
       "  max_iter=-1, probability=True, random_state=42, shrinking=True,\n",
       "  tol=0.001, verbose=False)"
      ]
     },
     "execution_count": 165,
     "metadata": {},
     "output_type": "execute_result"
    }
   ],
   "source": [
    "# e) Hard and soft margin SVM\n",
    "import numpy as np\n",
    "from sklearn.svm import LinearSVC, SVC\n",
    "X = Xtf2\n",
    "y = np.zeros(shape=(4732,))\n",
    "y[len(comp_train.filenames):] = 1\n",
    "# 0 for comp class, 1 for rec class\n",
    "\n",
    "hardclf = SVC(random_state=42, kernel='linear', C=1000, probability=True)\n",
    "hardclf.fit(X, y)\n",
    "softclf = SVC(random_state=42, kernel='linear', C=0.001, probability=True)\n",
    "softclf.fit(X, y)"
   ]
  },
  {
   "cell_type": "code",
   "execution_count": 78,
   "metadata": {},
   "outputs": [
    {
     "name": "stdout",
     "output_type": "stream",
     "text": [
      "1560 documents\n",
      "4 categories\n",
      "1590 documents\n",
      "4 categories\n"
     ]
    }
   ],
   "source": [
    "comp_test = fetch_20newsgroups(subset='test', categories=comp_categories, shuffle=True, random_state=42)\n",
    "rec_test = fetch_20newsgroups(subset='test', categories=rec_categories, shuffle=True, random_state=42)\n",
    "print(\"%d documents\" % len(comp_test.filenames))\n",
    "print(\"%d categories\" % len(comp_test.target_names))\n",
    "\n",
    "print(\"%d documents\" % len(rec_test.filenames))\n",
    "print(\"%d categories\" % len(rec_test.target_names))"
   ]
  },
  {
   "cell_type": "code",
   "execution_count": 164,
   "metadata": {},
   "outputs": [
    {
     "name": "stdout",
     "output_type": "stream",
     "text": [
      "((3150, 25305), (4732, 50))\n"
     ]
    }
   ],
   "source": [
    "tfidf_transformer.fit(Xdf2)\n",
    "\n",
    "# testX = svd.fit_transform(tfidf_transformer.transform(myVectorizer_df2.transform(comp_test.data + rec_test.data)))\n",
    "testX = tfidf_transformer.transform(myVectorizer_df2.transform(comp_test.data + rec_test.data))\n",
    "testy = np.zeros(shape=(1560+1590,))\n",
    "testy[1560:] = 1\n",
    "print(testX.shape, X.shape)"
   ]
  },
  {
   "cell_type": "code",
   "execution_count": 172,
   "metadata": {},
   "outputs": [
    {
     "name": "stdout",
     "output_type": "stream",
     "text": [
      "((3150,), (3150,))\n",
      "((3150, 2), (3150, 2))\n"
     ]
    }
   ],
   "source": [
    "ypredhard = hardclf.predict(testX)\n",
    "ypredsoft = softclf.predict(testX)\n",
    "ypredhardProb = hardclf.predict_proba(testX)\n",
    "ypredsoftProb = softclf.predict_proba(testX)\n",
    "print(ypredhard.shape, ypredsoft.shape)\n",
    "print(ypredhardProb.shape, ypredsoftProb.shape)"
   ]
  },
  {
   "cell_type": "code",
   "execution_count": 180,
   "metadata": {},
   "outputs": [
    {
     "name": "stdout",
     "output_type": "stream",
     "text": [
      "(array([[  9.97788606e-01,   2.21139420e-03],\n",
      "       [  9.99993000e-01,   6.99957223e-06],\n",
      "       [  9.99422390e-01,   5.77610328e-04],\n",
      "       ..., \n",
      "       [  1.40934226e-08,   9.99999986e-01],\n",
      "       [  5.36506145e-06,   9.99994635e-01],\n",
      "       [  1.68798563e-09,   9.99999998e-01]]), array([[  9.98917306e-01,   1.08269396e-03],\n",
      "       [  9.99999087e-01,   9.13269527e-07],\n",
      "       [  9.99998669e-01,   1.33050265e-06],\n",
      "       ..., \n",
      "       [  8.83992011e-02,   9.11600799e-01],\n",
      "       [  3.55626709e-01,   6.44373291e-01],\n",
      "       [  1.77628733e-07,   9.99999822e-01]]))\n",
      "[  2.21139420e-03   6.99957223e-06   5.77610328e-04 ...,   9.99999986e-01\n",
      "   9.99994635e-01   9.99999998e-01]\n"
     ]
    }
   ],
   "source": [
    "print(ypredhardProb, ypredsoftProb)\n",
    "print(ypredhardProb[:,1])\n",
    "# print(ypredhard, ypredsoft)"
   ]
  },
  {
   "cell_type": "code",
   "execution_count": 182,
   "metadata": {},
   "outputs": [
    {
     "data": {
      "image/png": "[encoded data removed]",
      "text/plain": [
       "<matplotlib.figure.Figure at 0x11f353e50>"
      ]
     },
     "metadata": {},
     "output_type": "display_data"
    },
    {
     "data": {
      "image/png": "[encoded data removed]",
      "text/plain": [
       "<matplotlib.figure.Figure at 0x11db5a310>"
      ]
     },
     "metadata": {},
     "output_type": "display_data"
    }
   ],
   "source": [
    "from sklearn import metrics\n",
    "fpr, tpr, thresholds = metrics.roc_curve(y_true=testy, y_score=ypredhardProb[:,1], pos_label=1.) # need prob scores for y_scores\n",
    "plt.plot(fpr, tpr) # ROC curve: fpr vs. tpr\n",
    "plt.show()\n",
    "\n",
    "fpr, tpr, thresholds = metrics.roc_curve(y_true=testy, y_score=ypredsoftProb[:,1], pos_label=1.) # need prob scores for y_scores\n",
    "plt.plot(fpr, tpr) # ROC curve: fpr vs. tpr\n",
    "plt.show()"
   ]
  },
  {
   "cell_type": "code",
   "execution_count": 169,
   "metadata": {},
   "outputs": [
    {
     "name": "stdout",
     "output_type": "stream",
     "text": [
      "[[1518   42]\n",
      " [  18 1572]]\n",
      "[[   0 1560]\n",
      " [   0 1590]]\n"
     ]
    }
   ],
   "source": [
    "from sklearn.metrics import confusion_matrix\n",
    "print(confusion_matrix(testy, ypredhard))\n",
    "print(confusion_matrix(testy, ypredsoft))\n"
   ]
  },
  {
   "cell_type": "code",
   "execution_count": 130,
   "metadata": {
    "collapsed": true
   },
   "outputs": [],
   "source": [
    "from __future__ import division\n",
    "\n",
    "# acc = TP + TN / total, precision = tp / tp + fp, recall = tp / tp + fn\n",
    "def getmetrics(conf):\n",
    "    return ((conf[0][0] + conf[1][1]) / np.sum(conf)), (conf[0][0] / (conf[0][0] + conf[0][1])), (conf[0][0] / (conf[0][0] + conf[1][0]))"
   ]
  },
  {
   "cell_type": "code",
   "execution_count": 170,
   "metadata": {},
   "outputs": [
    {
     "name": "stdout",
     "output_type": "stream",
     "text": [
      "(0.98095238095238091, 0.97307692307692306, 0.98828125)\n"
     ]
    }
   ],
   "source": [
    "acc, prec, recall = getmetrics(confusion_matrix(testy, ypredhard))\n",
    "print(acc, prec, recall)"
   ]
  },
  {
   "cell_type": "code",
   "execution_count": 171,
   "metadata": {},
   "outputs": [
    {
     "name": "stdout",
     "output_type": "stream",
     "text": [
      "(0.50476190476190474, 0.0, nan)\n"
     ]
    },
    {
     "name": "stderr",
     "output_type": "stream",
     "text": [
      "/Users/Peter/miniconda2/lib/python2.7/site-packages/ipykernel_launcher.py:5: RuntimeWarning: invalid value encountered in long_scalars\n",
      "  \"\"\"\n"
     ]
    }
   ],
   "source": [
    "acc, prec, recall = getmetrics(confusion_matrix(testy, ypredsoft))\n",
    "print(acc, prec, recall)"
   ]
  },
  {
   "cell_type": "code",
   "execution_count": 220,
   "metadata": {},
   "outputs": [
    {
     "name": "stderr",
     "output_type": "stream",
     "text": [
      "/Users/Peter/miniconda2/lib/python2.7/site-packages/ipykernel_launcher.py:5: RuntimeWarning: invalid value encountered in long_scalars\n",
      "  \"\"\"\n"
     ]
    },
    {
     "ename": "KeyboardInterrupt",
     "evalue": "",
     "output_type": "error",
     "traceback": [
      "\u001b[0;31m---------------------------------------------------------------------------\u001b[0m",
      "\u001b[0;31mKeyboardInterrupt\u001b[0m                         Traceback (most recent call last)",
      "\u001b[0;32m<ipython-input-220-f8cf2959314e>\u001b[0m in \u001b[0;36m<module>\u001b[0;34m()\u001b[0m\n\u001b[1;32m     19\u001b[0m         \u001b[0my_train\u001b[0m\u001b[0;34m,\u001b[0m \u001b[0my_test\u001b[0m \u001b[0;34m=\u001b[0m \u001b[0my\u001b[0m\u001b[0;34m[\u001b[0m\u001b[0mtrain_index\u001b[0m\u001b[0;34m]\u001b[0m\u001b[0;34m,\u001b[0m \u001b[0my\u001b[0m\u001b[0;34m[\u001b[0m\u001b[0mtest_index\u001b[0m\u001b[0;34m]\u001b[0m\u001b[0;34m\u001b[0m\u001b[0m\n\u001b[1;32m     20\u001b[0m \u001b[0;34m\u001b[0m\u001b[0m\n\u001b[0;32m---> 21\u001b[0;31m         \u001b[0mclf\u001b[0m\u001b[0;34m.\u001b[0m\u001b[0mfit\u001b[0m\u001b[0;34m(\u001b[0m\u001b[0mX_train\u001b[0m\u001b[0;34m,\u001b[0m \u001b[0my_train\u001b[0m\u001b[0;34m)\u001b[0m\u001b[0;34m\u001b[0m\u001b[0m\n\u001b[0m\u001b[1;32m     22\u001b[0m         \u001b[0my_pred\u001b[0m \u001b[0;34m=\u001b[0m \u001b[0mclf\u001b[0m\u001b[0;34m.\u001b[0m\u001b[0mpredict\u001b[0m\u001b[0;34m(\u001b[0m\u001b[0mX_test\u001b[0m\u001b[0;34m)\u001b[0m\u001b[0;34m\u001b[0m\u001b[0m\n\u001b[1;32m     23\u001b[0m \u001b[0;34m\u001b[0m\u001b[0m\n",
      "\u001b[0;32m/Users/Peter/miniconda2/lib/python2.7/site-packages/sklearn/svm/base.pyc\u001b[0m in \u001b[0;36mfit\u001b[0;34m(self, X, y, sample_weight)\u001b[0m\n\u001b[1;32m    185\u001b[0m \u001b[0;34m\u001b[0m\u001b[0m\n\u001b[1;32m    186\u001b[0m         \u001b[0mseed\u001b[0m \u001b[0;34m=\u001b[0m \u001b[0mrnd\u001b[0m\u001b[0;34m.\u001b[0m\u001b[0mrandint\u001b[0m\u001b[0;34m(\u001b[0m\u001b[0mnp\u001b[0m\u001b[0;34m.\u001b[0m\u001b[0miinfo\u001b[0m\u001b[0;34m(\u001b[0m\u001b[0;34m'i'\u001b[0m\u001b[0;34m)\u001b[0m\u001b[0;34m.\u001b[0m\u001b[0mmax\u001b[0m\u001b[0;34m)\u001b[0m\u001b[0;34m\u001b[0m\u001b[0m\n\u001b[0;32m--> 187\u001b[0;31m         \u001b[0mfit\u001b[0m\u001b[0;34m(\u001b[0m\u001b[0mX\u001b[0m\u001b[0;34m,\u001b[0m \u001b[0my\u001b[0m\u001b[0;34m,\u001b[0m \u001b[0msample_weight\u001b[0m\u001b[0;34m,\u001b[0m \u001b[0msolver_type\u001b[0m\u001b[0;34m,\u001b[0m \u001b[0mkernel\u001b[0m\u001b[0;34m,\u001b[0m \u001b[0mrandom_seed\u001b[0m\u001b[0;34m=\u001b[0m\u001b[0mseed\u001b[0m\u001b[0;34m)\u001b[0m\u001b[0;34m\u001b[0m\u001b[0m\n\u001b[0m\u001b[1;32m    188\u001b[0m         \u001b[0;31m# see comment on the other call to np.iinfo in this file\u001b[0m\u001b[0;34m\u001b[0m\u001b[0;34m\u001b[0m\u001b[0m\n\u001b[1;32m    189\u001b[0m \u001b[0;34m\u001b[0m\u001b[0m\n",
      "\u001b[0;32m/Users/Peter/miniconda2/lib/python2.7/site-packages/sklearn/svm/base.pyc\u001b[0m in \u001b[0;36m_dense_fit\u001b[0;34m(self, X, y, sample_weight, solver_type, kernel, random_seed)\u001b[0m\n\u001b[1;32m    252\u001b[0m                 \u001b[0mcache_size\u001b[0m\u001b[0;34m=\u001b[0m\u001b[0mself\u001b[0m\u001b[0;34m.\u001b[0m\u001b[0mcache_size\u001b[0m\u001b[0;34m,\u001b[0m \u001b[0mcoef0\u001b[0m\u001b[0;34m=\u001b[0m\u001b[0mself\u001b[0m\u001b[0;34m.\u001b[0m\u001b[0mcoef0\u001b[0m\u001b[0;34m,\u001b[0m\u001b[0;34m\u001b[0m\u001b[0m\n\u001b[1;32m    253\u001b[0m                 \u001b[0mgamma\u001b[0m\u001b[0;34m=\u001b[0m\u001b[0mself\u001b[0m\u001b[0;34m.\u001b[0m\u001b[0m_gamma\u001b[0m\u001b[0;34m,\u001b[0m \u001b[0mepsilon\u001b[0m\u001b[0;34m=\u001b[0m\u001b[0mself\u001b[0m\u001b[0;34m.\u001b[0m\u001b[0mepsilon\u001b[0m\u001b[0;34m,\u001b[0m\u001b[0;34m\u001b[0m\u001b[0m\n\u001b[0;32m--> 254\u001b[0;31m                 max_iter=self.max_iter, random_seed=random_seed)\n\u001b[0m\u001b[1;32m    255\u001b[0m \u001b[0;34m\u001b[0m\u001b[0m\n\u001b[1;32m    256\u001b[0m         \u001b[0mself\u001b[0m\u001b[0;34m.\u001b[0m\u001b[0m_warn_from_fit_status\u001b[0m\u001b[0;34m(\u001b[0m\u001b[0;34m)\u001b[0m\u001b[0;34m\u001b[0m\u001b[0m\n",
      "\u001b[0;31mKeyboardInterrupt\u001b[0m: "
     ]
    }
   ],
   "source": [
    "# f) Pick best C - using LSI not NMF\n",
    "from sklearn.model_selection import KFold\n",
    "\n",
    "# testX = tfidf_transformer2.transform(myVectorizer_df2.transform(comp_test.data + rec_test.data))\n",
    "# testX2_transformed = svd2.transform(testX)\n",
    "# testy = np.zeros(shape=(1560+1590,))\n",
    "# testy[1560:] = 1\n",
    "\n",
    "kf = KFold(n_splits=5, shuffle=True)\n",
    "X = Xtf2_nmftrans\n",
    "y = np.zeros(shape=(4732,))\n",
    "y[len(comp_train.filenames):] = 1\n",
    "modelperformance = {}\n",
    "for c in range(-3, 4):\n",
    "    clf = SVC(random_state=42, kernel='linear', C=pow(10, c), probability=True)\n",
    "    totalacc = 0\n",
    "    for train_index, test_index in kf.split(X):\n",
    "        X_train, X_test = X[train_index], X[test_index]\n",
    "        y_train, y_test = y[train_index], y[test_index]\n",
    "        \n",
    "        clf.fit(X_train, y_train)\n",
    "        y_pred = clf.predict(X_test)\n",
    "        \n",
    "        totalacc += getmetrics(confusion_matrix(y_test, y_pred))[0]\n",
    "        \n",
    "    avgacc = totalacc / 5\n",
    "    modelperformance[c] = avgacc\n",
    "        \n",
    "print modelperformance\n",
    " \n",
    "# Best performing model is when C = 1\n",
    "        \n",
    "    "
   ]
  },
  {
   "cell_type": "code",
   "execution_count": 215,
   "metadata": {},
   "outputs": [
    {
     "name": "stdout",
     "output_type": "stream",
     "text": [
      "(array([ 0.,  0.,  0., ...,  1.,  1.,  1.]), array([[ 0.51534267,  0.48465733],\n",
      "       [ 0.51518607,  0.48481393],\n",
      "       [ 0.53233147,  0.46766853],\n",
      "       ..., \n",
      "       [ 0.47392072,  0.52607928],\n",
      "       [ 0.46249443,  0.53750557],\n",
      "       [ 0.42621101,  0.57378899]]))\n"
     ]
    }
   ],
   "source": [
    "# g) Use NMF\n",
    "from sklearn.naive_bayes import MultinomialNB\n",
    "y = np.zeros(shape=(4732,))\n",
    "y[len(comp_train.filenames):] = 1\n",
    "clf = MultinomialNB()\n",
    "clf.fit(Xtf2_nmftrans, y)\n",
    "# clf = MultinomialNB(class_prior=[.1, .9]).fit(X,y).predict([1,1])\n",
    "X_new_tfidf = tfidf_transformer2.transform(myVectorizer_df2.transform(comp_test.data + rec_test.data))\n",
    "X_new_tfidf = nmfsvd2.transform(X_new_tfidf)\n",
    "\n",
    "testy = np.zeros(shape=(1560+1590,))\n",
    "testy[1560:] = 1\n",
    "\n",
    "ypred = clf.predict(X_new_tfidf) # again i need probabilities...\n",
    "ypredprob = clf.predict_proba(X_new_tfidf)\n",
    "print(ypred, ypredprob)"
   ]
  },
  {
   "cell_type": "code",
   "execution_count": 187,
   "metadata": {},
   "outputs": [
    {
     "data": {
      "image/png": "[encoded data removed]",
      "text/plain": [
       "<matplotlib.figure.Figure at 0x11f900390>"
      ]
     },
     "metadata": {},
     "output_type": "display_data"
    },
    {
     "name": "stdout",
     "output_type": "stream",
     "text": [
      "(0.98190476190476195, 0.97115384615384615, 0.99214145383104124)\n"
     ]
    }
   ],
   "source": [
    "fpr, tpr, thresholds = metrics.roc_curve(y_true=testy, y_score=ypredprob[:,1], pos_label=1.) # need prob scores for y_scores\n",
    "plt.plot(fpr, tpr) # ROC curve: fpr vs. tpr\n",
    "plt.show()\n",
    "\n",
    "acc, prec, recall = getmetrics(confusion_matrix(testy, ypred))\n",
    "print(acc, prec, recall)"
   ]
  },
  {
   "cell_type": "code",
   "execution_count": 218,
   "metadata": {},
   "outputs": [
    {
     "data": {
      "image/png": "[encoded data removed]",
      "text/plain": [
       "<matplotlib.figure.Figure at 0x120575350>"
      ]
     },
     "metadata": {},
     "output_type": "display_data"
    },
    {
     "name": "stdout",
     "output_type": "stream",
     "text": [
      "(0.93555555555555558, 0.93012820512820515, 0.93915857605177988)\n"
     ]
    }
   ],
   "source": [
    "# h) NMF Log Reg\n",
    "from sklearn.linear_model import LogisticRegression\n",
    "clf = LogisticRegression()\n",
    "testX = tfidf_transformer2.transform(myVectorizer_df2.transform(comp_test.data + rec_test.data))\n",
    "testX2_nmf = nmfsvd2.transform(testX)\n",
    "testy = np.zeros(shape=(1560+1590,))\n",
    "testy[1560:] = 1\n",
    "y = np.zeros(shape=(4732,))\n",
    "y[len(comp_train.filenames):] = 1\n",
    "clf.fit(Xtf2_nmftrans, y)\n",
    "ypred = clf.predict(testX2_nmf)\n",
    "ypredprob = clf.predict_proba(testX2_nmf)\n",
    "fpr, tpr, thresholds = metrics.roc_curve(y_true=testy, y_score=ypredprob[:,1], pos_label=1.) # need prob scores for y_scores\n",
    "plt.plot(fpr, tpr) # ROC curve: fpr vs. tpr\n",
    "plt.show()\n",
    "\n",
    "acc, prec, recall = getmetrics(confusion_matrix(testy, ypred))\n",
    "print(acc, prec, recall)"
   ]
  },
  {
   "cell_type": "code",
   "execution_count": 219,
   "metadata": {},
   "outputs": [
    {
     "data": {
      "image/png": "[encoded data removed]",
      "text/plain": [
       "<matplotlib.figure.Figure at 0x121be9790>"
      ]
     },
     "metadata": {},
     "output_type": "display_data"
    },
    {
     "name": "stdout",
     "output_type": "stream",
     "text": [
      "(0.95746031746031746, 0.94999999999999996, 0.96358907672301686)\n"
     ]
    }
   ],
   "source": [
    "# i)\n",
    "# Use L1 - performs better than l2!\n",
    "clf = LogisticRegression(penalty='l1')\n",
    "y = np.zeros(shape=(4732,))\n",
    "y[len(comp_train.filenames):] = 1\n",
    "clf.fit(Xtf2_nmftrans, y)\n",
    "ypred = clf.predict(testX2_nmf)\n",
    "ypredprob = clf.predict_proba(testX2_nmf)\n",
    "fpr, tpr, thresholds = metrics.roc_curve(y_true=testy, y_score=ypredprob[:,1], pos_label=1.) # need prob scores for y_scores\n",
    "plt.plot(fpr, tpr) # ROC curve: fpr vs. tpr\n",
    "plt.show()\n",
    "\n",
    "acc, prec, recall = getmetrics(confusion_matrix(testy, ypred))\n",
    "print(acc, prec, recall)"
   ]
  },
  {
   "cell_type": "code",
   "execution_count": 221,
   "metadata": {},
   "outputs": [
    {
     "name": "stdout",
     "output_type": "stream",
     "text": [
      "{1: 0.95815538553929058, 100: 0.97062784223462972, 0.1: 0.6375707419223049, 1000: 0.96893651031073991, 10: 0.96893584056472992, 0.001: 0.49514523442226588, 0.01: 0.49514233218955594}\n"
     ]
    }
   ],
   "source": [
    "kf = KFold(n_splits=5, shuffle=True)\n",
    "X = Xtf2_nmftrans\n",
    "y = np.zeros(shape=(4732,))\n",
    "y[len(comp_train.filenames):] = 1\n",
    "modelperformance = {}\n",
    "for c in range(-3, 4):\n",
    "    clf = LogisticRegression(C=pow(10, c), penalty='l1')\n",
    "    totalacc = 0\n",
    "    for train_index, test_index in kf.split(X):\n",
    "        X_train, X_test = X[train_index], X[test_index]\n",
    "        y_train, y_test = y[train_index], y[test_index]\n",
    "        \n",
    "        clf.fit(X_train, y_train)\n",
    "        y_pred = clf.predict(X_test)\n",
    "        \n",
    "        totalacc += getmetrics(confusion_matrix(y_test, y_pred))[0]\n",
    "        \n",
    "    avgacc = totalacc / 5\n",
    "    modelperformance[pow(10, c)] = avgacc\n",
    "        \n",
    "print modelperformance\n",
    "# Use C = 100"
   ]
  },
  {
   "cell_type": "code",
   "execution_count": 194,
   "metadata": {
    "collapsed": true
   },
   "outputs": [],
   "source": [
    "# i2)\n",
    "pc_train = fetch_20newsgroups(subset='train', categories=['comp.sys.ibm.pc.hardware'], shuffle=True, random_state=42)\n",
    "pc_test = fetch_20newsgroups(subset='test', categories=['comp.sys.ibm.pc.hardware'], shuffle=True, random_state=42)\n",
    "mac_train = fetch_20newsgroups(subset='train', categories=['comp.sys.mac.hardware'], shuffle=True, random_state=42)\n",
    "mac_test = fetch_20newsgroups(subset='test', categories=['comp.sys.mac.hardware'], shuffle=True, random_state=42)\n",
    "fs_train = fetch_20newsgroups(subset='train', categories=['misc.forsale'], shuffle=True, random_state=42)\n",
    "fs_test = fetch_20newsgroups(subset='test', categories=['misc.forsale'], shuffle=True, random_state=42)\n",
    "jesus_train = fetch_20newsgroups(subset='train', categories=['soc.religion.christian'], shuffle=True, random_state=42)\n",
    "jesus_test = fetch_20newsgroups(subset='test', categories=['soc.religion.christian'], shuffle=True, random_state=42)"
   ]
  },
  {
   "cell_type": "code",
   "execution_count": 222,
   "metadata": {
    "collapsed": true
   },
   "outputs": [],
   "source": [
    "tfidftrans = TfidfTransformer()\n",
    "\n",
    "X = tfidftrans.fit_transform(myVectorizer_df2.fit_transform(pc_train.data+mac_train.data+fs_train.data+jesus_train.data))\n",
    "\n",
    "y = np.zeros((len(pc_train.filenames)+len(mac_train.filenames)+len(fs_train.filenames)+len(jesus_train.filenames),))\n",
    "y[len(pc_train.filenames):] = 1\n",
    "y[len(pc_train.filenames)+len(mac_train.filenames):] = 2\n",
    "y[len(pc_train.filenames)+len(mac_train.filenames)+len(fs_train.filenames):] = 3\n",
    "\n",
    "testX = tfidftrans.transform(myVectorizer_df2.transform(pc_test.data+mac_test.data+fs_test.data+jesus_test.data))\n",
    "\n",
    "testy = np.zeros((len(pc_test.filenames)+len(mac_test.filenames)+len(fs_test.filenames)+len(jesus_test.filenames),))\n",
    "y[len(pc_test.filenames):] = 1\n",
    "y[len(pc_test.filenames)+len(mac_test.filenames):] = 2\n",
    "y[len(pc_test.filenames)+len(mac_test.filenames)+len(fs_test.filenames):] = 3\n",
    "                 \n"
   ]
  },
  {
   "cell_type": "code",
   "execution_count": 223,
   "metadata": {},
   "outputs": [
    {
     "name": "stdout",
     "output_type": "stream",
     "text": [
      "0.0760383386581\n"
     ]
    }
   ],
   "source": [
    "clf = MultinomialNB()\n",
    "# print(X, y)\n",
    "clf.fit(X, y)\n",
    "                 \n",
    "ypred = clf.predict(testX)\n",
    "print(np.sum((ypred == testy).astype(int)) / len(testy))"
   ]
  },
  {
   "cell_type": "code",
   "execution_count": 224,
   "metadata": {},
   "outputs": [
    {
     "name": "stdout",
     "output_type": "stream",
     "text": [
      "0.171884984026\n",
      "0.164217252396\n"
     ]
    }
   ],
   "source": [
    "clf = SVC(kernel='linear')\n",
    "clf.fit(X, y)\n",
    "ypred = clf.predict(testX)\n",
    "print(np.sum((ypred == testy).astype(int)) / len(testy))\n",
    "\n",
    "clf = LinearSVC()\n",
    "clf.fit(X, y)\n",
    "ypred = clf.predict(testX)\n",
    "print(np.sum((ypred == testy).astype(int)) / len(testy))\n"
   ]
  },
  {
   "cell_type": "code",
   "execution_count": null,
   "metadata": {
    "collapsed": true
   },
   "outputs": [],
   "source": []
  }
 ],
 "metadata": {
  "kernelspec": {
   "display_name": "Python 2",
   "language": "python",
   "name": "python2"
  },
  "language_info": {
   "codemirror_mode": {
    "name": "ipython",
    "version": 2
   },
   "file_extension": ".py",
   "mimetype": "text/x-python",
   "name": "python",
   "nbconvert_exporter": "python",
   "pygments_lexer": "ipython2",
   "version": "2.7.13"
  }
 },
 "nbformat": 4,
 "nbformat_minor": 2
}
