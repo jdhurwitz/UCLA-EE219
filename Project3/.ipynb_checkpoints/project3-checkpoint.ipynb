{
 "cells": [
  {
   "cell_type": "markdown",
   "metadata": {},
   "source": [
    "# Recommender System\n",
    "\n",
    "This is a recommender system built with collaborative filtering for the movie lens dataset."
   ]
  },
  {
   "cell_type": "markdown",
   "metadata": {},
   "source": [
    "# Question 1"
   ]
  },
  {
   "cell_type": "code",
   "execution_count": 1,
   "metadata": {},
   "outputs": [
    {
     "name": "stdout",
     "output_type": "stream",
     "text": [
      "0.01633285017250883\n"
     ]
    }
   ],
   "source": [
    "#Question 1\n",
    "total_num_users = 671\n",
    "total_num_ratings = 100004\n",
    "total_num_movies = 9125\n",
    "\n",
    "max_possible_ratings = total_num_users*total_num_movies\n",
    "\n",
    "sparsity = total_num_ratings/max_possible_ratings\n",
    "\n",
    "print(sparsity)"
   ]
  },
  {
   "cell_type": "code",
   "execution_count": 11,
   "metadata": {
    "collapsed": true
   },
   "outputs": [],
   "source": [
    "import pandas as pd\n",
    "import numpy as np\n",
    "import matplotlib.pyplot as plt"
   ]
  },
  {
   "cell_type": "code",
   "execution_count": 106,
   "metadata": {
    "collapsed": true
   },
   "outputs": [],
   "source": [
    "#Question 2\n",
    "def load_data():\n",
    "    data = pd.read_csv('ml-latest-small/ratings.csv', \n",
    "                       names= ['userid', 'movieid', 'rating', 'timestamp'],\n",
    "                       header=0)\n",
    "    \n",
    "    #create R matrix: rows=users, columns=movies\n",
    "    R = data.pivot_table(index=['userid'], columns=['movieid'], values='rating', fill_value=0).values\n",
    "    return R, data\n",
    "    \n",
    "    \n",
    "    "
   ]
  },
  {
   "cell_type": "code",
   "execution_count": 107,
   "metadata": {},
   "outputs": [],
   "source": [
    "R,data = load_data()"
   ]
  },
  {
   "cell_type": "code",
   "execution_count": 81,
   "metadata": {},
   "outputs": [
    {
     "name": "stdout",
     "output_type": "stream",
     "text": [
      "3.54360825567\n"
     ]
    }
   ],
   "source": [
    "values, counts = np.unique(R, return_counts=True)\n",
    "dict(zip(values, counts))\n",
    "\n",
    "mults = values*counts\n",
    "avg_rating = np.sum(mults)/np.sum(counts[1:])\n",
    "print(avg_rating)"
   ]
  },
  {
   "cell_type": "markdown",
   "metadata": {},
   "source": [
    "# Question 2"
   ]
  },
  {
   "cell_type": "markdown",
   "metadata": {},
   "source": [
    "Shown below is a plot of the number of ratings for each rating value. In the plot below, the number of sparse (0 entries) is omitted since it dwarfs the other values by more than an order of magnitude. There are 5983282 sparse entries.\n",
    "\n",
    "Our calculated average rating was 3.544, not including the sparse ratings (0 values). From the graph below, it's clear that this makes sense. Most of the ratings are 4 star, but the lower ratings in the range of 0.5-2.5 bring this average down."
   ]
  },
  {
   "cell_type": "code",
   "execution_count": 74,
   "metadata": {},
   "outputs": [
    {
     "name": "stdout",
     "output_type": "stream",
     "text": [
      "100004\n"
     ]
    },
    {
     "data": {
      "image/png": "[encoded data removed]",
      "text/plain": [
       "<matplotlib.figure.Figure at 0x10eb65518>"
      ]
     },
     "metadata": {},
     "output_type": "display_data"
    }
   ],
   "source": [
    "bins = values\n",
    "ax = plt.subplot(111)\n",
    "width = 0.3\n",
    "\n",
    "index = np.arange(len(values[1:]))\n",
    "ax.bar(index, counts[1:], width=width)\n",
    "\n",
    "ax.set_xticks(index + width/2)\n",
    "ax.set_xticklabels(values[1:],rotation=45, rotation_mode=\"anchor\", ha=\"right\")\n",
    "\n",
    "plt.show()"
   ]
  },
  {
   "cell_type": "markdown",
   "metadata": {},
   "source": [
    "The plot below includes the sparse entries. The second largest category is 4 stars, which has 28750 entries. This is barely visible on the graph."
   ]
  },
  {
   "cell_type": "code",
   "execution_count": 75,
   "metadata": {},
   "outputs": [
    {
     "data": {
      "image/png": "[encoded data removed]",
      "text/plain": [
       "<matplotlib.figure.Figure at 0x10ebac048>"
      ]
     },
     "metadata": {},
     "output_type": "display_data"
    }
   ],
   "source": [
    "ax = plt.subplot(111)\n",
    "width = 0.3\n",
    "\n",
    "index = np.arange(len(values))\n",
    "ax.bar(index, counts, width=width)\n",
    "\n",
    "ax.set_xticks(index + width/2)\n",
    "ax.set_xticklabels(values,rotation=45, rotation_mode=\"anchor\", ha=\"right\")\n",
    "\n",
    "plt.show()"
   ]
  },
  {
   "cell_type": "markdown",
   "metadata": {},
   "source": [
    "# Question 3\n",
    "Plotting the distribution of movies. X-axis is the movie index in decreasing frequency and y-axis is the number of ratings the movie has."
   ]
  },
  {
   "cell_type": "code",
   "execution_count": 109,
   "metadata": {},
   "outputs": [],
   "source": [
    "#print(data)"
   ]
  },
  {
   "cell_type": "code",
   "execution_count": 113,
   "metadata": {},
   "outputs": [
    {
     "data": {
      "image/png": "[encoded data removed]",
      "text/plain": [
       "<matplotlib.figure.Figure at 0x10e0c7f98>"
      ]
     },
     "metadata": {},
     "output_type": "display_data"
    }
   ],
   "source": [
    "#print(R[:,0])\n",
    "#print(R)\n",
    "\n",
    "user_row, movie_col = R.shape\n",
    "#print(user_row, movie_col)\n",
    "\n",
    "distros = [np.count_nonzero(R[:,movie]) for movie in range(movie_col)]\n",
    "#print(distros)\n",
    "\n",
    "#decorate, sort, undecorate\n",
    "movie_ids = np.arange(movie_col)\n",
    "distros, movie_ids = zip(*sorted(zip(distros, movie_ids), reverse=True))\n",
    "\n",
    "ax = plt.subplot(111)\n",
    "width = 0.3\n",
    "\n",
    "index = np.arange(len(movie_ids))\n",
    "ax.bar(index, distros, width=width)\n",
    "\n",
    "ax.set_xticks(index + width/2)\n",
    "ax.set_xticklabels(movie_ids,rotation=45, rotation_mode=\"anchor\", ha=\"right\")\n",
    "\n",
    "plt.show()\n",
    "    "
   ]
  },
  {
   "cell_type": "markdown",
   "metadata": {},
   "source": [
    "# Question 4\n",
    "Plotting the distribution of users and their ratings in decreasing frequency. The X-axis is user index sorted by decreasing frequency and the y-axis is the number of movies that user has rated."
   ]
  },
  {
   "cell_type": "code",
   "execution_count": 117,
   "metadata": {},
   "outputs": [
    {
     "data": {
      "image/png": "[encoded data removed]",
      "text/plain": [
       "<matplotlib.figure.Figure at 0x10ddebf28>"
      ]
     },
     "metadata": {},
     "output_type": "display_data"
    }
   ],
   "source": [
    "num_ratings_per_user = [np.count_nonzero(R[user,:]) for user in range(user_row)]\n",
    "user_ids = np.arange(user_row)\n",
    "num_ratings_per_user, user_ids = zip(*sorted(zip(num_ratings_per_user, user_ids), reverse=True))\n",
    "\n",
    "ax = plt.subplot(111)\n",
    "width = 0.3\n",
    "\n",
    "index = np.arange(len(user_ids))\n",
    "ax.bar(index, num_ratings_per_user, width=width)\n",
    "\n",
    "ax.set_xticks(index + width/2)\n",
    "ax.set_xticklabels(user_ids,rotation=45, rotation_mode=\"anchor\", ha=\"right\")\n",
    "\n",
    "plt.show()"
   ]
  },
  {
   "cell_type": "markdown",
   "metadata": {},
   "source": [
    "# Question 5\n",
    "Explanation of the salient features of the distribution found in question 3 and implications for recommendation process."
   ]
  },
  {
   "cell_type": "markdown",
   "metadata": {},
   "source": [
    "Some movies are much more heavily reviewed than others. Since a user cannot review the same movie twice, we can assume that in the case where a movie has 671 reviews and there are 671 users, each user has reviewed the movie. Therefore, if we know our population size, the number of reviews that a movie has makes it a good indicator of population-wide preference. With collaborative filtering, we want to use commonalities in order to perform interpolation and fill in gaps. Since there is a lot of sparsity in this data, one reduction technique could be to remove movies that fall below a certain threshold of number of reviews. Movies with fewer reviews will cover less of the population spread and be less effective indicators of preference in the collaborative algorithm.\n",
    "\n",
    "Concretely, question 3's plot shows that one movie had nearly 200 reviews, which spans approximately 29% of the population. Other movies had nearly 150 reviews, or nearly 22% of the population. Thus, these two movies would be excellent choices if we were required to only choose two members of the dataset."
   ]
  },
  {
   "cell_type": "markdown",
   "metadata": {},
   "source": [
    "# Question 6\n",
    "Compute the variance of rating values received by each movie. "
   ]
  },
  {
   "cell_type": "markdown",
   "metadata": {},
   "source": [
    "TODO DON'T FORGET TO DO THIS"
   ]
  },
  {
   "cell_type": "markdown",
   "metadata": {},
   "source": [
    "# Question 7\n",
    "By summing over $r_{uk}$, we sum up all of the user's ratings. The denominator is the length of the set containing indices for the user's specified ratings. "
   ]
  },
  {
   "cell_type": "markdown",
   "metadata": {},
   "source": [
    "\\begin{equation}\n",
    "\\frac{\\Sigma_{i\\in I_{u}} r_{uk}}{|I_{u}|} \\forall u \\in {1....m}\n",
    "\\end{equation}"
   ]
  },
  {
   "cell_type": "markdown",
   "metadata": {},
   "source": [
    "# Question 8\n",
    "$I_{u} \\cap I_{v}$ represents the intersection of the two sets of indices for users u and v. Concretely, this intersection is the set containing the indices of items both users rated. It's possible for the intersection to be the empty set $\\emptyset$ if two users have not rated any of the same movies. \n",
    "\n",
    "For example, let's say two users rate one movie each. User 1 rates Batman and User 2 rates Star Wars. The intersection of indices would be the empty  set ($I_{u} \\cap I_{v} = \\emptyset$)."
   ]
  },
  {
   "cell_type": "markdown",
   "metadata": {},
   "source": [
    "# Question 9\n",
    "We perform mean centering as a form of normalization. Without normalization, the approach would be to define a match/peer group as the set consisting of the k-nearest neighbors given highest Pearson correlation coefficient. However, since we're iterating over items that don't necessarily have the same number of ratings per user, there will be differences from iteration to iteration. If we return the weighted average of the ratings as the predicted rating for an item, an especially sparsely rated value (one rated by a single user) can be skewed if the user is biased. For example, a user may rate every movie with 5 stars. Conversly, a user may rate every movie with 0.5 stars. A biased user such as this would skew a sparse row of ratings and offset the prediction. Mean subtraction is performed in order to minimize the skew these types of users can have on predictions."
   ]
  },
  {
   "cell_type": "code",
   "execution_count": null,
   "metadata": {
    "collapsed": true
   },
   "outputs": [],
   "source": []
  }
 ],
 "metadata": {
  "kernelspec": {
   "display_name": "Python 3",
   "language": "python",
   "name": "python3"
  },
  "language_info": {
   "codemirror_mode": {
    "name": "ipython",
    "version": 3
   },
   "file_extension": ".py",
   "mimetype": "text/x-python",
   "name": "python",
   "nbconvert_exporter": "python",
   "pygments_lexer": "ipython3",
   "version": "3.6.3"
  }
 },
 "nbformat": 4,
 "nbformat_minor": 2
}
