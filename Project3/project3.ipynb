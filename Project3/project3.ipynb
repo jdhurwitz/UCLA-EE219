{
 "cells": [
  {
   "cell_type": "markdown",
   "metadata": {},
   "source": [
    "# Recommender System\n",
    "\n",
    "This is a recommender system built with collaborative filtering for the movie lens dataset."
   ]
  },
  {
   "cell_type": "markdown",
   "metadata": {},
   "source": [
    "# Question 1"
   ]
  },
  {
   "cell_type": "code",
   "execution_count": 76,
   "metadata": {},
   "outputs": [
    {
     "name": "stdout",
     "output_type": "stream",
     "text": [
      "(671, 9066)\n"
     ]
    }
   ],
   "source": [
    "%matplotlib inline\n",
    "\n",
    "import matplotlib\n",
    "import numpy as np\n",
    "import matplotlib.pyplot as plt\n",
    "import pandas as pd\n",
    "\n",
    "\n",
    "def load_data():\n",
    "    data = pd.read_csv('ml-latest-small/ratings.csv', \n",
    "                       names= ['userid', 'movieid', 'rating', 'timestamp'],\n",
    "                       header=0)\n",
    "    \n",
    "    #create R matrix: rows=users, columns=movies\n",
    "    R = data.pivot_table(index=['userid'], columns=['movieid'], values='rating', fill_value=0).values\n",
    "    return R, data\n",
    "\n",
    "R,data = load_data()\n",
    "print(R.shape)"
   ]
  },
  {
   "cell_type": "code",
   "execution_count": 57,
   "metadata": {},
   "outputs": [
    {
     "name": "stdout",
     "output_type": "stream",
     "text": [
      "0.016439141608663475\n"
     ]
    }
   ],
   "source": [
    "#Question 1\n",
    "# total_num_users = 671\n",
    "# total_num_ratings = 100004\n",
    "# total_num_movies = 9125 # where did you get this number? get 9066 from R matrix\n",
    "total_num_users, total_num_movies = R.shape\n",
    "total_num_ratings = np.count_nonzero(R)\n",
    "\n",
    "max_possible_ratings = total_num_users * total_num_movies\n",
    "\n",
    "sparsity = total_num_ratings / max_possible_ratings\n",
    "\n",
    "print(sparsity) # before 0.01633285017250883"
   ]
  },
  {
   "cell_type": "code",
   "execution_count": 58,
   "metadata": {},
   "outputs": [
    {
     "name": "stdout",
     "output_type": "stream",
     "text": [
      "3.54360825567\n"
     ]
    }
   ],
   "source": [
    "values, counts = np.unique(R, return_counts=True)\n",
    "dict(zip(values, counts))\n",
    "\n",
    "mults = values*counts\n",
    "avg_rating = np.sum(mults)/np.sum(counts[1:])\n",
    "print(avg_rating)"
   ]
  },
  {
   "cell_type": "markdown",
   "metadata": {},
   "source": [
    "# Question 2"
   ]
  },
  {
   "cell_type": "markdown",
   "metadata": {},
   "source": [
    "Shown below is a plot of the number of ratings for each rating value. In the plot below, the number of sparse (0 entries) is omitted since it dwarfs the other values by more than an order of magnitude. There are 5983282 sparse entries.\n",
    "\n",
    "Our calculated average rating was 3.544, not including the sparse ratings (0 values). From the graph below, it's clear that this makes sense. Most of the ratings are 4 star, but the lower ratings in the range of 0.5-2.5 bring this average down."
   ]
  },
  {
   "cell_type": "code",
   "execution_count": 74,
   "metadata": {},
   "outputs": [
    {
     "name": "stdout",
     "output_type": "stream",
     "text": [
      "100004\n"
     ]
    },
    {
     "data": {
      "image/png": "[encoded data removed]",
      "text/plain": [
       "<matplotlib.figure.Figure at 0x10eb65518>"
      ]
     },
     "metadata": {},
     "output_type": "display_data"
    }
   ],
   "source": [
    "bins = values\n",
    "ax = plt.subplot(111)\n",
    "width = 0.3\n",
    "\n",
    "index = np.arange(len(values[1:]))\n",
    "ax.bar(index, counts[1:], width=width)\n",
    "\n",
    "ax.set_xticks(index + width/2)\n",
    "ax.set_xticklabels(values[1:],rotation=45, rotation_mode=\"anchor\", ha=\"right\")\n",
    "\n",
    "plt.show()"
   ]
  },
  {
   "cell_type": "markdown",
   "metadata": {},
   "source": [
    "The plot below includes the sparse entries. The second largest category is 4 stars, which has 28750 entries. This is barely visible on the graph."
   ]
  },
  {
   "cell_type": "code",
   "execution_count": 75,
   "metadata": {},
   "outputs": [
    {
     "data": {
      "image/png": "[encoded data removed]",
      "text/plain": [
       "<matplotlib.figure.Figure at 0x10ebac048>"
      ]
     },
     "metadata": {},
     "output_type": "display_data"
    }
   ],
   "source": [
    "ax = plt.subplot(111)\n",
    "width = 0.3\n",
    "\n",
    "index = np.arange(len(values))\n",
    "ax.bar(index, counts, width=width)\n",
    "\n",
    "ax.set_xticks(index + width/2)\n",
    "ax.set_xticklabels(values,rotation=45, rotation_mode=\"anchor\", ha=\"right\")\n",
    "\n",
    "plt.show()"
   ]
  },
  {
   "cell_type": "markdown",
   "metadata": {},
   "source": [
    "# Question 3\n",
    "Plotting the distribution of movies. X-axis is the movie index in decreasing frequency and y-axis is the number of ratings the movie has."
   ]
  },
  {
   "cell_type": "code",
   "execution_count": 109,
   "metadata": {
    "collapsed": true
   },
   "outputs": [],
   "source": [
    "#print(data)"
   ]
  },
  {
   "cell_type": "code",
   "execution_count": 120,
   "metadata": {},
   "outputs": [
    {
     "data": {
      "image/png": "[encoded data removed]",
      "text/plain": [
       "<matplotlib.figure.Figure at 0x11add4278>"
      ]
     },
     "metadata": {},
     "output_type": "display_data"
    }
   ],
   "source": [
    "#print(R[:,0])\n",
    "#print(R)\n",
    "\n",
    "user_row, movie_col = R.shape\n",
    "#print(user_row, movie_col)\n",
    "\n",
    "distros = [np.count_nonzero(R[:,movie]) for movie in range(movie_col)]\n",
    "#print(distros)\n",
    "\n",
    "#decorate, sort, undecorate\n",
    "movie_ids = np.arange(movie_col)\n",
    "distros, movie_ids = zip(*sorted(zip(distros, movie_ids), reverse=True))\n",
    "\n",
    "ax = plt.subplot(111)\n",
    "width = 0.3\n",
    "\n",
    "index = np.arange(len(movie_ids))\n",
    "ax.bar(index, distros, width=width)\n",
    "\n",
    "#ax.set_xticks(index + width/2)\n",
    "#ax.set_xticklabels(movie_ids,rotation=45, rotation_mode=\"anchor\", ha=\"right\")\n",
    "\n",
    "plt.show()\n",
    "    "
   ]
  },
  {
   "cell_type": "markdown",
   "metadata": {},
   "source": [
    "# Question 4\n",
    "Plotting the distribution of users and their ratings in decreasing frequency. The X-axis is user index sorted by decreasing frequency and the y-axis is the number of movies that user has rated."
   ]
  },
  {
   "cell_type": "code",
   "execution_count": 121,
   "metadata": {},
   "outputs": [
    {
     "data": {
      "image/png": "[encoded data removed]",
      "text/plain": [
       "<matplotlib.figure.Figure at 0x119fed0b8>"
      ]
     },
     "metadata": {},
     "output_type": "display_data"
    }
   ],
   "source": [
    "num_ratings_per_user = [np.count_nonzero(R[user,:]) for user in range(user_row)]\n",
    "user_ids = np.arange(user_row)\n",
    "num_ratings_per_user, user_ids = zip(*sorted(zip(num_ratings_per_user, user_ids), reverse=True))\n",
    "\n",
    "ax = plt.subplot(111)\n",
    "width = 0.3\n",
    "\n",
    "index = np.arange(len(user_ids))\n",
    "ax.bar(index, num_ratings_per_user, width=width)\n",
    "\n",
    "#ax.set_xticks(index + width/2)\n",
    "#ax.set_xticklabels(user_ids,rotation=45, rotation_mode=\"anchor\", ha=\"right\")\n",
    "\n",
    "plt.show()"
   ]
  },
  {
   "cell_type": "markdown",
   "metadata": {},
   "source": [
    "# Question 5\n",
    "Explanation of the salient features of the distribution found in question 3 and implications for recommendation process."
   ]
  },
  {
   "cell_type": "markdown",
   "metadata": {},
   "source": [
    "Some movies are much more heavily reviewed than others. Since a user cannot review the same movie twice, we can assume that in the case where a movie has 671 reviews and there are 671 users, each user has reviewed the movie. Therefore, if we know our population size, the number of reviews that a movie has makes it a good indicator of population-wide preference. With collaborative filtering, we want to use commonalities in order to perform interpolation and fill in gaps. Since there is a lot of sparsity in this data, one reduction technique could be to remove movies that fall below a certain threshold of number of reviews. Movies with fewer reviews will cover less of the population spread and be less effective indicators of preference in the collaborative algorithm.\n",
    "\n",
    "Concretely, question 3's plot shows that one movie had nearly 200 reviews, which spans approximately 29% of the population. Other movies had nearly 150 reviews, or nearly 22% of the population. Thus, these two movies would be excellent choices if we were required to only choose two members of the dataset."
   ]
  },
  {
   "cell_type": "markdown",
   "metadata": {},
   "source": [
    "# Question 6\n",
    "Compute the variance of rating values received by each movie. "
   ]
  },
  {
   "cell_type": "markdown",
   "metadata": {},
   "source": [
    "# TODO DON'T FORGET TO DO THIS"
   ]
  },
  {
   "cell_type": "code",
   "execution_count": 52,
   "metadata": {
    "collapsed": true
   },
   "outputs": [],
   "source": [
    "R,data = load_data()"
   ]
  },
  {
   "cell_type": "code",
   "execution_count": 53,
   "metadata": {},
   "outputs": [
    {
     "name": "stdout",
     "output_type": "stream",
     "text": [
      "(671, 9066)\n"
     ]
    }
   ],
   "source": [
    "print(R.shape)"
   ]
  },
  {
   "cell_type": "markdown",
   "metadata": {},
   "source": [
    "# Question 7\n",
    "By summing over $r_{uk}$, we sum up all of the user's ratings. The denominator is the length of the set containing indices for the user's specified ratings. "
   ]
  },
  {
   "cell_type": "markdown",
   "metadata": {},
   "source": [
    "\\begin{equation}\n",
    "\\frac{\\Sigma_{i\\in I_{u}} r_{uk}}{|I_{u}|} \\forall u \\in {1....m}\n",
    "\\end{equation}"
   ]
  },
  {
   "cell_type": "markdown",
   "metadata": {},
   "source": [
    "# Question 8\n",
    "$I_{u} \\cap I_{v}$ represents the intersection of the two sets of indices for users u and v. Concretely, this intersection is the set containing the indices of items both users rated. It's possible for the intersection to be the empty set $\\emptyset$ if two users have not rated any of the same movies. \n",
    "\n",
    "For example, let's say two users rate one movie each. User 1 rates Batman and User 2 rates Star Wars. The intersection of indices would be the empty  set ($I_{u} \\cap I_{v} = \\emptyset$)."
   ]
  },
  {
   "cell_type": "markdown",
   "metadata": {},
   "source": [
    "# Question 9\n",
    "We perform mean centering as a form of normalization. Without normalization, the approach would be to define a match/peer group as the set consisting of the k-nearest neighbors given highest Pearson correlation coefficient. However, since we're iterating over items that don't necessarily have the same number of ratings per user, there will be differences from iteration to iteration. If we return the weighted average of the ratings as the predicted rating for an item, an especially sparsely rated value (one rated by a single user) can be skewed if the user is biased. For example, a user may rate every movie with 5 stars. Conversly, a user may rate every movie with 0.5 stars. A biased user such as this would skew a sparse row of ratings and offset the prediction. Mean subtraction is performed in order to minimize the skew these types of users can have on predictions."
   ]
  },
  {
   "cell_type": "markdown",
   "metadata": {},
   "source": [
    "# Question 10\n",
    "Design a k-NN collaborative filter to predict the ratings of the movies in the MovieLens dataset and evaluate it’s performance using 10-fold cross validation. Sweep k ( number of neighbors) from 2 to 100 in step sizes of 2, and for each k compute the average RMSE and average MAE obtained by averaging the RMSE and MAE across all 10 folds. Plot average RMSE (Y-axis) against k (X-axis) and average MAE (Y-axis) against k (X-axis).\n"
   ]
  },
  {
   "cell_type": "code",
   "execution_count": 7,
   "metadata": {},
   "outputs": [],
   "source": [
    "from surprise import KNNBasic, KNNWithMeans\n",
    "from surprise import Dataset\n",
    "from surprise.model_selection import cross_validate\n",
    "\n",
    "data = Dataset.load_builtin('ml-100k')\n",
    "ks = np.linspace(2, 100, num=50)\n",
    "sim_options = {'name': 'pearson_baseline'}\n",
    "\n"
   ]
  },
  {
   "cell_type": "code",
   "execution_count": 8,
   "metadata": {},
   "outputs": [
    {
     "ename": "KeyboardInterrupt",
     "evalue": "",
     "output_type": "error",
     "traceback": [
      "\u001b[0;31m---------------------------------------------------------------------------\u001b[0m",
      "\u001b[0;31mKeyboardInterrupt\u001b[0m                         Traceback (most recent call last)",
      "\u001b[0;32m<ipython-input-8-f95577adb220>\u001b[0m in \u001b[0;36m<module>\u001b[0;34m()\u001b[0m\n\u001b[1;32m      3\u001b[0m \u001b[0;32mfor\u001b[0m \u001b[0mk\u001b[0m \u001b[0;32min\u001b[0m \u001b[0mks\u001b[0m\u001b[0;34m:\u001b[0m\u001b[0;34m\u001b[0m\u001b[0m\n\u001b[1;32m      4\u001b[0m     \u001b[0malgo\u001b[0m \u001b[0;34m=\u001b[0m \u001b[0mKNNWithMeans\u001b[0m\u001b[0;34m(\u001b[0m\u001b[0mk\u001b[0m\u001b[0;34m=\u001b[0m\u001b[0mint\u001b[0m\u001b[0;34m(\u001b[0m\u001b[0mk\u001b[0m\u001b[0;34m)\u001b[0m\u001b[0;34m,\u001b[0m \u001b[0msim_options\u001b[0m\u001b[0;34m=\u001b[0m\u001b[0msim_options\u001b[0m\u001b[0;34m)\u001b[0m\u001b[0;34m\u001b[0m\u001b[0m\n\u001b[0;32m----> 5\u001b[0;31m     \u001b[0moutputs\u001b[0m\u001b[0;34m.\u001b[0m\u001b[0mappend\u001b[0m\u001b[0;34m(\u001b[0m\u001b[0mcross_validate\u001b[0m\u001b[0;34m(\u001b[0m\u001b[0malgo\u001b[0m\u001b[0;34m,\u001b[0m \u001b[0mdata\u001b[0m\u001b[0;34m,\u001b[0m \u001b[0mmeasures\u001b[0m\u001b[0;34m=\u001b[0m\u001b[0;34m[\u001b[0m\u001b[0;34m'RMSE'\u001b[0m\u001b[0;34m,\u001b[0m \u001b[0;34m'MAE'\u001b[0m\u001b[0;34m]\u001b[0m\u001b[0;34m,\u001b[0m \u001b[0mcv\u001b[0m\u001b[0;34m=\u001b[0m\u001b[0;36m10\u001b[0m\u001b[0;34m)\u001b[0m\u001b[0;34m)\u001b[0m\u001b[0;34m\u001b[0m\u001b[0m\n\u001b[0m\u001b[1;32m      6\u001b[0m \u001b[0;34m\u001b[0m\u001b[0m\n",
      "\u001b[0;32m/usr/local/lib/python3.6/site-packages/surprise/model_selection/validation.py\u001b[0m in \u001b[0;36mcross_validate\u001b[0;34m(algo, data, measures, cv, return_train_measures, n_jobs, pre_dispatch, verbose)\u001b[0m\n\u001b[1;32m     99\u001b[0m                                            return_train_measures)\n\u001b[1;32m    100\u001b[0m                     for (trainset, testset) in cv.split(data))\n\u001b[0;32m--> 101\u001b[0;31m     \u001b[0mout\u001b[0m \u001b[0;34m=\u001b[0m \u001b[0mParallel\u001b[0m\u001b[0;34m(\u001b[0m\u001b[0mn_jobs\u001b[0m\u001b[0;34m=\u001b[0m\u001b[0mn_jobs\u001b[0m\u001b[0;34m,\u001b[0m \u001b[0mpre_dispatch\u001b[0m\u001b[0;34m=\u001b[0m\u001b[0mpre_dispatch\u001b[0m\u001b[0;34m)\u001b[0m\u001b[0;34m(\u001b[0m\u001b[0mdelayed_list\u001b[0m\u001b[0;34m)\u001b[0m\u001b[0;34m\u001b[0m\u001b[0m\n\u001b[0m\u001b[1;32m    102\u001b[0m \u001b[0;34m\u001b[0m\u001b[0m\n\u001b[1;32m    103\u001b[0m     (test_measures_dicts,\n",
      "\u001b[0;32m/usr/local/lib/python3.6/site-packages/joblib/parallel.py\u001b[0m in \u001b[0;36m__call__\u001b[0;34m(self, iterable)\u001b[0m\n\u001b[1;32m    787\u001b[0m                 \u001b[0;31m# consumption.\u001b[0m\u001b[0;34m\u001b[0m\u001b[0;34m\u001b[0m\u001b[0m\n\u001b[1;32m    788\u001b[0m                 \u001b[0mself\u001b[0m\u001b[0;34m.\u001b[0m\u001b[0m_iterating\u001b[0m \u001b[0;34m=\u001b[0m \u001b[0;32mFalse\u001b[0m\u001b[0;34m\u001b[0m\u001b[0m\n\u001b[0;32m--> 789\u001b[0;31m             \u001b[0mself\u001b[0m\u001b[0;34m.\u001b[0m\u001b[0mretrieve\u001b[0m\u001b[0;34m(\u001b[0m\u001b[0;34m)\u001b[0m\u001b[0;34m\u001b[0m\u001b[0m\n\u001b[0m\u001b[1;32m    790\u001b[0m             \u001b[0;31m# Make sure that we get a last message telling us we are done\u001b[0m\u001b[0;34m\u001b[0m\u001b[0;34m\u001b[0m\u001b[0m\n\u001b[1;32m    791\u001b[0m             \u001b[0melapsed_time\u001b[0m \u001b[0;34m=\u001b[0m \u001b[0mtime\u001b[0m\u001b[0;34m.\u001b[0m\u001b[0mtime\u001b[0m\u001b[0;34m(\u001b[0m\u001b[0;34m)\u001b[0m \u001b[0;34m-\u001b[0m \u001b[0mself\u001b[0m\u001b[0;34m.\u001b[0m\u001b[0m_start_time\u001b[0m\u001b[0;34m\u001b[0m\u001b[0m\n",
      "\u001b[0;32m/usr/local/lib/python3.6/site-packages/joblib/parallel.py\u001b[0m in \u001b[0;36mretrieve\u001b[0;34m(self)\u001b[0m\n\u001b[1;32m    697\u001b[0m             \u001b[0;32mtry\u001b[0m\u001b[0;34m:\u001b[0m\u001b[0;34m\u001b[0m\u001b[0m\n\u001b[1;32m    698\u001b[0m                 \u001b[0;32mif\u001b[0m \u001b[0mgetattr\u001b[0m\u001b[0;34m(\u001b[0m\u001b[0mself\u001b[0m\u001b[0;34m.\u001b[0m\u001b[0m_backend\u001b[0m\u001b[0;34m,\u001b[0m \u001b[0;34m'supports_timeout'\u001b[0m\u001b[0;34m,\u001b[0m \u001b[0;32mFalse\u001b[0m\u001b[0;34m)\u001b[0m\u001b[0;34m:\u001b[0m\u001b[0;34m\u001b[0m\u001b[0m\n\u001b[0;32m--> 699\u001b[0;31m                     \u001b[0mself\u001b[0m\u001b[0;34m.\u001b[0m\u001b[0m_output\u001b[0m\u001b[0;34m.\u001b[0m\u001b[0mextend\u001b[0m\u001b[0;34m(\u001b[0m\u001b[0mjob\u001b[0m\u001b[0;34m.\u001b[0m\u001b[0mget\u001b[0m\u001b[0;34m(\u001b[0m\u001b[0mtimeout\u001b[0m\u001b[0;34m=\u001b[0m\u001b[0mself\u001b[0m\u001b[0;34m.\u001b[0m\u001b[0mtimeout\u001b[0m\u001b[0;34m)\u001b[0m\u001b[0;34m)\u001b[0m\u001b[0;34m\u001b[0m\u001b[0m\n\u001b[0m\u001b[1;32m    700\u001b[0m                 \u001b[0;32melse\u001b[0m\u001b[0;34m:\u001b[0m\u001b[0;34m\u001b[0m\u001b[0m\n\u001b[1;32m    701\u001b[0m                     \u001b[0mself\u001b[0m\u001b[0;34m.\u001b[0m\u001b[0m_output\u001b[0m\u001b[0;34m.\u001b[0m\u001b[0mextend\u001b[0m\u001b[0;34m(\u001b[0m\u001b[0mjob\u001b[0m\u001b[0;34m.\u001b[0m\u001b[0mget\u001b[0m\u001b[0;34m(\u001b[0m\u001b[0;34m)\u001b[0m\u001b[0;34m)\u001b[0m\u001b[0;34m\u001b[0m\u001b[0m\n",
      "\u001b[0;32m/usr/local/Cellar/python3/3.6.2/Frameworks/Python.framework/Versions/3.6/lib/python3.6/multiprocessing/pool.py\u001b[0m in \u001b[0;36mget\u001b[0;34m(self, timeout)\u001b[0m\n\u001b[1;32m    636\u001b[0m \u001b[0;34m\u001b[0m\u001b[0m\n\u001b[1;32m    637\u001b[0m     \u001b[0;32mdef\u001b[0m \u001b[0mget\u001b[0m\u001b[0;34m(\u001b[0m\u001b[0mself\u001b[0m\u001b[0;34m,\u001b[0m \u001b[0mtimeout\u001b[0m\u001b[0;34m=\u001b[0m\u001b[0;32mNone\u001b[0m\u001b[0;34m)\u001b[0m\u001b[0;34m:\u001b[0m\u001b[0;34m\u001b[0m\u001b[0m\n\u001b[0;32m--> 638\u001b[0;31m         \u001b[0mself\u001b[0m\u001b[0;34m.\u001b[0m\u001b[0mwait\u001b[0m\u001b[0;34m(\u001b[0m\u001b[0mtimeout\u001b[0m\u001b[0;34m)\u001b[0m\u001b[0;34m\u001b[0m\u001b[0m\n\u001b[0m\u001b[1;32m    639\u001b[0m         \u001b[0;32mif\u001b[0m \u001b[0;32mnot\u001b[0m \u001b[0mself\u001b[0m\u001b[0;34m.\u001b[0m\u001b[0mready\u001b[0m\u001b[0;34m(\u001b[0m\u001b[0;34m)\u001b[0m\u001b[0;34m:\u001b[0m\u001b[0;34m\u001b[0m\u001b[0m\n\u001b[1;32m    640\u001b[0m             \u001b[0;32mraise\u001b[0m \u001b[0mTimeoutError\u001b[0m\u001b[0;34m\u001b[0m\u001b[0m\n",
      "\u001b[0;32m/usr/local/Cellar/python3/3.6.2/Frameworks/Python.framework/Versions/3.6/lib/python3.6/multiprocessing/pool.py\u001b[0m in \u001b[0;36mwait\u001b[0;34m(self, timeout)\u001b[0m\n\u001b[1;32m    633\u001b[0m \u001b[0;34m\u001b[0m\u001b[0m\n\u001b[1;32m    634\u001b[0m     \u001b[0;32mdef\u001b[0m \u001b[0mwait\u001b[0m\u001b[0;34m(\u001b[0m\u001b[0mself\u001b[0m\u001b[0;34m,\u001b[0m \u001b[0mtimeout\u001b[0m\u001b[0;34m=\u001b[0m\u001b[0;32mNone\u001b[0m\u001b[0;34m)\u001b[0m\u001b[0;34m:\u001b[0m\u001b[0;34m\u001b[0m\u001b[0m\n\u001b[0;32m--> 635\u001b[0;31m         \u001b[0mself\u001b[0m\u001b[0;34m.\u001b[0m\u001b[0m_event\u001b[0m\u001b[0;34m.\u001b[0m\u001b[0mwait\u001b[0m\u001b[0;34m(\u001b[0m\u001b[0mtimeout\u001b[0m\u001b[0;34m)\u001b[0m\u001b[0;34m\u001b[0m\u001b[0m\n\u001b[0m\u001b[1;32m    636\u001b[0m \u001b[0;34m\u001b[0m\u001b[0m\n\u001b[1;32m    637\u001b[0m     \u001b[0;32mdef\u001b[0m \u001b[0mget\u001b[0m\u001b[0;34m(\u001b[0m\u001b[0mself\u001b[0m\u001b[0;34m,\u001b[0m \u001b[0mtimeout\u001b[0m\u001b[0;34m=\u001b[0m\u001b[0;32mNone\u001b[0m\u001b[0;34m)\u001b[0m\u001b[0;34m:\u001b[0m\u001b[0;34m\u001b[0m\u001b[0m\n",
      "\u001b[0;32m/usr/local/Cellar/python3/3.6.2/Frameworks/Python.framework/Versions/3.6/lib/python3.6/threading.py\u001b[0m in \u001b[0;36mwait\u001b[0;34m(self, timeout)\u001b[0m\n\u001b[1;32m    549\u001b[0m             \u001b[0msignaled\u001b[0m \u001b[0;34m=\u001b[0m \u001b[0mself\u001b[0m\u001b[0;34m.\u001b[0m\u001b[0m_flag\u001b[0m\u001b[0;34m\u001b[0m\u001b[0m\n\u001b[1;32m    550\u001b[0m             \u001b[0;32mif\u001b[0m \u001b[0;32mnot\u001b[0m \u001b[0msignaled\u001b[0m\u001b[0;34m:\u001b[0m\u001b[0;34m\u001b[0m\u001b[0m\n\u001b[0;32m--> 551\u001b[0;31m                 \u001b[0msignaled\u001b[0m \u001b[0;34m=\u001b[0m \u001b[0mself\u001b[0m\u001b[0;34m.\u001b[0m\u001b[0m_cond\u001b[0m\u001b[0;34m.\u001b[0m\u001b[0mwait\u001b[0m\u001b[0;34m(\u001b[0m\u001b[0mtimeout\u001b[0m\u001b[0;34m)\u001b[0m\u001b[0;34m\u001b[0m\u001b[0m\n\u001b[0m\u001b[1;32m    552\u001b[0m             \u001b[0;32mreturn\u001b[0m \u001b[0msignaled\u001b[0m\u001b[0;34m\u001b[0m\u001b[0m\n\u001b[1;32m    553\u001b[0m \u001b[0;34m\u001b[0m\u001b[0m\n",
      "\u001b[0;32m/usr/local/Cellar/python3/3.6.2/Frameworks/Python.framework/Versions/3.6/lib/python3.6/threading.py\u001b[0m in \u001b[0;36mwait\u001b[0;34m(self, timeout)\u001b[0m\n\u001b[1;32m    293\u001b[0m         \u001b[0;32mtry\u001b[0m\u001b[0;34m:\u001b[0m    \u001b[0;31m# restore state no matter what (e.g., KeyboardInterrupt)\u001b[0m\u001b[0;34m\u001b[0m\u001b[0m\n\u001b[1;32m    294\u001b[0m             \u001b[0;32mif\u001b[0m \u001b[0mtimeout\u001b[0m \u001b[0;32mis\u001b[0m \u001b[0;32mNone\u001b[0m\u001b[0;34m:\u001b[0m\u001b[0;34m\u001b[0m\u001b[0m\n\u001b[0;32m--> 295\u001b[0;31m                 \u001b[0mwaiter\u001b[0m\u001b[0;34m.\u001b[0m\u001b[0macquire\u001b[0m\u001b[0;34m(\u001b[0m\u001b[0;34m)\u001b[0m\u001b[0;34m\u001b[0m\u001b[0m\n\u001b[0m\u001b[1;32m    296\u001b[0m                 \u001b[0mgotit\u001b[0m \u001b[0;34m=\u001b[0m \u001b[0;32mTrue\u001b[0m\u001b[0;34m\u001b[0m\u001b[0m\n\u001b[1;32m    297\u001b[0m             \u001b[0;32melse\u001b[0m\u001b[0;34m:\u001b[0m\u001b[0;34m\u001b[0m\u001b[0m\n",
      "\u001b[0;31mKeyboardInterrupt\u001b[0m: "
     ]
    }
   ],
   "source": [
    "%%capture\n",
    "#run the sweeps\n",
    "outputs = []\n",
    "for k in ks:\n",
    "    algo = KNNWithMeans(k=int(k), sim_options=sim_options)\n",
    "    outputs.append(cross_validate(algo, data, measures=['RMSE', 'MAE'], cv=10))\n",
    "    "
   ]
  },
  {
   "cell_type": "code",
   "execution_count": 28,
   "metadata": {
    "collapsed": true
   },
   "outputs": [],
   "source": [
    "avg_rmses = []\n",
    "avg_maes = []\n",
    "for output in outputs:\n",
    "    #average the test_rmse\n",
    "    avg_rmses.append(np.mean(output['test_rmse']))\n",
    "    \n",
    "    #average the test_mae\n",
    "    avg_maes.append(np.mean(output['test_mae']))"
   ]
  },
  {
   "cell_type": "code",
   "execution_count": 90,
   "metadata": {},
   "outputs": [
    {
     "data": {
      "image/png": "[encoded data removed]",
      "text/plain": [
       "<matplotlib.figure.Figure at 0x11edec3c8>"
      ]
     },
     "metadata": {},
     "output_type": "display_data"
    },
    {
     "data": {
      "image/png": "[encoded data removed]",
      "text/plain": [
       "<matplotlib.figure.Figure at 0x11c129198>"
      ]
     },
     "metadata": {},
     "output_type": "display_data"
    },
    {
     "data": {
      "image/png": "[encoded data removed]",
      "text/plain": [
       "<matplotlib.figure.Figure at 0x11c3fd9e8>"
      ]
     },
     "metadata": {},
     "output_type": "display_data"
    }
   ],
   "source": [
    "def plotStats(avg_rmses=None, avg_maes=None):\n",
    "    if avg_rmses is not None:\n",
    "        ax = plt.subplot(111)\n",
    "        width = 2\n",
    "\n",
    "        plt.title(\"Avg RMSE vs. k\")\n",
    "        plt.ylabel(\"Avg RMSE\")\n",
    "        plt.xlabel(\"k-value\")\n",
    "        ax.plot(ks, avg_rmses)\n",
    "        plt.show()\n",
    "\n",
    "    if avg_maes is not None:\n",
    "        ax = plt.subplot(111)\n",
    "        width = 2\n",
    "\n",
    "        plt.title(\"Avg MAE vs. k\")\n",
    "        plt.ylabel(\"Avg MAE\")\n",
    "        plt.xlabel(\"k-value\")\n",
    "        ax.plot(ks, avg_maes)\n",
    "        plt.show()\n",
    "\n",
    "    if avg_rmses is not None and avg_maes is not None:\n",
    "        ax = plt.subplot(111)\n",
    "        width = 2\n",
    "\n",
    "        plt.title(\"Avg MAE & RMSE vs. k\")\n",
    "        plt.xlabel(\"k-value\")\n",
    "        ax.plot(ks, avg_maes, label=\"avg MAEs\")\n",
    "        ax.plot(ks, avg_rmses, label=\"avg RMSEs\")\n",
    "        legend = ax.legend(loc='upper center', shadow=True)\n",
    "        plt.show()\n",
    "\n",
    "    \n",
    "plotStats(avg_rmses=avg_rmses, avg_maes=avg_maes)"
   ]
  },
  {
   "cell_type": "markdown",
   "metadata": {},
   "source": [
    "# Question 11: Find a \"Minimum k\"\n",
    "Goal is to find the point at which increasing k does not result in a signficant decrease in average RMSE or average MAE."
   ]
  },
  {
   "cell_type": "code",
   "execution_count": 92,
   "metadata": {
    "collapsed": true
   },
   "outputs": [],
   "source": [
    "import math\n",
    "\n",
    "def euclidean_elbow(ks, curve, verbose=False):\n",
    "    #get first point\n",
    "    s_x, s_y = ks[0], curve[0]\n",
    "\n",
    "    #get last point\n",
    "    e_x, e_y = ks[len(ks)-1], curve[len(curve)-1]\n",
    "\n",
    "   \n",
    "\n",
    "    slope = (e_y-s_y)/float(e_x-s_x)\n",
    "    b = s_y - slope*s_x\n",
    "#    print(s_x, s_y)\n",
    "#    print(e_x, e_y)\n",
    "#    print(slope)\n",
    "    #get midpoint\n",
    "    m_idx = int((len(ks)/2)-1)\n",
    "    x_mid = ks[m_idx]\n",
    "    y_mid = slope*x_mid + b\n",
    "\n",
    "\n",
    "    #iterate through all points along the curve\n",
    "    distances = []\n",
    "    for x, y in zip(ks, curve):\n",
    "        #get the x and y points of the vector line\n",
    "        y2 = e_y\n",
    "        y1 = s_y\n",
    "        x2 = e_x\n",
    "        x1 = s_x\n",
    "        x3 = x\n",
    "        y3 = y\n",
    "        \n",
    "        k = ((y2-y1) * (x3-x1) - (x2-x1) * (y3-y1)) / ((y2-y1)**2 + (x2-x1)**2)\n",
    "        x4 = x3 - k * (y2-y1)\n",
    "        y4 = y3 + k * (x2-x1) \n",
    "        #calculate distance\n",
    "        distance = math.sqrt((x-x4)**2 + (y-y4)**2)\n",
    "        distances.append(distance)\n",
    "\n",
    "    #find max distance\n",
    "    max_dist_index = np.argmax(distances)\n",
    "    if(verbose):\n",
    "        print(distances)\n",
    "        print(\"best k: \", ks[max_dist_index])\n",
    "\n",
    "\n",
    "\n",
    "\n",
    "    return max_dist_index"
   ]
  },
  {
   "cell_type": "code",
   "execution_count": 100,
   "metadata": {},
   "outputs": [
    {
     "name": "stdout",
     "output_type": "stream",
     "text": [
      "Best k for MAE is index:  7   || best k-value:  16.0\n",
      "Best k for RMSE is index:  5  || best k-value:  12.0\n"
     ]
    }
   ],
   "source": [
    "mae_idx = euclidean_elbow(ks, avg_maes)\n",
    "print(\"Best k for MAE is index: \", mae_idx, \"  || best k-value: \", ks[mae_idx])\n",
    "\n",
    "rmse_idx = euclidean_elbow(ks, avg_rmses)\n",
    "print(\"Best k for RMSE is index: \", rmse_idx, \" || best k-value: \", ks[rmse_idx])\n",
    "\n",
    "print(\"Minimum K = %d\" % max(ks[mae_idx], ks[rmse_idx])) # 16"
   ]
  },
  {
   "cell_type": "markdown",
   "metadata": {},
   "source": [
    "## Testset trim helper functions"
   ]
  },
  {
   "cell_type": "code",
   "execution_count": 63,
   "metadata": {},
   "outputs": [
    {
     "name": "stdout",
     "output_type": "stream",
     "text": [
      "popular trimmed 68 examples\n",
      "unpopular trimmed 1453 examples\n",
      "high var trimmed 1476 examples\n",
      "popular trimmed 60 examples\n",
      "unpopular trimmed 1446 examples\n",
      "high var trimmed 1467 examples\n",
      "popular trimmed 67 examples\n",
      "unpopular trimmed 1436 examples\n",
      "high var trimmed 1468 examples\n"
     ]
    }
   ],
   "source": [
    "from surprise import KNNBasic, KNNWithMeans\n",
    "from surprise import Dataset\n",
    "from surprise import accuracy\n",
    "from surprise.model_selection import KFold\n",
    "\n",
    "def getIR(testset):\n",
    "    o = {}\n",
    "    for u, i, r in testset:\n",
    "        if int(i) in o:\n",
    "            o[int(i)].append((int(u), r))\n",
    "        else:\n",
    "            o[int(i)] = [(int(u), r)]\n",
    "    return o\n",
    "\n",
    "def buildItemVar(trainset, testsetir):\n",
    "    o = {}\n",
    "    for k, v in trainset.ir.items():\n",
    "        o[k] = [r for u, r in v]\n",
    "    for k, v in testsetir.items():\n",
    "        if k in o:\n",
    "            for u, r in v:\n",
    "                o[k].append(r)\n",
    "        else:\n",
    "            o[k] = [r for u, r in v]\n",
    "    return o\n",
    "\n",
    "\n",
    "# for trainset, testset in kf.split(data):\n",
    "#     popularTrim(trainset, testset)\n",
    "#     unpopularTrim(trainset, testset)\n",
    "#     highVarTrim(trainset, testset)"
   ]
  },
  {
   "cell_type": "code",
   "execution_count": 61,
   "metadata": {
    "collapsed": true
   },
   "outputs": [],
   "source": [
    "def popularTrim(trainset, testset):\n",
    "    '''\n",
    "    if a movie in the test set has received less than or equal to 2 ratings in the entire\n",
    "    dataset then we delete that movie from the test set and do not predict the\n",
    "    rating of that movie using the trained filter.\n",
    "    '''\n",
    "    testsetir = getIR(testset)\n",
    "    removed = 0\n",
    "    blacklist = {}\n",
    "    for testKey, testVal in testsetir.items():\n",
    "        ref = len(testVal) + len(trainset.ir[testKey])\n",
    "        if ref <= 2:\n",
    "            removed += 1\n",
    "            blacklist[testKey] = True\n",
    "        \n",
    "    newtestset = []\n",
    "    for u, i, r in testset:\n",
    "        if i not in blacklist:\n",
    "            newtestset.append((u, i, r))\n",
    "    \n",
    "    print(\"popular trimmed %i examples\" % removed)\n",
    "    return newtestset\n",
    "    \n",
    "def unpopularTrim(trainset, testset):\n",
    "    testsetir = getIR(testset)\n",
    "    removed = 0\n",
    "    blacklist = {}\n",
    "    for testKey, testVal in testsetir.items():\n",
    "        ref = len(testVal) + len(trainset.ir[testKey])\n",
    "        if ref > 2:\n",
    "            removed += 1\n",
    "            blacklist[testKey] = True\n",
    "        \n",
    "    newtestset = []\n",
    "    for u, i, r in testset:\n",
    "        if i not in blacklist:\n",
    "            newtestset.append((u, i, r))\n",
    "    \n",
    "    print(\"unpopular trimmed %i examples\" % removed)\n",
    "    return newtestset\n",
    "    \n",
    "def highVarTrim(trainset, testset): # ties in with question 6\n",
    "    testsetir = getIR(testset)\n",
    "    removed = 0\n",
    "    blacklist = {}\n",
    "    itemvars = buildItemVar(trainset, testsetir)\n",
    "    for testKey, testVal in testsetir.items():\n",
    "        ref = len(testVal) + len(trainset.ir[testKey])\n",
    "        if ref < 5 or np.var(itemvars[testKey]) < 2:\n",
    "            removed += 1\n",
    "            blacklist[testKey] = True\n",
    "        \n",
    "    newtestset = []\n",
    "    for u, i, r in testset:\n",
    "        if i not in blacklist:\n",
    "            newtestset.append((u, i, r))\n",
    "    \n",
    "    print(\"high var trimmed %i examples\" % removed)\n",
    "    return newtestset"
   ]
  },
  {
   "cell_type": "markdown",
   "metadata": {},
   "source": [
    "# Question 12: Popular Movie Trimming\n",
    "In this trimming, we trim the test set to contain movies that has received more than 2 ratings. To be specific, if a movie in the test set has received less than or equal to 2 ratings in the entire dataset then we delete that movie from the test set and do not predict the rating of that movie using the trained filter."
   ]
  },
  {
   "cell_type": "code",
   "execution_count": null,
   "metadata": {
    "collapsed": true
   },
   "outputs": [],
   "source": [
    "from surprise import KNNBasic, KNNWithMeans\n",
    "from surprise import Dataset\n",
    "from surprise import accuracy\n",
    "from surprise.model_selection import KFold\n",
    "\n",
    "data = Dataset.load_builtin('ml-100k')\n",
    "ks = np.linspace(2, 100, num=50)\n",
    "kf = KFold(n_splits=10)\n",
    "\n",
    "avgRmses = []\n",
    "for k in ks:\n",
    "    algo = KNNWithMeans(k=int(k), sim_options={'name': 'pearson_baseline'})\n",
    "    \n",
    "    totalRMSE = 0\n",
    "    totalMAE = 0\n",
    "    for trainset, testset in kf.split(data):\n",
    "        algo.fit(trainset)\n",
    "\n",
    "        predictions = algo.test(popularTrim(trainset, testset))\n",
    "\n",
    "        totalRMSE += accuracy.rmse(predictions)\n",
    "        \n",
    "    avgRmses.append(totalRMSE / 10.)\n",
    "    \n",
    "plotStats(avg_rmses=avgRmses)\n",
    "print(\"Minimum avg rmse = %.4f\" % np.minimum(avgRmses))"
   ]
  },
  {
   "cell_type": "markdown",
   "metadata": {},
   "source": [
    "# Question 13: Unpopular Movie Trimming"
   ]
  },
  {
   "cell_type": "code",
   "execution_count": null,
   "metadata": {
    "collapsed": true
   },
   "outputs": [],
   "source": [
    "avgRmses = []\n",
    "for k in ks:\n",
    "    algo = KNNWithMeans(k=int(k), sim_options={'name': 'pearson_baseline'})\n",
    "    \n",
    "    totalRMSE = 0\n",
    "    totalMAE = 0\n",
    "    for trainset, testset in kf.split(data):\n",
    "        algo.fit(trainset)\n",
    "\n",
    "        predictions = algo.test(unpopularTrim(trainset, testset))\n",
    "\n",
    "        totalRMSE += accuracy.rmse(predictions)\n",
    "        \n",
    "    avgRmses.append(totalRMSE / 10.)\n",
    "    \n",
    "plotStats(avg_rmses=avgRmses)\n",
    "print(\"Minimum avg rmse = %.4f\" % np.minimum(avgRmses))"
   ]
  },
  {
   "cell_type": "markdown",
   "metadata": {},
   "source": [
    "# Question 14: High Variance Movie Trimming"
   ]
  },
  {
   "cell_type": "code",
   "execution_count": null,
   "metadata": {
    "collapsed": true
   },
   "outputs": [],
   "source": [
    "avgRmses = []\n",
    "for k in ks:\n",
    "    algo = KNNWithMeans(k=int(k), sim_options={'name': 'pearson_baseline'})\n",
    "    \n",
    "    totalRMSE = 0\n",
    "    totalMAE = 0\n",
    "    for trainset, testset in kf.split(data):\n",
    "        algo.fit(trainset)\n",
    "\n",
    "        predictions = algo.test(highVarTrim(trainset, testset))\n",
    "\n",
    "        totalRMSE += accuracy.rmse(predictions)\n",
    "        \n",
    "    avgRmses.append(totalRMSE / 10.)\n",
    "    \n",
    "plotStats(avg_rmses=avgRmses)\n",
    "print(\"Minimum avg rmse = %.4f\" % np.minimum(avgRmses))"
   ]
  },
  {
   "cell_type": "markdown",
   "metadata": {},
   "source": [
    "# Question 15: \n",
    "Plot the ROC curves for the k-NN collaborative filter designed in question 10 for threshold values [2.5, 3, 3.5, 4]. For the ROC plotting use the k found in question 11. For each of the plots, also report the area under the curve (AUC) value.\n",
    "\n",
    "For the ROC plotting, split the dataset into 90% for training and 10% for\n",
    "testing"
   ]
  },
  {
   "cell_type": "code",
   "execution_count": 81,
   "metadata": {},
   "outputs": [
    {
     "name": "stdout",
     "output_type": "stream",
     "text": [
      "Estimating biases using als...\n",
      "Computing the pearson_baseline similarity matrix...\n",
      "Done computing similarity matrix.\n"
     ]
    },
    {
     "data": {
      "image/png": "[encoded data removed]",
      "text/plain": [
       "<matplotlib.figure.Figure at 0x1133f2710>"
      ]
     },
     "metadata": {},
     "output_type": "display_data"
    },
    {
     "data": {
      "image/png": "[encoded data removed]",
      "text/plain": [
       "<matplotlib.figure.Figure at 0x11c909b38>"
      ]
     },
     "metadata": {},
     "output_type": "display_data"
    },
    {
     "data": {
      "image/png": "[encoded data removed]",
      "text/plain": [
       "<matplotlib.figure.Figure at 0x11cb51518>"
      ]
     },
     "metadata": {},
     "output_type": "display_data"
    },
    {
     "data": {
      "image/png": "[encoded data removed]",
      "text/plain": [
       "<matplotlib.figure.Figure at 0x11d4abe10>"
      ]
     },
     "metadata": {},
     "output_type": "display_data"
    }
   ],
   "source": [
    "from sklearn import metrics\n",
    "# Best k for MAE is index:  7   || best k-value:  16.0\n",
    "# Best k for RMSE is index:  5  || best k-value:  12.0\n",
    "\n",
    "data = Dataset.load_builtin('ml-100k')\n",
    "kf = KFold(n_splits=10) # 90% for training and 10% for testing\n",
    "trainset, testset = None, None\n",
    "for train, test in kf.split(data): # just use the first split since we're not cross validating  (are we?)\n",
    "    trainset, testset = train, test\n",
    "    break\n",
    "algo = KNNWithMeans(k=16, sim_options={'name': 'pearson_baseline'})\n",
    "algo.fit(trainset)\n",
    "pred = algo.test(testset)\n",
    "# print(pred)\n",
    "\n",
    "for thres in [2.5, 3, 3.5, 4]:\n",
    "    fpr, tpr, _ = metrics.roc_curve(y_true=y_true, y_score=y_pred, pos_label=1)\n",
    "    y_true, y_pred = [], []\n",
    "    for u, i, r_real, r_pred, misc in pred:\n",
    "        y_true.append(thres < r_real)\n",
    "#         y_pred.append(thres < r_pred)\n",
    "        y_pred.append(r_pred)\n",
    "\n",
    "    fpr, tpr, _ = metrics.roc_curve(y_true=y_true, y_score=y_pred, pos_label=1)\n",
    "    plt.plot(fpr, tpr, color='darkorange', label='ROC curve (area = %0.3f)' % metrics.roc_auc_score(y_true=y_true, y_score=y_pred))\n",
    "    plt.xlabel('False Positive Rate')\n",
    "    plt.ylabel('True Positive Rate')\n",
    "    plt.title('ROC Curve (thres=%.1f)' % thres)\n",
    "    plt.legend(loc=\"lower right\")\n",
    "    plt.show()\n",
    "\n",
    "    "
   ]
  },
  {
   "cell_type": "markdown",
   "metadata": {},
   "source": [
    "# Question 16\n",
    "## Is the optimization problem given by equation 5 convex? \n",
    "Considering U fixed, one can calculate the cost function's Hessian matrix by taking the double derviative with respect to V. This Hessian Matrix is shown to be positive semi-definite. Hence, the optimization problem given by equation 5 is convex.\n"
   ]
  },
  {
   "cell_type": "markdown",
   "metadata": {},
   "source": [
    "# Question 17\n",
    "Design a NNMF-based collaborative filter to predict the ratings of\n",
    "the movies in the MovieLens dataset and evaluate it’s performance using 10-fold\n",
    "cross-validation. Sweep k (number of latent factors) from 2 to 50 in step sizes\n",
    "of 2, and for each k compute the average RMSE and average MAE obtained\n",
    "by averaging the RMSE and MAE across all 10 folds. Plot the average RMSE (Y-axis) against k (X-axis) and the average MAE (Y-axis) against k (X-axis).\n",
    "For solving this question, use the default value for the regularization parameter."
   ]
  },
  {
   "cell_type": "code",
   "execution_count": 89,
   "metadata": {},
   "outputs": [
    {
     "ename": "NameError",
     "evalue": "name 'plotStats' is not defined",
     "output_type": "error",
     "traceback": [
      "\u001b[0;31m---------------------------------------------------------------------------\u001b[0m",
      "\u001b[0;31mNameError\u001b[0m                                 Traceback (most recent call last)",
      "\u001b[0;32m<ipython-input-89-0fb9da2c7447>\u001b[0m in \u001b[0;36m<module>\u001b[0;34m()\u001b[0m\n\u001b[1;32m     15\u001b[0m     \u001b[0mavg_maes\u001b[0m\u001b[0;34m.\u001b[0m\u001b[0mappend\u001b[0m\u001b[0;34m(\u001b[0m\u001b[0mnp\u001b[0m\u001b[0;34m.\u001b[0m\u001b[0mmean\u001b[0m\u001b[0;34m(\u001b[0m\u001b[0moutput\u001b[0m\u001b[0;34m[\u001b[0m\u001b[0;34m'test_mae'\u001b[0m\u001b[0;34m]\u001b[0m\u001b[0;34m)\u001b[0m\u001b[0;34m)\u001b[0m\u001b[0;34m\u001b[0m\u001b[0m\n\u001b[1;32m     16\u001b[0m \u001b[0;34m\u001b[0m\u001b[0m\n\u001b[0;32m---> 17\u001b[0;31m \u001b[0mplotStats\u001b[0m\u001b[0;34m(\u001b[0m\u001b[0mavg_rmses\u001b[0m\u001b[0;34m=\u001b[0m\u001b[0mavg_rmses\u001b[0m\u001b[0;34m,\u001b[0m \u001b[0mavg_maes\u001b[0m\u001b[0;34m=\u001b[0m\u001b[0mavg_maes\u001b[0m\u001b[0;34m)\u001b[0m\u001b[0;34m\u001b[0m\u001b[0m\n\u001b[0m",
      "\u001b[0;31mNameError\u001b[0m: name 'plotStats' is not defined"
     ]
    }
   ],
   "source": [
    "from surprise import NMF\n",
    "\n",
    "data = Dataset.load_builtin('ml-100k')\n",
    "ks = np.linspace(2, 50, num=25)\n",
    "\n",
    "outputs = []\n",
    "for k in ks:\n",
    "    algo = NMF(n_factors=int(k))\n",
    "    outputs.append(cross_validate(algo, data, measures=['RMSE', 'MAE'], cv=10))\n",
    "    \n",
    "avg_rmses = []\n",
    "avg_maes = []\n",
    "for output in outputs:\n",
    "    avg_rmses.append(np.mean(output['test_rmse']))\n",
    "    avg_maes.append(np.mean(output['test_mae']))\n",
    "    \n",
    "plotStats(avg_rmses=avg_rmses, avg_maes=avg_maes)"
   ]
  },
  {
   "cell_type": "markdown",
   "metadata": {},
   "source": [
    "# Question 18: Find minimum k\n",
    "Use the plot from question 17, to find the optimal number of\n",
    "latent factors. Optimal number of latent factors is the value of k that gives\n",
    "the minimum average RMSE or the minimum average MAE. Please report the\n",
    "minimum average RMSE and MAE. Is the optimal number of latent factors\n",
    "same as the number of movie genres?"
   ]
  },
  {
   "cell_type": "code",
   "execution_count": 93,
   "metadata": {},
   "outputs": [
    {
     "name": "stdout",
     "output_type": "stream",
     "text": [
      "Best k for MAE is index:  6   || best k-value:  14.0\n",
      "Best k for RMSE is index:  4  || best k-value:  10.0\n",
      "Minimum K = 14\n"
     ]
    }
   ],
   "source": [
    "mae_idx = euclidean_elbow(ks, avg_maes)\n",
    "print(\"Best k for MAE is index: \", mae_idx, \"  || best k-value: \", ks[mae_idx])\n",
    "\n",
    "rmse_idx = euclidean_elbow(ks, avg_rmses)\n",
    "print(\"Best k for RMSE is index: \", rmse_idx, \" || best k-value: \", ks[rmse_idx])\n",
    "\n",
    "print(\"Minimum K = %d\" % max(ks[mae_idx], ks[rmse_idx])) # 16"
   ]
  },
  {
   "cell_type": "markdown",
   "metadata": {},
   "source": [
    "# Question 19: Popular Trim NNMF"
   ]
  },
  {
   "cell_type": "code",
   "execution_count": 97,
   "metadata": {},
   "outputs": [
    {
     "name": "stdout",
     "output_type": "stream",
     "text": [
      "popular trimmed 38 examples\n",
      "RMSE: 1.2081\n",
      "popular trimmed 43 examples\n",
      "RMSE: 1.2192\n",
      "popular trimmed 23 examples\n",
      "RMSE: 1.2138\n",
      "popular trimmed 17 examples\n",
      "RMSE: 1.1950\n",
      "popular trimmed 25 examples\n",
      "RMSE: 1.2056\n",
      "popular trimmed 38 examples\n",
      "RMSE: 1.2058\n",
      "popular trimmed 32 examples\n",
      "RMSE: 1.2111\n",
      "popular trimmed 25 examples\n",
      "RMSE: 1.2110\n",
      "popular trimmed 30 examples\n",
      "RMSE: 1.2079\n",
      "popular trimmed 34 examples\n",
      "RMSE: 1.1995\n",
      "popular trimmed 23 examples\n",
      "RMSE: 1.0912\n",
      "popular trimmed 32 examples\n",
      "RMSE: 1.0851\n",
      "popular trimmed 29 examples\n",
      "RMSE: 1.0945\n",
      "popular trimmed 28 examples\n",
      "RMSE: 1.0957\n",
      "popular trimmed 21 examples\n",
      "RMSE: 1.0891\n",
      "popular trimmed 29 examples\n",
      "RMSE: 1.1045\n",
      "popular trimmed 37 examples\n",
      "RMSE: 1.0867\n",
      "popular trimmed 33 examples\n",
      "RMSE: 1.0898\n",
      "popular trimmed 39 examples\n",
      "RMSE: 1.0970\n",
      "popular trimmed 24 examples\n",
      "RMSE: 1.0894\n",
      "popular trimmed 30 examples\n",
      "RMSE: 1.0275\n",
      "popular trimmed 36 examples\n",
      "RMSE: 1.0298\n",
      "popular trimmed 30 examples\n",
      "RMSE: 1.0221\n",
      "popular trimmed 26 examples\n",
      "RMSE: 1.0354\n",
      "popular trimmed 25 examples\n",
      "RMSE: 1.0338\n",
      "popular trimmed 26 examples\n",
      "RMSE: 1.0345\n",
      "popular trimmed 28 examples\n",
      "RMSE: 1.0164\n",
      "popular trimmed 25 examples\n",
      "RMSE: 1.0343\n",
      "popular trimmed 40 examples\n",
      "RMSE: 1.0341\n",
      "popular trimmed 32 examples\n",
      "RMSE: 1.0277\n",
      "popular trimmed 28 examples\n",
      "RMSE: 0.9949\n",
      "popular trimmed 30 examples\n",
      "RMSE: 0.9891\n",
      "popular trimmed 32 examples\n",
      "RMSE: 0.9884\n",
      "popular trimmed 38 examples\n",
      "RMSE: 0.9847\n",
      "popular trimmed 31 examples\n",
      "RMSE: 0.9885\n",
      "popular trimmed 38 examples\n",
      "RMSE: 1.0036\n",
      "popular trimmed 28 examples\n",
      "RMSE: 0.9799\n",
      "popular trimmed 27 examples\n",
      "RMSE: 1.0007\n",
      "popular trimmed 36 examples\n",
      "RMSE: 0.9997\n",
      "popular trimmed 26 examples\n",
      "RMSE: 0.9899\n",
      "popular trimmed 28 examples\n",
      "RMSE: 0.9763\n",
      "popular trimmed 34 examples\n",
      "RMSE: 0.9660\n",
      "popular trimmed 20 examples\n",
      "RMSE: 0.9739\n",
      "popular trimmed 29 examples\n",
      "RMSE: 0.9807\n",
      "popular trimmed 37 examples\n",
      "RMSE: 0.9672\n",
      "popular trimmed 33 examples\n",
      "RMSE: 0.9756\n",
      "popular trimmed 35 examples\n",
      "RMSE: 0.9768\n",
      "popular trimmed 30 examples\n",
      "RMSE: 0.9685\n",
      "popular trimmed 23 examples\n",
      "RMSE: 0.9813\n",
      "popular trimmed 30 examples\n",
      "RMSE: 0.9692\n",
      "popular trimmed 36 examples\n",
      "RMSE: 0.9599\n",
      "popular trimmed 30 examples\n",
      "RMSE: 0.9582\n",
      "popular trimmed 29 examples\n",
      "RMSE: 0.9739\n",
      "popular trimmed 25 examples\n",
      "RMSE: 0.9716\n",
      "popular trimmed 33 examples\n",
      "RMSE: 0.9702\n",
      "popular trimmed 38 examples\n",
      "RMSE: 0.9658\n",
      "popular trimmed 23 examples\n",
      "RMSE: 0.9718\n",
      "popular trimmed 40 examples\n",
      "RMSE: 0.9597\n",
      "popular trimmed 29 examples\n",
      "RMSE: 0.9608\n",
      "popular trimmed 21 examples\n",
      "RMSE: 0.9531\n",
      "popular trimmed 25 examples\n",
      "RMSE: 0.9604\n",
      "popular trimmed 29 examples\n",
      "RMSE: 0.9600\n",
      "popular trimmed 24 examples\n",
      "RMSE: 0.9601\n",
      "popular trimmed 38 examples\n",
      "RMSE: 0.9586\n",
      "popular trimmed 26 examples\n",
      "RMSE: 0.9663\n",
      "popular trimmed 31 examples\n",
      "RMSE: 0.9509\n",
      "popular trimmed 28 examples\n",
      "RMSE: 0.9460\n",
      "popular trimmed 34 examples\n",
      "RMSE: 0.9529\n",
      "popular trimmed 34 examples\n",
      "RMSE: 0.9616\n",
      "popular trimmed 29 examples\n",
      "RMSE: 0.9625\n",
      "popular trimmed 32 examples\n",
      "RMSE: 0.9576\n",
      "popular trimmed 27 examples\n",
      "RMSE: 0.9535\n",
      "popular trimmed 28 examples\n",
      "RMSE: 0.9538\n",
      "popular trimmed 32 examples\n",
      "RMSE: 0.9557\n",
      "popular trimmed 36 examples\n",
      "RMSE: 0.9550\n",
      "popular trimmed 27 examples\n",
      "RMSE: 0.9529\n",
      "popular trimmed 27 examples\n",
      "RMSE: 0.9634\n",
      "popular trimmed 28 examples\n",
      "RMSE: 0.9742\n",
      "popular trimmed 32 examples\n",
      "RMSE: 0.9489\n",
      "popular trimmed 32 examples\n",
      "RMSE: 0.9682\n",
      "popular trimmed 28 examples\n",
      "RMSE: 0.9614\n",
      "popular trimmed 29 examples\n",
      "RMSE: 0.9642\n",
      "popular trimmed 31 examples\n",
      "RMSE: 0.9542\n",
      "popular trimmed 38 examples\n",
      "RMSE: 0.9446\n",
      "popular trimmed 33 examples\n",
      "RMSE: 0.9668\n",
      "popular trimmed 30 examples\n",
      "RMSE: 0.9667\n",
      "popular trimmed 27 examples\n",
      "RMSE: 0.9549\n",
      "popular trimmed 32 examples\n",
      "RMSE: 0.9637\n",
      "popular trimmed 28 examples\n",
      "RMSE: 0.9462\n",
      "popular trimmed 30 examples\n",
      "RMSE: 0.9665\n",
      "popular trimmed 42 examples\n",
      "RMSE: 0.9721\n",
      "popular trimmed 36 examples\n",
      "RMSE: 0.9624\n",
      "popular trimmed 26 examples\n",
      "RMSE: 0.9718\n",
      "popular trimmed 29 examples\n",
      "RMSE: 0.9568\n",
      "popular trimmed 23 examples\n",
      "RMSE: 0.9572\n",
      "popular trimmed 35 examples\n",
      "RMSE: 0.9597\n",
      "popular trimmed 26 examples\n",
      "RMSE: 0.9699\n",
      "popular trimmed 26 examples\n",
      "RMSE: 0.9561\n",
      "popular trimmed 27 examples\n",
      "RMSE: 0.9524\n",
      "popular trimmed 36 examples\n",
      "RMSE: 0.9554\n",
      "popular trimmed 38 examples\n",
      "RMSE: 0.9734\n",
      "popular trimmed 22 examples\n",
      "RMSE: 0.9591\n",
      "popular trimmed 25 examples\n",
      "RMSE: 0.9599\n",
      "popular trimmed 32 examples\n",
      "RMSE: 0.9551\n",
      "popular trimmed 34 examples\n",
      "RMSE: 0.9499\n",
      "popular trimmed 18 examples\n",
      "RMSE: 0.9581\n",
      "popular trimmed 26 examples\n",
      "RMSE: 0.9571\n",
      "popular trimmed 33 examples\n",
      "RMSE: 0.9674\n",
      "popular trimmed 27 examples\n",
      "RMSE: 0.9711\n",
      "popular trimmed 35 examples\n",
      "RMSE: 0.9713\n",
      "popular trimmed 31 examples\n",
      "RMSE: 0.9627\n",
      "popular trimmed 25 examples\n",
      "RMSE: 0.9706\n",
      "popular trimmed 32 examples\n",
      "RMSE: 0.9666\n",
      "popular trimmed 32 examples\n",
      "RMSE: 0.9697\n",
      "popular trimmed 37 examples\n",
      "RMSE: 0.9637\n",
      "popular trimmed 32 examples\n",
      "RMSE: 0.9797\n",
      "popular trimmed 31 examples\n",
      "RMSE: 0.9718\n",
      "popular trimmed 29 examples\n",
      "RMSE: 0.9772\n",
      "popular trimmed 29 examples\n",
      "RMSE: 0.9635\n",
      "popular trimmed 33 examples\n",
      "RMSE: 0.9704\n",
      "popular trimmed 37 examples\n",
      "RMSE: 0.9545\n",
      "popular trimmed 35 examples\n",
      "RMSE: 0.9691\n",
      "popular trimmed 27 examples\n",
      "RMSE: 0.9778\n",
      "popular trimmed 29 examples\n",
      "RMSE: 0.9664\n",
      "popular trimmed 29 examples\n",
      "RMSE: 0.9847\n",
      "popular trimmed 23 examples\n",
      "RMSE: 0.9746\n",
      "popular trimmed 34 examples\n",
      "RMSE: 0.9604\n",
      "popular trimmed 30 examples\n",
      "RMSE: 0.9835\n",
      "popular trimmed 28 examples\n",
      "RMSE: 0.9887\n",
      "popular trimmed 38 examples\n",
      "RMSE: 0.9861\n",
      "popular trimmed 11 examples\n",
      "RMSE: 0.9749\n",
      "popular trimmed 38 examples\n",
      "RMSE: 0.9794\n",
      "popular trimmed 28 examples\n",
      "RMSE: 0.9848\n",
      "popular trimmed 31 examples\n",
      "RMSE: 0.9830\n",
      "popular trimmed 31 examples\n",
      "RMSE: 0.9736\n",
      "popular trimmed 34 examples\n",
      "RMSE: 0.9730\n",
      "popular trimmed 30 examples\n",
      "RMSE: 0.9929\n",
      "popular trimmed 34 examples\n",
      "RMSE: 0.9725\n",
      "popular trimmed 30 examples\n",
      "RMSE: 0.9687\n",
      "popular trimmed 34 examples\n",
      "RMSE: 0.9845\n",
      "popular trimmed 32 examples\n",
      "RMSE: 0.9915\n",
      "popular trimmed 28 examples\n",
      "RMSE: 0.9767\n",
      "popular trimmed 38 examples\n",
      "RMSE: 0.9832\n",
      "popular trimmed 30 examples\n",
      "RMSE: 0.9879\n",
      "popular trimmed 20 examples\n",
      "RMSE: 0.9775\n",
      "popular trimmed 31 examples\n",
      "RMSE: 0.9832\n",
      "popular trimmed 39 examples\n",
      "RMSE: 0.9852\n",
      "popular trimmed 28 examples\n",
      "RMSE: 0.9898\n",
      "popular trimmed 32 examples\n",
      "RMSE: 0.9908\n",
      "popular trimmed 42 examples\n",
      "RMSE: 0.9811\n",
      "popular trimmed 36 examples\n",
      "RMSE: 0.9778\n",
      "popular trimmed 29 examples\n",
      "RMSE: 0.9974\n",
      "popular trimmed 26 examples\n",
      "RMSE: 0.9878\n",
      "popular trimmed 40 examples\n",
      "RMSE: 0.9888\n",
      "popular trimmed 31 examples\n",
      "RMSE: 0.9856\n",
      "popular trimmed 33 examples\n",
      "RMSE: 0.9831\n",
      "popular trimmed 22 examples\n",
      "RMSE: 0.9828\n",
      "popular trimmed 28 examples\n",
      "RMSE: 0.9920\n",
      "popular trimmed 24 examples\n",
      "RMSE: 0.9865\n",
      "popular trimmed 23 examples\n",
      "RMSE: 0.9923\n",
      "popular trimmed 27 examples\n",
      "RMSE: 0.9951\n",
      "popular trimmed 34 examples\n",
      "RMSE: 0.9921\n",
      "popular trimmed 32 examples\n",
      "RMSE: 0.9901\n",
      "popular trimmed 28 examples\n",
      "RMSE: 1.0004\n",
      "popular trimmed 35 examples\n",
      "RMSE: 0.9880\n",
      "popular trimmed 33 examples\n",
      "RMSE: 1.0057\n",
      "popular trimmed 31 examples\n",
      "RMSE: 0.9839\n",
      "popular trimmed 40 examples\n",
      "RMSE: 0.9905\n",
      "popular trimmed 36 examples\n",
      "RMSE: 0.9991\n",
      "popular trimmed 27 examples\n",
      "RMSE: 0.9891\n",
      "popular trimmed 18 examples\n",
      "RMSE: 0.9951\n",
      "popular trimmed 23 examples\n",
      "RMSE: 0.9972\n",
      "popular trimmed 23 examples\n",
      "RMSE: 0.9968\n",
      "popular trimmed 31 examples\n",
      "RMSE: 1.0168\n",
      "popular trimmed 30 examples\n",
      "RMSE: 0.9957\n",
      "popular trimmed 32 examples\n",
      "RMSE: 1.0091\n",
      "popular trimmed 26 examples\n",
      "RMSE: 0.9895\n",
      "popular trimmed 29 examples\n",
      "RMSE: 1.0082\n",
      "popular trimmed 35 examples\n",
      "RMSE: 0.9937\n",
      "popular trimmed 30 examples\n",
      "RMSE: 0.9963\n",
      "popular trimmed 30 examples\n",
      "RMSE: 1.0076\n",
      "popular trimmed 26 examples\n",
      "RMSE: 0.9953\n",
      "popular trimmed 29 examples\n",
      "RMSE: 1.0218\n",
      "popular trimmed 29 examples\n",
      "RMSE: 0.9949\n",
      "popular trimmed 38 examples\n",
      "RMSE: 0.9965\n",
      "popular trimmed 30 examples\n",
      "RMSE: 1.0013\n",
      "popular trimmed 38 examples\n",
      "RMSE: 0.9990\n",
      "popular trimmed 26 examples\n",
      "RMSE: 1.0048\n",
      "popular trimmed 30 examples\n",
      "RMSE: 1.0015\n",
      "popular trimmed 26 examples\n",
      "RMSE: 1.0113\n",
      "popular trimmed 32 examples\n",
      "RMSE: 1.0101\n",
      "popular trimmed 34 examples\n",
      "RMSE: 1.0069\n",
      "popular trimmed 24 examples\n",
      "RMSE: 1.0040\n",
      "popular trimmed 18 examples\n",
      "RMSE: 1.0078\n",
      "popular trimmed 22 examples\n",
      "RMSE: 1.0287\n",
      "popular trimmed 26 examples\n",
      "RMSE: 1.0185\n",
      "popular trimmed 21 examples\n",
      "RMSE: 1.0090\n",
      "popular trimmed 24 examples\n",
      "RMSE: 1.0032\n",
      "popular trimmed 36 examples\n",
      "RMSE: 1.0049\n",
      "popular trimmed 28 examples\n"
     ]
    },
    {
     "name": "stdout",
     "output_type": "stream",
     "text": [
      "RMSE: 0.9877\n",
      "popular trimmed 45 examples\n",
      "RMSE: 0.9981\n",
      "popular trimmed 31 examples\n",
      "RMSE: 1.0205\n",
      "popular trimmed 32 examples\n",
      "RMSE: 1.0223\n",
      "popular trimmed 25 examples\n",
      "RMSE: 1.0247\n",
      "popular trimmed 26 examples\n",
      "RMSE: 1.0229\n",
      "popular trimmed 31 examples\n",
      "RMSE: 1.0039\n",
      "popular trimmed 14 examples\n",
      "RMSE: 1.0126\n",
      "popular trimmed 28 examples\n",
      "RMSE: 1.0124\n",
      "popular trimmed 31 examples\n",
      "RMSE: 0.9975\n",
      "popular trimmed 28 examples\n",
      "RMSE: 0.9958\n",
      "popular trimmed 29 examples\n",
      "RMSE: 1.0161\n",
      "popular trimmed 36 examples\n",
      "RMSE: 1.0137\n",
      "popular trimmed 36 examples\n",
      "RMSE: 1.0173\n",
      "popular trimmed 22 examples\n",
      "RMSE: 1.0058\n",
      "popular trimmed 28 examples\n",
      "RMSE: 1.0287\n",
      "popular trimmed 32 examples\n",
      "RMSE: 1.0267\n",
      "popular trimmed 25 examples\n",
      "RMSE: 1.0161\n",
      "popular trimmed 25 examples\n",
      "RMSE: 1.0162\n",
      "popular trimmed 24 examples\n",
      "RMSE: 1.0049\n",
      "popular trimmed 24 examples\n",
      "RMSE: 1.0163\n",
      "popular trimmed 33 examples\n",
      "RMSE: 1.0187\n",
      "popular trimmed 25 examples\n",
      "RMSE: 1.0287\n",
      "popular trimmed 29 examples\n",
      "RMSE: 1.0241\n",
      "popular trimmed 39 examples\n",
      "RMSE: 1.0223\n",
      "popular trimmed 23 examples\n",
      "RMSE: 1.0248\n",
      "popular trimmed 21 examples\n",
      "RMSE: 0.9920\n",
      "popular trimmed 30 examples\n",
      "RMSE: 1.0276\n",
      "popular trimmed 42 examples\n",
      "RMSE: 1.0022\n",
      "popular trimmed 33 examples\n",
      "RMSE: 1.0319\n",
      "popular trimmed 27 examples\n",
      "RMSE: 1.0300\n",
      "popular trimmed 32 examples\n",
      "RMSE: 1.0238\n",
      "popular trimmed 30 examples\n",
      "RMSE: 1.0156\n",
      "popular trimmed 34 examples\n",
      "RMSE: 1.0190\n",
      "popular trimmed 28 examples\n",
      "RMSE: 1.0271\n",
      "popular trimmed 26 examples\n",
      "RMSE: 1.0354\n",
      "popular trimmed 25 examples\n",
      "RMSE: 1.0376\n",
      "popular trimmed 24 examples\n",
      "RMSE: 1.0319\n",
      "popular trimmed 29 examples\n",
      "RMSE: 0.9989\n",
      "popular trimmed 26 examples\n",
      "RMSE: 1.0403\n",
      "popular trimmed 31 examples\n",
      "RMSE: 1.0230\n",
      "popular trimmed 32 examples\n",
      "RMSE: 1.0343\n",
      "popular trimmed 45 examples\n",
      "RMSE: 1.0287\n",
      "popular trimmed 29 examples\n",
      "RMSE: 1.0301\n",
      "popular trimmed 26 examples\n",
      "RMSE: 1.0249\n",
      "popular trimmed 26 examples\n",
      "RMSE: 1.0315\n",
      "popular trimmed 28 examples\n",
      "RMSE: 1.0166\n",
      "popular trimmed 26 examples\n",
      "RMSE: 1.0352\n",
      "popular trimmed 23 examples\n",
      "RMSE: 1.0358\n",
      "popular trimmed 22 examples\n",
      "RMSE: 1.0276\n",
      "popular trimmed 29 examples\n",
      "RMSE: 1.0387\n"
     ]
    },
    {
     "data": {
      "image/png": "[encoded data removed]",
      "text/plain": [
       "<matplotlib.figure.Figure at 0x1148b5198>"
      ]
     },
     "metadata": {},
     "output_type": "display_data"
    },
    {
     "ename": "ValueError",
     "evalue": "invalid number of arguments",
     "output_type": "error",
     "traceback": [
      "\u001b[0;31m---------------------------------------------------------------------------\u001b[0m",
      "\u001b[0;31mValueError\u001b[0m                                Traceback (most recent call last)",
      "\u001b[0;32m<ipython-input-97-de4b0cb69864>\u001b[0m in \u001b[0;36m<module>\u001b[0;34m()\u001b[0m\n\u001b[1;32m     24\u001b[0m \u001b[0;34m\u001b[0m\u001b[0m\n\u001b[1;32m     25\u001b[0m \u001b[0mplotStats\u001b[0m\u001b[0;34m(\u001b[0m\u001b[0mavg_rmses\u001b[0m\u001b[0;34m=\u001b[0m\u001b[0mavgRmses\u001b[0m\u001b[0;34m)\u001b[0m\u001b[0;34m\u001b[0m\u001b[0m\n\u001b[0;32m---> 26\u001b[0;31m \u001b[0mprint\u001b[0m\u001b[0;34m(\u001b[0m\u001b[0;34m\"Minimum avg rmse = %.4f\"\u001b[0m \u001b[0;34m+\u001b[0m \u001b[0mnp\u001b[0m\u001b[0;34m.\u001b[0m\u001b[0mminimum\u001b[0m\u001b[0;34m(\u001b[0m\u001b[0mavgRmses\u001b[0m\u001b[0;34m)\u001b[0m\u001b[0;34m)\u001b[0m\u001b[0;34m\u001b[0m\u001b[0m\n\u001b[0m",
      "\u001b[0;31mValueError\u001b[0m: invalid number of arguments"
     ]
    }
   ],
   "source": [
    "from surprise import NMF\n",
    "from surprise import Dataset\n",
    "from surprise import accuracy\n",
    "from surprise.model_selection import KFold\n",
    "\n",
    "data = Dataset.load_builtin('ml-100k')\n",
    "ks = np.linspace(2, 50, num=25)\n",
    "kf = KFold(n_splits=10)\n",
    "\n",
    "avgRmses = []\n",
    "for k in ks:\n",
    "    algo = NMF(n_factors=int(k))\n",
    "    \n",
    "    totalRMSE = 0\n",
    "    totalMAE = 0\n",
    "    for trainset, testset in kf.split(data):\n",
    "        algo.fit(trainset)\n",
    "\n",
    "        predictions = algo.test(popularTrim(trainset, testset))\n",
    "\n",
    "        totalRMSE += accuracy.rmse(predictions)\n",
    "        \n",
    "    avgRmses.append(totalRMSE / 10.)\n",
    "    \n",
    "plotStats(avg_rmses=avgRmses)\n",
    "print(\"Minimum avg rmse = %.4f\" % np.minimum(avgRmses))"
   ]
  },
  {
   "cell_type": "markdown",
   "metadata": {},
   "source": [
    "# Question 20: Unpopular Trim NNMF"
   ]
  },
  {
   "cell_type": "code",
   "execution_count": null,
   "metadata": {
    "collapsed": true
   },
   "outputs": [],
   "source": [
    "data = Dataset.load_builtin('ml-100k')\n",
    "ks = np.linspace(2, 50, num=25)\n",
    "kf = KFold(n_splits=10)\n",
    "\n",
    "avgRmses = []\n",
    "for k in ks:\n",
    "    algo = NMF(n_factors=int(k))\n",
    "    \n",
    "    totalRMSE = 0\n",
    "    totalMAE = 0\n",
    "    for trainset, testset in kf.split(data):\n",
    "        algo.fit(trainset)\n",
    "\n",
    "        predictions = algo.test(unpopularTrim(trainset, testset))\n",
    "\n",
    "        totalRMSE += accuracy.rmse(predictions)\n",
    "        \n",
    "    avgRmses.append(totalRMSE / 10.)\n",
    "    \n",
    "plotStats(avg_rmses=avgRmses)\n",
    "print(\"Minimum avg rmse = %.4f\" % np.minimum(avgRmses))"
   ]
  },
  {
   "cell_type": "markdown",
   "metadata": {},
   "source": [
    "# Question 21: High Var Trim NNMF"
   ]
  },
  {
   "cell_type": "code",
   "execution_count": null,
   "metadata": {
    "collapsed": true
   },
   "outputs": [],
   "source": [
    "data = Dataset.load_builtin('ml-100k')\n",
    "ks = np.linspace(2, 50, num=25)\n",
    "kf = KFold(n_splits=10)\n",
    "\n",
    "avgRmses = []\n",
    "for k in ks:\n",
    "    algo = NMF(n_factors=int(k))\n",
    "    \n",
    "    totalRMSE = 0\n",
    "    totalMAE = 0\n",
    "    for trainset, testset in kf.split(data):\n",
    "        algo.fit(trainset)\n",
    "\n",
    "        predictions = algo.test(highVarTrim(trainset, testset))\n",
    "\n",
    "        totalRMSE += accuracy.rmse(predictions)\n",
    "        \n",
    "    avgRmses.append(totalRMSE / 10.)\n",
    "    \n",
    "plotStats(avg_rmses=avgRmses)\n",
    "print(\"Minimum avg rmse = %.4f\" % np.minimum(avgRmses))"
   ]
  },
  {
   "cell_type": "markdown",
   "metadata": {},
   "source": [
    "# Question 22\n",
    "Plot the ROC curves for the NNMF-based collaborative filter\n",
    "designed in question 17 for threshold values [2.5, 3, 3.5, 4]. For the ROC plotting\n",
    "use the optimal number of latent factors found in question 18. For each of\n",
    "the plots, also report the area under the curve (AUC) value."
   ]
  },
  {
   "cell_type": "code",
   "execution_count": 95,
   "metadata": {},
   "outputs": [
    {
     "data": {
      "image/png": "[encoded data removed]",
      "text/plain": [
       "<matplotlib.figure.Figure at 0x11c3fd5c0>"
      ]
     },
     "metadata": {},
     "output_type": "display_data"
    },
    {
     "data": {
      "image/png": "[encoded data removed]",
      "text/plain": [
       "<matplotlib.figure.Figure at 0x110bf2588>"
      ]
     },
     "metadata": {},
     "output_type": "display_data"
    },
    {
     "data": {
      "image/png": "[encoded data removed]",
      "text/plain": [
       "<matplotlib.figure.Figure at 0x1131fa748>"
      ]
     },
     "metadata": {},
     "output_type": "display_data"
    },
    {
     "data": {
      "image/png": "[encoded data removed]",
      "text/plain": [
       "<matplotlib.figure.Figure at 0x11dba4ac8>"
      ]
     },
     "metadata": {},
     "output_type": "display_data"
    }
   ],
   "source": [
    "from sklearn import metrics\n",
    "\n",
    "data = Dataset.load_builtin('ml-100k')\n",
    "kf = KFold(n_splits=10) # 90% for training and 10% for testing\n",
    "trainset, testset = None, None\n",
    "for train, test in kf.split(data): # just use the first split since we're not cross validating  (are we?)\n",
    "    trainset, testset = train, test\n",
    "    break\n",
    "algo = NMF(n_factors=14)\n",
    "algo.fit(trainset)\n",
    "pred = algo.test(testset)\n",
    "# print(pred)\n",
    "\n",
    "for thres in [2.5, 3, 3.5, 4]:\n",
    "    fpr, tpr, _ = metrics.roc_curve(y_true=y_true, y_score=y_pred, pos_label=1)\n",
    "    y_true, y_pred = [], []\n",
    "    for u, i, r_real, r_pred, misc in pred:\n",
    "        y_true.append(thres < r_real)\n",
    "#         y_pred.append(thres < r_pred)\n",
    "        y_pred.append(r_pred)\n",
    "\n",
    "    fpr, tpr, _ = metrics.roc_curve(y_true=y_true, y_score=y_pred, pos_label=1)\n",
    "    plt.plot(fpr, tpr, color='darkorange', label='ROC curve (area = %0.3f)' % metrics.roc_auc_score(y_true=y_true, y_score=y_pred))\n",
    "    plt.xlabel('False Positive Rate')\n",
    "    plt.ylabel('True Positive Rate')\n",
    "    plt.title('ROC Curve (thres=%.1f)' % thres)\n",
    "    plt.legend(loc=\"lower right\")\n",
    "    plt.show()\n",
    "\n",
    "    "
   ]
  },
  {
   "cell_type": "markdown",
   "metadata": {},
   "source": [
    "# Question 23\n",
    "Perform Non-negative matrix factorization on the ratings matrix\n",
    "R to obtain the factor matrices U and V , where U represents the user-latent\n",
    "factors interaction and V represents the movie-latent factors interaction (use k\n",
    "= 20). For each column of V , sort the movies in descending order and report\n",
    "the genres of the top 10 movies. Do the top 10 movies belong to a particular\n",
    "or a small collection of genre? Is there a connection between the latent factors\n",
    "and the movie genres?"
   ]
  },
  {
   "cell_type": "code",
   "execution_count": null,
   "metadata": {
    "collapsed": true
   },
   "outputs": [],
   "source": []
  }
 ],
 "metadata": {
  "kernelspec": {
   "display_name": "Python 3",
   "language": "python",
   "name": "python3"
  },
  "language_info": {
   "codemirror_mode": {
    "name": "ipython",
    "version": 3
   },
   "file_extension": ".py",
   "mimetype": "text/x-python",
   "name": "python",
   "nbconvert_exporter": "python",
   "pygments_lexer": "ipython3",
   "version": "3.6.2"
  }
 },
 "nbformat": 4,
 "nbformat_minor": 2
}
